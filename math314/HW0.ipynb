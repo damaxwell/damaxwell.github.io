{
 "cells": [
  {
   "cell_type": "markdown",
   "id": "9d57a321-eab1-4220-ad01-a05829ceb7aa",
   "metadata": {},
   "source": [
    "## Problem **S1.3** Revisited\n",
    "\n",
    "For each of the expressions (a)-(d) of problem **S1.3** which you already did in the written part of the homework, use Julia to compute the resulting value (or generate an error in the event that the expression is invalid)."
   ]
  },
  {
   "cell_type": "markdown",
   "id": "c5ecb278-2551-4f2d-87ce-4569f1a3e27f",
   "metadata": {},
   "source": [
    "### Part (a)"
   ]
  },
  {
   "cell_type": "code",
   "execution_count": null,
   "id": "9dd778a8-ac74-4fb3-bcd1-876fbe942124",
   "metadata": {},
   "outputs": [],
   "source": []
  },
  {
   "cell_type": "markdown",
   "id": "e75b669a-d198-4100-9aca-43455ee4c3e9",
   "metadata": {},
   "source": [
    "### Part (b)"
   ]
  },
  {
   "cell_type": "code",
   "execution_count": null,
   "id": "1afef59b-a21c-453a-8521-c8858b2f150e",
   "metadata": {},
   "outputs": [],
   "source": []
  },
  {
   "cell_type": "markdown",
   "id": "58b21684-9284-48cd-b72b-019b6fb5ff50",
   "metadata": {},
   "source": [
    "### Part (c)"
   ]
  },
  {
   "cell_type": "code",
   "execution_count": null,
   "id": "086f907c-4747-4ad1-a7be-55cd015503c9",
   "metadata": {},
   "outputs": [],
   "source": []
  },
  {
   "cell_type": "markdown",
   "id": "eaa2dbe0-1731-4215-8eac-0b498f697982",
   "metadata": {},
   "source": [
    "### Part (d)"
   ]
  },
  {
   "cell_type": "code",
   "execution_count": null,
   "id": "7c483c62-95e7-4112-a7be-52a019ee8dd2",
   "metadata": {},
   "outputs": [],
   "source": []
  }
 ],
 "metadata": {
  "kernelspec": {
   "display_name": "Julia 1.9.4",
   "language": "julia",
   "name": "julia-1.9"
  },
  "language_info": {
   "file_extension": ".jl",
   "mimetype": "application/julia",
   "name": "julia",
   "version": "1.9.4"
  }
 },
 "nbformat": 4,
 "nbformat_minor": 5
}
