{
 "cells": [
  {
   "cell_type": "markdown",
   "id": "a21972ee-372e-4ff5-a738-220b78430ff2",
   "metadata": {},
   "source": [
    "# Math 314 Lab 3\n",
    "\n",
    "## Fourier Basis\n",
    "\n",
    "**Name:**\n",
    "\n",
    "See companion PDF on the course website for background and instructions."
   ]
  },
  {
   "cell_type": "markdown",
   "id": "d8cb6e89-33df-445f-9fe4-2c327528c378",
   "metadata": {},
   "source": [
    "## Step 0: Load Lab Data\n",
    "\n",
    "Run the following cell to load the data needed for this lab. Before doing this, you'll\n",
    "need to download the file `lab3.mat` from the course website and save it in the same folder\n",
    "as this notebook."
   ]
  },
  {
   "cell_type": "code",
   "execution_count": null,
   "id": "66c152cc-ab2a-4dc9-812e-71e414cc19c8",
   "metadata": {},
   "outputs": [],
   "source": [
    "import Pkg;\n",
    "Pkg.add(\"MAT\")\n",
    "import MAT\n",
    "lab3data = MAT.matread(\"lab3.mat\")\n",
    "data16 = lab3data[\"data16\"]\n",
    "data256 = lab3data[\"data256\"]\n",
    "data_sound = lab3data[\"data_sound\"];"
   ]
  },
  {
   "cell_type": "markdown",
   "id": "d5660da4-ac33-42a0-b4d9-01afeccbe329",
   "metadata": {},
   "source": [
    "## Exercise 1\n",
    "\n",
    "Plot `data16`."
   ]
  },
  {
   "cell_type": "code",
   "execution_count": null,
   "id": "6808c488-42e0-45ca-ad2e-1b11d78886bc",
   "metadata": {},
   "outputs": [],
   "source": [
    "# Plot instructions go here"
   ]
  },
  {
   "cell_type": "markdown",
   "id": "e8004a96-4d8b-4203-8cd3-ead223a16a17",
   "metadata": {},
   "source": [
    "## Exercise 2"
   ]
  },
  {
   "cell_type": "markdown",
   "id": "d14a0e8e-66a6-4a7c-8595-5afe9ce93225",
   "metadata": {},
   "source": [
    "**Response to question goes here.**"
   ]
  },
  {
   "cell_type": "markdown",
   "id": "7039677f-0fb0-4c8d-9f52-9767081161fd",
   "metadata": {},
   "source": [
    "## Exercise 3\n",
    "\n",
    "Attach your handwritten computations and handmade figure as described in the PDF companion to the end of your lab submission."
   ]
  },
  {
   "cell_type": "markdown",
   "id": "dc8fbaf1-680d-4167-9579-a8122ac7ed0f",
   "metadata": {},
   "source": [
    "## Exercise 4"
   ]
  },
  {
   "cell_type": "markdown",
   "id": "b6d0b91c-b574-43da-bc37-8b1e145ec7cf",
   "metadata": {},
   "source": [
    "**Enter your formula for $t_k$ here.**  If you know LaTeX and want to use its notation for your answer, that's fine. Otherwise, just type something readable."
   ]
  },
  {
   "cell_type": "markdown",
   "id": "eb91bc26-061a-4aaa-89dc-48791d218739",
   "metadata": {},
   "source": [
    "## Exercise 5\n",
    "\n",
    "Finish the function `sample_times` below."
   ]
  },
  {
   "cell_type": "code",
   "execution_count": null,
   "id": "bb268462-fcf7-4fea-ac29-90f4268e542d",
   "metadata": {},
   "outputs": [],
   "source": [
    "function sample_times(N)\n",
    "    # Make a vector containing the numbers 1 through N\n",
    "    x = collect(1:N)\n",
    "\n",
    "    # Your code goes here that makes the corresponding vector of sample times and returns it.\n",
    "end"
   ]
  },
  {
   "cell_type": "markdown",
   "id": "db57ac1c-a26b-4347-b191-b9b99d097483",
   "metadata": {},
   "source": [
    "Test that your function works by calling `sample_times(4)` and verifying that its output is correct."
   ]
  },
  {
   "cell_type": "code",
   "execution_count": null,
   "id": "4bfadd9f-d196-4647-aa05-89aacbf8f867",
   "metadata": {},
   "outputs": [],
   "source": [
    "# Your test code goes here."
   ]
  },
  {
   "cell_type": "markdown",
   "id": "04fe7b62-4397-42fd-8ca4-5ed17e97a815",
   "metadata": {},
   "source": [
    "## Exercise 6\n",
    "\n",
    "Make a variable `t16 = samples_times(16)` and then plot `data16` on the $y$ axis versus `t16` on the $x$ axis."
   ]
  },
  {
   "cell_type": "code",
   "execution_count": null,
   "id": "914da7e5-adaa-4913-b9b1-29f5ebedb708",
   "metadata": {},
   "outputs": [],
   "source": [
    "# Plot commands go here"
   ]
  },
  {
   "cell_type": "markdown",
   "id": "09457e3c-8932-42a3-aa81-4e1f1e5a0894",
   "metadata": {},
   "source": [
    "What is the main difference between this plot and the plot you made in Exercise 1?"
   ]
  },
  {
   "cell_type": "markdown",
   "id": "2a05ba16-46da-49b6-b342-1eaedb0810ec",
   "metadata": {},
   "source": [
    "**Response goes here**"
   ]
  },
  {
   "cell_type": "markdown",
   "id": "8c6c1fbd-6779-450a-a420-8ee1cf29c47b",
   "metadata": {},
   "source": [
    "## Exercise 7"
   ]
  },
  {
   "cell_type": "code",
   "execution_count": null,
   "id": "7c50930a-afb4-4c51-8511-4235be147d35",
   "metadata": {},
   "outputs": [],
   "source": [
    "# Plot commands go here"
   ]
  },
  {
   "cell_type": "markdown",
   "id": "5bd06608-2462-4cb8-8136-56d1b61b15bf",
   "metadata": {},
   "source": [
    "## Exercise 8"
   ]
  },
  {
   "cell_type": "markdown",
   "id": "18fba04d-e574-432c-9b3b-83cee4bc1714",
   "metadata": {},
   "source": [
    "**Your response goes here**"
   ]
  },
  {
   "cell_type": "markdown",
   "id": "9d1d5251-611c-4e24-bf52-88694a4541d6",
   "metadata": {},
   "source": [
    "## Exercise 9\n",
    "\n",
    "Plot `g17`.  You'll need to create the vector first."
   ]
  },
  {
   "cell_type": "code",
   "execution_count": null,
   "id": "968c0e96-2d72-4e2c-bd1c-e22ccb44abd0",
   "metadata": {},
   "outputs": [],
   "source": [
    "# Plot commands go here"
   ]
  },
  {
   "cell_type": "markdown",
   "id": "7c851a67-ac57-4348-a6fa-34960f123616",
   "metadata": {},
   "source": [
    "Explain what you see. Your answer should be more than a description of this graph. It should explain \n",
    "why it is what it is.  Use a handwritten attachment if needed."
   ]
  },
  {
   "cell_type": "markdown",
   "id": "273fcacf-c481-4e8c-b3e3-608a27fe25dc",
   "metadata": {},
   "source": [
    "**Response goes here, or attach handwritten explanation.**"
   ]
  },
  {
   "cell_type": "markdown",
   "id": "06b4049d-d139-41f8-9cce-ee41fc85230a",
   "metadata": {},
   "source": [
    "## Exercise 10\n",
    "\n",
    "Generate the matrix `T` desribed in the companion."
   ]
  },
  {
   "cell_type": "code",
   "execution_count": null,
   "id": "c8827be5-861e-4eb5-8520-3a77b0e093dc",
   "metadata": {},
   "outputs": [],
   "source": [
    "# Commands to make `T` here."
   ]
  },
  {
   "cell_type": "markdown",
   "id": "9876e686-14ed-4c0a-9747-45877a5d65ae",
   "metadata": {},
   "source": [
    "How are the columns of `T` related to `t16`?"
   ]
  },
  {
   "cell_type": "markdown",
   "id": "12a5a3cc-9350-4b75-8377-5ed3d1b02d11",
   "metadata": {},
   "source": [
    "**Response goes here**"
   ]
  },
  {
   "cell_type": "markdown",
   "id": "50349371-715e-4d70-becd-582eacb4df2d",
   "metadata": {},
   "source": [
    "Now generate `G` from `T`."
   ]
  },
  {
   "cell_type": "code",
   "execution_count": null,
   "id": "cd663cf5-3edf-44c9-92bc-8a7ed873bde7",
   "metadata": {},
   "outputs": [],
   "source": [
    "# Command to make `G` here"
   ]
  },
  {
   "cell_type": "markdown",
   "id": "88d04a85-37b9-47c8-ab80-0a2c72f1a92c",
   "metadata": {},
   "source": [
    "Make a plot of `g1` through `g4` here."
   ]
  },
  {
   "cell_type": "code",
   "execution_count": null,
   "id": "a91abdb0-a817-4283-acd0-a1e4a51d0108",
   "metadata": {},
   "outputs": [],
   "source": [
    "# Plot commands go here."
   ]
  },
  {
   "cell_type": "markdown",
   "id": "fc6fd808-05a5-445f-9bbe-76715e8e9737",
   "metadata": {},
   "source": [
    "Make a plot of `G[:,1]` through `G[:,4]` here.  The results should be the same as above."
   ]
  },
  {
   "cell_type": "code",
   "execution_count": null,
   "id": "151aec1b-a148-4eec-bc5f-1efb4da3703b",
   "metadata": {},
   "outputs": [],
   "source": [
    "# Plot commands go here."
   ]
  },
  {
   "cell_type": "markdown",
   "id": "2bcf93a1-0e82-4c43-be25-1e9b87598858",
   "metadata": {},
   "source": [
    "## Exercise 11\n",
    "\n",
    "We'll need a few functions from the `LinearAlgebra` module.  We can load them in like this, and then access them conveniently by just their name.  That is, we can use `qr` instead of `LinearAlgebra.qr`."
   ]
  },
  {
   "cell_type": "code",
   "execution_count": null,
   "id": "e507facf-6257-4000-b354-4a8a6d9ca857",
   "metadata": {},
   "outputs": [],
   "source": [
    "using LinearAlgebra: qr, diag, diagm"
   ]
  },
  {
   "cell_type": "markdown",
   "id": "21cb1c09-9454-49ab-85bc-d54d3e08d0fa",
   "metadata": {},
   "source": [
    "Compute the QR factorization of the matrix `G` you computed in the previous exercise using `G_qr = qr(G)`"
   ]
  },
  {
   "cell_type": "code",
   "execution_count": null,
   "id": "b9fb99a3-d7fb-4a12-abd2-25d0a5f9e5b4",
   "metadata": {},
   "outputs": [],
   "source": [
    "# Make a variable `G_qr` that contains `qr(G)` here"
   ]
  },
  {
   "cell_type": "markdown",
   "id": "6b57f326-09f9-41c2-a973-ede6a5b75ddf",
   "metadata": {},
   "source": [
    "The thing `G_qr` that is returned is a single object that contains `Q` and `R` and other info.\n",
    "\n",
    "You can access the `R` factor using `G_qr.R`.  The result is a 16x16 upper triangular matrix, which can be hard to look at.  However, you can access the diagonal of a matrix using the `diag` command we imported earlier. It returns a vector containing the diagonal entries. \n",
    "\n",
    "**Extract the diagonal entries of `R` and verify that they are all far from zero**"
   ]
  },
  {
   "cell_type": "code",
   "execution_count": null,
   "id": "e1dff8bb-7c41-429d-963f-f10b2ec752ba",
   "metadata": {},
   "outputs": [],
   "source": [
    "G_qr = qr(G)\n",
    "R = G_qr.R\n",
    "diag(R)"
   ]
  },
  {
   "cell_type": "markdown",
   "id": "7ab238c4-2d1e-44a3-8e84-0504afd77239",
   "metadata": {},
   "source": [
    "## Exercise 12"
   ]
  },
  {
   "cell_type": "code",
   "execution_count": null,
   "id": "5abb7afc-66ab-4b93-8476-4b804e80263f",
   "metadata": {},
   "outputs": [],
   "source": [
    "# Code to generate plot goes here."
   ]
  },
  {
   "cell_type": "markdown",
   "id": "593c0f7c-a0aa-49a2-85b0-a1527e028de1",
   "metadata": {},
   "source": [
    "**Response to questions goes here**"
   ]
  },
  {
   "cell_type": "markdown",
   "id": "86cac1d3-b3d6-4329-a91e-25ed577d228e",
   "metadata": {},
   "source": [
    "## Exercise 13"
   ]
  },
  {
   "cell_type": "markdown",
   "id": "621943f6-fab1-497d-af53-969249b13c9d",
   "metadata": {},
   "source": [
    "**Response to question goes here**"
   ]
  },
  {
   "cell_type": "markdown",
   "id": "235fd867-6db5-4be8-99ed-9a668a196a1b",
   "metadata": {},
   "source": [
    "## Exercise 14\n",
    "\n",
    "Compute `G'*G` and save it in a variable `A`.  Most of the entries of `A` will be close\n",
    "to zero.  You can make them exactly zero as follows:\n",
    "```\n",
    "A[ abs.(A) .< 1e-14 ] .= 0\n",
    "```\n",
    "This slick line of code first determines the indices of `A` with a tiny value (less that $10^{-14}$\n",
    "with the snippit `abs.(A) .< 1e-14`.  It then sets the entries of `A` at these indices to be\n",
    "exactly zero.  \n",
    "\n",
    "Anyway, compute the variable `A` and set its near-zero values to exactly zero."
   ]
  },
  {
   "cell_type": "code",
   "execution_count": null,
   "id": "424f4b17-d7f7-4b10-ab96-f560943f4ee2",
   "metadata": {},
   "outputs": [],
   "source": [
    "# Compute A here"
   ]
  },
  {
   "cell_type": "markdown",
   "id": "421e891a-9d27-4b2f-9986-0b4e2ab5a9b8",
   "metadata": {},
   "source": [
    "**Explain what the entries of `G'*G` are here.**  The entries will be one of three possible numbers, including zero.  You should determine what the numbers are and where they go."
   ]
  },
  {
   "cell_type": "markdown",
   "id": "8738a94c-bfb9-4d6e-8f4d-5fd3ab4db3a1",
   "metadata": {},
   "source": [
    "## Exercise 15"
   ]
  },
  {
   "cell_type": "markdown",
   "id": "a5c39edf-2f8a-4b6b-a385-5b387680e9c1",
   "metadata": {},
   "source": [
    "**Response goes here**"
   ]
  },
  {
   "cell_type": "markdown",
   "id": "005b71f3-c8a5-4dd8-93fe-7873530c2df7",
   "metadata": {},
   "source": [
    "## Exercise 16\n",
    "\n",
    "Find a matrix `S` such that `F = G*S` is an orthogonal matrix (i.e. `F'*F` is the identity matrix\n",
    "and hence the inverse of `F` is `F'`).  The matrix `S` will be a diagonal matrix,\n",
    "which you can create with the `LinearAlgebra.diagm` command you imported earlier. For example,\n",
    "```\n",
    "diagm([1, 2, 3])\n",
    "```\n",
    "results in\n",
    "```\n",
    "3×3 Matrix{Int64}:\n",
    " 1  0  0\n",
    " 0  2  0\n",
    " 0  0  3\n",
    "```\n"
   ]
  },
  {
   "cell_type": "code",
   "execution_count": null,
   "id": "4eb58e39-b2be-4808-bbad-7757533e3ad5",
   "metadata": {},
   "outputs": [],
   "source": [
    "# Commands to create the matrix `S` go here."
   ]
  },
  {
   "cell_type": "code",
   "execution_count": null,
   "id": "14876231-c764-499e-a362-62128506bf41",
   "metadata": {},
   "outputs": [],
   "source": [
    "# Commands to make `F = G * S` go here"
   ]
  },
  {
   "cell_type": "code",
   "execution_count": null,
   "id": "1bef14d8-0d5d-4440-b4d4-d5d0698a80fc",
   "metadata": {},
   "outputs": [],
   "source": [
    "# Verify F'*F is (essentially) the identity matrix here"
   ]
  },
  {
   "cell_type": "markdown",
   "id": "02b1e552-3549-46a4-8ee3-f87da6141bde",
   "metadata": {},
   "source": [
    "**Explain how the columns of `F` are related to the columns of `G` and also why we multiply by `S` on the right rather than the left here.**"
   ]
  },
  {
   "cell_type": "markdown",
   "id": "5cbf5079-1815-4471-972b-c82a487b15b4",
   "metadata": {},
   "source": [
    "## Exercise 17\n",
    "\n",
    "Compute the Fourier transform of `data16` and save it in the variable `x`.  Then plot `x`."
   ]
  },
  {
   "cell_type": "markdown",
   "id": "8561f870-8118-45b3-829e-c80fd37f6cdd",
   "metadata": {},
   "source": [
    "## Exercise 18\n",
    "\n",
    "Reconstruct `data16` from `x`.  Plot the difference of the original `data16` and its reconstruction to verify that they are the same."
   ]
  },
  {
   "cell_type": "code",
   "execution_count": null,
   "id": "885d7759-1843-4328-ab9e-d3ee48d02055",
   "metadata": {},
   "outputs": [],
   "source": [
    "# Reconstruct `data16` here."
   ]
  },
  {
   "cell_type": "code",
   "execution_count": null,
   "id": "d1f45084-17b0-4ff4-9a03-385b3bccc49e",
   "metadata": {},
   "outputs": [],
   "source": [
    "# Plot diffrence between `data16` and its reconstruction here."
   ]
  },
  {
   "cell_type": "markdown",
   "id": "756020eb-8792-47f8-8626-2be7e79d2d4e",
   "metadata": {},
   "source": [
    "## Exercise 19"
   ]
  },
  {
   "cell_type": "code",
   "execution_count": null,
   "id": "d58dab59-1ab7-4784-afda-ffada3bb314c",
   "metadata": {},
   "outputs": [],
   "source": [
    "# Create variables `y1` through `y3` here."
   ]
  },
  {
   "cell_type": "code",
   "execution_count": null,
   "id": "740da8cc-ed31-41a7-96e4-8af33acb923a",
   "metadata": {},
   "outputs": [],
   "source": [
    "# Graph `data16` along with `y1` through `y3` here"
   ]
  },
  {
   "cell_type": "markdown",
   "id": "00e0a8de-8379-46a2-9090-4dd37070a4fb",
   "metadata": {},
   "source": [
    "**Response to questions goes here.**"
   ]
  },
  {
   "cell_type": "markdown",
   "id": "3969069e-c517-4b79-b091-b43861bb4be6",
   "metadata": {},
   "source": [
    "## Exercise 20"
   ]
  },
  {
   "cell_type": "code",
   "execution_count": null,
   "id": "d9fcdeb3-0d43-4d0f-8ba0-132d587c9d73",
   "metadata": {},
   "outputs": [],
   "source": [
    "# Create the variables `z` here and `w` here."
   ]
  },
  {
   "cell_type": "markdown",
   "id": "b0e7c877-20b4-42fe-8652-311eb9806405",
   "metadata": {},
   "source": [
    "**How is `z` different from `x`?  How is `w` different from `x`?**\n",
    "\n",
    "**Response here**"
   ]
  },
  {
   "cell_type": "markdown",
   "id": "5b3bdf35-0449-4815-aa97-79e8b67dbcc8",
   "metadata": {},
   "source": [
    "**What is the value of `z+w`? And what is the value of `F*z + F*w`?**\n",
    "\n",
    "**Response here**"
   ]
  },
  {
   "cell_type": "markdown",
   "id": "7f19ebc8-9961-4904-a89d-b0d5ff5ecfe1",
   "metadata": {},
   "source": [
    "## Exercise 21\n",
    "\n",
    "Generate the requested plot."
   ]
  },
  {
   "cell_type": "code",
   "execution_count": null,
   "id": "2807759a-386a-410e-b6ad-952a846db847",
   "metadata": {},
   "outputs": [],
   "source": [
    "# Plot commands go here."
   ]
  },
  {
   "cell_type": "markdown",
   "id": "f2547429-5f1e-423f-9262-39446e4c154d",
   "metadata": {},
   "source": [
    "**What effect does leaving the *later* terms of the Fourier basis have?**\n",
    "\n",
    "**Response goes here**"
   ]
  },
  {
   "cell_type": "markdown",
   "id": "7ca59555-6f7c-4d10-b757-3ffe757ce134",
   "metadata": {},
   "source": [
    "**What effect does leaving the *early* terms of the Fourier basis have?**\n",
    "\n",
    "**Response goes here**"
   ]
  },
  {
   "cell_type": "markdown",
   "id": "70bff129-6362-427a-911e-64afe37e72e4",
   "metadata": {},
   "source": [
    "## Exercise 22\n",
    "\n",
    "Generate the new frequency vector `x` and compute its time series `d`."
   ]
  },
  {
   "cell_type": "code",
   "execution_count": null,
   "id": "9993ec88-cbfa-477b-a1a5-a583f6cb3419",
   "metadata": {},
   "outputs": [],
   "source": [
    "# Manufacture `x` here."
   ]
  },
  {
   "cell_type": "code",
   "execution_count": null,
   "id": "4bcc565b-43ed-4c76-b407-5f381cb7ebe9",
   "metadata": {},
   "outputs": [],
   "source": [
    "# Compute `d` from `x` here."
   ]
  },
  {
   "cell_type": "code",
   "execution_count": null,
   "id": "e467500a-5a0a-43cc-ac66-679bcca0a102",
   "metadata": {},
   "outputs": [],
   "source": [
    "# Plot `x`"
   ]
  },
  {
   "cell_type": "code",
   "execution_count": null,
   "id": "ddde19c7-1ca5-4278-9f7c-53a3453e2a2f",
   "metadata": {},
   "outputs": [],
   "source": [
    "# Plot `d`"
   ]
  },
  {
   "cell_type": "markdown",
   "id": "322f1d4d-9691-495a-b3ec-4c57d8ac5187",
   "metadata": {},
   "source": [
    "**Response to question here**"
   ]
  },
  {
   "cell_type": "markdown",
   "id": "4c58c693-492b-48f5-9c44-0386fe0d421e",
   "metadata": {},
   "source": [
    "## Exercise 23\n",
    "\n",
    "Plot `data256` on the $y$ axis and `t256=sample_times(256)` on the $x$-axis."
   ]
  },
  {
   "cell_type": "markdown",
   "id": "e59cbeed-4efc-4c88-9f77-393cbf3de526",
   "metadata": {},
   "source": [
    "## Exercise 24\n",
    "\n",
    "Generate the following:\n",
    "\n",
    "* `T256`, a $256\\times 256$ matrix of times corresponding to the matrix `T` used to generate `G` way back in Exercise 10\n",
    "* `G256` correspoinding to the matrix `G`\n",
    "* `S256` corresponding to the diagonal matrix `S`\n",
    "* `F256` corresponding to `F`"
   ]
  },
  {
   "cell_type": "code",
   "execution_count": null,
   "id": "78ff1a0e-3b03-41fe-8439-551e33b2e354",
   "metadata": {},
   "outputs": [],
   "source": [
    "# Code to generate all the above goes here"
   ]
  },
  {
   "cell_type": "code",
   "execution_count": null,
   "id": "e49992be-1729-4762-a2ea-82b9d4fe4273",
   "metadata": {},
   "outputs": [],
   "source": [
    "# Verify that `F256'*F256` is approximately the identity matrix here"
   ]
  },
  {
   "cell_type": "markdown",
   "id": "6edf3d03-064c-4c55-b8c3-8c1188e6de06",
   "metadata": {},
   "source": [
    "## Exercise 25\n",
    "\n",
    "Remove the noise in `data256` using the Fourier transform (i.e. using the matrix `F256`). \n",
    "Plot `data256` and its smoothed version."
   ]
  },
  {
   "cell_type": "code",
   "execution_count": null,
   "id": "23afe4d4-91bd-4bb7-8a35-17c397ef2808",
   "metadata": {},
   "outputs": [],
   "source": [
    "# Code to create smoothed data here"
   ]
  },
  {
   "cell_type": "code",
   "execution_count": null,
   "id": "33b60ad2-4a76-4297-a048-0a178b07a916",
   "metadata": {},
   "outputs": [],
   "source": [
    "# Plot generated here"
   ]
  },
  {
   "cell_type": "markdown",
   "id": "c66d638a-494f-4586-85b7-ad1287447faa",
   "metadata": {},
   "source": [
    "# Extra Credit "
   ]
  },
  {
   "cell_type": "markdown",
   "id": "1ec6891b-92ff-4c26-962c-a3e95ed06aeb",
   "metadata": {},
   "source": [
    "## Exercise 26\n",
    "\n",
    "Plot the `data_sound` time series."
   ]
  },
  {
   "cell_type": "code",
   "execution_count": null,
   "id": "d892d4ee-e23c-4875-b5f0-aa05662fb5d0",
   "metadata": {},
   "outputs": [],
   "source": [
    "# Plot command goes here."
   ]
  },
  {
   "cell_type": "markdown",
   "id": "2afe0a6a-b85f-4af0-8bdd-b98121b53a0c",
   "metadata": {},
   "source": [
    "If you want to play the sound, you can do so as follows, assuming you've installed the `WAV` package as we did in an earlier homework problem:"
   ]
  },
  {
   "cell_type": "code",
   "execution_count": null,
   "id": "36199822-8587-4c69-b9b5-61e0af2e30a2",
   "metadata": {},
   "outputs": [],
   "source": [
    "import WAV\n",
    "WAV.wavplay(data_sound, 44100)\n"
   ]
  },
  {
   "cell_type": "markdown",
   "id": "c084c18c-927a-4c1d-a5f2-31b4f703b1b5",
   "metadata": {},
   "source": [
    "## Exercise 27\n",
    "\n",
    "First, install the `FFTW` package."
   ]
  },
  {
   "cell_type": "code",
   "execution_count": null,
   "id": "95b0d47a-d6a1-48d5-8ed6-8effd0a8472b",
   "metadata": {},
   "outputs": [],
   "source": [
    "import Pkg;\n",
    "Pkg.add(\"FFTW\")\n",
    "import FFTW"
   ]
  },
  {
   "cell_type": "markdown",
   "id": "e002bbc2-0d77-4ac1-8b99-d905d0caeee2",
   "metadata": {},
   "source": [
    "Now verify that the `FFTW.dct` command is doing the same thing as what we've been doing as follows:\n",
    "\n",
    "```\n",
    "x16_dct=FFTW.dct(data16)\n",
    "x16 = F'*data16\n",
    "Plots.plot(t16, x16-x16_dct)\n",
    "```"
   ]
  },
  {
   "cell_type": "code",
   "execution_count": null,
   "id": "9c72d7d3-8ee9-4112-af6f-0f7a97c7d1f4",
   "metadata": {},
   "outputs": [],
   "source": [
    "# Generate plot here."
   ]
  },
  {
   "cell_type": "markdown",
   "id": "9c8bfbc0-b82c-4433-98b2-13ab2aa20bfd",
   "metadata": {},
   "source": [
    "## Exercise 28\n",
    "\n",
    "Compute the DCT `x_sound` from `data_sound`. Then plot `x_sound`."
   ]
  },
  {
   "cell_type": "code",
   "execution_count": null,
   "id": "a99cf56c-83ad-4714-bf9f-90b2e9192f3a",
   "metadata": {},
   "outputs": [],
   "source": [
    "# Generate `x_sound` here using `FFTW.dct`"
   ]
  },
  {
   "cell_type": "code",
   "execution_count": null,
   "id": "518776ac-ed9c-4658-ae0c-4362fb46e414",
   "metadata": {},
   "outputs": [],
   "source": [
    "# Plot `x_sound` here."
   ]
  },
  {
   "cell_type": "markdown",
   "id": "7655895f-76a2-4660-91b1-80f048fbe39d",
   "metadata": {},
   "source": [
    "**Describe the main features of the plot of `x_sound`.**\n",
    "\n",
    "**Response goes here**"
   ]
  },
  {
   "cell_type": "markdown",
   "id": "19c2c8dd-d6cd-4d29-a123-5dc9fa4e553c",
   "metadata": {},
   "source": [
    "## Exercise 29\n",
    "\n",
    "What is the sample rate in Hz of the sound file? Hint: it's 1/5 of a second!"
   ]
  },
  {
   "cell_type": "markdown",
   "id": "82e342d9-cb79-4719-a6b5-8f33f4a279df",
   "metadata": {},
   "source": [
    "**Response goes here**"
   ]
  },
  {
   "cell_type": "markdown",
   "id": "fb281c17-81ba-4147-a60c-7d6d00310382",
   "metadata": {},
   "source": [
    "## Exercise 30"
   ]
  },
  {
   "cell_type": "markdown",
   "id": "dad53bc1-8856-4152-957e-5844622cd950",
   "metadata": {},
   "source": [
    "**Response to questions goes here**"
   ]
  },
  {
   "cell_type": "markdown",
   "id": "6f78b0bc-b06c-46da-8a73-fb9a5fd737e4",
   "metadata": {},
   "source": [
    "## Exercise 31\n",
    "\n",
    "What are all of the dominant frequencies in the audio sample? \n",
    "That is, what are the frequencies associated with the spikes?\n",
    "What note was I trying to sing? Provide justification\n",
    "for your answers using the tools developed in this lab."
   ]
  },
  {
   "cell_type": "markdown",
   "id": "7da4e886-9c99-4883-8550-5c9c3f321bd6",
   "metadata": {},
   "source": [
    "## Exercise 32\n",
    "\n",
    "Perform a reconstruction of the time signal `data_sound` (which has length 8820) using only 1000 numbers along with the inverse Discrete Cosine Transform.\n",
    "\n",
    "Then plot the difference between the original signal and the reconstructed signal.  To see that this difference is small, keep in mind that the peak amplitudes of `data_sound` are rougly 0.75."
   ]
  },
  {
   "cell_type": "code",
   "execution_count": null,
   "id": "1e7e3ad5-21ff-41d3-992b-fadf98be203d",
   "metadata": {},
   "outputs": [],
   "source": [
    "# Compute reconstructed signal here"
   ]
  },
  {
   "cell_type": "code",
   "execution_count": null,
   "id": "1d7184d1-0ec1-4d50-ae08-1346bf9120ba",
   "metadata": {},
   "outputs": [],
   "source": [
    "# Plot difference here"
   ]
  }
 ],
 "metadata": {
  "kernelspec": {
   "display_name": "Julia 1.9.4",
   "language": "julia",
   "name": "julia-1.9"
  },
  "language_info": {
   "file_extension": ".jl",
   "mimetype": "application/julia",
   "name": "julia",
   "version": "1.9.4"
  }
 },
 "nbformat": 4,
 "nbformat_minor": 5
}
