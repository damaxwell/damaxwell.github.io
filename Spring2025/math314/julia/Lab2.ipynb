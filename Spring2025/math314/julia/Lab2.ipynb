{
 "cells": [
  {
   "cell_type": "markdown",
   "id": "a21972ee-372e-4ff5-a738-220b78430ff2",
   "metadata": {},
   "source": [
    "# Math 314 Lab 2\n",
    "\n",
    "## Polynomial Interpolation\n",
    "\n",
    "**Name:**\n",
    "\n",
    "See companion PDF on the course website for background and instructions."
   ]
  },
  {
   "cell_type": "markdown",
   "id": "43ff9d60-0473-4771-8c90-ad7125197a77",
   "metadata": {},
   "source": [
    "## Exercise 1"
   ]
  },
  {
   "cell_type": "markdown",
   "id": "71c8ad06-a3df-4f56-b8cc-2b977a8f0bf8",
   "metadata": {},
   "source": [
    "Attach hand computation or enter your response here."
   ]
  },
  {
   "cell_type": "markdown",
   "id": "94d2134b-205e-4fd9-9b7d-39623b239139",
   "metadata": {},
   "source": [
    "## Exercise 2"
   ]
  },
  {
   "cell_type": "markdown",
   "id": "8686ab7b-b426-4040-a681-2d7d401c965d",
   "metadata": {},
   "source": [
    "Attach hand computation or enter your response here."
   ]
  },
  {
   "cell_type": "markdown",
   "id": "26a9e086-eae2-4726-93c3-113696693b9a",
   "metadata": {},
   "source": [
    "## Exercise 3"
   ]
  },
  {
   "cell_type": "markdown",
   "id": "e6140f8a-f07b-4afb-bf0b-c070e19b1284",
   "metadata": {},
   "source": [
    "Attach hand computation or enter response here."
   ]
  },
  {
   "cell_type": "markdown",
   "id": "e8595ac8-36f3-475c-adae-bf05b9aad25e",
   "metadata": {},
   "source": [
    "## Exercise 4"
   ]
  },
  {
   "cell_type": "markdown",
   "id": "7dd7eaee-e30a-4f12-9bbf-3e73c773fec4",
   "metadata": {},
   "source": [
    "Suppose we want to solve $Ax = b$ where $b$ is given and $A$ is a matrix.\n",
    "\n",
    "The Julia notation for this works as follows:\n",
    "\n",
    "1) Define the matrix `A`\n",
    "2) Define the vector `b`\n",
    "3) Use the backslash operator: `x = A \\ b`\n",
    "\n",
    "That last line is a little funny looking.  It means \"Go solve $Ax=b$ and assign the results to a variable called `x`\". \n",
    "\n",
    "The backslash operator is a bit of a \"black box\".  Depending on the the shape and structure of the matrix `A`, it chooses a suitable algorith.  In the generic case of a square matrix it uses a technique called $LU$ factorization, which we will discuss later in the class.  For now, we will just use the backslash operator without knowing how it goes about its business.\n",
    "\n",
    "Here's an example."
   ]
  },
  {
   "cell_type": "code",
   "execution_count": 2,
   "id": "a785eb7a-8b9b-47bf-8ea8-bd664b4fa191",
   "metadata": {},
   "outputs": [
    {
     "data": {
      "text/plain": [
       "2×2 Matrix{Int64}:\n",
       " 4   2\n",
       " 2  -3"
      ]
     },
     "execution_count": 2,
     "metadata": {},
     "output_type": "execute_result"
    }
   ],
   "source": [
    "A = [ 4 2; 2 -3]"
   ]
  },
  {
   "cell_type": "code",
   "execution_count": 7,
   "id": "4433d180-d849-4906-9618-1c5066a086d4",
   "metadata": {},
   "outputs": [
    {
     "data": {
      "text/plain": [
       "2-element Vector{Int64}:\n",
       "  -4\n",
       " -18"
      ]
     },
     "execution_count": 7,
     "metadata": {},
     "output_type": "execute_result"
    }
   ],
   "source": [
    "b = [-4; -18]"
   ]
  },
  {
   "cell_type": "code",
   "execution_count": 10,
   "id": "ec2e28a2-4a2c-444a-807b-f4d69ebaa60d",
   "metadata": {},
   "outputs": [
    {
     "data": {
      "text/plain": [
       "2-element Vector{Float64}:\n",
       " -3.0\n",
       "  4.0"
      ]
     },
     "execution_count": 10,
     "metadata": {},
     "output_type": "execute_result"
    }
   ],
   "source": [
    "x =  A \\ b"
   ]
  },
  {
   "cell_type": "markdown",
   "id": "568db50e-40d6-4790-9b93-0ea1bc19a67c",
   "metadata": {},
   "source": [
    "We can verify that this worked:"
   ]
  },
  {
   "cell_type": "code",
   "execution_count": 11,
   "id": "589dc46f-a4b7-48ef-9167-3ff66f8cf3b9",
   "metadata": {},
   "outputs": [
    {
     "data": {
      "text/plain": [
       "2-element Vector{Float64}:\n",
       " 0.0\n",
       " 0.0"
      ]
     },
     "execution_count": 11,
     "metadata": {},
     "output_type": "execute_result"
    }
   ],
   "source": [
    "A*x - b"
   ]
  },
  {
   "cell_type": "markdown",
   "id": "746d7fb9-b0f8-491a-aec4-e9579b49dd6d",
   "metadata": {},
   "source": [
    "### Now your turn:\n",
    "\n",
    "Use Julia to solve the equations you wrote down in Exercise 3 to determine `m` and `b`."
   ]
  },
  {
   "cell_type": "code",
   "execution_count": null,
   "id": "c9a3894e-7575-4bec-bd08-3269090cdd8e",
   "metadata": {},
   "outputs": [],
   "source": [
    "# Data points\n",
    "x_data = [0.2, 0.8]\n",
    "y_data = [0.7, -0.4]\n"
   ]
  },
  {
   "cell_type": "code",
   "execution_count": 118,
   "id": "be19a922-331b-4b17-80f1-facbf38052c3",
   "metadata": {},
   "outputs": [],
   "source": [
    "# Code to set up and solve the equations goes here."
   ]
  },
  {
   "cell_type": "markdown",
   "id": "180366a0-31f6-4bcb-bb56-85584251a813",
   "metadata": {},
   "source": [
    "When you solve the equations, the results will be packed in a vector.  Here's some handy syntax for extracting elements of a vector into variables.  If `x` is a 2-dimensional vector,\n",
    "```\n",
    "b, m = x\n",
    "```\n",
    "will assign `b=x[1]` and `m=x[2]`.\n",
    "\n",
    "Use this notation to extract the slope and y-intercept. Note that your ordering of `m` and `b` might be different from mine"
   ]
  },
  {
   "cell_type": "code",
   "execution_count": 115,
   "id": "f102f2a2-fece-4f46-bf9b-af930bcf6138",
   "metadata": {},
   "outputs": [],
   "source": [
    "# Extract `m` and `b` here.\n"
   ]
  },
  {
   "cell_type": "markdown",
   "id": "9498994b-5f5a-49de-a794-3dabb92583fa",
   "metadata": {},
   "source": [
    "## Exercise 5"
   ]
  },
  {
   "cell_type": "markdown",
   "id": "480c5c52-db14-4bfe-a90b-bf0a76c93c97",
   "metadata": {},
   "source": [
    "Given your values of `m` and `b` that you just computed, make a plot of the following:\n",
    "\n",
    "1) The two data points used to determine the line.\n",
    "2) The line going through them, via your `m` and `b`.\n",
    "\n",
    "Your $x$ coordinate in your plot should run from 0 to 1."
   ]
  },
  {
   "cell_type": "code",
   "execution_count": 117,
   "id": "418a382f-55bc-4e52-abc6-2f3d45315289",
   "metadata": {},
   "outputs": [],
   "source": [
    "# Plotting code goes here."
   ]
  },
  {
   "cell_type": "markdown",
   "id": "d96db4d9-e6dd-4b64-98ea-3f226f803d86",
   "metadata": {},
   "source": [
    "## Exercise 6"
   ]
  },
  {
   "cell_type": "markdown",
   "id": "86908257-14f4-4d32-8a58-836c7cdc5be9",
   "metadata": {},
   "source": [
    "Data points collected as a matrix `p`.  To get point $p_k$, use `p[:,k]`. To get all the `x` coordinates, use `p[1,:]`.  You can access the `y` coordinates similarly."
   ]
  },
  {
   "cell_type": "code",
   "execution_count": 120,
   "id": "15b1a1db-6ef8-426b-b652-66a72f7c83de",
   "metadata": {},
   "outputs": [],
   "source": [
    "x_data = [-1, 3, 5]\n",
    "y_data = [ 1.5, 32.2, -42.6 ];"
   ]
  },
  {
   "cell_type": "markdown",
   "id": "1f891efa-196b-4323-ac7c-e2bf39eb5b9f",
   "metadata": {},
   "source": [
    "### Hand computation\n",
    "By hand, record the system of equations to solve and convert the system to a matrix system $Ax = b$ to solve, where $A$ and $b$ are known.\n"
   ]
  },
  {
   "cell_type": "markdown",
   "id": "a0c2e44e-09cd-4360-959b-ee03d5476423",
   "metadata": {},
   "source": [
    "### Contruct matrix with Julia"
   ]
  },
  {
   "cell_type": "code",
   "execution_count": 40,
   "id": "c6627e3e-572c-4905-8770-1b908131aeec",
   "metadata": {},
   "outputs": [],
   "source": [
    "# Commands go here to:\n",
    "# 1) Create the matrix `A`\n",
    "# 2) Create the right hand side `b`\n",
    "# 3) Solve for the coefficients `c` using the backslash operator.\n"
   ]
  },
  {
   "cell_type": "markdown",
   "id": "3a63f8f4-6fe3-4511-8283-1939197b21a5",
   "metadata": {},
   "source": [
    "Now plot your solution (i.e. the quadratic) along with the three data points. If you were successful, you should see your quadratic pass through all three data points.  For your plot, use the range $-2 \\le x \\le 8$ for the $x$ coordinate."
   ]
  },
  {
   "cell_type": "code",
   "execution_count": 41,
   "id": "218ea5a2-6729-434e-abe6-eb0d95accc57",
   "metadata": {},
   "outputs": [],
   "source": [
    "# Commands to generate plot go here."
   ]
  },
  {
   "cell_type": "markdown",
   "id": "9ad6dbc2-a6c3-454e-a5e0-a934d868f462",
   "metadata": {},
   "source": [
    "## Exercise 7"
   ]
  },
  {
   "cell_type": "markdown",
   "id": "aa600169-3044-4caf-a778-3340ff27c77e",
   "metadata": {},
   "source": [
    "If you have 7 data points $(x_n,y_n)$, with all of the $x_n$'s different, these uniquely determine a polynomial of some order.  What is the order? \n"
   ]
  },
  {
   "cell_type": "markdown",
   "id": "35351dd2-323e-4efb-8f50-c7aa6d6e2be8",
   "metadata": {},
   "source": [
    "**Your response goes here**"
   ]
  },
  {
   "cell_type": "markdown",
   "id": "3c9e385b-8512-45f4-b95a-6bac008596b4",
   "metadata": {},
   "source": [
    "## Exercise 8"
   ]
  },
  {
   "cell_type": "markdown",
   "id": "f98d7a34-39b3-4bda-b4fc-2f8f9f2e889d",
   "metadata": {},
   "source": [
    "We will represent polynomials using a vector of coefficients. For example,\n",
    "`c = [2, -3]` will represenet $p(x) = 2 - 3x$ and `c=[4, 2, -6]` will represent $p(x) = 4 + 2x - 6x^2$.  \n",
    "\n",
    "We want to conveniently evaluate polynomials given a vector of coefficients `c` and a vector `x` of input values.  Write a function `poly_eval` that receives\n",
    "a vector `c` of coefficients and a vector `x=[x_1,...,x_k]` of $x$-coordinates, and that returns `[p(x_1),...,p(x_k)]`, where $p(x)$ is the polynomial\n",
    "represented by the coefficients.\n",
    "\n",
    "I've started the code for you.  Your job is to fill in the body of the main loop."
   ]
  },
  {
   "cell_type": "code",
   "execution_count": 55,
   "id": "5f923582-3e7b-42c8-a448-3b9de4d2c7ee",
   "metadata": {},
   "outputs": [
    {
     "data": {
      "text/plain": [
       "poly_eval (generic function with 1 method)"
      ]
     },
     "execution_count": 55,
     "metadata": {},
     "output_type": "execute_result"
    }
   ],
   "source": [
    "function poly_eval(c, x)\n",
    "\n",
    "    # Make a vector of length \n",
    "    y = zeros(length(x))\n",
    "\n",
    "    # Set all of `y` to the single value `c[1]`, the constant coefficent.\n",
    "\n",
    "    y .= c[1]\n",
    "\n",
    "    # For each higher term, add on an additional amount to `y`    \n",
    "    for k in 2:length(c)\n",
    "        # Your update goes here:\n",
    "        y = y ## fill this in\n",
    "\n",
    "        # Be careful! The first time through the loop, the coefficient\n",
    "        # you want is c[2], but this is associated with a power x^1,\n",
    "        # not x^2.\n",
    "    end\n",
    "\n",
    "    return y\n",
    "end"
   ]
  },
  {
   "cell_type": "markdown",
   "id": "cf01ccfd-d970-49a5-ae22-5ab7f89d8f38",
   "metadata": {},
   "source": [
    "Test that your code works with `c = [ 1 2 -2]` and `x = [0.2, 0.3]`"
   ]
  },
  {
   "cell_type": "code",
   "execution_count": null,
   "id": "b2c97fac-bc05-47d2-87fb-8cb1503753c6",
   "metadata": {},
   "outputs": [],
   "source": [
    "poly_eval([1, 2, -2], [ 0.2, 0.3])"
   ]
  },
  {
   "cell_type": "code",
   "execution_count": 57,
   "id": "3768b840-d280-49dc-923d-17e968b535a5",
   "metadata": {},
   "outputs": [
    {
     "data": {
      "text/plain": [
       "2-element Vector{Float64}:\n",
       " 1.3199999999999998\n",
       " 1.4200000000000002"
      ]
     },
     "execution_count": 57,
     "metadata": {},
     "output_type": "execute_result"
    }
   ],
   "source": [
    "# If your code is correct, the results should be the same as:\n",
    "[1 + 2*0.2 - 2*0.2^2, \n",
    "    1 + 2*0.3 - 2*0.3^2 ]"
   ]
  },
  {
   "cell_type": "markdown",
   "id": "fb3bf22a-40a0-4269-9458-e75719b34044",
   "metadata": {},
   "source": [
    "## Exercise 9"
   ]
  },
  {
   "cell_type": "markdown",
   "id": "fea8f10b-1bed-470a-b493-d24680b7b6cf",
   "metadata": {},
   "source": [
    "The function `vandermonde` below is nearly finished.  It is supposed\n",
    "to receive a vector of `x` coordinates and return the associated Vandermonde matrix\n",
    "described in the Lab 2 PDF.  The only thing that needs completing is the body of the inner loop, starting with the comment `# Your job:`."
   ]
  },
  {
   "cell_type": "code",
   "execution_count": 60,
   "id": "c530971a-343b-4988-acf3-2e4c29011d4e",
   "metadata": {},
   "outputs": [
    {
     "data": {
      "text/plain": [
       "vandermonde (generic function with 1 method)"
      ]
     },
     "execution_count": 60,
     "metadata": {},
     "output_type": "execute_result"
    }
   ],
   "source": [
    "function vandermonde(x)\n",
    "    # Polynomial order depends on number of\n",
    "    # data points. Two points determine a first order polynomial.\n",
    "    # Three points determine a quadratic (second order)\n",
    "    n = length(x) - 1\n",
    "\n",
    "    # Make an all zero matrix that is the right shape.\n",
    "    A = zeros( n+1, n+1 )\n",
    "\n",
    "    # Now update the entries.\n",
    "    for i = 1:n+1 # for each row (each data point)\n",
    "        for j = 1:n+1 # for each column\n",
    "\n",
    "            # Your job:\n",
    "            #            \n",
    "            # Update A[i,j] here\n",
    "\n",
    "        end\n",
    "    end\n",
    "    \n",
    "    return A\n",
    "end"
   ]
  },
  {
   "cell_type": "markdown",
   "id": "bef492d4-ba0f-43a6-a447-610563988c16",
   "metadata": {},
   "source": [
    "Test that your `vandermonde` works by computing\n",
    "`vandermonde([2,3,4])`"
   ]
  },
  {
   "cell_type": "code",
   "execution_count": 61,
   "id": "3b8d6410-1cb4-4f91-9118-d5cf384aeb83",
   "metadata": {},
   "outputs": [
    {
     "data": {
      "text/plain": [
       "3×3 Matrix{Float64}:\n",
       " 1.0  2.0   4.0\n",
       " 1.0  3.0   9.0\n",
       " 1.0  4.0  16.0"
      ]
     },
     "execution_count": 61,
     "metadata": {},
     "output_type": "execute_result"
    }
   ],
   "source": [
    "vandermonde([2,3,4])"
   ]
  },
  {
   "cell_type": "markdown",
   "id": "c2b6c523-3708-4904-8718-317911f77c87",
   "metadata": {},
   "source": [
    "If your code is successful, you should see:\n",
    "```\n",
    "3×3 Matrix{Float64}:\n",
    " 1.0  2.0   4.0\n",
    " 1.0  3.0   9.0\n",
    " 1.0  4.0  16.0\n",
    "```\n"
   ]
  },
  {
   "cell_type": "markdown",
   "id": "24b0fb04-f8da-4439-baea-b97a1e095794",
   "metadata": {},
   "source": [
    "## Exercise 10"
   ]
  },
  {
   "cell_type": "markdown",
   "id": "4cdf45b0-3ce7-488a-a797-bf3cc2bf8061",
   "metadata": {},
   "source": [
    "For this exercise you will fit a 6th order polynomial\n",
    "to 7 data points and plot the resulting polynomial along with\n",
    "the points to verify that your work is successful.\n",
    "\n",
    "The data points:"
   ]
  },
  {
   "cell_type": "code",
   "execution_count": 80,
   "id": "647567f2-6cb3-4735-a5d5-33613d27e3d0",
   "metadata": {},
   "outputs": [],
   "source": [
    "p = [ 1 2 4 5 8 9 11\n",
    "      4 -1 7 -3 1 -10 3 ]\n",
    "x_data = p[1,:];\n",
    "y_data = p[2,:];"
   ]
  },
  {
   "cell_type": "markdown",
   "id": "49a19d00-a615-4460-866f-1088500c720f",
   "metadata": {},
   "source": [
    "Now solve for the coefficients."
   ]
  },
  {
   "cell_type": "code",
   "execution_count": null,
   "id": "3e863370-acad-460a-8307-6c3d2048dded",
   "metadata": {},
   "outputs": [],
   "source": [
    "# Code here to \n",
    "# 1) Build Vandermonde matrix A associated with x_data\n",
    "# 2) Solve for coefficients c satisfying A c = y_data\n"
   ]
  },
  {
   "cell_type": "markdown",
   "id": "586b40b7-c80f-41dd-b27f-6856fb20456a",
   "metadata": {},
   "source": [
    "Now generate a plot of your polynomial and the 7 data points.\n",
    "\n",
    "* Your $x$ coordinate should range from $0.5$ to $11.5$, e.g. `x = Array(LinRange(0.5, 11.5, 1000))`\n",
    "* You should use `poly_eval(c, x)` to generate the associated `y` coordinates.\n",
    "* Your plot should also include the data points used to generate the polynomial.\n",
    "\n",
    "If everything has worked, your data points should lie on the polynomial."
   ]
  },
  {
   "cell_type": "code",
   "execution_count": 81,
   "id": "85d6e7bb-e054-4222-b856-1b12f51ccbdd",
   "metadata": {},
   "outputs": [],
   "source": [
    "# Plotting code goes here."
   ]
  },
  {
   "cell_type": "markdown",
   "id": "393dca7d-3c30-421f-9fdc-18dfd8a31302",
   "metadata": {},
   "source": [
    "## Challenge: Exercise 11"
   ]
  },
  {
   "cell_type": "markdown",
   "id": "3fc8131f-8488-496b-8deb-7e8898670bf8",
   "metadata": {},
   "source": [
    "In this optional problem we are going to compute a polynomial approximation of cosine.\n"
   ]
  },
  {
   "cell_type": "code",
   "execution_count": 112,
   "id": "6e32d852-10aa-46ef-bf2e-de4a5c2e45c0",
   "metadata": {},
   "outputs": [],
   "source": [
    "x_data = [0, pi/6, pi/4, 2*pi/6, pi/2, 2*pi/3, 3*pi/4, 5*pi/6, pi];\n",
    "y_data = cos.(x_data);"
   ]
  },
  {
   "cell_type": "markdown",
   "id": "86be6627-37c8-478a-9db3-86fbf0521de7",
   "metadata": {},
   "source": [
    "Generate the Vandermonde matrix. The tricky part is that we\n",
    "only want an even order polynomial, so instead of `vandermonde(x_data)`,\n",
    "use `vandermonde(x_data.^2)`.  "
   ]
  },
  {
   "cell_type": "code",
   "execution_count": 113,
   "id": "2ed3d99f-6bc8-4a05-92dc-4b284fa2f0a0",
   "metadata": {},
   "outputs": [
    {
     "data": {
      "text/plain": [
       "9-element Vector{Float64}:\n",
       "  1.0\n",
       " -0.4999999999998913\n",
       "  0.041666666665880286\n",
       " -0.0013888888869664825\n",
       "  2.4801585186172914e-5\n",
       " -2.755720208447791e-7\n",
       "  2.087328015499349e-9\n",
       " -1.141469609312696e-11\n",
       "  4.3167540881700634e-14"
      ]
     },
     "execution_count": 113,
     "metadata": {},
     "output_type": "execute_result"
    }
   ],
   "source": [
    "c = vandermonde(x_data.^2) \\ y_data"
   ]
  },
  {
   "cell_type": "markdown",
   "id": "98c38183-2153-420b-80b7-529fb5adf977",
   "metadata": {},
   "source": [
    "Generate a plot of the polynomial interpolant along with the 9 data points for $0\\le x \\le \\pi$."
   ]
  },
  {
   "cell_type": "code",
   "execution_count": 111,
   "id": "92ff9bd1-5968-4042-9b6d-898d22e05f02",
   "metadata": {},
   "outputs": [],
   "source": [
    "# Plotting code goes here."
   ]
  },
  {
   "cell_type": "markdown",
   "id": "2674771c-8c93-4534-8914-4fbce6f7d43c",
   "metadata": {},
   "source": [
    "Now also plot the difference between $\\cos(x)$ and the polynomial interpolant,\n",
    "again for $0\\le x\\le \\pi$."
   ]
  },
  {
   "cell_type": "code",
   "execution_count": 114,
   "id": "90e5bf9f-28dd-43f3-b061-b6e24f320973",
   "metadata": {},
   "outputs": [],
   "source": [
    "# Plotting code goes here."
   ]
  },
  {
   "cell_type": "code",
   "execution_count": null,
   "id": "36b53a8c-087e-4e53-961d-05f8b36bd0be",
   "metadata": {},
   "outputs": [],
   "source": []
  }
 ],
 "metadata": {
  "kernelspec": {
   "display_name": "Julia 1.9.4",
   "language": "julia",
   "name": "julia-1.9"
  },
  "language_info": {
   "file_extension": ".jl",
   "mimetype": "application/julia",
   "name": "julia",
   "version": "1.9.4"
  }
 },
 "nbformat": 4,
 "nbformat_minor": 5
}
