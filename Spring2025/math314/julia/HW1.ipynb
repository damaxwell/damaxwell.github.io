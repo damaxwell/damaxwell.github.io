{
 "cells": [
  {
   "cell_type": "markdown",
   "id": "8d4ada6e-6941-43fc-a8a3-4a831050ce2f",
   "metadata": {},
   "source": [
    "# Problem **S1.2**\n",
    "\n",
    "**Hints:**\n",
    "\n",
    "* The command `rand(5)` makes a vector of length 5 with random entries.\n",
    "* Use the tick operation to make transposes.  If `x` is a vector then `x'` is its transpose.\n",
    "* Multiplication is written with a `*`.\n",
    "* The command `zeros(5)` makes a vector of length 5 with all zero entries\n",
    "* The command `ones(5)` is like `zeros`, but with ones!\n",
    "\n",
    "For each of parts (a) - (d) you should present the vector `a` in one cell and then the value of $a^T x$ for a random vector `x` in a second cell.\n"
   ]
  },
  {
   "cell_type": "markdown",
   "id": "13fe9fb6-da79-4971-a92b-08bfa138ff07",
   "metadata": {},
   "source": [
    "## (a)"
   ]
  },
  {
   "cell_type": "code",
   "execution_count": null,
   "id": "71b1b889-c45b-41c8-8c84-6b69d57ac3c9",
   "metadata": {},
   "outputs": [],
   "source": []
  },
  {
   "cell_type": "code",
   "execution_count": null,
   "id": "a6c86115-dfd9-4d86-b652-2e38c8f85ead",
   "metadata": {},
   "outputs": [],
   "source": []
  },
  {
   "cell_type": "markdown",
   "id": "0f335cb3-e8ce-48eb-ba31-a7d73c5c00b8",
   "metadata": {},
   "source": [
    "## (b)"
   ]
  },
  {
   "cell_type": "code",
   "execution_count": null,
   "id": "48820f57-e1ef-4802-a9a4-537cec987ec3",
   "metadata": {},
   "outputs": [],
   "source": []
  },
  {
   "cell_type": "code",
   "execution_count": null,
   "id": "d6ed3579-68eb-4fd3-8911-c232c86c8ffb",
   "metadata": {},
   "outputs": [],
   "source": []
  },
  {
   "cell_type": "markdown",
   "id": "976bbe42-aa4c-4c7f-818d-736a78e803f8",
   "metadata": {},
   "source": [
    "## (c)"
   ]
  },
  {
   "cell_type": "code",
   "execution_count": null,
   "id": "64745ff6-4a19-4f3c-9eae-2dffb14a5000",
   "metadata": {},
   "outputs": [],
   "source": []
  },
  {
   "cell_type": "code",
   "execution_count": null,
   "id": "e578e87e-22a1-433c-8c1a-f1c73b6b00b5",
   "metadata": {},
   "outputs": [],
   "source": []
  },
  {
   "cell_type": "markdown",
   "id": "9b96714f-4d97-4ac3-a6c2-91079a51e35e",
   "metadata": {},
   "source": [
    "## (d)"
   ]
  },
  {
   "cell_type": "code",
   "execution_count": null,
   "id": "0991d677-7b7d-4d7e-bf5f-1e805d4a1860",
   "metadata": {},
   "outputs": [],
   "source": []
  },
  {
   "cell_type": "code",
   "execution_count": null,
   "id": "98dab603-974e-4e33-b4ce-9a8b7e305d9b",
   "metadata": {},
   "outputs": [],
   "source": []
  },
  {
   "cell_type": "markdown",
   "id": "400616d9-5e6e-4f12-b024-8db4cf131294",
   "metadata": {},
   "source": [
    "# Problem 1.10\n",
    "\n",
    "Solve the problem in your written homework.  But then also verify that you solution works by applying it to the vector `r` below.  You should find that the student earned an 86.92%. Pretty good!"
   ]
  },
  {
   "cell_type": "code",
   "execution_count": 5,
   "id": "9d28791e-004d-4c09-a784-3cd3b560c6bc",
   "metadata": {},
   "outputs": [
    {
     "data": {
      "text/plain": [
       "10-element Vector{Int64}:\n",
       "   9\n",
       "   8\n",
       "   6\n",
       "  10\n",
       "  10\n",
       "   0\n",
       "   8\n",
       "   9\n",
       " 106\n",
       " 149"
      ]
     },
     "execution_count": 5,
     "metadata": {},
     "output_type": "execute_result"
    }
   ],
   "source": [
    "r_homework = [9, 8, 6, 10, 10, 0, 8, 9]\n",
    "r_midterm = [ 106 ]\n",
    "r_final = [149 ]\n",
    "r = [r_homework; r_midterm; r_final]"
   ]
  },
  {
   "cell_type": "code",
   "execution_count": null,
   "id": "2c93a9b6-91ab-4ec0-9a90-70911e470312",
   "metadata": {},
   "outputs": [],
   "source": []
  }
 ],
 "metadata": {
  "kernelspec": {
   "display_name": "Julia 1.9.4",
   "language": "julia",
   "name": "julia-1.9"
  },
  "language_info": {
   "file_extension": ".jl",
   "mimetype": "application/julia",
   "name": "julia",
   "version": "1.9.4"
  }
 },
 "nbformat": 4,
 "nbformat_minor": 5
}
