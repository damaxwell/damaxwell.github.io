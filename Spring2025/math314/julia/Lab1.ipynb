{
 "cells": [
  {
   "cell_type": "markdown",
   "id": "5d2c65bc-f774-4f95-b719-60e39abd2ed1",
   "metadata": {},
   "source": [
    "# Math 314 Lab 1\n",
    "\n",
    "## $k$-means algorithm\n",
    "\n",
    "**Name:**\n",
    "\n",
    "**Date:**\n",
    "\n",
    "See companion PDF on the course website for background and instructions."
   ]
  },
  {
   "cell_type": "markdown",
   "id": "5cbf1945-e019-4a78-8134-a57c5fbef988",
   "metadata": {},
   "source": [
    "## Exercise 1"
   ]
  },
  {
   "cell_type": "markdown",
   "id": "c719190d-7e4b-4ae6-b0ad-4055166fc846",
   "metadata": {},
   "source": [
    "Attach handwritten computation."
   ]
  },
  {
   "cell_type": "markdown",
   "id": "62f428f3-f429-4b36-87ed-2991daf47cf6",
   "metadata": {},
   "source": [
    "## Exercise 2"
   ]
  },
  {
   "cell_type": "markdown",
   "id": "c8d82ae9-2c41-4b5b-b64e-161b4de2e562",
   "metadata": {},
   "source": [
    "Your response goes here."
   ]
  },
  {
   "cell_type": "markdown",
   "id": "eeeeaa49-b11b-40e5-8bab-177119955110",
   "metadata": {},
   "source": [
    "## Exercise 3"
   ]
  },
  {
   "cell_type": "markdown",
   "id": "a7ba31a0-e2b5-4f85-a70c-59ae47c8521c",
   "metadata": {},
   "source": [
    "Attach handwritten computation"
   ]
  },
  {
   "cell_type": "markdown",
   "id": "bfc231d5-8789-4d20-be64-b52180d2a677",
   "metadata": {},
   "source": [
    "## Exercise 4"
   ]
  },
  {
   "cell_type": "markdown",
   "id": "cde26832-2fdb-494c-8bc9-b7c223271dbb",
   "metadata": {},
   "source": [
    "### Part a)"
   ]
  },
  {
   "cell_type": "code",
   "execution_count": 4,
   "id": "7b32541c-502b-42ef-86ae-9e24c4e699b3",
   "metadata": {},
   "outputs": [],
   "source": [
    "# Define the function `J(x,y)` here."
   ]
  },
  {
   "cell_type": "markdown",
   "id": "e30e293d-b3f1-4acd-82c2-04ed9aaafd12",
   "metadata": {},
   "source": [
    "### Parts b) - d)"
   ]
  },
  {
   "cell_type": "code",
   "execution_count": 6,
   "id": "875bb728-046d-49b7-8da5-7babb2e74d66",
   "metadata": {},
   "outputs": [],
   "source": [
    "# Commands to make the contour plot go here\n",
    "# along with the commands to add the data points\n",
    "# and the location of the minimum."
   ]
  },
  {
   "cell_type": "markdown",
   "id": "cf2ac25c-0c21-4809-a362-21cb643c6f32",
   "metadata": {},
   "source": [
    "## Exercise 5"
   ]
  },
  {
   "cell_type": "code",
   "execution_count": 7,
   "id": "136938a9-ef3f-4688-bd7f-9fdc3e8443d1",
   "metadata": {},
   "outputs": [],
   "source": [
    "# Fill in the body of the function `dist_sq` below."
   ]
  },
  {
   "cell_type": "code",
   "execution_count": 8,
   "id": "24863791-090e-4f5b-affe-7ee16638857b",
   "metadata": {},
   "outputs": [
    {
     "data": {
      "text/plain": [
       "dist_sq (generic function with 1 method)"
      ]
     },
     "execution_count": 8,
     "metadata": {},
     "output_type": "execute_result"
    }
   ],
   "source": [
    "function dist_sq(a,b)\n",
    "  # Your code goes here.\n",
    "end"
   ]
  },
  {
   "cell_type": "markdown",
   "id": "2de26c65-8225-4aee-8b5c-2b605691c5da",
   "metadata": {},
   "source": [
    "Verify that this gives the correct output:"
   ]
  },
  {
   "cell_type": "code",
   "execution_count": null,
   "id": "4f9f4038-db75-4a93-8b29-05ef2515c33b",
   "metadata": {},
   "outputs": [],
   "source": [
    "a = [-1, 2, 2]\n",
    "b = [3, 5, 1]\n",
    "\n",
    "dist_sq(a,b)"
   ]
  },
  {
   "cell_type": "markdown",
   "id": "aef1aa6c-cad2-4e54-9147-e5f8b29eb684",
   "metadata": {},
   "source": [
    "## Exercise 6"
   ]
  },
  {
   "cell_type": "code",
   "execution_count": 13,
   "id": "cf3a4eb1-dc2a-4279-b8c0-cc8099b6f57d",
   "metadata": {},
   "outputs": [],
   "source": [
    "p1 = [1,3]; p2 = [4,7]; p3 = [2, -2]\n",
    "r1 = [0, 0]; r2 = [1, 4]\n",
    "c = [1, 1, 2];"
   ]
  },
  {
   "cell_type": "code",
   "execution_count": null,
   "id": "496b8c3a-c397-484b-b609-41e01943e626",
   "metadata": {},
   "outputs": [],
   "source": [
    "# Compute distances between `p1` and the \n",
    "# representatives `r1` and `r2`:\n",
    "[ dist_sq(p1,r1), dist_sq(p1,r2) ]"
   ]
  },
  {
   "cell_type": "code",
   "execution_count": null,
   "id": "10746c13-7cda-487f-98e1-5b0663850ab3",
   "metadata": {},
   "outputs": [],
   "source": [
    "# Now do the same for `p2`"
   ]
  },
  {
   "cell_type": "code",
   "execution_count": null,
   "id": "5f6a3384-d103-4104-9e4c-850dae38c3c9",
   "metadata": {},
   "outputs": [],
   "source": [
    "# Now do the same for `p3`"
   ]
  },
  {
   "cell_type": "code",
   "execution_count": null,
   "id": "5ba3746e-e631-4c14-9bce-aa3c24aac9d2",
   "metadata": {},
   "outputs": [],
   "source": [
    "# Enter the new value of `c` here:\n",
    "c = "
   ]
  },
  {
   "cell_type": "markdown",
   "id": "abf4f67f-2657-4978-bc63-0051774af765",
   "metadata": {},
   "source": [
    "## Exercise 7"
   ]
  },
  {
   "cell_type": "markdown",
   "id": "1ccd5459-3a92-47a4-9d5b-9cc9b09f2108",
   "metadata": {},
   "source": [
    "Attach hand computation.\n",
    "\n",
    "Then do the same computation using Julia:"
   ]
  },
  {
   "cell_type": "code",
   "execution_count": null,
   "id": "19c2a425-6eaf-4262-9489-3dc054e30acc",
   "metadata": {},
   "outputs": [],
   "source": [
    "# Compute the new r1 here\n",
    "r1 = "
   ]
  },
  {
   "cell_type": "code",
   "execution_count": null,
   "id": "07b71832-e558-46c8-a567-dd1221b791b7",
   "metadata": {},
   "outputs": [],
   "source": [
    "# Compute the new r2 here\n",
    "r2 = "
   ]
  },
  {
   "cell_type": "markdown",
   "id": "131e2337-daf8-4ef1-a836-c5eed6196ec2",
   "metadata": {},
   "source": [
    "## Exercise 8"
   ]
  },
  {
   "cell_type": "code",
   "execution_count": null,
   "id": "420d3d33-478a-4533-a099-9222f4638475",
   "metadata": {},
   "outputs": [],
   "source": [
    "# Here's the starting data from Exercise 6\n",
    "p1 = [1,3]; p2 = [4,7]; p3 = [2, -2]\n",
    "r1 = [0, 0]; r2 = [1, 4]\n",
    "c = [1, 1, 2];"
   ]
  },
  {
   "cell_type": "code",
   "execution_count": null,
   "id": "4a9409e4-eb8c-40dc-ae11-3a5794068d73",
   "metadata": {},
   "outputs": [],
   "source": [
    "# Use the data above to compute the value of J_clust\n"
   ]
  },
  {
   "cell_type": "code",
   "execution_count": null,
   "id": "56168ede-6cef-4e87-a54b-ac0e7080a761",
   "metadata": {},
   "outputs": [],
   "source": [
    "# Now enter the new values of `c` and `r1` and `r2`\n",
    "# from exercises 6 and 7\n",
    "r1 = \n",
    "r2 =\n",
    "c = "
   ]
  },
  {
   "cell_type": "code",
   "execution_count": null,
   "id": "0df24857-99db-4d28-abe8-91ad9db9354a",
   "metadata": {},
   "outputs": [],
   "source": [
    "# Use the updated data above to compute the new value of J_clust\n"
   ]
  },
  {
   "cell_type": "markdown",
   "id": "1a8c1aca-b57d-4f0f-a3f5-a930f96a78be",
   "metadata": {},
   "source": [
    "## Exercise 9"
   ]
  },
  {
   "cell_type": "markdown",
   "id": "a494bd51-a29d-4b6a-9a36-a6a9de1bbb8a",
   "metadata": {},
   "source": [
    "Your answer goes here.  Attach a handwritten response if that works better for you."
   ]
  },
  {
   "cell_type": "markdown",
   "id": "661340fc-490c-4826-b64e-40dbe69b00c3",
   "metadata": {},
   "source": [
    "## Exercise 10"
   ]
  },
  {
   "cell_type": "markdown",
   "id": "72c08b62-8c92-4bd5-ab21-40d059edee05",
   "metadata": {},
   "source": [
    "Your answer goes here.  Attach a handwritten response if that works better for you."
   ]
  },
  {
   "cell_type": "markdown",
   "id": "e9e8c716-5730-422f-bdc2-bd136f09f1c0",
   "metadata": {},
   "source": [
    "## Exercise 11"
   ]
  },
  {
   "cell_type": "markdown",
   "id": "2ffa03e5-b16f-4486-9d9e-978ecaf9fc23",
   "metadata": {},
   "source": [
    "Your answer goes here.  Attach a handwritten response if that works better for you."
   ]
  },
  {
   "cell_type": "markdown",
   "id": "1321eedd-af76-479f-976d-4591af324b02",
   "metadata": {},
   "source": [
    "## Exercise 12"
   ]
  },
  {
   "cell_type": "markdown",
   "id": "312c0c3a-c6a4-4bb4-8614-36b667b6d4f0",
   "metadata": {},
   "source": [
    "The point of this exercise is to fill in a bit of the code for one of the key\n",
    "functions needed for the $k$-means algorithm.  The part you are adding is related to an `if` statement,\n",
    "and I need to first show you how `if` statements work.\n",
    "\n",
    "In Julia, you can execute code based on whether or not some condition is true.  Here's a sample"
   ]
  },
  {
   "cell_type": "code",
   "execution_count": 38,
   "id": "31356e15-4f75-4ae6-b4f6-9ebe3680697a",
   "metadata": {},
   "outputs": [
    {
     "name": "stdout",
     "output_type": "stream",
     "text": [
      "five is positive\n"
     ]
    }
   ],
   "source": [
    "if 5 > 0\n",
    "    println(\"five is positive\")\n",
    "end"
   ]
  },
  {
   "cell_type": "markdown",
   "id": "23cc8b73-803c-450e-9dc9-15a7674b37b4",
   "metadata": {},
   "source": [
    "The condition `5>0` is true, so the `println` statement is exectuted.\n",
    "\n",
    "Compare:"
   ]
  },
  {
   "cell_type": "code",
   "execution_count": 39,
   "id": "7e462b27-1d4b-4b8f-9738-1041cd0ed848",
   "metadata": {},
   "outputs": [],
   "source": [
    "if 5 < 0\n",
    "    println(\"five is negative\")\n",
    "end"
   ]
  },
  {
   "cell_type": "markdown",
   "id": "3efb2bab-4b71-41fc-8417-f35b0a180009",
   "metadata": {},
   "source": [
    "Now the condition `5<0` is false, so the `println` does not happen."
   ]
  },
  {
   "cell_type": "markdown",
   "id": "a2e8d7c2-ae06-40b8-b5f7-2b20f73650c6",
   "metadata": {},
   "source": [
    "The function `nearest_rep` below is nearly complete.\n",
    "It receives a single vector `p0` and a matrix `reps`\n",
    "    where `reps[i,j]` is the i-th component of representaive $r_j$.  The job of `nearest_rep` is to return the index\n",
    "    `j` of the representative that is closest to `p0`.\n",
    "    The function is heavily commented, so you should be able to follow along with what it is doing. Please contact me if you have questions!\n",
    "\n",
    "There is a single `if` statement missing from the \n",
    "function at the spot labeled `FILL THIS PART IN`.\n",
    "Follow the instructions an enter in the `if` statement."
   ]
  },
  {
   "cell_type": "code",
   "execution_count": 40,
   "id": "bf29c6e1-c7d9-41fc-b7f5-85e7a80b6b30",
   "metadata": {},
   "outputs": [
    {
     "data": {
      "text/plain": [
       "nearest_rep"
      ]
     },
     "execution_count": 40,
     "metadata": {},
     "output_type": "execute_result"
    }
   ],
   "source": [
    "\"\"\"\n",
    "Given a single vector `p0` and a matrix of\n",
    "representatives `reps`, returns the index\n",
    "of the representative that is closes to `p`.\n",
    "\"\"\"\n",
    "function nearest_rep(p0, reps)\n",
    "    # Strategy: \n",
    "    # Run through the list of representatives\n",
    "    # and keep track of the closest distance found so far,\n",
    "    # and the index of the representative where that\n",
    "    # distance was found.  \n",
    "    #\n",
    "    # Once we have looked at all the representativees,\n",
    "    # return the best index.\n",
    "    \n",
    "    # Best distance found thus far.  Infinity to begin.\n",
    "    best_d= Inf\n",
    "    # Index of the best matching representative.\n",
    "    best_index = 0\n",
    "\n",
    "    # Determine the number of representatives.\n",
    "    n_reps = size(reps)[2]\n",
    "\n",
    "    # For each representative\n",
    "    for j in 1:n_reps\n",
    "\n",
    "        # Compute the distance from p0 to representative `j`\n",
    "        d = dist_sq(p0, reps[:,j])\n",
    "\n",
    "        ## FILL THIS PART IN:\n",
    "        ##\n",
    "        ## If d is less than `best_d`, \n",
    "        ## set `best_d` to the value of `d`\n",
    "        ## just computed and update `best_index`\n",
    "        ## to be the value of `j`.\n",
    "\n",
    "    end\n",
    "    return best_index\n",
    "end\n"
   ]
  },
  {
   "cell_type": "markdown",
   "id": "99ddae1b-2f35-4088-9aee-501672cbfb74",
   "metadata": {},
   "source": [
    "Test that your code is correct as follows.\n",
    "\n",
    "First some setup code."
   ]
  },
  {
   "cell_type": "code",
   "execution_count": 41,
   "id": "4113c2df-8c48-46e6-996b-207f74bbcf8e",
   "metadata": {},
   "outputs": [
    {
     "data": {
      "text/plain": [
       "3×3 Matrix{Float64}:\n",
       " 4.0  1.0   6.0\n",
       " 1.0  0.5  -4.0\n",
       " 2.0  4.0   8.0"
      ]
     },
     "execution_count": 41,
     "metadata": {},
     "output_type": "execute_result"
    }
   ],
   "source": [
    "# Single point\n",
    "p = [ 0.0, 0, 0]\n",
    "\n",
    "# Three representatives\n",
    "r1 = [ 4, 1, 2]\n",
    "r2 = [ 1, 0.5, 4]\n",
    "r3 = [6, -4, 8]\n",
    "\n",
    "# Make a matrix with each column being one of the\n",
    "# representatives.  The function `hcat` does \n",
    "# horizontal concatenation.\n",
    "reps = hcat(r1, r2, r3)"
   ]
  },
  {
   "cell_type": "markdown",
   "id": "c8e82db5-2384-4a90-b104-cefa0743e93f",
   "metadata": {},
   "source": [
    "The closest of `r1`, `r2` and `r3` to the\n",
    "origin is `r2`.  So if your function is correct,\n",
    "this command will return 2."
   ]
  },
  {
   "cell_type": "code",
   "execution_count": null,
   "id": "7b91c9c6-6029-476e-8c5c-b20c194cd60b",
   "metadata": {},
   "outputs": [],
   "source": [
    "nearest_rep(p, reps)"
   ]
  },
  {
   "cell_type": "markdown",
   "id": "b09d78bc-8442-4312-a92a-cbc4223c60a7",
   "metadata": {},
   "source": [
    "## Interlude: main code for the k-means algorithm"
   ]
  },
  {
   "cell_type": "markdown",
   "id": "a63a42c3-fb4e-437e-bb78-c2ca601249c6",
   "metadata": {},
   "source": [
    "First three helper functions:\n",
    "1) `update_clusters` to do the cluster update step\n",
    "2) `update_reps` to do the representative update step\n",
    "3) `compute_J_clust` to compute the objective functional"
   ]
  },
  {
   "cell_type": "code",
   "execution_count": 54,
   "id": "f64d013b-d4c2-4f7e-9370-0f12045490bb",
   "metadata": {},
   "outputs": [],
   "source": [
    "\"\"\"\n",
    "Given points `p`, current cluster representatives\n",
    "`reps` and cluster assignments `c`, updates the\n",
    "cluster assignments so that cluster assignment\n",
    "`c[j]` is `k` if `reps[:,k]` is closest to `p[:,j]`.\n",
    "\n",
    "Returns the new cluster assignment vector.\n",
    "\"\"\"\n",
    "function update_clusters(p, reps, clusters)\n",
    "    M = size(p)[2]\n",
    "\n",
    "    new_clusters = zeros(Int, M)\n",
    "    for j = 1:M\n",
    "        new_clusters[j] = nearest_rep(p[:,j], reps)\n",
    "    end\n",
    "\n",
    "    return new_clusters\n",
    "end\n",
    "\n",
    "\n",
    "\"\"\"\n",
    "Given points `p`, current cluster representatives\n",
    "`reps` and cluster assignments `c`, updates the\n",
    "representatives so that `reps[:,j]` is the average\n",
    "of all the vectors in category `j`.\n",
    "\n",
    "Returns the new matrix of representative vectors.\n",
    "\"\"\"\n",
    "function update_reps(p, reps, clusters)\n",
    "\n",
    "    N = size(p)[1]\n",
    "    M = size(p)[2]\n",
    "    K = size(reps)[2]\n",
    "    \n",
    "    counts = zeros(K)\n",
    "\n",
    "    new_reps = zeros(N, K)\n",
    "    for m in 1:M\n",
    "        # determine which cluster p_m is assigned to\n",
    "        k = clusters[m]\n",
    "\n",
    "        # add p_m to the representative for the cluster\n",
    "        # and update the number of elements in the cluster\n",
    "        new_reps[:,k] += view(p,:,m)\n",
    "        counts[k] += 1\n",
    "    end\n",
    "\n",
    "    # Now divide each representative by the number of vectors in the cluster.\n",
    "    for k in 1:K\n",
    "        cluster_size = counts[k]\n",
    "        if cluster_size == 0\n",
    "            new_reps[:,k] = reps[:,k]\n",
    "        else\n",
    "            new_reps[:,k] /= cluster_size\n",
    "        end\n",
    "    end\n",
    "\n",
    "    return new_reps\n",
    "end\n",
    "\n",
    "\"\"\"\n",
    "Given points `p`, representatives `reps` and\n",
    "cluster assignments `c`, computes the value of\n",
    "the objective functional J_clust.\n",
    "\"\"\"\n",
    "function compute_J_clust(p, reps, clusters)\n",
    "  M = size(p)[2]\n",
    "  J = 0\n",
    "  for m=1:M\n",
    "    J = J + dist_sq(p[:,m], reps[:,clusters[m]])\n",
    "  end\n",
    "\n",
    "  J = J / M\n",
    "end;\n"
   ]
  },
  {
   "cell_type": "markdown",
   "id": "d59c861c-e5fc-4e7f-ace2-bbb5ebd70658",
   "metadata": {},
   "source": [
    "Now the main function, `k_means`, which performs the complete algorithm a specified number of iterations."
   ]
  },
  {
   "cell_type": "code",
   "execution_count": 131,
   "id": "18c79d5f-13de-4ff5-9785-ee8526168c59",
   "metadata": {},
   "outputs": [
    {
     "data": {
      "text/plain": [
       "k_means"
      ]
     },
     "execution_count": 131,
     "metadata": {},
     "output_type": "execute_result"
    }
   ],
   "source": [
    "import Random\n",
    "\n",
    "\"\"\"\n",
    "Applies `N` iterations of the k-means algorithm\n",
    "to the vectors `p` with `k` categories.\n",
    "\n",
    "The matrix `p` contains vectors arranged in columns.\n",
    "\n",
    "Each  vector in `p` is assigned to a random category initially.\n",
    "\n",
    "Returns: (reps, clusters, J)\n",
    "\n",
    "reps: matrix of cluster representatives\n",
    "clusters: vector of cluster assignments\n",
    "J: vector of values of J_clust per iteration\n",
    "\"\"\"\n",
    "function k_means(p, k, N)\n",
    "\n",
    "    n = size(p)[1]\n",
    "    m = size(p)[2]\n",
    "\n",
    "    J = Float64[]\n",
    "    \n",
    "    # Make a random vector `cluster` of length `n` where the \n",
    "    # entries of `cluster` record .  So if `cluster[3]=7`\n",
    "    # this means that the third vector in `x` has been assigned\n",
    "    # to cluster 7\n",
    "    \n",
    "    Random.seed!(1971)\n",
    "    clusters = Random.rand( 1:k, (m,) )\n",
    "\n",
    "    reps = zeros(n,k)\n",
    "\n",
    "    reps = update_reps(p, reps, clusters)\n",
    "    \n",
    "    for _ in 1:N\n",
    "        clusters = update_clusters(p, reps, clusters)\n",
    "        reps = update_reps(p, reps, clusters)\n",
    "        J_now = compute_J_clust(p, reps, clusters)\n",
    "        push!(J, J_now);\n",
    "    end\n",
    "\n",
    "    return reps, clusters, J\n",
    "end\n",
    "    "
   ]
  },
  {
   "cell_type": "markdown",
   "id": "a6f536c4-f892-4c8c-ad8f-d445d2bfe008",
   "metadata": {},
   "source": [
    "## Exercise 13"
   ]
  },
  {
   "cell_type": "markdown",
   "id": "8aec5956-4853-4efa-972d-e68668e2da9d",
   "metadata": {},
   "source": [
    "First, create some random data in the plane in three categories.  Each category is clustered around one of the points (1.3,1), (-1,-1) and (0, 2)."
   ]
  },
  {
   "cell_type": "code",
   "execution_count": 75,
   "id": "918f9aa2-fddf-46df-8f54-afa052a42715",
   "metadata": {},
   "outputs": [
    {
     "data": {
      "text/plain": [
       "2×60 Matrix{Float64}:\n",
       " 1.36245  0.834736  1.76814  0.127316  …  -0.558285  -0.326154  0.228171\n",
       " 1.48784  1.78962   1.34419  1.03923       2.29607    2.18244   1.47845"
      ]
     },
     "execution_count": 75,
     "metadata": {},
     "output_type": "execute_result"
    }
   ],
   "source": [
    "import Random\n",
    "Random.seed!(1971)\n",
    "\n",
    "# Create 20 vectors in category A\n",
    "pa = 0.5*Random.randn((2,20)) .+ [1.3,1]\n",
    "\n",
    "# Create 20 vectors in category B\n",
    "pb = 0.5*Random.randn((2,20)) .+ [-1,-1]\n",
    "\n",
    "# Create 20 vectors in category C\n",
    "pc = 0.3*Random.randn((2,20)) .+ [-0.0,2]\n",
    "\n",
    "# Combine all the vectors into one big matrix\n",
    "p = hcat(pa,pb,pc)"
   ]
  },
  {
   "cell_type": "markdown",
   "id": "e980c270-b846-4aff-9c00-8e55038f1e11",
   "metadata": {},
   "source": [
    "### Visualize the data"
   ]
  },
  {
   "cell_type": "code",
   "execution_count": 76,
   "id": "68c06804-b0d1-4a8f-8419-435ee32dfa58",
   "metadata": {},
   "outputs": [
    {
     "data": {
      "image/png": "[encoded data removed]",
      "image/svg+xml": [
       "<?xml version=\"1.0\" encoding=\"utf-8\"?>\n",
       "<svg xmlns=\"http://www.w3.org/2000/svg\" xmlns:xlink=\"http://www.w3.org/1999/xlink\" width=\"600\" height=\"400\" viewBox=\"0 0 2400 1600\">\n",
       "<defs>\n",
       "  <clipPath id=\"clip570\">\n",
       "    <rect x=\"0\" y=\"0\" width=\"2400\" height=\"1600\"/>\n",
       "  </clipPath>\n",
       "</defs>\n",
       "<path clip-path=\"url(#clip570)\" d=\"M0 1600 L2400 1600 L2400 0 L0 0  Z\" fill=\"#ffffff\" fill-rule=\"evenodd\" fill-opacity=\"1\"/>\n",
       "<defs>\n",
       "  <clipPath id=\"clip571\">\n",
       "    <rect x=\"480\" y=\"0\" width=\"1681\" height=\"1600\"/>\n",
       "  </clipPath>\n",
       "</defs>\n",
       "<path clip-path=\"url(#clip570)\" d=\"M210.746 1423.18 L2352.76 1423.18 L2352.76 123.472 L210.746 123.472  Z\" fill=\"#ffffff\" fill-rule=\"evenodd\" fill-opacity=\"1\"/>\n",
       "<defs>\n",
       "  <clipPath id=\"clip572\">\n",
       "    <rect x=\"210\" y=\"123\" width=\"2143\" height=\"1301\"/>\n",
       "  </clipPath>\n",
       "</defs>\n",
       "<polyline clip-path=\"url(#clip572)\" style=\"stroke:#000000; stroke-linecap:round; stroke-linejoin:round; stroke-width:2; stroke-opacity:0.1; fill:none\" points=\"259.09,1423.18 259.09,123.472 \"/>\n",
       "<polyline clip-path=\"url(#clip572)\" style=\"stroke:#000000; stroke-linecap:round; stroke-linejoin:round; stroke-width:2; stroke-opacity:0.1; fill:none\" points=\"691.793,1423.18 691.793,123.472 \"/>\n",
       "<polyline clip-path=\"url(#clip572)\" style=\"stroke:#000000; stroke-linecap:round; stroke-linejoin:round; stroke-width:2; stroke-opacity:0.1; fill:none\" points=\"1124.5,1423.18 1124.5,123.472 \"/>\n",
       "<polyline clip-path=\"url(#clip572)\" style=\"stroke:#000000; stroke-linecap:round; stroke-linejoin:round; stroke-width:2; stroke-opacity:0.1; fill:none\" points=\"1557.2,1423.18 1557.2,123.472 \"/>\n",
       "<polyline clip-path=\"url(#clip572)\" style=\"stroke:#000000; stroke-linecap:round; stroke-linejoin:round; stroke-width:2; stroke-opacity:0.1; fill:none\" points=\"1989.9,1423.18 1989.9,123.472 \"/>\n",
       "<polyline clip-path=\"url(#clip570)\" style=\"stroke:#000000; stroke-linecap:round; stroke-linejoin:round; stroke-width:4; stroke-opacity:1; fill:none\" points=\"210.746,1423.18 2352.76,1423.18 \"/>\n",
       "<polyline clip-path=\"url(#clip570)\" style=\"stroke:#000000; stroke-linecap:round; stroke-linejoin:round; stroke-width:4; stroke-opacity:1; fill:none\" points=\"259.09,1423.18 259.09,1404.28 \"/>\n",
       "<polyline clip-path=\"url(#clip570)\" style=\"stroke:#000000; stroke-linecap:round; stroke-linejoin:round; stroke-width:4; stroke-opacity:1; fill:none\" points=\"691.793,1423.18 691.793,1404.28 \"/>\n",
       "<polyline clip-path=\"url(#clip570)\" style=\"stroke:#000000; stroke-linecap:round; stroke-linejoin:round; stroke-width:4; stroke-opacity:1; fill:none\" points=\"1124.5,1423.18 1124.5,1404.28 \"/>\n",
       "<polyline clip-path=\"url(#clip570)\" style=\"stroke:#000000; stroke-linecap:round; stroke-linejoin:round; stroke-width:4; stroke-opacity:1; fill:none\" points=\"1557.2,1423.18 1557.2,1404.28 \"/>\n",
       "<polyline clip-path=\"url(#clip570)\" style=\"stroke:#000000; stroke-linecap:round; stroke-linejoin:round; stroke-width:4; stroke-opacity:1; fill:none\" points=\"1989.9,1423.18 1989.9,1404.28 \"/>\n",
       "<path clip-path=\"url(#clip570)\" d=\"M229.032 1468.75 L258.708 1468.75 L258.708 1472.69 L229.032 1472.69 L229.032 1468.75 Z\" fill=\"#000000\" fill-rule=\"nonzero\" fill-opacity=\"1\" /><path clip-path=\"url(#clip570)\" d=\"M272.828 1481.64 L289.147 1481.64 L289.147 1485.58 L267.203 1485.58 L267.203 1481.64 Q269.865 1478.89 274.448 1474.26 Q279.055 1469.61 280.235 1468.27 Q282.481 1465.74 283.36 1464.01 Q284.263 1462.25 284.263 1460.56 Q284.263 1457.8 282.319 1456.07 Q280.397 1454.33 277.296 1454.33 Q275.097 1454.33 272.643 1455.09 Q270.212 1455.86 267.435 1457.41 L267.435 1452.69 Q270.259 1451.55 272.712 1450.97 Q275.166 1450.39 277.203 1450.39 Q282.573 1450.39 285.768 1453.08 Q288.962 1455.77 288.962 1460.26 Q288.962 1462.39 288.152 1464.31 Q287.365 1466.2 285.259 1468.8 Q284.68 1469.47 281.578 1472.69 Q278.476 1475.88 272.828 1481.64 Z\" fill=\"#000000\" fill-rule=\"nonzero\" fill-opacity=\"1\" /><path clip-path=\"url(#clip570)\" d=\"M661.55 1468.75 L691.226 1468.75 L691.226 1472.69 L661.55 1472.69 L661.55 1468.75 Z\" fill=\"#000000\" fill-rule=\"nonzero\" fill-opacity=\"1\" /><path clip-path=\"url(#clip570)\" d=\"M702.129 1481.64 L709.768 1481.64 L709.768 1455.28 L701.457 1456.95 L701.457 1452.69 L709.721 1451.02 L714.397 1451.02 L714.397 1481.64 L722.036 1481.64 L722.036 1485.58 L702.129 1485.58 L702.129 1481.64 Z\" fill=\"#000000\" fill-rule=\"nonzero\" fill-opacity=\"1\" /><path clip-path=\"url(#clip570)\" d=\"M1124.5 1454.1 Q1120.89 1454.1 1119.06 1457.66 Q1117.25 1461.2 1117.25 1468.33 Q1117.25 1475.44 1119.06 1479.01 Q1120.89 1482.55 1124.5 1482.55 Q1128.13 1482.55 1129.94 1479.01 Q1131.77 1475.44 1131.77 1468.33 Q1131.77 1461.2 1129.94 1457.66 Q1128.13 1454.1 1124.5 1454.1 M1124.5 1450.39 Q1130.31 1450.39 1133.36 1455 Q1136.44 1459.58 1136.44 1468.33 Q1136.44 1477.06 1133.36 1481.67 Q1130.31 1486.25 1124.5 1486.25 Q1118.69 1486.25 1115.61 1481.67 Q1112.55 1477.06 1112.55 1468.33 Q1112.55 1459.58 1115.61 1455 Q1118.69 1450.39 1124.5 1450.39 Z\" fill=\"#000000\" fill-rule=\"nonzero\" fill-opacity=\"1\" /><path clip-path=\"url(#clip570)\" d=\"M1547.58 1481.64 L1555.22 1481.64 L1555.22 1455.28 L1546.91 1456.95 L1546.91 1452.69 L1555.17 1451.02 L1559.85 1451.02 L1559.85 1481.64 L1567.49 1481.64 L1567.49 1485.58 L1547.58 1485.58 L1547.58 1481.64 Z\" fill=\"#000000\" fill-rule=\"nonzero\" fill-opacity=\"1\" /><path clip-path=\"url(#clip570)\" d=\"M1984.56 1481.64 L2000.88 1481.64 L2000.88 1485.58 L1978.93 1485.58 L1978.93 1481.64 Q1981.59 1478.89 1986.18 1474.26 Q1990.78 1469.61 1991.96 1468.27 Q1994.21 1465.74 1995.09 1464.01 Q1995.99 1462.25 1995.99 1460.56 Q1995.99 1457.8 1994.05 1456.07 Q1992.13 1454.33 1989.02 1454.33 Q1986.83 1454.33 1984.37 1455.09 Q1981.94 1455.86 1979.16 1457.41 L1979.16 1452.69 Q1981.99 1451.55 1984.44 1450.97 Q1986.89 1450.39 1988.93 1450.39 Q1994.3 1450.39 1997.5 1453.08 Q2000.69 1455.77 2000.69 1460.26 Q2000.69 1462.39 1999.88 1464.31 Q1999.09 1466.2 1996.99 1468.8 Q1996.41 1469.47 1993.31 1472.69 Q1990.2 1475.88 1984.56 1481.64 Z\" fill=\"#000000\" fill-rule=\"nonzero\" fill-opacity=\"1\" /><path clip-path=\"url(#clip570)\" d=\"M1298.37 1532.4 L1285.47 1549.74 L1299.03 1568.04 L1292.13 1568.04 L1281.75 1554.04 L1271.37 1568.04 L1264.47 1568.04 L1278.31 1549.39 L1265.65 1532.4 L1272.55 1532.4 L1282.01 1545.1 L1291.46 1532.4 L1298.37 1532.4 Z\" fill=\"#000000\" fill-rule=\"nonzero\" fill-opacity=\"1\" /><polyline clip-path=\"url(#clip572)\" style=\"stroke:#000000; stroke-linecap:round; stroke-linejoin:round; stroke-width:2; stroke-opacity:0.1; fill:none\" points=\"210.746,1400.92 2352.76,1400.92 \"/>\n",
       "<polyline clip-path=\"url(#clip572)\" style=\"stroke:#000000; stroke-linecap:round; stroke-linejoin:round; stroke-width:2; stroke-opacity:0.1; fill:none\" points=\"210.746,1120.74 2352.76,1120.74 \"/>\n",
       "<polyline clip-path=\"url(#clip572)\" style=\"stroke:#000000; stroke-linecap:round; stroke-linejoin:round; stroke-width:2; stroke-opacity:0.1; fill:none\" points=\"210.746,840.553 2352.76,840.553 \"/>\n",
       "<polyline clip-path=\"url(#clip572)\" style=\"stroke:#000000; stroke-linecap:round; stroke-linejoin:round; stroke-width:2; stroke-opacity:0.1; fill:none\" points=\"210.746,560.371 2352.76,560.371 \"/>\n",
       "<polyline clip-path=\"url(#clip572)\" style=\"stroke:#000000; stroke-linecap:round; stroke-linejoin:round; stroke-width:2; stroke-opacity:0.1; fill:none\" points=\"210.746,280.188 2352.76,280.188 \"/>\n",
       "<polyline clip-path=\"url(#clip570)\" style=\"stroke:#000000; stroke-linecap:round; stroke-linejoin:round; stroke-width:4; stroke-opacity:1; fill:none\" points=\"210.746,1423.18 210.746,123.472 \"/>\n",
       "<polyline clip-path=\"url(#clip570)\" style=\"stroke:#000000; stroke-linecap:round; stroke-linejoin:round; stroke-width:4; stroke-opacity:1; fill:none\" points=\"210.746,1400.92 229.644,1400.92 \"/>\n",
       "<polyline clip-path=\"url(#clip570)\" style=\"stroke:#000000; stroke-linecap:round; stroke-linejoin:round; stroke-width:4; stroke-opacity:1; fill:none\" points=\"210.746,1120.74 229.644,1120.74 \"/>\n",
       "<polyline clip-path=\"url(#clip570)\" style=\"stroke:#000000; stroke-linecap:round; stroke-linejoin:round; stroke-width:4; stroke-opacity:1; fill:none\" points=\"210.746,840.553 229.644,840.553 \"/>\n",
       "<polyline clip-path=\"url(#clip570)\" style=\"stroke:#000000; stroke-linecap:round; stroke-linejoin:round; stroke-width:4; stroke-opacity:1; fill:none\" points=\"210.746,560.371 229.644,560.371 \"/>\n",
       "<polyline clip-path=\"url(#clip570)\" style=\"stroke:#000000; stroke-linecap:round; stroke-linejoin:round; stroke-width:4; stroke-opacity:1; fill:none\" points=\"210.746,280.188 229.644,280.188 \"/>\n",
       "<path clip-path=\"url(#clip570)\" d=\"M114.631 1401.37 L144.306 1401.37 L144.306 1405.3 L114.631 1405.3 L114.631 1401.37 Z\" fill=\"#000000\" fill-rule=\"nonzero\" fill-opacity=\"1\" /><path clip-path=\"url(#clip570)\" d=\"M158.427 1414.26 L174.746 1414.26 L174.746 1418.2 L152.802 1418.2 L152.802 1414.26 Q155.464 1411.51 160.047 1406.88 Q164.653 1402.23 165.834 1400.88 Q168.079 1398.36 168.959 1396.62 Q169.862 1394.87 169.862 1393.18 Q169.862 1390.42 167.917 1388.68 Q165.996 1386.95 162.894 1386.95 Q160.695 1386.95 158.241 1387.71 Q155.811 1388.48 153.033 1390.03 L153.033 1385.3 Q155.857 1384.17 158.311 1383.59 Q160.765 1383.01 162.802 1383.01 Q168.172 1383.01 171.366 1385.7 Q174.561 1388.38 174.561 1392.87 Q174.561 1395 173.751 1396.93 Q172.964 1398.82 170.857 1401.42 Q170.278 1402.09 167.177 1405.3 Q164.075 1408.5 158.427 1414.26 Z\" fill=\"#000000\" fill-rule=\"nonzero\" fill-opacity=\"1\" /><path clip-path=\"url(#clip570)\" d=\"M114.26 1121.19 L143.936 1121.19 L143.936 1125.12 L114.26 1125.12 L114.26 1121.19 Z\" fill=\"#000000\" fill-rule=\"nonzero\" fill-opacity=\"1\" /><path clip-path=\"url(#clip570)\" d=\"M154.839 1134.08 L162.477 1134.08 L162.477 1107.71 L154.167 1109.38 L154.167 1105.12 L162.431 1103.46 L167.107 1103.46 L167.107 1134.08 L174.746 1134.08 L174.746 1138.02 L154.839 1138.02 L154.839 1134.08 Z\" fill=\"#000000\" fill-rule=\"nonzero\" fill-opacity=\"1\" /><path clip-path=\"url(#clip570)\" d=\"M162.802 826.352 Q159.19 826.352 157.362 829.917 Q155.556 833.458 155.556 840.588 Q155.556 847.694 157.362 851.259 Q159.19 854.801 162.802 854.801 Q166.436 854.801 168.241 851.259 Q170.07 847.694 170.07 840.588 Q170.07 833.458 168.241 829.917 Q166.436 826.352 162.802 826.352 M162.802 822.648 Q168.612 822.648 171.667 827.255 Q174.746 831.838 174.746 840.588 Q174.746 849.315 171.667 853.921 Q168.612 858.504 162.802 858.504 Q156.991 858.504 153.913 853.921 Q150.857 849.315 150.857 840.588 Q150.857 831.838 153.913 827.255 Q156.991 822.648 162.802 822.648 Z\" fill=\"#000000\" fill-rule=\"nonzero\" fill-opacity=\"1\" /><path clip-path=\"url(#clip570)\" d=\"M154.839 573.716 L162.477 573.716 L162.477 547.35 L154.167 549.017 L154.167 544.757 L162.431 543.091 L167.107 543.091 L167.107 573.716 L174.746 573.716 L174.746 577.651 L154.839 577.651 L154.839 573.716 Z\" fill=\"#000000\" fill-rule=\"nonzero\" fill-opacity=\"1\" /><path clip-path=\"url(#clip570)\" d=\"M158.427 293.533 L174.746 293.533 L174.746 297.468 L152.802 297.468 L152.802 293.533 Q155.464 290.778 160.047 286.149 Q164.653 281.496 165.834 280.153 Q168.079 277.63 168.959 275.894 Q169.862 274.135 169.862 272.445 Q169.862 269.691 167.917 267.954 Q165.996 266.218 162.894 266.218 Q160.695 266.218 158.241 266.982 Q155.811 267.746 153.033 269.297 L153.033 264.575 Q155.857 263.441 158.311 262.862 Q160.765 262.283 162.802 262.283 Q168.172 262.283 171.366 264.968 Q174.561 267.654 174.561 272.144 Q174.561 274.274 173.751 276.195 Q172.964 278.093 170.857 280.686 Q170.278 281.357 167.177 284.575 Q164.075 287.769 158.427 293.533 Z\" fill=\"#000000\" fill-rule=\"nonzero\" fill-opacity=\"1\" /><path clip-path=\"url(#clip570)\" d=\"M67.3143 771.639 Q73.68 774.122 75.6216 776.477 Q77.5631 778.832 77.5631 782.779 L77.5631 787.458 L72.6615 787.458 L72.6615 784.02 Q72.6615 781.601 71.5157 780.265 Q70.3699 778.928 66.1048 777.305 L63.4312 776.254 L28.3562 790.673 L28.3562 784.466 L56.238 773.326 L28.3562 762.186 L28.3562 755.979 L67.3143 771.639 Z\" fill=\"#000000\" fill-rule=\"nonzero\" fill-opacity=\"1\" /><path clip-path=\"url(#clip570)\" d=\"M881.927 12.096 L890.15 12.096 L890.15 48.8377 Q890.15 58.5599 893.674 62.8538 Q897.199 67.1073 905.098 67.1073 Q912.957 67.1073 916.481 62.8538 Q920.005 58.5599 920.005 48.8377 L920.005 12.096 L928.229 12.096 L928.229 49.8504 Q928.229 61.6791 922.355 67.7149 Q916.521 73.7508 905.098 73.7508 Q893.634 73.7508 887.76 67.7149 Q881.927 61.6791 881.927 49.8504 L881.927 12.096 Z\" fill=\"#000000\" fill-rule=\"nonzero\" fill-opacity=\"1\" /><path clip-path=\"url(#clip570)\" d=\"M980.971 45.1919 L980.971 72.576 L973.518 72.576 L973.518 45.4349 Q973.518 38.994 971.006 35.7938 Q968.495 32.5936 963.471 32.5936 Q957.436 32.5936 953.952 36.4419 Q950.468 40.2903 950.468 46.9338 L950.468 72.576 L942.974 72.576 L942.974 27.2059 L950.468 27.2059 L950.468 34.2544 Q953.142 30.163 956.747 28.1376 Q960.393 26.1121 965.132 26.1121 Q972.95 26.1121 976.961 30.9732 Q980.971 35.7938 980.971 45.1919 Z\" fill=\"#000000\" fill-rule=\"nonzero\" fill-opacity=\"1\" /><path clip-path=\"url(#clip570)\" d=\"M1028.49 28.9478 L1028.49 35.9153 Q1025.33 34.1734 1022.13 33.3227 Q1018.97 32.4315 1015.73 32.4315 Q1008.48 32.4315 1004.47 37.0496 Q1000.46 41.6271 1000.46 49.9314 Q1000.46 58.2358 1004.47 62.8538 Q1008.48 67.4314 1015.73 67.4314 Q1018.97 67.4314 1022.13 66.5807 Q1025.33 65.6895 1028.49 63.9476 L1028.49 70.8341 Q1025.37 72.2924 1022.01 73.0216 Q1018.69 73.7508 1014.92 73.7508 Q1004.67 73.7508 998.633 67.3098 Q992.597 60.8689 992.597 49.9314 Q992.597 38.832 998.674 32.472 Q1004.79 26.1121 1015.4 26.1121 Q1018.85 26.1121 1022.13 26.8413 Q1025.41 27.5299 1028.49 28.9478 Z\" fill=\"#000000\" fill-rule=\"nonzero\" fill-opacity=\"1\" /><path clip-path=\"url(#clip570)\" d=\"M1062.07 49.7694 Q1053.04 49.7694 1049.55 51.8354 Q1046.07 53.9013 1046.07 58.8839 Q1046.07 62.8538 1048.66 65.2034 Q1051.29 67.5124 1055.79 67.5124 Q1061.99 67.5124 1065.72 63.1374 Q1069.48 58.7219 1069.48 51.4303 L1069.48 49.7694 L1062.07 49.7694 M1076.94 46.6907 L1076.94 72.576 L1069.48 72.576 L1069.48 65.6895 Q1066.93 69.8214 1063.12 71.8063 Q1059.32 73.7508 1053.81 73.7508 Q1046.84 73.7508 1042.71 69.8619 Q1038.62 65.9325 1038.62 59.3701 Q1038.62 51.7138 1043.72 47.825 Q1048.86 43.9361 1059.03 43.9361 L1069.48 43.9361 L1069.48 43.2069 Q1069.48 38.0623 1066.08 35.2672 Q1062.72 32.4315 1056.6 32.4315 Q1052.71 32.4315 1049.03 33.3632 Q1045.34 34.295 1041.94 36.1584 L1041.94 29.2718 Q1046.03 27.692 1049.88 26.9223 Q1053.73 26.1121 1057.37 26.1121 Q1067.22 26.1121 1072.08 31.2163 Q1076.94 36.3204 1076.94 46.6907 Z\" fill=\"#000000\" fill-rule=\"nonzero\" fill-opacity=\"1\" /><path clip-path=\"url(#clip570)\" d=\"M1099.66 14.324 L1099.66 27.2059 L1115.02 27.2059 L1115.02 32.9987 L1099.66 32.9987 L1099.66 57.6282 Q1099.66 63.1779 1101.16 64.7578 Q1102.7 66.3376 1107.36 66.3376 L1115.02 66.3376 L1115.02 72.576 L1107.36 72.576 Q1098.73 72.576 1095.45 69.3758 Q1092.17 66.1351 1092.17 57.6282 L1092.17 32.9987 L1086.7 32.9987 L1086.7 27.2059 L1092.17 27.2059 L1092.17 14.324 L1099.66 14.324 Z\" fill=\"#000000\" fill-rule=\"nonzero\" fill-opacity=\"1\" /><path clip-path=\"url(#clip570)\" d=\"M1163.63 48.0275 L1163.63 51.6733 L1129.36 51.6733 Q1129.84 59.3701 1133.97 63.421 Q1138.15 67.4314 1145.56 67.4314 Q1149.85 67.4314 1153.86 66.3781 Q1157.91 65.3249 1161.88 63.2184 L1161.88 70.267 Q1157.87 71.9684 1153.66 72.8596 Q1149.45 73.7508 1145.11 73.7508 Q1134.26 73.7508 1127.9 67.4314 Q1121.58 61.1119 1121.58 50.3365 Q1121.58 39.1965 1127.57 32.6746 Q1133.61 26.1121 1143.82 26.1121 Q1152.97 26.1121 1158.28 32.0264 Q1163.63 37.9003 1163.63 48.0275 M1156.17 45.84 Q1156.09 39.7232 1152.73 36.0774 Q1149.41 32.4315 1143.9 32.4315 Q1137.66 32.4315 1133.89 35.9558 Q1130.17 39.4801 1129.6 45.8805 L1156.17 45.84 Z\" fill=\"#000000\" fill-rule=\"nonzero\" fill-opacity=\"1\" /><path clip-path=\"url(#clip570)\" d=\"M1205.72 49.3643 Q1205.72 41.2625 1202.35 36.8065 Q1199.03 32.3505 1193 32.3505 Q1187 32.3505 1183.64 36.8065 Q1180.32 41.2625 1180.32 49.3643 Q1180.32 57.4256 1183.64 61.8816 Q1187 66.3376 1193 66.3376 Q1199.03 66.3376 1202.35 61.8816 Q1205.72 57.4256 1205.72 49.3643 M1213.17 66.9452 Q1213.17 78.5308 1208.02 84.1616 Q1202.88 89.8329 1192.27 89.8329 Q1188.34 89.8329 1184.85 89.2252 Q1181.37 88.6581 1178.09 87.4428 L1178.09 80.1917 Q1181.37 81.9741 1184.57 82.8248 Q1187.77 83.6755 1191.09 83.6755 Q1198.42 83.6755 1202.07 79.8271 Q1205.72 76.0193 1205.72 68.282 L1205.72 64.5957 Q1203.41 68.6061 1199.8 70.5911 Q1196.2 72.576 1191.17 72.576 Q1182.83 72.576 1177.72 66.2161 Q1172.62 59.8562 1172.62 49.3643 Q1172.62 38.832 1177.72 32.472 Q1182.83 26.1121 1191.17 26.1121 Q1196.2 26.1121 1199.8 28.0971 Q1203.41 30.082 1205.72 34.0924 L1205.72 27.2059 L1213.17 27.2059 L1213.17 66.9452 Z\" fill=\"#000000\" fill-rule=\"nonzero\" fill-opacity=\"1\" /><path clip-path=\"url(#clip570)\" d=\"M1246.1 32.4315 Q1240.11 32.4315 1236.62 37.1306 Q1233.14 41.7891 1233.14 49.9314 Q1233.14 58.0738 1236.58 62.7728 Q1240.07 67.4314 1246.1 67.4314 Q1252.06 67.4314 1255.54 62.7323 Q1259.03 58.0333 1259.03 49.9314 Q1259.03 41.8701 1255.54 37.1711 Q1252.06 32.4315 1246.1 32.4315 M1246.1 26.1121 Q1255.83 26.1121 1261.37 32.4315 Q1266.92 38.7509 1266.92 49.9314 Q1266.92 61.0714 1261.37 67.4314 Q1255.83 73.7508 1246.1 73.7508 Q1236.34 73.7508 1230.79 67.4314 Q1225.28 61.0714 1225.28 49.9314 Q1225.28 38.7509 1230.79 32.4315 Q1236.34 26.1121 1246.1 26.1121 Z\" fill=\"#000000\" fill-rule=\"nonzero\" fill-opacity=\"1\" /><path clip-path=\"url(#clip570)\" d=\"M1305.57 34.1734 Q1304.31 33.4443 1302.82 33.1202 Q1301.36 32.7556 1299.57 32.7556 Q1293.26 32.7556 1289.85 36.8875 Q1286.49 40.9789 1286.49 48.6757 L1286.49 72.576 L1279 72.576 L1279 27.2059 L1286.49 27.2059 L1286.49 34.2544 Q1288.84 30.1225 1292.61 28.1376 Q1296.37 26.1121 1301.76 26.1121 Q1302.53 26.1121 1303.46 26.2337 Q1304.4 26.3147 1305.53 26.5172 L1305.57 34.1734 Z\" fill=\"#000000\" fill-rule=\"nonzero\" fill-opacity=\"1\" /><path clip-path=\"url(#clip570)\" d=\"M1313.39 27.2059 L1320.84 27.2059 L1320.84 72.576 L1313.39 72.576 L1313.39 27.2059 M1313.39 9.54393 L1320.84 9.54393 L1320.84 18.9825 L1313.39 18.9825 L1313.39 9.54393 Z\" fill=\"#000000\" fill-rule=\"nonzero\" fill-opacity=\"1\" /><path clip-path=\"url(#clip570)\" d=\"M1333.2 27.2059 L1368.6 27.2059 L1368.6 34.0114 L1340.57 66.6212 L1368.6 66.6212 L1368.6 72.576 L1332.18 72.576 L1332.18 65.7705 L1360.22 33.1607 L1333.2 33.1607 L1333.2 27.2059 Z\" fill=\"#000000\" fill-rule=\"nonzero\" fill-opacity=\"1\" /><path clip-path=\"url(#clip570)\" d=\"M1418.79 48.0275 L1418.79 51.6733 L1384.52 51.6733 Q1385.01 59.3701 1389.14 63.421 Q1393.31 67.4314 1400.73 67.4314 Q1405.02 67.4314 1409.03 66.3781 Q1413.08 65.3249 1417.05 63.2184 L1417.05 70.267 Q1413.04 71.9684 1408.83 72.8596 Q1404.61 73.7508 1400.28 73.7508 Q1389.42 73.7508 1383.06 67.4314 Q1376.74 61.1119 1376.74 50.3365 Q1376.74 39.1965 1382.74 32.6746 Q1388.78 26.1121 1398.98 26.1121 Q1408.14 26.1121 1413.45 32.0264 Q1418.79 37.9003 1418.79 48.0275 M1411.34 45.84 Q1411.26 39.7232 1407.9 36.0774 Q1404.57 32.4315 1399.07 32.4315 Q1392.83 32.4315 1389.06 35.9558 Q1385.33 39.4801 1384.77 45.8805 L1411.34 45.84 Z\" fill=\"#000000\" fill-rule=\"nonzero\" fill-opacity=\"1\" /><path clip-path=\"url(#clip570)\" d=\"M1460.88 34.0924 L1460.88 9.54393 L1468.34 9.54393 L1468.34 72.576 L1460.88 72.576 L1460.88 65.7705 Q1458.53 69.8214 1454.93 71.8063 Q1451.36 73.7508 1446.34 73.7508 Q1438.12 73.7508 1432.93 67.1883 Q1427.79 60.6258 1427.79 49.9314 Q1427.79 39.2371 1432.93 32.6746 Q1438.12 26.1121 1446.34 26.1121 Q1451.36 26.1121 1454.93 28.0971 Q1458.53 30.0415 1460.88 34.0924 M1435.48 49.9314 Q1435.48 58.1548 1438.84 62.8538 Q1442.25 67.5124 1448.16 67.5124 Q1454.08 67.5124 1457.48 62.8538 Q1460.88 58.1548 1460.88 49.9314 Q1460.88 41.7081 1457.48 37.0496 Q1454.08 32.3505 1448.16 32.3505 Q1442.25 32.3505 1438.84 37.0496 Q1435.48 41.7081 1435.48 49.9314 Z\" fill=\"#000000\" fill-rule=\"nonzero\" fill-opacity=\"1\" /><path clip-path=\"url(#clip570)\" d=\"M1539.92 34.0924 L1539.92 9.54393 L1547.37 9.54393 L1547.37 72.576 L1539.92 72.576 L1539.92 65.7705 Q1537.57 69.8214 1533.96 71.8063 Q1530.4 73.7508 1525.37 73.7508 Q1517.15 73.7508 1511.96 67.1883 Q1506.82 60.6258 1506.82 49.9314 Q1506.82 39.2371 1511.96 32.6746 Q1517.15 26.1121 1525.37 26.1121 Q1530.4 26.1121 1533.96 28.0971 Q1537.57 30.0415 1539.92 34.0924 M1514.52 49.9314 Q1514.52 58.1548 1517.88 62.8538 Q1521.28 67.5124 1527.2 67.5124 Q1533.11 67.5124 1536.51 62.8538 Q1539.92 58.1548 1539.92 49.9314 Q1539.92 41.7081 1536.51 37.0496 Q1533.11 32.3505 1527.2 32.3505 Q1521.28 32.3505 1517.88 37.0496 Q1514.52 41.7081 1514.52 49.9314 Z\" fill=\"#000000\" fill-rule=\"nonzero\" fill-opacity=\"1\" /><path clip-path=\"url(#clip570)\" d=\"M1583.34 49.7694 Q1574.31 49.7694 1570.82 51.8354 Q1567.34 53.9013 1567.34 58.8839 Q1567.34 62.8538 1569.93 65.2034 Q1572.57 67.5124 1577.06 67.5124 Q1583.26 67.5124 1586.99 63.1374 Q1590.75 58.7219 1590.75 51.4303 L1590.75 49.7694 L1583.34 49.7694 M1598.21 46.6907 L1598.21 72.576 L1590.75 72.576 L1590.75 65.6895 Q1588.2 69.8214 1584.39 71.8063 Q1580.59 73.7508 1575.08 73.7508 Q1568.11 73.7508 1563.98 69.8619 Q1559.89 65.9325 1559.89 59.3701 Q1559.89 51.7138 1564.99 47.825 Q1570.13 43.9361 1580.3 43.9361 L1590.75 43.9361 L1590.75 43.2069 Q1590.75 38.0623 1587.35 35.2672 Q1583.99 32.4315 1577.87 32.4315 Q1573.98 32.4315 1570.3 33.3632 Q1566.61 34.295 1563.21 36.1584 L1563.21 29.2718 Q1567.3 27.692 1571.15 26.9223 Q1575 26.1121 1578.64 26.1121 Q1588.49 26.1121 1593.35 31.2163 Q1598.21 36.3204 1598.21 46.6907 Z\" fill=\"#000000\" fill-rule=\"nonzero\" fill-opacity=\"1\" /><path clip-path=\"url(#clip570)\" d=\"M1620.93 14.324 L1620.93 27.2059 L1636.29 27.2059 L1636.29 32.9987 L1620.93 32.9987 L1620.93 57.6282 Q1620.93 63.1779 1622.43 64.7578 Q1623.97 66.3376 1628.63 66.3376 L1636.29 66.3376 L1636.29 72.576 L1628.63 72.576 Q1620 72.576 1616.72 69.3758 Q1613.44 66.1351 1613.44 57.6282 L1613.44 32.9987 L1607.97 32.9987 L1607.97 27.2059 L1613.44 27.2059 L1613.44 14.324 L1620.93 14.324 Z\" fill=\"#000000\" fill-rule=\"nonzero\" fill-opacity=\"1\" /><path clip-path=\"url(#clip570)\" d=\"M1666.71 49.7694 Q1657.67 49.7694 1654.19 51.8354 Q1650.71 53.9013 1650.71 58.8839 Q1650.71 62.8538 1653.3 65.2034 Q1655.93 67.5124 1660.43 67.5124 Q1666.63 67.5124 1670.35 63.1374 Q1674.12 58.7219 1674.12 51.4303 L1674.12 49.7694 L1666.71 49.7694 M1681.58 46.6907 L1681.58 72.576 L1674.12 72.576 L1674.12 65.6895 Q1671.57 69.8214 1667.76 71.8063 Q1663.95 73.7508 1658.44 73.7508 Q1651.48 73.7508 1647.35 69.8619 Q1643.25 65.9325 1643.25 59.3701 Q1643.25 51.7138 1648.36 47.825 Q1653.5 43.9361 1663.67 43.9361 L1674.12 43.9361 L1674.12 43.2069 Q1674.12 38.0623 1670.72 35.2672 Q1667.36 32.4315 1661.24 32.4315 Q1657.35 32.4315 1653.66 33.3632 Q1649.98 34.295 1646.58 36.1584 L1646.58 29.2718 Q1650.67 27.692 1654.52 26.9223 Q1658.36 26.1121 1662.01 26.1121 Q1671.85 26.1121 1676.71 31.2163 Q1681.58 36.3204 1681.58 46.6907 Z\" fill=\"#000000\" fill-rule=\"nonzero\" fill-opacity=\"1\" /><circle clip-path=\"url(#clip572)\" cx=\"1714.04\" cy=\"423.687\" r=\"14.4\" fill=\"#009af9\" fill-rule=\"evenodd\" fill-opacity=\"1\" stroke=\"#000000\" stroke-opacity=\"1\" stroke-width=\"3.2\"/>\n",
       "<circle clip-path=\"url(#clip572)\" cx=\"1485.69\" cy=\"339.132\" r=\"14.4\" fill=\"#009af9\" fill-rule=\"evenodd\" fill-opacity=\"1\" stroke=\"#000000\" stroke-opacity=\"1\" stroke-width=\"3.2\"/>\n",
       "<circle clip-path=\"url(#clip572)\" cx=\"1889.58\" cy=\"463.934\" r=\"14.4\" fill=\"#009af9\" fill-rule=\"evenodd\" fill-opacity=\"1\" stroke=\"#000000\" stroke-opacity=\"1\" stroke-width=\"3.2\"/>\n",
       "<circle clip-path=\"url(#clip572)\" cx=\"1179.59\" cy=\"549.38\" r=\"14.4\" fill=\"#009af9\" fill-rule=\"evenodd\" fill-opacity=\"1\" stroke=\"#000000\" stroke-opacity=\"1\" stroke-width=\"3.2\"/>\n",
       "<circle clip-path=\"url(#clip572)\" cx=\"1841.9\" cy=\"633.183\" r=\"14.4\" fill=\"#009af9\" fill-rule=\"evenodd\" fill-opacity=\"1\" stroke=\"#000000\" stroke-opacity=\"1\" stroke-width=\"3.2\"/>\n",
       "<circle clip-path=\"url(#clip572)\" cx=\"1699.19\" cy=\"311.305\" r=\"14.4\" fill=\"#009af9\" fill-rule=\"evenodd\" fill-opacity=\"1\" stroke=\"#000000\" stroke-opacity=\"1\" stroke-width=\"3.2\"/>\n",
       "<circle clip-path=\"url(#clip572)\" cx=\"1824.91\" cy=\"581.315\" r=\"14.4\" fill=\"#009af9\" fill-rule=\"evenodd\" fill-opacity=\"1\" stroke=\"#000000\" stroke-opacity=\"1\" stroke-width=\"3.2\"/>\n",
       "<circle clip-path=\"url(#clip572)\" cx=\"1701.14\" cy=\"468.601\" r=\"14.4\" fill=\"#009af9\" fill-rule=\"evenodd\" fill-opacity=\"1\" stroke=\"#000000\" stroke-opacity=\"1\" stroke-width=\"3.2\"/>\n",
       "<circle clip-path=\"url(#clip572)\" cx=\"2292.13\" cy=\"674.289\" r=\"14.4\" fill=\"#009af9\" fill-rule=\"evenodd\" fill-opacity=\"1\" stroke=\"#000000\" stroke-opacity=\"1\" stroke-width=\"3.2\"/>\n",
       "<circle clip-path=\"url(#clip572)\" cx=\"1611\" cy=\"391.602\" r=\"14.4\" fill=\"#009af9\" fill-rule=\"evenodd\" fill-opacity=\"1\" stroke=\"#000000\" stroke-opacity=\"1\" stroke-width=\"3.2\"/>\n",
       "<circle clip-path=\"url(#clip572)\" cx=\"2112.95\" cy=\"733.789\" r=\"14.4\" fill=\"#009af9\" fill-rule=\"evenodd\" fill-opacity=\"1\" stroke=\"#000000\" stroke-opacity=\"1\" stroke-width=\"3.2\"/>\n",
       "<circle clip-path=\"url(#clip572)\" cx=\"1685.22\" cy=\"548.932\" r=\"14.4\" fill=\"#009af9\" fill-rule=\"evenodd\" fill-opacity=\"1\" stroke=\"#000000\" stroke-opacity=\"1\" stroke-width=\"3.2\"/>\n",
       "<circle clip-path=\"url(#clip572)\" cx=\"1527.24\" cy=\"721.534\" r=\"14.4\" fill=\"#009af9\" fill-rule=\"evenodd\" fill-opacity=\"1\" stroke=\"#000000\" stroke-opacity=\"1\" stroke-width=\"3.2\"/>\n",
       "<circle clip-path=\"url(#clip572)\" cx=\"1297.66\" cy=\"699.882\" r=\"14.4\" fill=\"#009af9\" fill-rule=\"evenodd\" fill-opacity=\"1\" stroke=\"#000000\" stroke-opacity=\"1\" stroke-width=\"3.2\"/>\n",
       "<circle clip-path=\"url(#clip572)\" cx=\"1547.87\" cy=\"330.683\" r=\"14.4\" fill=\"#009af9\" fill-rule=\"evenodd\" fill-opacity=\"1\" stroke=\"#000000\" stroke-opacity=\"1\" stroke-width=\"3.2\"/>\n",
       "<circle clip-path=\"url(#clip572)\" cx=\"1973.22\" cy=\"654.751\" r=\"14.4\" fill=\"#009af9\" fill-rule=\"evenodd\" fill-opacity=\"1\" stroke=\"#000000\" stroke-opacity=\"1\" stroke-width=\"3.2\"/>\n",
       "<circle clip-path=\"url(#clip572)\" cx=\"1757.76\" cy=\"373.224\" r=\"14.4\" fill=\"#009af9\" fill-rule=\"evenodd\" fill-opacity=\"1\" stroke=\"#000000\" stroke-opacity=\"1\" stroke-width=\"3.2\"/>\n",
       "<circle clip-path=\"url(#clip572)\" cx=\"1670.64\" cy=\"387.522\" r=\"14.4\" fill=\"#009af9\" fill-rule=\"evenodd\" fill-opacity=\"1\" stroke=\"#000000\" stroke-opacity=\"1\" stroke-width=\"3.2\"/>\n",
       "<circle clip-path=\"url(#clip572)\" cx=\"1683.66\" cy=\"736.283\" r=\"14.4\" fill=\"#009af9\" fill-rule=\"evenodd\" fill-opacity=\"1\" stroke=\"#000000\" stroke-opacity=\"1\" stroke-width=\"3.2\"/>\n",
       "<circle clip-path=\"url(#clip572)\" cx=\"1441.48\" cy=\"791.614\" r=\"14.4\" fill=\"#009af9\" fill-rule=\"evenodd\" fill-opacity=\"1\" stroke=\"#000000\" stroke-opacity=\"1\" stroke-width=\"3.2\"/>\n",
       "<circle clip-path=\"url(#clip572)\" cx=\"652.66\" cy=\"1181.71\" r=\"14.4\" fill=\"#009af9\" fill-rule=\"evenodd\" fill-opacity=\"1\" stroke=\"#000000\" stroke-opacity=\"1\" stroke-width=\"3.2\"/>\n",
       "<circle clip-path=\"url(#clip572)\" cx=\"271.369\" cy=\"896.169\" r=\"14.4\" fill=\"#009af9\" fill-rule=\"evenodd\" fill-opacity=\"1\" stroke=\"#000000\" stroke-opacity=\"1\" stroke-width=\"3.2\"/>\n",
       "<circle clip-path=\"url(#clip572)\" cx=\"637.612\" cy=\"1296.74\" r=\"14.4\" fill=\"#009af9\" fill-rule=\"evenodd\" fill-opacity=\"1\" stroke=\"#000000\" stroke-opacity=\"1\" stroke-width=\"3.2\"/>\n",
       "<circle clip-path=\"url(#clip572)\" cx=\"793.72\" cy=\"1013.4\" r=\"14.4\" fill=\"#009af9\" fill-rule=\"evenodd\" fill-opacity=\"1\" stroke=\"#000000\" stroke-opacity=\"1\" stroke-width=\"3.2\"/>\n",
       "<circle clip-path=\"url(#clip572)\" cx=\"792.267\" cy=\"1126.24\" r=\"14.4\" fill=\"#009af9\" fill-rule=\"evenodd\" fill-opacity=\"1\" stroke=\"#000000\" stroke-opacity=\"1\" stroke-width=\"3.2\"/>\n",
       "<circle clip-path=\"url(#clip572)\" cx=\"674.71\" cy=\"1126.45\" r=\"14.4\" fill=\"#009af9\" fill-rule=\"evenodd\" fill-opacity=\"1\" stroke=\"#000000\" stroke-opacity=\"1\" stroke-width=\"3.2\"/>\n",
       "<circle clip-path=\"url(#clip572)\" cx=\"920.533\" cy=\"979.108\" r=\"14.4\" fill=\"#009af9\" fill-rule=\"evenodd\" fill-opacity=\"1\" stroke=\"#000000\" stroke-opacity=\"1\" stroke-width=\"3.2\"/>\n",
       "<circle clip-path=\"url(#clip572)\" cx=\"774.257\" cy=\"1072.72\" r=\"14.4\" fill=\"#009af9\" fill-rule=\"evenodd\" fill-opacity=\"1\" stroke=\"#000000\" stroke-opacity=\"1\" stroke-width=\"3.2\"/>\n",
       "<circle clip-path=\"url(#clip572)\" cx=\"1137.83\" cy=\"1123.62\" r=\"14.4\" fill=\"#009af9\" fill-rule=\"evenodd\" fill-opacity=\"1\" stroke=\"#000000\" stroke-opacity=\"1\" stroke-width=\"3.2\"/>\n",
       "<circle clip-path=\"url(#clip572)\" cx=\"486.357\" cy=\"1239.12\" r=\"14.4\" fill=\"#009af9\" fill-rule=\"evenodd\" fill-opacity=\"1\" stroke=\"#000000\" stroke-opacity=\"1\" stroke-width=\"3.2\"/>\n",
       "<circle clip-path=\"url(#clip572)\" cx=\"373.673\" cy=\"1093.15\" r=\"14.4\" fill=\"#009af9\" fill-rule=\"evenodd\" fill-opacity=\"1\" stroke=\"#000000\" stroke-opacity=\"1\" stroke-width=\"3.2\"/>\n",
       "<circle clip-path=\"url(#clip572)\" cx=\"729.395\" cy=\"1251.7\" r=\"14.4\" fill=\"#009af9\" fill-rule=\"evenodd\" fill-opacity=\"1\" stroke=\"#000000\" stroke-opacity=\"1\" stroke-width=\"3.2\"/>\n",
       "<circle clip-path=\"url(#clip572)\" cx=\"675.28\" cy=\"1233.48\" r=\"14.4\" fill=\"#009af9\" fill-rule=\"evenodd\" fill-opacity=\"1\" stroke=\"#000000\" stroke-opacity=\"1\" stroke-width=\"3.2\"/>\n",
       "<circle clip-path=\"url(#clip572)\" cx=\"316.481\" cy=\"1124.1\" r=\"14.4\" fill=\"#009af9\" fill-rule=\"evenodd\" fill-opacity=\"1\" stroke=\"#000000\" stroke-opacity=\"1\" stroke-width=\"3.2\"/>\n",
       "<circle clip-path=\"url(#clip572)\" cx=\"388.627\" cy=\"833.495\" r=\"14.4\" fill=\"#009af9\" fill-rule=\"evenodd\" fill-opacity=\"1\" stroke=\"#000000\" stroke-opacity=\"1\" stroke-width=\"3.2\"/>\n",
       "<circle clip-path=\"url(#clip572)\" cx=\"1060.85\" cy=\"1060.85\" r=\"14.4\" fill=\"#009af9\" fill-rule=\"evenodd\" fill-opacity=\"1\" stroke=\"#000000\" stroke-opacity=\"1\" stroke-width=\"3.2\"/>\n",
       "<circle clip-path=\"url(#clip572)\" cx=\"670.146\" cy=\"1386.4\" r=\"14.4\" fill=\"#009af9\" fill-rule=\"evenodd\" fill-opacity=\"1\" stroke=\"#000000\" stroke-opacity=\"1\" stroke-width=\"3.2\"/>\n",
       "<circle clip-path=\"url(#clip572)\" cx=\"394.882\" cy=\"1148.43\" r=\"14.4\" fill=\"#009af9\" fill-rule=\"evenodd\" fill-opacity=\"1\" stroke=\"#000000\" stroke-opacity=\"1\" stroke-width=\"3.2\"/>\n",
       "<circle clip-path=\"url(#clip572)\" cx=\"443.792\" cy=\"1235.37\" r=\"14.4\" fill=\"#009af9\" fill-rule=\"evenodd\" fill-opacity=\"1\" stroke=\"#000000\" stroke-opacity=\"1\" stroke-width=\"3.2\"/>\n",
       "<circle clip-path=\"url(#clip572)\" cx=\"338.735\" cy=\"1110.08\" r=\"14.4\" fill=\"#009af9\" fill-rule=\"evenodd\" fill-opacity=\"1\" stroke=\"#000000\" stroke-opacity=\"1\" stroke-width=\"3.2\"/>\n",
       "<circle clip-path=\"url(#clip572)\" cx=\"1223.27\" cy=\"266.248\" r=\"14.4\" fill=\"#009af9\" fill-rule=\"evenodd\" fill-opacity=\"1\" stroke=\"#000000\" stroke-opacity=\"1\" stroke-width=\"3.2\"/>\n",
       "<circle clip-path=\"url(#clip572)\" cx=\"991.429\" cy=\"160.256\" r=\"14.4\" fill=\"#009af9\" fill-rule=\"evenodd\" fill-opacity=\"1\" stroke=\"#000000\" stroke-opacity=\"1\" stroke-width=\"3.2\"/>\n",
       "<circle clip-path=\"url(#clip572)\" cx=\"1123.68\" cy=\"279.828\" r=\"14.4\" fill=\"#009af9\" fill-rule=\"evenodd\" fill-opacity=\"1\" stroke=\"#000000\" stroke-opacity=\"1\" stroke-width=\"3.2\"/>\n",
       "<circle clip-path=\"url(#clip572)\" cx=\"955.379\" cy=\"381.795\" r=\"14.4\" fill=\"#009af9\" fill-rule=\"evenodd\" fill-opacity=\"1\" stroke=\"#000000\" stroke-opacity=\"1\" stroke-width=\"3.2\"/>\n",
       "<circle clip-path=\"url(#clip572)\" cx=\"1200.82\" cy=\"280.613\" r=\"14.4\" fill=\"#009af9\" fill-rule=\"evenodd\" fill-opacity=\"1\" stroke=\"#000000\" stroke-opacity=\"1\" stroke-width=\"3.2\"/>\n",
       "<circle clip-path=\"url(#clip572)\" cx=\"1182.16\" cy=\"363.306\" r=\"14.4\" fill=\"#009af9\" fill-rule=\"evenodd\" fill-opacity=\"1\" stroke=\"#000000\" stroke-opacity=\"1\" stroke-width=\"3.2\"/>\n",
       "<circle clip-path=\"url(#clip572)\" cx=\"999.84\" cy=\"425.943\" r=\"14.4\" fill=\"#009af9\" fill-rule=\"evenodd\" fill-opacity=\"1\" stroke=\"#000000\" stroke-opacity=\"1\" stroke-width=\"3.2\"/>\n",
       "<circle clip-path=\"url(#clip572)\" cx=\"836.092\" cy=\"161.745\" r=\"14.4\" fill=\"#009af9\" fill-rule=\"evenodd\" fill-opacity=\"1\" stroke=\"#000000\" stroke-opacity=\"1\" stroke-width=\"3.2\"/>\n",
       "<circle clip-path=\"url(#clip572)\" cx=\"1112.4\" cy=\"377.153\" r=\"14.4\" fill=\"#009af9\" fill-rule=\"evenodd\" fill-opacity=\"1\" stroke=\"#000000\" stroke-opacity=\"1\" stroke-width=\"3.2\"/>\n",
       "<circle clip-path=\"url(#clip572)\" cx=\"930.619\" cy=\"258.181\" r=\"14.4\" fill=\"#009af9\" fill-rule=\"evenodd\" fill-opacity=\"1\" stroke=\"#000000\" stroke-opacity=\"1\" stroke-width=\"3.2\"/>\n",
       "<circle clip-path=\"url(#clip572)\" cx=\"893.802\" cy=\"349.671\" r=\"14.4\" fill=\"#009af9\" fill-rule=\"evenodd\" fill-opacity=\"1\" stroke=\"#000000\" stroke-opacity=\"1\" stroke-width=\"3.2\"/>\n",
       "<circle clip-path=\"url(#clip572)\" cx=\"1003.67\" cy=\"191.571\" r=\"14.4\" fill=\"#009af9\" fill-rule=\"evenodd\" fill-opacity=\"1\" stroke=\"#000000\" stroke-opacity=\"1\" stroke-width=\"3.2\"/>\n",
       "<circle clip-path=\"url(#clip572)\" cx=\"937.93\" cy=\"361.874\" r=\"14.4\" fill=\"#009af9\" fill-rule=\"evenodd\" fill-opacity=\"1\" stroke=\"#000000\" stroke-opacity=\"1\" stroke-width=\"3.2\"/>\n",
       "<circle clip-path=\"url(#clip572)\" cx=\"1159.94\" cy=\"403.862\" r=\"14.4\" fill=\"#009af9\" fill-rule=\"evenodd\" fill-opacity=\"1\" stroke=\"#000000\" stroke-opacity=\"1\" stroke-width=\"3.2\"/>\n",
       "<circle clip-path=\"url(#clip572)\" cx=\"1073.19\" cy=\"431.108\" r=\"14.4\" fill=\"#009af9\" fill-rule=\"evenodd\" fill-opacity=\"1\" stroke=\"#000000\" stroke-opacity=\"1\" stroke-width=\"3.2\"/>\n",
       "<circle clip-path=\"url(#clip572)\" cx=\"1204.62\" cy=\"221.865\" r=\"14.4\" fill=\"#009af9\" fill-rule=\"evenodd\" fill-opacity=\"1\" stroke=\"#000000\" stroke-opacity=\"1\" stroke-width=\"3.2\"/>\n",
       "<circle clip-path=\"url(#clip572)\" cx=\"1102.54\" cy=\"418.968\" r=\"14.4\" fill=\"#009af9\" fill-rule=\"evenodd\" fill-opacity=\"1\" stroke=\"#000000\" stroke-opacity=\"1\" stroke-width=\"3.2\"/>\n",
       "<circle clip-path=\"url(#clip572)\" cx=\"882.925\" cy=\"197.234\" r=\"14.4\" fill=\"#009af9\" fill-rule=\"evenodd\" fill-opacity=\"1\" stroke=\"#000000\" stroke-opacity=\"1\" stroke-width=\"3.2\"/>\n",
       "<circle clip-path=\"url(#clip572)\" cx=\"983.369\" cy=\"229.073\" r=\"14.4\" fill=\"#009af9\" fill-rule=\"evenodd\" fill-opacity=\"1\" stroke=\"#000000\" stroke-opacity=\"1\" stroke-width=\"3.2\"/>\n",
       "<circle clip-path=\"url(#clip572)\" cx=\"1223.23\" cy=\"426.316\" r=\"14.4\" fill=\"#009af9\" fill-rule=\"evenodd\" fill-opacity=\"1\" stroke=\"#000000\" stroke-opacity=\"1\" stroke-width=\"3.2\"/>\n",
       "</svg>\n"
      ],
      "text/html": [
       "<?xml version=\"1.0\" encoding=\"utf-8\"?>\n",
       "<svg xmlns=\"http://www.w3.org/2000/svg\" xmlns:xlink=\"http://www.w3.org/1999/xlink\" width=\"600\" height=\"400\" viewBox=\"0 0 2400 1600\">\n",
       "<defs>\n",
       "  <clipPath id=\"clip620\">\n",
       "    <rect x=\"0\" y=\"0\" width=\"2400\" height=\"1600\"/>\n",
       "  </clipPath>\n",
       "</defs>\n",
       "<path clip-path=\"url(#clip620)\" d=\"M0 1600 L2400 1600 L2400 0 L0 0  Z\" fill=\"#ffffff\" fill-rule=\"evenodd\" fill-opacity=\"1\"/>\n",
       "<defs>\n",
       "  <clipPath id=\"clip621\">\n",
       "    <rect x=\"480\" y=\"0\" width=\"1681\" height=\"1600\"/>\n",
       "  </clipPath>\n",
       "</defs>\n",
       "<path clip-path=\"url(#clip620)\" d=\"M210.746 1423.18 L2352.76 1423.18 L2352.76 123.472 L210.746 123.472  Z\" fill=\"#ffffff\" fill-rule=\"evenodd\" fill-opacity=\"1\"/>\n",
       "<defs>\n",
       "  <clipPath id=\"clip622\">\n",
       "    <rect x=\"210\" y=\"123\" width=\"2143\" height=\"1301\"/>\n",
       "  </clipPath>\n",
       "</defs>\n",
       "<polyline clip-path=\"url(#clip622)\" style=\"stroke:#000000; stroke-linecap:round; stroke-linejoin:round; stroke-width:2; stroke-opacity:0.1; fill:none\" points=\"259.09,1423.18 259.09,123.472 \"/>\n",
       "<polyline clip-path=\"url(#clip622)\" style=\"stroke:#000000; stroke-linecap:round; stroke-linejoin:round; stroke-width:2; stroke-opacity:0.1; fill:none\" points=\"691.793,1423.18 691.793,123.472 \"/>\n",
       "<polyline clip-path=\"url(#clip622)\" style=\"stroke:#000000; stroke-linecap:round; stroke-linejoin:round; stroke-width:2; stroke-opacity:0.1; fill:none\" points=\"1124.5,1423.18 1124.5,123.472 \"/>\n",
       "<polyline clip-path=\"url(#clip622)\" style=\"stroke:#000000; stroke-linecap:round; stroke-linejoin:round; stroke-width:2; stroke-opacity:0.1; fill:none\" points=\"1557.2,1423.18 1557.2,123.472 \"/>\n",
       "<polyline clip-path=\"url(#clip622)\" style=\"stroke:#000000; stroke-linecap:round; stroke-linejoin:round; stroke-width:2; stroke-opacity:0.1; fill:none\" points=\"1989.9,1423.18 1989.9,123.472 \"/>\n",
       "<polyline clip-path=\"url(#clip620)\" style=\"stroke:#000000; stroke-linecap:round; stroke-linejoin:round; stroke-width:4; stroke-opacity:1; fill:none\" points=\"210.746,1423.18 2352.76,1423.18 \"/>\n",
       "<polyline clip-path=\"url(#clip620)\" style=\"stroke:#000000; stroke-linecap:round; stroke-linejoin:round; stroke-width:4; stroke-opacity:1; fill:none\" points=\"259.09,1423.18 259.09,1404.28 \"/>\n",
       "<polyline clip-path=\"url(#clip620)\" style=\"stroke:#000000; stroke-linecap:round; stroke-linejoin:round; stroke-width:4; stroke-opacity:1; fill:none\" points=\"691.793,1423.18 691.793,1404.28 \"/>\n",
       "<polyline clip-path=\"url(#clip620)\" style=\"stroke:#000000; stroke-linecap:round; stroke-linejoin:round; stroke-width:4; stroke-opacity:1; fill:none\" points=\"1124.5,1423.18 1124.5,1404.28 \"/>\n",
       "<polyline clip-path=\"url(#clip620)\" style=\"stroke:#000000; stroke-linecap:round; stroke-linejoin:round; stroke-width:4; stroke-opacity:1; fill:none\" points=\"1557.2,1423.18 1557.2,1404.28 \"/>\n",
       "<polyline clip-path=\"url(#clip620)\" style=\"stroke:#000000; stroke-linecap:round; stroke-linejoin:round; stroke-width:4; stroke-opacity:1; fill:none\" points=\"1989.9,1423.18 1989.9,1404.28 \"/>\n",
       "<path clip-path=\"url(#clip620)\" d=\"M229.032 1468.75 L258.708 1468.75 L258.708 1472.69 L229.032 1472.69 L229.032 1468.75 Z\" fill=\"#000000\" fill-rule=\"nonzero\" fill-opacity=\"1\" /><path clip-path=\"url(#clip620)\" d=\"M272.828 1481.64 L289.147 1481.64 L289.147 1485.58 L267.203 1485.58 L267.203 1481.64 Q269.865 1478.89 274.448 1474.26 Q279.055 1469.61 280.235 1468.27 Q282.481 1465.74 283.36 1464.01 Q284.263 1462.25 284.263 1460.56 Q284.263 1457.8 282.319 1456.07 Q280.397 1454.33 277.296 1454.33 Q275.097 1454.33 272.643 1455.09 Q270.212 1455.86 267.435 1457.41 L267.435 1452.69 Q270.259 1451.55 272.712 1450.97 Q275.166 1450.39 277.203 1450.39 Q282.573 1450.39 285.768 1453.08 Q288.962 1455.77 288.962 1460.26 Q288.962 1462.39 288.152 1464.31 Q287.365 1466.2 285.259 1468.8 Q284.68 1469.47 281.578 1472.69 Q278.476 1475.88 272.828 1481.64 Z\" fill=\"#000000\" fill-rule=\"nonzero\" fill-opacity=\"1\" /><path clip-path=\"url(#clip620)\" d=\"M661.55 1468.75 L691.226 1468.75 L691.226 1472.69 L661.55 1472.69 L661.55 1468.75 Z\" fill=\"#000000\" fill-rule=\"nonzero\" fill-opacity=\"1\" /><path clip-path=\"url(#clip620)\" d=\"M702.129 1481.64 L709.768 1481.64 L709.768 1455.28 L701.457 1456.95 L701.457 1452.69 L709.721 1451.02 L714.397 1451.02 L714.397 1481.64 L722.036 1481.64 L722.036 1485.58 L702.129 1485.58 L702.129 1481.64 Z\" fill=\"#000000\" fill-rule=\"nonzero\" fill-opacity=\"1\" /><path clip-path=\"url(#clip620)\" d=\"M1124.5 1454.1 Q1120.89 1454.1 1119.06 1457.66 Q1117.25 1461.2 1117.25 1468.33 Q1117.25 1475.44 1119.06 1479.01 Q1120.89 1482.55 1124.5 1482.55 Q1128.13 1482.55 1129.94 1479.01 Q1131.77 1475.44 1131.77 1468.33 Q1131.77 1461.2 1129.94 1457.66 Q1128.13 1454.1 1124.5 1454.1 M1124.5 1450.39 Q1130.31 1450.39 1133.36 1455 Q1136.44 1459.58 1136.44 1468.33 Q1136.44 1477.06 1133.36 1481.67 Q1130.31 1486.25 1124.5 1486.25 Q1118.69 1486.25 1115.61 1481.67 Q1112.55 1477.06 1112.55 1468.33 Q1112.55 1459.58 1115.61 1455 Q1118.69 1450.39 1124.5 1450.39 Z\" fill=\"#000000\" fill-rule=\"nonzero\" fill-opacity=\"1\" /><path clip-path=\"url(#clip620)\" d=\"M1547.58 1481.64 L1555.22 1481.64 L1555.22 1455.28 L1546.91 1456.95 L1546.91 1452.69 L1555.17 1451.02 L1559.85 1451.02 L1559.85 1481.64 L1567.49 1481.64 L1567.49 1485.58 L1547.58 1485.58 L1547.58 1481.64 Z\" fill=\"#000000\" fill-rule=\"nonzero\" fill-opacity=\"1\" /><path clip-path=\"url(#clip620)\" d=\"M1984.56 1481.64 L2000.88 1481.64 L2000.88 1485.58 L1978.93 1485.58 L1978.93 1481.64 Q1981.59 1478.89 1986.18 1474.26 Q1990.78 1469.61 1991.96 1468.27 Q1994.21 1465.74 1995.09 1464.01 Q1995.99 1462.25 1995.99 1460.56 Q1995.99 1457.8 1994.05 1456.07 Q1992.13 1454.33 1989.02 1454.33 Q1986.83 1454.33 1984.37 1455.09 Q1981.94 1455.86 1979.16 1457.41 L1979.16 1452.69 Q1981.99 1451.55 1984.44 1450.97 Q1986.89 1450.39 1988.93 1450.39 Q1994.3 1450.39 1997.5 1453.08 Q2000.69 1455.77 2000.69 1460.26 Q2000.69 1462.39 1999.88 1464.31 Q1999.09 1466.2 1996.99 1468.8 Q1996.41 1469.47 1993.31 1472.69 Q1990.2 1475.88 1984.56 1481.64 Z\" fill=\"#000000\" fill-rule=\"nonzero\" fill-opacity=\"1\" /><path clip-path=\"url(#clip620)\" d=\"M1298.37 1532.4 L1285.47 1549.74 L1299.03 1568.04 L1292.13 1568.04 L1281.75 1554.04 L1271.37 1568.04 L1264.47 1568.04 L1278.31 1549.39 L1265.65 1532.4 L1272.55 1532.4 L1282.01 1545.1 L1291.46 1532.4 L1298.37 1532.4 Z\" fill=\"#000000\" fill-rule=\"nonzero\" fill-opacity=\"1\" /><polyline clip-path=\"url(#clip622)\" style=\"stroke:#000000; stroke-linecap:round; stroke-linejoin:round; stroke-width:2; stroke-opacity:0.1; fill:none\" points=\"210.746,1400.92 2352.76,1400.92 \"/>\n",
       "<polyline clip-path=\"url(#clip622)\" style=\"stroke:#000000; stroke-linecap:round; stroke-linejoin:round; stroke-width:2; stroke-opacity:0.1; fill:none\" points=\"210.746,1120.74 2352.76,1120.74 \"/>\n",
       "<polyline clip-path=\"url(#clip622)\" style=\"stroke:#000000; stroke-linecap:round; stroke-linejoin:round; stroke-width:2; stroke-opacity:0.1; fill:none\" points=\"210.746,840.553 2352.76,840.553 \"/>\n",
       "<polyline clip-path=\"url(#clip622)\" style=\"stroke:#000000; stroke-linecap:round; stroke-linejoin:round; stroke-width:2; stroke-opacity:0.1; fill:none\" points=\"210.746,560.371 2352.76,560.371 \"/>\n",
       "<polyline clip-path=\"url(#clip622)\" style=\"stroke:#000000; stroke-linecap:round; stroke-linejoin:round; stroke-width:2; stroke-opacity:0.1; fill:none\" points=\"210.746,280.188 2352.76,280.188 \"/>\n",
       "<polyline clip-path=\"url(#clip620)\" style=\"stroke:#000000; stroke-linecap:round; stroke-linejoin:round; stroke-width:4; stroke-opacity:1; fill:none\" points=\"210.746,1423.18 210.746,123.472 \"/>\n",
       "<polyline clip-path=\"url(#clip620)\" style=\"stroke:#000000; stroke-linecap:round; stroke-linejoin:round; stroke-width:4; stroke-opacity:1; fill:none\" points=\"210.746,1400.92 229.644,1400.92 \"/>\n",
       "<polyline clip-path=\"url(#clip620)\" style=\"stroke:#000000; stroke-linecap:round; stroke-linejoin:round; stroke-width:4; stroke-opacity:1; fill:none\" points=\"210.746,1120.74 229.644,1120.74 \"/>\n",
       "<polyline clip-path=\"url(#clip620)\" style=\"stroke:#000000; stroke-linecap:round; stroke-linejoin:round; stroke-width:4; stroke-opacity:1; fill:none\" points=\"210.746,840.553 229.644,840.553 \"/>\n",
       "<polyline clip-path=\"url(#clip620)\" style=\"stroke:#000000; stroke-linecap:round; stroke-linejoin:round; stroke-width:4; stroke-opacity:1; fill:none\" points=\"210.746,560.371 229.644,560.371 \"/>\n",
       "<polyline clip-path=\"url(#clip620)\" style=\"stroke:#000000; stroke-linecap:round; stroke-linejoin:round; stroke-width:4; stroke-opacity:1; fill:none\" points=\"210.746,280.188 229.644,280.188 \"/>\n",
       "<path clip-path=\"url(#clip620)\" d=\"M114.631 1401.37 L144.306 1401.37 L144.306 1405.3 L114.631 1405.3 L114.631 1401.37 Z\" fill=\"#000000\" fill-rule=\"nonzero\" fill-opacity=\"1\" /><path clip-path=\"url(#clip620)\" d=\"M158.427 1414.26 L174.746 1414.26 L174.746 1418.2 L152.802 1418.2 L152.802 1414.26 Q155.464 1411.51 160.047 1406.88 Q164.653 1402.23 165.834 1400.88 Q168.079 1398.36 168.959 1396.62 Q169.862 1394.87 169.862 1393.18 Q169.862 1390.42 167.917 1388.68 Q165.996 1386.95 162.894 1386.95 Q160.695 1386.95 158.241 1387.71 Q155.811 1388.48 153.033 1390.03 L153.033 1385.3 Q155.857 1384.17 158.311 1383.59 Q160.765 1383.01 162.802 1383.01 Q168.172 1383.01 171.366 1385.7 Q174.561 1388.38 174.561 1392.87 Q174.561 1395 173.751 1396.93 Q172.964 1398.82 170.857 1401.42 Q170.278 1402.09 167.177 1405.3 Q164.075 1408.5 158.427 1414.26 Z\" fill=\"#000000\" fill-rule=\"nonzero\" fill-opacity=\"1\" /><path clip-path=\"url(#clip620)\" d=\"M114.26 1121.19 L143.936 1121.19 L143.936 1125.12 L114.26 1125.12 L114.26 1121.19 Z\" fill=\"#000000\" fill-rule=\"nonzero\" fill-opacity=\"1\" /><path clip-path=\"url(#clip620)\" d=\"M154.839 1134.08 L162.477 1134.08 L162.477 1107.71 L154.167 1109.38 L154.167 1105.12 L162.431 1103.46 L167.107 1103.46 L167.107 1134.08 L174.746 1134.08 L174.746 1138.02 L154.839 1138.02 L154.839 1134.08 Z\" fill=\"#000000\" fill-rule=\"nonzero\" fill-opacity=\"1\" /><path clip-path=\"url(#clip620)\" d=\"M162.802 826.352 Q159.19 826.352 157.362 829.917 Q155.556 833.458 155.556 840.588 Q155.556 847.694 157.362 851.259 Q159.19 854.801 162.802 854.801 Q166.436 854.801 168.241 851.259 Q170.07 847.694 170.07 840.588 Q170.07 833.458 168.241 829.917 Q166.436 826.352 162.802 826.352 M162.802 822.648 Q168.612 822.648 171.667 827.255 Q174.746 831.838 174.746 840.588 Q174.746 849.315 171.667 853.921 Q168.612 858.504 162.802 858.504 Q156.991 858.504 153.913 853.921 Q150.857 849.315 150.857 840.588 Q150.857 831.838 153.913 827.255 Q156.991 822.648 162.802 822.648 Z\" fill=\"#000000\" fill-rule=\"nonzero\" fill-opacity=\"1\" /><path clip-path=\"url(#clip620)\" d=\"M154.839 573.716 L162.477 573.716 L162.477 547.35 L154.167 549.017 L154.167 544.757 L162.431 543.091 L167.107 543.091 L167.107 573.716 L174.746 573.716 L174.746 577.651 L154.839 577.651 L154.839 573.716 Z\" fill=\"#000000\" fill-rule=\"nonzero\" fill-opacity=\"1\" /><path clip-path=\"url(#clip620)\" d=\"M158.427 293.533 L174.746 293.533 L174.746 297.468 L152.802 297.468 L152.802 293.533 Q155.464 290.778 160.047 286.149 Q164.653 281.496 165.834 280.153 Q168.079 277.63 168.959 275.894 Q169.862 274.135 169.862 272.445 Q169.862 269.691 167.917 267.954 Q165.996 266.218 162.894 266.218 Q160.695 266.218 158.241 266.982 Q155.811 267.746 153.033 269.297 L153.033 264.575 Q155.857 263.441 158.311 262.862 Q160.765 262.283 162.802 262.283 Q168.172 262.283 171.366 264.968 Q174.561 267.654 174.561 272.144 Q174.561 274.274 173.751 276.195 Q172.964 278.093 170.857 280.686 Q170.278 281.357 167.177 284.575 Q164.075 287.769 158.427 293.533 Z\" fill=\"#000000\" fill-rule=\"nonzero\" fill-opacity=\"1\" /><path clip-path=\"url(#clip620)\" d=\"M67.3143 771.639 Q73.68 774.122 75.6216 776.477 Q77.5631 778.832 77.5631 782.779 L77.5631 787.458 L72.6615 787.458 L72.6615 784.02 Q72.6615 781.601 71.5157 780.265 Q70.3699 778.928 66.1048 777.305 L63.4312 776.254 L28.3562 790.673 L28.3562 784.466 L56.238 773.326 L28.3562 762.186 L28.3562 755.979 L67.3143 771.639 Z\" fill=\"#000000\" fill-rule=\"nonzero\" fill-opacity=\"1\" /><path clip-path=\"url(#clip620)\" d=\"M881.927 12.096 L890.15 12.096 L890.15 48.8377 Q890.15 58.5599 893.674 62.8538 Q897.199 67.1073 905.098 67.1073 Q912.957 67.1073 916.481 62.8538 Q920.005 58.5599 920.005 48.8377 L920.005 12.096 L928.229 12.096 L928.229 49.8504 Q928.229 61.6791 922.355 67.7149 Q916.521 73.7508 905.098 73.7508 Q893.634 73.7508 887.76 67.7149 Q881.927 61.6791 881.927 49.8504 L881.927 12.096 Z\" fill=\"#000000\" fill-rule=\"nonzero\" fill-opacity=\"1\" /><path clip-path=\"url(#clip620)\" d=\"M980.971 45.1919 L980.971 72.576 L973.518 72.576 L973.518 45.4349 Q973.518 38.994 971.006 35.7938 Q968.495 32.5936 963.471 32.5936 Q957.436 32.5936 953.952 36.4419 Q950.468 40.2903 950.468 46.9338 L950.468 72.576 L942.974 72.576 L942.974 27.2059 L950.468 27.2059 L950.468 34.2544 Q953.142 30.163 956.747 28.1376 Q960.393 26.1121 965.132 26.1121 Q972.95 26.1121 976.961 30.9732 Q980.971 35.7938 980.971 45.1919 Z\" fill=\"#000000\" fill-rule=\"nonzero\" fill-opacity=\"1\" /><path clip-path=\"url(#clip620)\" d=\"M1028.49 28.9478 L1028.49 35.9153 Q1025.33 34.1734 1022.13 33.3227 Q1018.97 32.4315 1015.73 32.4315 Q1008.48 32.4315 1004.47 37.0496 Q1000.46 41.6271 1000.46 49.9314 Q1000.46 58.2358 1004.47 62.8538 Q1008.48 67.4314 1015.73 67.4314 Q1018.97 67.4314 1022.13 66.5807 Q1025.33 65.6895 1028.49 63.9476 L1028.49 70.8341 Q1025.37 72.2924 1022.01 73.0216 Q1018.69 73.7508 1014.92 73.7508 Q1004.67 73.7508 998.633 67.3098 Q992.597 60.8689 992.597 49.9314 Q992.597 38.832 998.674 32.472 Q1004.79 26.1121 1015.4 26.1121 Q1018.85 26.1121 1022.13 26.8413 Q1025.41 27.5299 1028.49 28.9478 Z\" fill=\"#000000\" fill-rule=\"nonzero\" fill-opacity=\"1\" /><path clip-path=\"url(#clip620)\" d=\"M1062.07 49.7694 Q1053.04 49.7694 1049.55 51.8354 Q1046.07 53.9013 1046.07 58.8839 Q1046.07 62.8538 1048.66 65.2034 Q1051.29 67.5124 1055.79 67.5124 Q1061.99 67.5124 1065.72 63.1374 Q1069.48 58.7219 1069.48 51.4303 L1069.48 49.7694 L1062.07 49.7694 M1076.94 46.6907 L1076.94 72.576 L1069.48 72.576 L1069.48 65.6895 Q1066.93 69.8214 1063.12 71.8063 Q1059.32 73.7508 1053.81 73.7508 Q1046.84 73.7508 1042.71 69.8619 Q1038.62 65.9325 1038.62 59.3701 Q1038.62 51.7138 1043.72 47.825 Q1048.86 43.9361 1059.03 43.9361 L1069.48 43.9361 L1069.48 43.2069 Q1069.48 38.0623 1066.08 35.2672 Q1062.72 32.4315 1056.6 32.4315 Q1052.71 32.4315 1049.03 33.3632 Q1045.34 34.295 1041.94 36.1584 L1041.94 29.2718 Q1046.03 27.692 1049.88 26.9223 Q1053.73 26.1121 1057.37 26.1121 Q1067.22 26.1121 1072.08 31.2163 Q1076.94 36.3204 1076.94 46.6907 Z\" fill=\"#000000\" fill-rule=\"nonzero\" fill-opacity=\"1\" /><path clip-path=\"url(#clip620)\" d=\"M1099.66 14.324 L1099.66 27.2059 L1115.02 27.2059 L1115.02 32.9987 L1099.66 32.9987 L1099.66 57.6282 Q1099.66 63.1779 1101.16 64.7578 Q1102.7 66.3376 1107.36 66.3376 L1115.02 66.3376 L1115.02 72.576 L1107.36 72.576 Q1098.73 72.576 1095.45 69.3758 Q1092.17 66.1351 1092.17 57.6282 L1092.17 32.9987 L1086.7 32.9987 L1086.7 27.2059 L1092.17 27.2059 L1092.17 14.324 L1099.66 14.324 Z\" fill=\"#000000\" fill-rule=\"nonzero\" fill-opacity=\"1\" /><path clip-path=\"url(#clip620)\" d=\"M1163.63 48.0275 L1163.63 51.6733 L1129.36 51.6733 Q1129.84 59.3701 1133.97 63.421 Q1138.15 67.4314 1145.56 67.4314 Q1149.85 67.4314 1153.86 66.3781 Q1157.91 65.3249 1161.88 63.2184 L1161.88 70.267 Q1157.87 71.9684 1153.66 72.8596 Q1149.45 73.7508 1145.11 73.7508 Q1134.26 73.7508 1127.9 67.4314 Q1121.58 61.1119 1121.58 50.3365 Q1121.58 39.1965 1127.57 32.6746 Q1133.61 26.1121 1143.82 26.1121 Q1152.97 26.1121 1158.28 32.0264 Q1163.63 37.9003 1163.63 48.0275 M1156.17 45.84 Q1156.09 39.7232 1152.73 36.0774 Q1149.41 32.4315 1143.9 32.4315 Q1137.66 32.4315 1133.89 35.9558 Q1130.17 39.4801 1129.6 45.8805 L1156.17 45.84 Z\" fill=\"#000000\" fill-rule=\"nonzero\" fill-opacity=\"1\" /><path clip-path=\"url(#clip620)\" d=\"M1205.72 49.3643 Q1205.72 41.2625 1202.35 36.8065 Q1199.03 32.3505 1193 32.3505 Q1187 32.3505 1183.64 36.8065 Q1180.32 41.2625 1180.32 49.3643 Q1180.32 57.4256 1183.64 61.8816 Q1187 66.3376 1193 66.3376 Q1199.03 66.3376 1202.35 61.8816 Q1205.72 57.4256 1205.72 49.3643 M1213.17 66.9452 Q1213.17 78.5308 1208.02 84.1616 Q1202.88 89.8329 1192.27 89.8329 Q1188.34 89.8329 1184.85 89.2252 Q1181.37 88.6581 1178.09 87.4428 L1178.09 80.1917 Q1181.37 81.9741 1184.57 82.8248 Q1187.77 83.6755 1191.09 83.6755 Q1198.42 83.6755 1202.07 79.8271 Q1205.72 76.0193 1205.72 68.282 L1205.72 64.5957 Q1203.41 68.6061 1199.8 70.5911 Q1196.2 72.576 1191.17 72.576 Q1182.83 72.576 1177.72 66.2161 Q1172.62 59.8562 1172.62 49.3643 Q1172.62 38.832 1177.72 32.472 Q1182.83 26.1121 1191.17 26.1121 Q1196.2 26.1121 1199.8 28.0971 Q1203.41 30.082 1205.72 34.0924 L1205.72 27.2059 L1213.17 27.2059 L1213.17 66.9452 Z\" fill=\"#000000\" fill-rule=\"nonzero\" fill-opacity=\"1\" /><path clip-path=\"url(#clip620)\" d=\"M1246.1 32.4315 Q1240.11 32.4315 1236.62 37.1306 Q1233.14 41.7891 1233.14 49.9314 Q1233.14 58.0738 1236.58 62.7728 Q1240.07 67.4314 1246.1 67.4314 Q1252.06 67.4314 1255.54 62.7323 Q1259.03 58.0333 1259.03 49.9314 Q1259.03 41.8701 1255.54 37.1711 Q1252.06 32.4315 1246.1 32.4315 M1246.1 26.1121 Q1255.83 26.1121 1261.37 32.4315 Q1266.92 38.7509 1266.92 49.9314 Q1266.92 61.0714 1261.37 67.4314 Q1255.83 73.7508 1246.1 73.7508 Q1236.34 73.7508 1230.79 67.4314 Q1225.28 61.0714 1225.28 49.9314 Q1225.28 38.7509 1230.79 32.4315 Q1236.34 26.1121 1246.1 26.1121 Z\" fill=\"#000000\" fill-rule=\"nonzero\" fill-opacity=\"1\" /><path clip-path=\"url(#clip620)\" d=\"M1305.57 34.1734 Q1304.31 33.4443 1302.82 33.1202 Q1301.36 32.7556 1299.57 32.7556 Q1293.26 32.7556 1289.85 36.8875 Q1286.49 40.9789 1286.49 48.6757 L1286.49 72.576 L1279 72.576 L1279 27.2059 L1286.49 27.2059 L1286.49 34.2544 Q1288.84 30.1225 1292.61 28.1376 Q1296.37 26.1121 1301.76 26.1121 Q1302.53 26.1121 1303.46 26.2337 Q1304.4 26.3147 1305.53 26.5172 L1305.57 34.1734 Z\" fill=\"#000000\" fill-rule=\"nonzero\" fill-opacity=\"1\" /><path clip-path=\"url(#clip620)\" d=\"M1313.39 27.2059 L1320.84 27.2059 L1320.84 72.576 L1313.39 72.576 L1313.39 27.2059 M1313.39 9.54393 L1320.84 9.54393 L1320.84 18.9825 L1313.39 18.9825 L1313.39 9.54393 Z\" fill=\"#000000\" fill-rule=\"nonzero\" fill-opacity=\"1\" /><path clip-path=\"url(#clip620)\" d=\"M1333.2 27.2059 L1368.6 27.2059 L1368.6 34.0114 L1340.57 66.6212 L1368.6 66.6212 L1368.6 72.576 L1332.18 72.576 L1332.18 65.7705 L1360.22 33.1607 L1333.2 33.1607 L1333.2 27.2059 Z\" fill=\"#000000\" fill-rule=\"nonzero\" fill-opacity=\"1\" /><path clip-path=\"url(#clip620)\" d=\"M1418.79 48.0275 L1418.79 51.6733 L1384.52 51.6733 Q1385.01 59.3701 1389.14 63.421 Q1393.31 67.4314 1400.73 67.4314 Q1405.02 67.4314 1409.03 66.3781 Q1413.08 65.3249 1417.05 63.2184 L1417.05 70.267 Q1413.04 71.9684 1408.83 72.8596 Q1404.61 73.7508 1400.28 73.7508 Q1389.42 73.7508 1383.06 67.4314 Q1376.74 61.1119 1376.74 50.3365 Q1376.74 39.1965 1382.74 32.6746 Q1388.78 26.1121 1398.98 26.1121 Q1408.14 26.1121 1413.45 32.0264 Q1418.79 37.9003 1418.79 48.0275 M1411.34 45.84 Q1411.26 39.7232 1407.9 36.0774 Q1404.57 32.4315 1399.07 32.4315 Q1392.83 32.4315 1389.06 35.9558 Q1385.33 39.4801 1384.77 45.8805 L1411.34 45.84 Z\" fill=\"#000000\" fill-rule=\"nonzero\" fill-opacity=\"1\" /><path clip-path=\"url(#clip620)\" d=\"M1460.88 34.0924 L1460.88 9.54393 L1468.34 9.54393 L1468.34 72.576 L1460.88 72.576 L1460.88 65.7705 Q1458.53 69.8214 1454.93 71.8063 Q1451.36 73.7508 1446.34 73.7508 Q1438.12 73.7508 1432.93 67.1883 Q1427.79 60.6258 1427.79 49.9314 Q1427.79 39.2371 1432.93 32.6746 Q1438.12 26.1121 1446.34 26.1121 Q1451.36 26.1121 1454.93 28.0971 Q1458.53 30.0415 1460.88 34.0924 M1435.48 49.9314 Q1435.48 58.1548 1438.84 62.8538 Q1442.25 67.5124 1448.16 67.5124 Q1454.08 67.5124 1457.48 62.8538 Q1460.88 58.1548 1460.88 49.9314 Q1460.88 41.7081 1457.48 37.0496 Q1454.08 32.3505 1448.16 32.3505 Q1442.25 32.3505 1438.84 37.0496 Q1435.48 41.7081 1435.48 49.9314 Z\" fill=\"#000000\" fill-rule=\"nonzero\" fill-opacity=\"1\" /><path clip-path=\"url(#clip620)\" d=\"M1539.92 34.0924 L1539.92 9.54393 L1547.37 9.54393 L1547.37 72.576 L1539.92 72.576 L1539.92 65.7705 Q1537.57 69.8214 1533.96 71.8063 Q1530.4 73.7508 1525.37 73.7508 Q1517.15 73.7508 1511.96 67.1883 Q1506.82 60.6258 1506.82 49.9314 Q1506.82 39.2371 1511.96 32.6746 Q1517.15 26.1121 1525.37 26.1121 Q1530.4 26.1121 1533.96 28.0971 Q1537.57 30.0415 1539.92 34.0924 M1514.52 49.9314 Q1514.52 58.1548 1517.88 62.8538 Q1521.28 67.5124 1527.2 67.5124 Q1533.11 67.5124 1536.51 62.8538 Q1539.92 58.1548 1539.92 49.9314 Q1539.92 41.7081 1536.51 37.0496 Q1533.11 32.3505 1527.2 32.3505 Q1521.28 32.3505 1517.88 37.0496 Q1514.52 41.7081 1514.52 49.9314 Z\" fill=\"#000000\" fill-rule=\"nonzero\" fill-opacity=\"1\" /><path clip-path=\"url(#clip620)\" d=\"M1583.34 49.7694 Q1574.31 49.7694 1570.82 51.8354 Q1567.34 53.9013 1567.34 58.8839 Q1567.34 62.8538 1569.93 65.2034 Q1572.57 67.5124 1577.06 67.5124 Q1583.26 67.5124 1586.99 63.1374 Q1590.75 58.7219 1590.75 51.4303 L1590.75 49.7694 L1583.34 49.7694 M1598.21 46.6907 L1598.21 72.576 L1590.75 72.576 L1590.75 65.6895 Q1588.2 69.8214 1584.39 71.8063 Q1580.59 73.7508 1575.08 73.7508 Q1568.11 73.7508 1563.98 69.8619 Q1559.89 65.9325 1559.89 59.3701 Q1559.89 51.7138 1564.99 47.825 Q1570.13 43.9361 1580.3 43.9361 L1590.75 43.9361 L1590.75 43.2069 Q1590.75 38.0623 1587.35 35.2672 Q1583.99 32.4315 1577.87 32.4315 Q1573.98 32.4315 1570.3 33.3632 Q1566.61 34.295 1563.21 36.1584 L1563.21 29.2718 Q1567.3 27.692 1571.15 26.9223 Q1575 26.1121 1578.64 26.1121 Q1588.49 26.1121 1593.35 31.2163 Q1598.21 36.3204 1598.21 46.6907 Z\" fill=\"#000000\" fill-rule=\"nonzero\" fill-opacity=\"1\" /><path clip-path=\"url(#clip620)\" d=\"M1620.93 14.324 L1620.93 27.2059 L1636.29 27.2059 L1636.29 32.9987 L1620.93 32.9987 L1620.93 57.6282 Q1620.93 63.1779 1622.43 64.7578 Q1623.97 66.3376 1628.63 66.3376 L1636.29 66.3376 L1636.29 72.576 L1628.63 72.576 Q1620 72.576 1616.72 69.3758 Q1613.44 66.1351 1613.44 57.6282 L1613.44 32.9987 L1607.97 32.9987 L1607.97 27.2059 L1613.44 27.2059 L1613.44 14.324 L1620.93 14.324 Z\" fill=\"#000000\" fill-rule=\"nonzero\" fill-opacity=\"1\" /><path clip-path=\"url(#clip620)\" d=\"M1666.71 49.7694 Q1657.67 49.7694 1654.19 51.8354 Q1650.71 53.9013 1650.71 58.8839 Q1650.71 62.8538 1653.3 65.2034 Q1655.93 67.5124 1660.43 67.5124 Q1666.63 67.5124 1670.35 63.1374 Q1674.12 58.7219 1674.12 51.4303 L1674.12 49.7694 L1666.71 49.7694 M1681.58 46.6907 L1681.58 72.576 L1674.12 72.576 L1674.12 65.6895 Q1671.57 69.8214 1667.76 71.8063 Q1663.95 73.7508 1658.44 73.7508 Q1651.48 73.7508 1647.35 69.8619 Q1643.25 65.9325 1643.25 59.3701 Q1643.25 51.7138 1648.36 47.825 Q1653.5 43.9361 1663.67 43.9361 L1674.12 43.9361 L1674.12 43.2069 Q1674.12 38.0623 1670.72 35.2672 Q1667.36 32.4315 1661.24 32.4315 Q1657.35 32.4315 1653.66 33.3632 Q1649.98 34.295 1646.58 36.1584 L1646.58 29.2718 Q1650.67 27.692 1654.52 26.9223 Q1658.36 26.1121 1662.01 26.1121 Q1671.85 26.1121 1676.71 31.2163 Q1681.58 36.3204 1681.58 46.6907 Z\" fill=\"#000000\" fill-rule=\"nonzero\" fill-opacity=\"1\" /><circle clip-path=\"url(#clip622)\" cx=\"1714.04\" cy=\"423.687\" r=\"14.4\" fill=\"#009af9\" fill-rule=\"evenodd\" fill-opacity=\"1\" stroke=\"#000000\" stroke-opacity=\"1\" stroke-width=\"3.2\"/>\n",
       "<circle clip-path=\"url(#clip622)\" cx=\"1485.69\" cy=\"339.132\" r=\"14.4\" fill=\"#009af9\" fill-rule=\"evenodd\" fill-opacity=\"1\" stroke=\"#000000\" stroke-opacity=\"1\" stroke-width=\"3.2\"/>\n",
       "<circle clip-path=\"url(#clip622)\" cx=\"1889.58\" cy=\"463.934\" r=\"14.4\" fill=\"#009af9\" fill-rule=\"evenodd\" fill-opacity=\"1\" stroke=\"#000000\" stroke-opacity=\"1\" stroke-width=\"3.2\"/>\n",
       "<circle clip-path=\"url(#clip622)\" cx=\"1179.59\" cy=\"549.38\" r=\"14.4\" fill=\"#009af9\" fill-rule=\"evenodd\" fill-opacity=\"1\" stroke=\"#000000\" stroke-opacity=\"1\" stroke-width=\"3.2\"/>\n",
       "<circle clip-path=\"url(#clip622)\" cx=\"1841.9\" cy=\"633.183\" r=\"14.4\" fill=\"#009af9\" fill-rule=\"evenodd\" fill-opacity=\"1\" stroke=\"#000000\" stroke-opacity=\"1\" stroke-width=\"3.2\"/>\n",
       "<circle clip-path=\"url(#clip622)\" cx=\"1699.19\" cy=\"311.305\" r=\"14.4\" fill=\"#009af9\" fill-rule=\"evenodd\" fill-opacity=\"1\" stroke=\"#000000\" stroke-opacity=\"1\" stroke-width=\"3.2\"/>\n",
       "<circle clip-path=\"url(#clip622)\" cx=\"1824.91\" cy=\"581.315\" r=\"14.4\" fill=\"#009af9\" fill-rule=\"evenodd\" fill-opacity=\"1\" stroke=\"#000000\" stroke-opacity=\"1\" stroke-width=\"3.2\"/>\n",
       "<circle clip-path=\"url(#clip622)\" cx=\"1701.14\" cy=\"468.601\" r=\"14.4\" fill=\"#009af9\" fill-rule=\"evenodd\" fill-opacity=\"1\" stroke=\"#000000\" stroke-opacity=\"1\" stroke-width=\"3.2\"/>\n",
       "<circle clip-path=\"url(#clip622)\" cx=\"2292.13\" cy=\"674.289\" r=\"14.4\" fill=\"#009af9\" fill-rule=\"evenodd\" fill-opacity=\"1\" stroke=\"#000000\" stroke-opacity=\"1\" stroke-width=\"3.2\"/>\n",
       "<circle clip-path=\"url(#clip622)\" cx=\"1611\" cy=\"391.602\" r=\"14.4\" fill=\"#009af9\" fill-rule=\"evenodd\" fill-opacity=\"1\" stroke=\"#000000\" stroke-opacity=\"1\" stroke-width=\"3.2\"/>\n",
       "<circle clip-path=\"url(#clip622)\" cx=\"2112.95\" cy=\"733.789\" r=\"14.4\" fill=\"#009af9\" fill-rule=\"evenodd\" fill-opacity=\"1\" stroke=\"#000000\" stroke-opacity=\"1\" stroke-width=\"3.2\"/>\n",
       "<circle clip-path=\"url(#clip622)\" cx=\"1685.22\" cy=\"548.932\" r=\"14.4\" fill=\"#009af9\" fill-rule=\"evenodd\" fill-opacity=\"1\" stroke=\"#000000\" stroke-opacity=\"1\" stroke-width=\"3.2\"/>\n",
       "<circle clip-path=\"url(#clip622)\" cx=\"1527.24\" cy=\"721.534\" r=\"14.4\" fill=\"#009af9\" fill-rule=\"evenodd\" fill-opacity=\"1\" stroke=\"#000000\" stroke-opacity=\"1\" stroke-width=\"3.2\"/>\n",
       "<circle clip-path=\"url(#clip622)\" cx=\"1297.66\" cy=\"699.882\" r=\"14.4\" fill=\"#009af9\" fill-rule=\"evenodd\" fill-opacity=\"1\" stroke=\"#000000\" stroke-opacity=\"1\" stroke-width=\"3.2\"/>\n",
       "<circle clip-path=\"url(#clip622)\" cx=\"1547.87\" cy=\"330.683\" r=\"14.4\" fill=\"#009af9\" fill-rule=\"evenodd\" fill-opacity=\"1\" stroke=\"#000000\" stroke-opacity=\"1\" stroke-width=\"3.2\"/>\n",
       "<circle clip-path=\"url(#clip622)\" cx=\"1973.22\" cy=\"654.751\" r=\"14.4\" fill=\"#009af9\" fill-rule=\"evenodd\" fill-opacity=\"1\" stroke=\"#000000\" stroke-opacity=\"1\" stroke-width=\"3.2\"/>\n",
       "<circle clip-path=\"url(#clip622)\" cx=\"1757.76\" cy=\"373.224\" r=\"14.4\" fill=\"#009af9\" fill-rule=\"evenodd\" fill-opacity=\"1\" stroke=\"#000000\" stroke-opacity=\"1\" stroke-width=\"3.2\"/>\n",
       "<circle clip-path=\"url(#clip622)\" cx=\"1670.64\" cy=\"387.522\" r=\"14.4\" fill=\"#009af9\" fill-rule=\"evenodd\" fill-opacity=\"1\" stroke=\"#000000\" stroke-opacity=\"1\" stroke-width=\"3.2\"/>\n",
       "<circle clip-path=\"url(#clip622)\" cx=\"1683.66\" cy=\"736.283\" r=\"14.4\" fill=\"#009af9\" fill-rule=\"evenodd\" fill-opacity=\"1\" stroke=\"#000000\" stroke-opacity=\"1\" stroke-width=\"3.2\"/>\n",
       "<circle clip-path=\"url(#clip622)\" cx=\"1441.48\" cy=\"791.614\" r=\"14.4\" fill=\"#009af9\" fill-rule=\"evenodd\" fill-opacity=\"1\" stroke=\"#000000\" stroke-opacity=\"1\" stroke-width=\"3.2\"/>\n",
       "<circle clip-path=\"url(#clip622)\" cx=\"652.66\" cy=\"1181.71\" r=\"14.4\" fill=\"#009af9\" fill-rule=\"evenodd\" fill-opacity=\"1\" stroke=\"#000000\" stroke-opacity=\"1\" stroke-width=\"3.2\"/>\n",
       "<circle clip-path=\"url(#clip622)\" cx=\"271.369\" cy=\"896.169\" r=\"14.4\" fill=\"#009af9\" fill-rule=\"evenodd\" fill-opacity=\"1\" stroke=\"#000000\" stroke-opacity=\"1\" stroke-width=\"3.2\"/>\n",
       "<circle clip-path=\"url(#clip622)\" cx=\"637.612\" cy=\"1296.74\" r=\"14.4\" fill=\"#009af9\" fill-rule=\"evenodd\" fill-opacity=\"1\" stroke=\"#000000\" stroke-opacity=\"1\" stroke-width=\"3.2\"/>\n",
       "<circle clip-path=\"url(#clip622)\" cx=\"793.72\" cy=\"1013.4\" r=\"14.4\" fill=\"#009af9\" fill-rule=\"evenodd\" fill-opacity=\"1\" stroke=\"#000000\" stroke-opacity=\"1\" stroke-width=\"3.2\"/>\n",
       "<circle clip-path=\"url(#clip622)\" cx=\"792.267\" cy=\"1126.24\" r=\"14.4\" fill=\"#009af9\" fill-rule=\"evenodd\" fill-opacity=\"1\" stroke=\"#000000\" stroke-opacity=\"1\" stroke-width=\"3.2\"/>\n",
       "<circle clip-path=\"url(#clip622)\" cx=\"674.71\" cy=\"1126.45\" r=\"14.4\" fill=\"#009af9\" fill-rule=\"evenodd\" fill-opacity=\"1\" stroke=\"#000000\" stroke-opacity=\"1\" stroke-width=\"3.2\"/>\n",
       "<circle clip-path=\"url(#clip622)\" cx=\"920.533\" cy=\"979.108\" r=\"14.4\" fill=\"#009af9\" fill-rule=\"evenodd\" fill-opacity=\"1\" stroke=\"#000000\" stroke-opacity=\"1\" stroke-width=\"3.2\"/>\n",
       "<circle clip-path=\"url(#clip622)\" cx=\"774.257\" cy=\"1072.72\" r=\"14.4\" fill=\"#009af9\" fill-rule=\"evenodd\" fill-opacity=\"1\" stroke=\"#000000\" stroke-opacity=\"1\" stroke-width=\"3.2\"/>\n",
       "<circle clip-path=\"url(#clip622)\" cx=\"1137.83\" cy=\"1123.62\" r=\"14.4\" fill=\"#009af9\" fill-rule=\"evenodd\" fill-opacity=\"1\" stroke=\"#000000\" stroke-opacity=\"1\" stroke-width=\"3.2\"/>\n",
       "<circle clip-path=\"url(#clip622)\" cx=\"486.357\" cy=\"1239.12\" r=\"14.4\" fill=\"#009af9\" fill-rule=\"evenodd\" fill-opacity=\"1\" stroke=\"#000000\" stroke-opacity=\"1\" stroke-width=\"3.2\"/>\n",
       "<circle clip-path=\"url(#clip622)\" cx=\"373.673\" cy=\"1093.15\" r=\"14.4\" fill=\"#009af9\" fill-rule=\"evenodd\" fill-opacity=\"1\" stroke=\"#000000\" stroke-opacity=\"1\" stroke-width=\"3.2\"/>\n",
       "<circle clip-path=\"url(#clip622)\" cx=\"729.395\" cy=\"1251.7\" r=\"14.4\" fill=\"#009af9\" fill-rule=\"evenodd\" fill-opacity=\"1\" stroke=\"#000000\" stroke-opacity=\"1\" stroke-width=\"3.2\"/>\n",
       "<circle clip-path=\"url(#clip622)\" cx=\"675.28\" cy=\"1233.48\" r=\"14.4\" fill=\"#009af9\" fill-rule=\"evenodd\" fill-opacity=\"1\" stroke=\"#000000\" stroke-opacity=\"1\" stroke-width=\"3.2\"/>\n",
       "<circle clip-path=\"url(#clip622)\" cx=\"316.481\" cy=\"1124.1\" r=\"14.4\" fill=\"#009af9\" fill-rule=\"evenodd\" fill-opacity=\"1\" stroke=\"#000000\" stroke-opacity=\"1\" stroke-width=\"3.2\"/>\n",
       "<circle clip-path=\"url(#clip622)\" cx=\"388.627\" cy=\"833.495\" r=\"14.4\" fill=\"#009af9\" fill-rule=\"evenodd\" fill-opacity=\"1\" stroke=\"#000000\" stroke-opacity=\"1\" stroke-width=\"3.2\"/>\n",
       "<circle clip-path=\"url(#clip622)\" cx=\"1060.85\" cy=\"1060.85\" r=\"14.4\" fill=\"#009af9\" fill-rule=\"evenodd\" fill-opacity=\"1\" stroke=\"#000000\" stroke-opacity=\"1\" stroke-width=\"3.2\"/>\n",
       "<circle clip-path=\"url(#clip622)\" cx=\"670.146\" cy=\"1386.4\" r=\"14.4\" fill=\"#009af9\" fill-rule=\"evenodd\" fill-opacity=\"1\" stroke=\"#000000\" stroke-opacity=\"1\" stroke-width=\"3.2\"/>\n",
       "<circle clip-path=\"url(#clip622)\" cx=\"394.882\" cy=\"1148.43\" r=\"14.4\" fill=\"#009af9\" fill-rule=\"evenodd\" fill-opacity=\"1\" stroke=\"#000000\" stroke-opacity=\"1\" stroke-width=\"3.2\"/>\n",
       "<circle clip-path=\"url(#clip622)\" cx=\"443.792\" cy=\"1235.37\" r=\"14.4\" fill=\"#009af9\" fill-rule=\"evenodd\" fill-opacity=\"1\" stroke=\"#000000\" stroke-opacity=\"1\" stroke-width=\"3.2\"/>\n",
       "<circle clip-path=\"url(#clip622)\" cx=\"338.735\" cy=\"1110.08\" r=\"14.4\" fill=\"#009af9\" fill-rule=\"evenodd\" fill-opacity=\"1\" stroke=\"#000000\" stroke-opacity=\"1\" stroke-width=\"3.2\"/>\n",
       "<circle clip-path=\"url(#clip622)\" cx=\"1223.27\" cy=\"266.248\" r=\"14.4\" fill=\"#009af9\" fill-rule=\"evenodd\" fill-opacity=\"1\" stroke=\"#000000\" stroke-opacity=\"1\" stroke-width=\"3.2\"/>\n",
       "<circle clip-path=\"url(#clip622)\" cx=\"991.429\" cy=\"160.256\" r=\"14.4\" fill=\"#009af9\" fill-rule=\"evenodd\" fill-opacity=\"1\" stroke=\"#000000\" stroke-opacity=\"1\" stroke-width=\"3.2\"/>\n",
       "<circle clip-path=\"url(#clip622)\" cx=\"1123.68\" cy=\"279.828\" r=\"14.4\" fill=\"#009af9\" fill-rule=\"evenodd\" fill-opacity=\"1\" stroke=\"#000000\" stroke-opacity=\"1\" stroke-width=\"3.2\"/>\n",
       "<circle clip-path=\"url(#clip622)\" cx=\"955.379\" cy=\"381.795\" r=\"14.4\" fill=\"#009af9\" fill-rule=\"evenodd\" fill-opacity=\"1\" stroke=\"#000000\" stroke-opacity=\"1\" stroke-width=\"3.2\"/>\n",
       "<circle clip-path=\"url(#clip622)\" cx=\"1200.82\" cy=\"280.613\" r=\"14.4\" fill=\"#009af9\" fill-rule=\"evenodd\" fill-opacity=\"1\" stroke=\"#000000\" stroke-opacity=\"1\" stroke-width=\"3.2\"/>\n",
       "<circle clip-path=\"url(#clip622)\" cx=\"1182.16\" cy=\"363.306\" r=\"14.4\" fill=\"#009af9\" fill-rule=\"evenodd\" fill-opacity=\"1\" stroke=\"#000000\" stroke-opacity=\"1\" stroke-width=\"3.2\"/>\n",
       "<circle clip-path=\"url(#clip622)\" cx=\"999.84\" cy=\"425.943\" r=\"14.4\" fill=\"#009af9\" fill-rule=\"evenodd\" fill-opacity=\"1\" stroke=\"#000000\" stroke-opacity=\"1\" stroke-width=\"3.2\"/>\n",
       "<circle clip-path=\"url(#clip622)\" cx=\"836.092\" cy=\"161.745\" r=\"14.4\" fill=\"#009af9\" fill-rule=\"evenodd\" fill-opacity=\"1\" stroke=\"#000000\" stroke-opacity=\"1\" stroke-width=\"3.2\"/>\n",
       "<circle clip-path=\"url(#clip622)\" cx=\"1112.4\" cy=\"377.153\" r=\"14.4\" fill=\"#009af9\" fill-rule=\"evenodd\" fill-opacity=\"1\" stroke=\"#000000\" stroke-opacity=\"1\" stroke-width=\"3.2\"/>\n",
       "<circle clip-path=\"url(#clip622)\" cx=\"930.619\" cy=\"258.181\" r=\"14.4\" fill=\"#009af9\" fill-rule=\"evenodd\" fill-opacity=\"1\" stroke=\"#000000\" stroke-opacity=\"1\" stroke-width=\"3.2\"/>\n",
       "<circle clip-path=\"url(#clip622)\" cx=\"893.802\" cy=\"349.671\" r=\"14.4\" fill=\"#009af9\" fill-rule=\"evenodd\" fill-opacity=\"1\" stroke=\"#000000\" stroke-opacity=\"1\" stroke-width=\"3.2\"/>\n",
       "<circle clip-path=\"url(#clip622)\" cx=\"1003.67\" cy=\"191.571\" r=\"14.4\" fill=\"#009af9\" fill-rule=\"evenodd\" fill-opacity=\"1\" stroke=\"#000000\" stroke-opacity=\"1\" stroke-width=\"3.2\"/>\n",
       "<circle clip-path=\"url(#clip622)\" cx=\"937.93\" cy=\"361.874\" r=\"14.4\" fill=\"#009af9\" fill-rule=\"evenodd\" fill-opacity=\"1\" stroke=\"#000000\" stroke-opacity=\"1\" stroke-width=\"3.2\"/>\n",
       "<circle clip-path=\"url(#clip622)\" cx=\"1159.94\" cy=\"403.862\" r=\"14.4\" fill=\"#009af9\" fill-rule=\"evenodd\" fill-opacity=\"1\" stroke=\"#000000\" stroke-opacity=\"1\" stroke-width=\"3.2\"/>\n",
       "<circle clip-path=\"url(#clip622)\" cx=\"1073.19\" cy=\"431.108\" r=\"14.4\" fill=\"#009af9\" fill-rule=\"evenodd\" fill-opacity=\"1\" stroke=\"#000000\" stroke-opacity=\"1\" stroke-width=\"3.2\"/>\n",
       "<circle clip-path=\"url(#clip622)\" cx=\"1204.62\" cy=\"221.865\" r=\"14.4\" fill=\"#009af9\" fill-rule=\"evenodd\" fill-opacity=\"1\" stroke=\"#000000\" stroke-opacity=\"1\" stroke-width=\"3.2\"/>\n",
       "<circle clip-path=\"url(#clip622)\" cx=\"1102.54\" cy=\"418.968\" r=\"14.4\" fill=\"#009af9\" fill-rule=\"evenodd\" fill-opacity=\"1\" stroke=\"#000000\" stroke-opacity=\"1\" stroke-width=\"3.2\"/>\n",
       "<circle clip-path=\"url(#clip622)\" cx=\"882.925\" cy=\"197.234\" r=\"14.4\" fill=\"#009af9\" fill-rule=\"evenodd\" fill-opacity=\"1\" stroke=\"#000000\" stroke-opacity=\"1\" stroke-width=\"3.2\"/>\n",
       "<circle clip-path=\"url(#clip622)\" cx=\"983.369\" cy=\"229.073\" r=\"14.4\" fill=\"#009af9\" fill-rule=\"evenodd\" fill-opacity=\"1\" stroke=\"#000000\" stroke-opacity=\"1\" stroke-width=\"3.2\"/>\n",
       "<circle clip-path=\"url(#clip622)\" cx=\"1223.23\" cy=\"426.316\" r=\"14.4\" fill=\"#009af9\" fill-rule=\"evenodd\" fill-opacity=\"1\" stroke=\"#000000\" stroke-opacity=\"1\" stroke-width=\"3.2\"/>\n",
       "</svg>\n"
      ]
     },
     "execution_count": 76,
     "metadata": {},
     "output_type": "execute_result"
    }
   ],
   "source": [
    "import Plots\n",
    "\n",
    "Plots.scatter(p[1,:], p[2,:], marker=:circle, legend=nothing,\n",
    "  xlabel=\"x\", ylabel=\"y\", title=\"Uncategorized data\")"
   ]
  },
  {
   "cell_type": "code",
   "execution_count": 128,
   "id": "2b7b188d-c595-493c-a107-804ff2791f2d",
   "metadata": {},
   "outputs": [
    {
     "data": {
      "image/png": "[encoded data removed]",
      "image/svg+xml": [
       "<?xml version=\"1.0\" encoding=\"utf-8\"?>\n",
       "<svg xmlns=\"http://www.w3.org/2000/svg\" xmlns:xlink=\"http://www.w3.org/1999/xlink\" width=\"600\" height=\"400\" viewBox=\"0 0 2400 1600\">\n",
       "<defs>\n",
       "  <clipPath id=\"clip460\">\n",
       "    <rect x=\"0\" y=\"0\" width=\"2400\" height=\"1600\"/>\n",
       "  </clipPath>\n",
       "</defs>\n",
       "<path clip-path=\"url(#clip460)\" d=\"M0 1600 L2400 1600 L2400 0 L0 0  Z\" fill=\"#ffffff\" fill-rule=\"evenodd\" fill-opacity=\"1\"/>\n",
       "<defs>\n",
       "  <clipPath id=\"clip461\">\n",
       "    <rect x=\"480\" y=\"0\" width=\"1681\" height=\"1600\"/>\n",
       "  </clipPath>\n",
       "</defs>\n",
       "<path clip-path=\"url(#clip460)\" d=\"M210.746 1423.18 L2352.76 1423.18 L2352.76 123.472 L210.746 123.472  Z\" fill=\"#ffffff\" fill-rule=\"evenodd\" fill-opacity=\"1\"/>\n",
       "<defs>\n",
       "  <clipPath id=\"clip462\">\n",
       "    <rect x=\"210\" y=\"123\" width=\"2143\" height=\"1301\"/>\n",
       "  </clipPath>\n",
       "</defs>\n",
       "<polyline clip-path=\"url(#clip462)\" style=\"stroke:#000000; stroke-linecap:round; stroke-linejoin:round; stroke-width:2; stroke-opacity:0.1; fill:none\" points=\"259.09,1423.18 259.09,123.472 \"/>\n",
       "<polyline clip-path=\"url(#clip462)\" style=\"stroke:#000000; stroke-linecap:round; stroke-linejoin:round; stroke-width:2; stroke-opacity:0.1; fill:none\" points=\"691.793,1423.18 691.793,123.472 \"/>\n",
       "<polyline clip-path=\"url(#clip462)\" style=\"stroke:#000000; stroke-linecap:round; stroke-linejoin:round; stroke-width:2; stroke-opacity:0.1; fill:none\" points=\"1124.5,1423.18 1124.5,123.472 \"/>\n",
       "<polyline clip-path=\"url(#clip462)\" style=\"stroke:#000000; stroke-linecap:round; stroke-linejoin:round; stroke-width:2; stroke-opacity:0.1; fill:none\" points=\"1557.2,1423.18 1557.2,123.472 \"/>\n",
       "<polyline clip-path=\"url(#clip462)\" style=\"stroke:#000000; stroke-linecap:round; stroke-linejoin:round; stroke-width:2; stroke-opacity:0.1; fill:none\" points=\"1989.9,1423.18 1989.9,123.472 \"/>\n",
       "<polyline clip-path=\"url(#clip460)\" style=\"stroke:#000000; stroke-linecap:round; stroke-linejoin:round; stroke-width:4; stroke-opacity:1; fill:none\" points=\"210.746,1423.18 2352.76,1423.18 \"/>\n",
       "<polyline clip-path=\"url(#clip460)\" style=\"stroke:#000000; stroke-linecap:round; stroke-linejoin:round; stroke-width:4; stroke-opacity:1; fill:none\" points=\"259.09,1423.18 259.09,1404.28 \"/>\n",
       "<polyline clip-path=\"url(#clip460)\" style=\"stroke:#000000; stroke-linecap:round; stroke-linejoin:round; stroke-width:4; stroke-opacity:1; fill:none\" points=\"691.793,1423.18 691.793,1404.28 \"/>\n",
       "<polyline clip-path=\"url(#clip460)\" style=\"stroke:#000000; stroke-linecap:round; stroke-linejoin:round; stroke-width:4; stroke-opacity:1; fill:none\" points=\"1124.5,1423.18 1124.5,1404.28 \"/>\n",
       "<polyline clip-path=\"url(#clip460)\" style=\"stroke:#000000; stroke-linecap:round; stroke-linejoin:round; stroke-width:4; stroke-opacity:1; fill:none\" points=\"1557.2,1423.18 1557.2,1404.28 \"/>\n",
       "<polyline clip-path=\"url(#clip460)\" style=\"stroke:#000000; stroke-linecap:round; stroke-linejoin:round; stroke-width:4; stroke-opacity:1; fill:none\" points=\"1989.9,1423.18 1989.9,1404.28 \"/>\n",
       "<path clip-path=\"url(#clip460)\" d=\"M229.032 1468.75 L258.708 1468.75 L258.708 1472.69 L229.032 1472.69 L229.032 1468.75 Z\" fill=\"#000000\" fill-rule=\"nonzero\" fill-opacity=\"1\" /><path clip-path=\"url(#clip460)\" d=\"M272.828 1481.64 L289.147 1481.64 L289.147 1485.58 L267.203 1485.58 L267.203 1481.64 Q269.865 1478.89 274.448 1474.26 Q279.055 1469.61 280.235 1468.27 Q282.481 1465.74 283.36 1464.01 Q284.263 1462.25 284.263 1460.56 Q284.263 1457.8 282.319 1456.07 Q280.397 1454.33 277.296 1454.33 Q275.097 1454.33 272.643 1455.09 Q270.212 1455.86 267.435 1457.41 L267.435 1452.69 Q270.259 1451.55 272.712 1450.97 Q275.166 1450.39 277.203 1450.39 Q282.573 1450.39 285.768 1453.08 Q288.962 1455.77 288.962 1460.26 Q288.962 1462.39 288.152 1464.31 Q287.365 1466.2 285.259 1468.8 Q284.68 1469.47 281.578 1472.69 Q278.476 1475.88 272.828 1481.64 Z\" fill=\"#000000\" fill-rule=\"nonzero\" fill-opacity=\"1\" /><path clip-path=\"url(#clip460)\" d=\"M661.55 1468.75 L691.226 1468.75 L691.226 1472.69 L661.55 1472.69 L661.55 1468.75 Z\" fill=\"#000000\" fill-rule=\"nonzero\" fill-opacity=\"1\" /><path clip-path=\"url(#clip460)\" d=\"M702.129 1481.64 L709.768 1481.64 L709.768 1455.28 L701.457 1456.95 L701.457 1452.69 L709.721 1451.02 L714.397 1451.02 L714.397 1481.64 L722.036 1481.64 L722.036 1485.58 L702.129 1485.58 L702.129 1481.64 Z\" fill=\"#000000\" fill-rule=\"nonzero\" fill-opacity=\"1\" /><path clip-path=\"url(#clip460)\" d=\"M1124.5 1454.1 Q1120.89 1454.1 1119.06 1457.66 Q1117.25 1461.2 1117.25 1468.33 Q1117.25 1475.44 1119.06 1479.01 Q1120.89 1482.55 1124.5 1482.55 Q1128.13 1482.55 1129.94 1479.01 Q1131.77 1475.44 1131.77 1468.33 Q1131.77 1461.2 1129.94 1457.66 Q1128.13 1454.1 1124.5 1454.1 M1124.5 1450.39 Q1130.31 1450.39 1133.36 1455 Q1136.44 1459.58 1136.44 1468.33 Q1136.44 1477.06 1133.36 1481.67 Q1130.31 1486.25 1124.5 1486.25 Q1118.69 1486.25 1115.61 1481.67 Q1112.55 1477.06 1112.55 1468.33 Q1112.55 1459.58 1115.61 1455 Q1118.69 1450.39 1124.5 1450.39 Z\" fill=\"#000000\" fill-rule=\"nonzero\" fill-opacity=\"1\" /><path clip-path=\"url(#clip460)\" d=\"M1547.58 1481.64 L1555.22 1481.64 L1555.22 1455.28 L1546.91 1456.95 L1546.91 1452.69 L1555.17 1451.02 L1559.85 1451.02 L1559.85 1481.64 L1567.49 1481.64 L1567.49 1485.58 L1547.58 1485.58 L1547.58 1481.64 Z\" fill=\"#000000\" fill-rule=\"nonzero\" fill-opacity=\"1\" /><path clip-path=\"url(#clip460)\" d=\"M1984.56 1481.64 L2000.88 1481.64 L2000.88 1485.58 L1978.93 1485.58 L1978.93 1481.64 Q1981.59 1478.89 1986.18 1474.26 Q1990.78 1469.61 1991.96 1468.27 Q1994.21 1465.74 1995.09 1464.01 Q1995.99 1462.25 1995.99 1460.56 Q1995.99 1457.8 1994.05 1456.07 Q1992.13 1454.33 1989.02 1454.33 Q1986.83 1454.33 1984.37 1455.09 Q1981.94 1455.86 1979.16 1457.41 L1979.16 1452.69 Q1981.99 1451.55 1984.44 1450.97 Q1986.89 1450.39 1988.93 1450.39 Q1994.3 1450.39 1997.5 1453.08 Q2000.69 1455.77 2000.69 1460.26 Q2000.69 1462.39 1999.88 1464.31 Q1999.09 1466.2 1996.99 1468.8 Q1996.41 1469.47 1993.31 1472.69 Q1990.2 1475.88 1984.56 1481.64 Z\" fill=\"#000000\" fill-rule=\"nonzero\" fill-opacity=\"1\" /><path clip-path=\"url(#clip460)\" d=\"M1298.37 1532.4 L1285.47 1549.74 L1299.03 1568.04 L1292.13 1568.04 L1281.75 1554.04 L1271.37 1568.04 L1264.47 1568.04 L1278.31 1549.39 L1265.65 1532.4 L1272.55 1532.4 L1282.01 1545.1 L1291.46 1532.4 L1298.37 1532.4 Z\" fill=\"#000000\" fill-rule=\"nonzero\" fill-opacity=\"1\" /><polyline clip-path=\"url(#clip462)\" style=\"stroke:#000000; stroke-linecap:round; stroke-linejoin:round; stroke-width:2; stroke-opacity:0.1; fill:none\" points=\"210.746,1400.92 2352.76,1400.92 \"/>\n",
       "<polyline clip-path=\"url(#clip462)\" style=\"stroke:#000000; stroke-linecap:round; stroke-linejoin:round; stroke-width:2; stroke-opacity:0.1; fill:none\" points=\"210.746,1120.74 2352.76,1120.74 \"/>\n",
       "<polyline clip-path=\"url(#clip462)\" style=\"stroke:#000000; stroke-linecap:round; stroke-linejoin:round; stroke-width:2; stroke-opacity:0.1; fill:none\" points=\"210.746,840.553 2352.76,840.553 \"/>\n",
       "<polyline clip-path=\"url(#clip462)\" style=\"stroke:#000000; stroke-linecap:round; stroke-linejoin:round; stroke-width:2; stroke-opacity:0.1; fill:none\" points=\"210.746,560.371 2352.76,560.371 \"/>\n",
       "<polyline clip-path=\"url(#clip462)\" style=\"stroke:#000000; stroke-linecap:round; stroke-linejoin:round; stroke-width:2; stroke-opacity:0.1; fill:none\" points=\"210.746,280.188 2352.76,280.188 \"/>\n",
       "<polyline clip-path=\"url(#clip460)\" style=\"stroke:#000000; stroke-linecap:round; stroke-linejoin:round; stroke-width:4; stroke-opacity:1; fill:none\" points=\"210.746,1423.18 210.746,123.472 \"/>\n",
       "<polyline clip-path=\"url(#clip460)\" style=\"stroke:#000000; stroke-linecap:round; stroke-linejoin:round; stroke-width:4; stroke-opacity:1; fill:none\" points=\"210.746,1400.92 229.644,1400.92 \"/>\n",
       "<polyline clip-path=\"url(#clip460)\" style=\"stroke:#000000; stroke-linecap:round; stroke-linejoin:round; stroke-width:4; stroke-opacity:1; fill:none\" points=\"210.746,1120.74 229.644,1120.74 \"/>\n",
       "<polyline clip-path=\"url(#clip460)\" style=\"stroke:#000000; stroke-linecap:round; stroke-linejoin:round; stroke-width:4; stroke-opacity:1; fill:none\" points=\"210.746,840.553 229.644,840.553 \"/>\n",
       "<polyline clip-path=\"url(#clip460)\" style=\"stroke:#000000; stroke-linecap:round; stroke-linejoin:round; stroke-width:4; stroke-opacity:1; fill:none\" points=\"210.746,560.371 229.644,560.371 \"/>\n",
       "<polyline clip-path=\"url(#clip460)\" style=\"stroke:#000000; stroke-linecap:round; stroke-linejoin:round; stroke-width:4; stroke-opacity:1; fill:none\" points=\"210.746,280.188 229.644,280.188 \"/>\n",
       "<path clip-path=\"url(#clip460)\" d=\"M114.631 1401.37 L144.306 1401.37 L144.306 1405.3 L114.631 1405.3 L114.631 1401.37 Z\" fill=\"#000000\" fill-rule=\"nonzero\" fill-opacity=\"1\" /><path clip-path=\"url(#clip460)\" d=\"M158.427 1414.26 L174.746 1414.26 L174.746 1418.2 L152.802 1418.2 L152.802 1414.26 Q155.464 1411.51 160.047 1406.88 Q164.653 1402.23 165.834 1400.88 Q168.079 1398.36 168.959 1396.62 Q169.862 1394.87 169.862 1393.18 Q169.862 1390.42 167.917 1388.68 Q165.996 1386.95 162.894 1386.95 Q160.695 1386.95 158.241 1387.71 Q155.811 1388.48 153.033 1390.03 L153.033 1385.3 Q155.857 1384.17 158.311 1383.59 Q160.765 1383.01 162.802 1383.01 Q168.172 1383.01 171.366 1385.7 Q174.561 1388.38 174.561 1392.87 Q174.561 1395 173.751 1396.93 Q172.964 1398.82 170.857 1401.42 Q170.278 1402.09 167.177 1405.3 Q164.075 1408.5 158.427 1414.26 Z\" fill=\"#000000\" fill-rule=\"nonzero\" fill-opacity=\"1\" /><path clip-path=\"url(#clip460)\" d=\"M114.26 1121.19 L143.936 1121.19 L143.936 1125.12 L114.26 1125.12 L114.26 1121.19 Z\" fill=\"#000000\" fill-rule=\"nonzero\" fill-opacity=\"1\" /><path clip-path=\"url(#clip460)\" d=\"M154.839 1134.08 L162.477 1134.08 L162.477 1107.71 L154.167 1109.38 L154.167 1105.12 L162.431 1103.46 L167.107 1103.46 L167.107 1134.08 L174.746 1134.08 L174.746 1138.02 L154.839 1138.02 L154.839 1134.08 Z\" fill=\"#000000\" fill-rule=\"nonzero\" fill-opacity=\"1\" /><path clip-path=\"url(#clip460)\" d=\"M162.802 826.352 Q159.19 826.352 157.362 829.917 Q155.556 833.458 155.556 840.588 Q155.556 847.694 157.362 851.259 Q159.19 854.801 162.802 854.801 Q166.436 854.801 168.241 851.259 Q170.07 847.694 170.07 840.588 Q170.07 833.458 168.241 829.917 Q166.436 826.352 162.802 826.352 M162.802 822.648 Q168.612 822.648 171.667 827.255 Q174.746 831.838 174.746 840.588 Q174.746 849.315 171.667 853.921 Q168.612 858.504 162.802 858.504 Q156.991 858.504 153.913 853.921 Q150.857 849.315 150.857 840.588 Q150.857 831.838 153.913 827.255 Q156.991 822.648 162.802 822.648 Z\" fill=\"#000000\" fill-rule=\"nonzero\" fill-opacity=\"1\" /><path clip-path=\"url(#clip460)\" d=\"M154.839 573.716 L162.477 573.716 L162.477 547.35 L154.167 549.017 L154.167 544.757 L162.431 543.091 L167.107 543.091 L167.107 573.716 L174.746 573.716 L174.746 577.651 L154.839 577.651 L154.839 573.716 Z\" fill=\"#000000\" fill-rule=\"nonzero\" fill-opacity=\"1\" /><path clip-path=\"url(#clip460)\" d=\"M158.427 293.533 L174.746 293.533 L174.746 297.468 L152.802 297.468 L152.802 293.533 Q155.464 290.778 160.047 286.149 Q164.653 281.496 165.834 280.153 Q168.079 277.63 168.959 275.894 Q169.862 274.135 169.862 272.445 Q169.862 269.691 167.917 267.954 Q165.996 266.218 162.894 266.218 Q160.695 266.218 158.241 266.982 Q155.811 267.746 153.033 269.297 L153.033 264.575 Q155.857 263.441 158.311 262.862 Q160.765 262.283 162.802 262.283 Q168.172 262.283 171.366 264.968 Q174.561 267.654 174.561 272.144 Q174.561 274.274 173.751 276.195 Q172.964 278.093 170.857 280.686 Q170.278 281.357 167.177 284.575 Q164.075 287.769 158.427 293.533 Z\" fill=\"#000000\" fill-rule=\"nonzero\" fill-opacity=\"1\" /><path clip-path=\"url(#clip460)\" d=\"M67.3143 771.639 Q73.68 774.122 75.6216 776.477 Q77.5631 778.832 77.5631 782.779 L77.5631 787.458 L72.6615 787.458 L72.6615 784.02 Q72.6615 781.601 71.5157 780.265 Q70.3699 778.928 66.1048 777.305 L63.4312 776.254 L28.3562 790.673 L28.3562 784.466 L56.238 773.326 L28.3562 762.186 L28.3562 755.979 L67.3143 771.639 Z\" fill=\"#000000\" fill-rule=\"nonzero\" fill-opacity=\"1\" /><path clip-path=\"url(#clip460)\" d=\"M974.308 16.7545 L974.308 25.383 Q970.176 21.5346 965.477 19.6307 Q960.818 17.7268 955.552 17.7268 Q945.182 17.7268 939.672 24.0867 Q934.163 30.4061 934.163 42.3968 Q934.163 54.3469 939.672 60.7069 Q945.182 67.0263 955.552 67.0263 Q960.818 67.0263 965.477 65.1223 Q970.176 63.2184 974.308 59.3701 L974.308 67.9175 Q970.014 70.8341 965.193 72.2924 Q960.413 73.7508 955.066 73.7508 Q941.333 73.7508 933.434 65.3654 Q925.535 56.9395 925.535 42.3968 Q925.535 27.8135 933.434 19.4281 Q941.333 11.0023 955.066 11.0023 Q960.494 11.0023 965.274 12.4606 Q970.095 13.8784 974.308 16.7545 Z\" fill=\"#000000\" fill-rule=\"nonzero\" fill-opacity=\"1\" /><path clip-path=\"url(#clip460)\" d=\"M1007.24 49.7694 Q998.208 49.7694 994.724 51.8354 Q991.24 53.9013 991.24 58.8839 Q991.24 62.8538 993.833 65.2034 Q996.466 67.5124 1000.96 67.5124 Q1007.16 67.5124 1010.89 63.1374 Q1014.65 58.7219 1014.65 51.4303 L1014.65 49.7694 L1007.24 49.7694 M1022.11 46.6907 L1022.11 72.576 L1014.65 72.576 L1014.65 65.6895 Q1012.1 69.8214 1008.29 71.8063 Q1004.49 73.7508 998.978 73.7508 Q992.01 73.7508 987.878 69.8619 Q983.787 65.9325 983.787 59.3701 Q983.787 51.7138 988.891 47.825 Q994.035 43.9361 1004.2 43.9361 L1014.65 43.9361 L1014.65 43.2069 Q1014.65 38.0623 1011.25 35.2672 Q1007.89 32.4315 1001.77 32.4315 Q997.884 32.4315 994.197 33.3632 Q990.511 34.295 987.108 36.1584 L987.108 29.2718 Q991.2 27.692 995.048 26.9223 Q998.897 26.1121 1002.54 26.1121 Q1012.39 26.1121 1017.25 31.2163 Q1022.11 36.3204 1022.11 46.6907 Z\" fill=\"#000000\" fill-rule=\"nonzero\" fill-opacity=\"1\" /><path clip-path=\"url(#clip460)\" d=\"M1044.83 14.324 L1044.83 27.2059 L1060.19 27.2059 L1060.19 32.9987 L1044.83 32.9987 L1044.83 57.6282 Q1044.83 63.1779 1046.33 64.7578 Q1047.87 66.3376 1052.53 66.3376 L1060.19 66.3376 L1060.19 72.576 L1052.53 72.576 Q1043.9 72.576 1040.62 69.3758 Q1037.34 66.1351 1037.34 57.6282 L1037.34 32.9987 L1031.87 32.9987 L1031.87 27.2059 L1037.34 27.2059 L1037.34 14.324 L1044.83 14.324 Z\" fill=\"#000000\" fill-rule=\"nonzero\" fill-opacity=\"1\" /><path clip-path=\"url(#clip460)\" d=\"M1108.8 48.0275 L1108.8 51.6733 L1074.53 51.6733 Q1075.01 59.3701 1079.14 63.421 Q1083.32 67.4314 1090.73 67.4314 Q1095.02 67.4314 1099.03 66.3781 Q1103.09 65.3249 1107.06 63.2184 L1107.06 70.267 Q1103.05 71.9684 1098.83 72.8596 Q1094.62 73.7508 1090.28 73.7508 Q1079.43 73.7508 1073.07 67.4314 Q1066.75 61.1119 1066.75 50.3365 Q1066.75 39.1965 1072.74 32.6746 Q1078.78 26.1121 1088.99 26.1121 Q1098.14 26.1121 1103.45 32.0264 Q1108.8 37.9003 1108.8 48.0275 M1101.34 45.84 Q1101.26 39.7232 1097.9 36.0774 Q1094.58 32.4315 1089.07 32.4315 Q1082.83 32.4315 1079.06 35.9558 Q1075.34 39.4801 1074.77 45.8805 L1101.34 45.84 Z\" fill=\"#000000\" fill-rule=\"nonzero\" fill-opacity=\"1\" /><path clip-path=\"url(#clip460)\" d=\"M1150.89 49.3643 Q1150.89 41.2625 1147.52 36.8065 Q1144.2 32.3505 1138.17 32.3505 Q1132.17 32.3505 1128.81 36.8065 Q1125.49 41.2625 1125.49 49.3643 Q1125.49 57.4256 1128.81 61.8816 Q1132.17 66.3376 1138.17 66.3376 Q1144.2 66.3376 1147.52 61.8816 Q1150.89 57.4256 1150.89 49.3643 M1158.34 66.9452 Q1158.34 78.5308 1153.2 84.1616 Q1148.05 89.8329 1137.44 89.8329 Q1133.51 89.8329 1130.02 89.2252 Q1126.54 88.6581 1123.26 87.4428 L1123.26 80.1917 Q1126.54 81.9741 1129.74 82.8248 Q1132.94 83.6755 1136.26 83.6755 Q1143.59 83.6755 1147.24 79.8271 Q1150.89 76.0193 1150.89 68.282 L1150.89 64.5957 Q1148.58 68.6061 1144.97 70.5911 Q1141.37 72.576 1136.34 72.576 Q1128 72.576 1122.89 66.2161 Q1117.79 59.8562 1117.79 49.3643 Q1117.79 38.832 1122.89 32.472 Q1128 26.1121 1136.34 26.1121 Q1141.37 26.1121 1144.97 28.0971 Q1148.58 30.082 1150.89 34.0924 L1150.89 27.2059 L1158.34 27.2059 L1158.34 66.9452 Z\" fill=\"#000000\" fill-rule=\"nonzero\" fill-opacity=\"1\" /><path clip-path=\"url(#clip460)\" d=\"M1191.27 32.4315 Q1185.28 32.4315 1181.79 37.1306 Q1178.31 41.7891 1178.31 49.9314 Q1178.31 58.0738 1181.75 62.7728 Q1185.24 67.4314 1191.27 67.4314 Q1197.23 67.4314 1200.71 62.7323 Q1204.2 58.0333 1204.2 49.9314 Q1204.2 41.8701 1200.71 37.1711 Q1197.23 32.4315 1191.27 32.4315 M1191.27 26.1121 Q1201 26.1121 1206.55 32.4315 Q1212.1 38.7509 1212.1 49.9314 Q1212.1 61.0714 1206.55 67.4314 Q1201 73.7508 1191.27 73.7508 Q1181.51 73.7508 1175.96 67.4314 Q1170.45 61.0714 1170.45 49.9314 Q1170.45 38.7509 1175.96 32.4315 Q1181.51 26.1121 1191.27 26.1121 Z\" fill=\"#000000\" fill-rule=\"nonzero\" fill-opacity=\"1\" /><path clip-path=\"url(#clip460)\" d=\"M1250.74 34.1734 Q1249.49 33.4443 1247.99 33.1202 Q1246.53 32.7556 1244.75 32.7556 Q1238.43 32.7556 1235.02 36.8875 Q1231.66 40.9789 1231.66 48.6757 L1231.66 72.576 L1224.17 72.576 L1224.17 27.2059 L1231.66 27.2059 L1231.66 34.2544 Q1234.01 30.1225 1237.78 28.1376 Q1241.55 26.1121 1246.93 26.1121 Q1247.7 26.1121 1248.63 26.2337 Q1249.57 26.3147 1250.7 26.5172 L1250.74 34.1734 Z\" fill=\"#000000\" fill-rule=\"nonzero\" fill-opacity=\"1\" /><path clip-path=\"url(#clip460)\" d=\"M1258.56 27.2059 L1266.01 27.2059 L1266.01 72.576 L1258.56 72.576 L1258.56 27.2059 M1258.56 9.54393 L1266.01 9.54393 L1266.01 18.9825 L1258.56 18.9825 L1258.56 9.54393 Z\" fill=\"#000000\" fill-rule=\"nonzero\" fill-opacity=\"1\" /><path clip-path=\"url(#clip460)\" d=\"M1278.37 27.2059 L1313.77 27.2059 L1313.77 34.0114 L1285.74 66.6212 L1313.77 66.6212 L1313.77 72.576 L1277.36 72.576 L1277.36 65.7705 L1305.39 33.1607 L1278.37 33.1607 L1278.37 27.2059 Z\" fill=\"#000000\" fill-rule=\"nonzero\" fill-opacity=\"1\" /><path clip-path=\"url(#clip460)\" d=\"M1363.96 48.0275 L1363.96 51.6733 L1329.69 51.6733 Q1330.18 59.3701 1334.31 63.421 Q1338.48 67.4314 1345.9 67.4314 Q1350.19 67.4314 1354.2 66.3781 Q1358.25 65.3249 1362.22 63.2184 L1362.22 70.267 Q1358.21 71.9684 1354 72.8596 Q1349.79 73.7508 1345.45 73.7508 Q1334.59 73.7508 1328.24 67.4314 Q1321.92 61.1119 1321.92 50.3365 Q1321.92 39.1965 1327.91 32.6746 Q1333.95 26.1121 1344.16 26.1121 Q1353.31 26.1121 1358.62 32.0264 Q1363.96 37.9003 1363.96 48.0275 M1356.51 45.84 Q1356.43 39.7232 1353.07 36.0774 Q1349.75 32.4315 1344.24 32.4315 Q1338 32.4315 1334.23 35.9558 Q1330.5 39.4801 1329.94 45.8805 L1356.51 45.84 Z\" fill=\"#000000\" fill-rule=\"nonzero\" fill-opacity=\"1\" /><path clip-path=\"url(#clip460)\" d=\"M1406.05 34.0924 L1406.05 9.54393 L1413.51 9.54393 L1413.51 72.576 L1406.05 72.576 L1406.05 65.7705 Q1403.7 69.8214 1400.1 71.8063 Q1396.53 73.7508 1391.51 73.7508 Q1383.29 73.7508 1378.1 67.1883 Q1372.96 60.6258 1372.96 49.9314 Q1372.96 39.2371 1378.1 32.6746 Q1383.29 26.1121 1391.51 26.1121 Q1396.53 26.1121 1400.1 28.0971 Q1403.7 30.0415 1406.05 34.0924 M1380.65 49.9314 Q1380.65 58.1548 1384.02 62.8538 Q1387.42 67.5124 1393.33 67.5124 Q1399.25 67.5124 1402.65 62.8538 Q1406.05 58.1548 1406.05 49.9314 Q1406.05 41.7081 1402.65 37.0496 Q1399.25 32.3505 1393.33 32.3505 Q1387.42 32.3505 1384.02 37.0496 Q1380.65 41.7081 1380.65 49.9314 Z\" fill=\"#000000\" fill-rule=\"nonzero\" fill-opacity=\"1\" /><path clip-path=\"url(#clip460)\" d=\"M1463.74 18.8205 L1463.74 65.8515 L1473.62 65.8515 Q1486.14 65.8515 1491.93 60.1802 Q1497.77 54.509 1497.77 42.2752 Q1497.77 30.1225 1491.93 24.4918 Q1486.14 18.8205 1473.62 18.8205 L1463.74 18.8205 M1455.55 12.096 L1472.37 12.096 Q1489.95 12.096 1498.17 19.4281 Q1506.39 26.7198 1506.39 42.2752 Q1506.39 57.9117 1498.13 65.2439 Q1489.87 72.576 1472.37 72.576 L1455.55 72.576 L1455.55 12.096 Z\" fill=\"#000000\" fill-rule=\"nonzero\" fill-opacity=\"1\" /><path clip-path=\"url(#clip460)\" d=\"M1539.73 49.7694 Q1530.7 49.7694 1527.22 51.8354 Q1523.73 53.9013 1523.73 58.8839 Q1523.73 62.8538 1526.32 65.2034 Q1528.96 67.5124 1533.45 67.5124 Q1539.65 67.5124 1543.38 63.1374 Q1547.15 58.7219 1547.15 51.4303 L1547.15 49.7694 L1539.73 49.7694 M1554.6 46.6907 L1554.6 72.576 L1547.15 72.576 L1547.15 65.6895 Q1544.59 69.8214 1540.79 71.8063 Q1536.98 73.7508 1531.47 73.7508 Q1524.5 73.7508 1520.37 69.8619 Q1516.28 65.9325 1516.28 59.3701 Q1516.28 51.7138 1521.38 47.825 Q1526.53 43.9361 1536.69 43.9361 L1547.15 43.9361 L1547.15 43.2069 Q1547.15 38.0623 1543.74 35.2672 Q1540.38 32.4315 1534.26 32.4315 Q1530.38 32.4315 1526.69 33.3632 Q1523 34.295 1519.6 36.1584 L1519.6 29.2718 Q1523.69 27.692 1527.54 26.9223 Q1531.39 26.1121 1535.03 26.1121 Q1544.88 26.1121 1549.74 31.2163 Q1554.6 36.3204 1554.6 46.6907 Z\" fill=\"#000000\" fill-rule=\"nonzero\" fill-opacity=\"1\" /><path clip-path=\"url(#clip460)\" d=\"M1577.33 14.324 L1577.33 27.2059 L1592.68 27.2059 L1592.68 32.9987 L1577.33 32.9987 L1577.33 57.6282 Q1577.33 63.1779 1578.82 64.7578 Q1580.36 66.3376 1585.02 66.3376 L1592.68 66.3376 L1592.68 72.576 L1585.02 72.576 Q1576.39 72.576 1573.11 69.3758 Q1569.83 66.1351 1569.83 57.6282 L1569.83 32.9987 L1564.36 32.9987 L1564.36 27.2059 L1569.83 27.2059 L1569.83 14.324 L1577.33 14.324 Z\" fill=\"#000000\" fill-rule=\"nonzero\" fill-opacity=\"1\" /><path clip-path=\"url(#clip460)\" d=\"M1623.1 49.7694 Q1614.07 49.7694 1610.58 51.8354 Q1607.1 53.9013 1607.1 58.8839 Q1607.1 62.8538 1609.69 65.2034 Q1612.32 67.5124 1616.82 67.5124 Q1623.02 67.5124 1626.75 63.1374 Q1630.51 58.7219 1630.51 51.4303 L1630.51 49.7694 L1623.1 49.7694 M1637.97 46.6907 L1637.97 72.576 L1630.51 72.576 L1630.51 65.6895 Q1627.96 69.8214 1624.15 71.8063 Q1620.35 73.7508 1614.84 73.7508 Q1607.87 73.7508 1603.74 69.8619 Q1599.65 65.9325 1599.65 59.3701 Q1599.65 51.7138 1604.75 47.825 Q1609.89 43.9361 1620.06 43.9361 L1630.51 43.9361 L1630.51 43.2069 Q1630.51 38.0623 1627.11 35.2672 Q1623.75 32.4315 1617.63 32.4315 Q1613.74 32.4315 1610.06 33.3632 Q1606.37 34.295 1602.97 36.1584 L1602.97 29.2718 Q1607.06 27.692 1610.91 26.9223 Q1614.76 26.1121 1618.4 26.1121 Q1628.25 26.1121 1633.11 31.2163 Q1637.97 36.3204 1637.97 46.6907 Z\" fill=\"#000000\" fill-rule=\"nonzero\" fill-opacity=\"1\" /><path clip-path=\"url(#clip462)\" d=\"M1714.04 407.687 L1710.28 418.503 L1698.82 418.743 L1707.96 425.671 L1704.63 436.631 L1714.04 430.087 L1723.44 436.631 L1720.12 425.671 L1729.25 418.743 L1717.8 418.503 L1714.04 407.687 Z\" fill=\"#ffff00\" fill-rule=\"evenodd\" fill-opacity=\"1\" stroke=\"#000000\" stroke-opacity=\"1\" stroke-width=\"3.2\"/>\n",
       "<path clip-path=\"url(#clip462)\" d=\"M1485.69 323.132 L1481.93 333.948 L1470.47 334.188 L1479.61 341.116 L1476.28 352.076 L1485.69 345.532 L1495.1 352.076 L1491.77 341.116 L1500.91 334.188 L1489.45 333.948 L1485.69 323.132 Z\" fill=\"#ffff00\" fill-rule=\"evenodd\" fill-opacity=\"1\" stroke=\"#000000\" stroke-opacity=\"1\" stroke-width=\"3.2\"/>\n",
       "<path clip-path=\"url(#clip462)\" d=\"M1889.58 447.934 L1885.82 458.75 L1874.36 458.99 L1883.5 465.918 L1880.17 476.878 L1889.58 470.334 L1898.99 476.878 L1895.66 465.918 L1904.79 458.99 L1893.34 458.75 L1889.58 447.934 Z\" fill=\"#ffff00\" fill-rule=\"evenodd\" fill-opacity=\"1\" stroke=\"#000000\" stroke-opacity=\"1\" stroke-width=\"3.2\"/>\n",
       "<path clip-path=\"url(#clip462)\" d=\"M1179.59 533.38 L1175.83 544.196 L1164.37 544.436 L1173.51 551.364 L1170.18 562.324 L1179.59 555.78 L1188.99 562.324 L1185.67 551.364 L1194.8 544.436 L1183.35 544.196 L1179.59 533.38 Z\" fill=\"#ffff00\" fill-rule=\"evenodd\" fill-opacity=\"1\" stroke=\"#000000\" stroke-opacity=\"1\" stroke-width=\"3.2\"/>\n",
       "<path clip-path=\"url(#clip462)\" d=\"M1841.9 617.183 L1838.14 627.999 L1826.68 628.239 L1835.82 635.167 L1832.49 646.127 L1841.9 639.583 L1851.31 646.127 L1847.98 635.167 L1857.12 628.239 L1845.66 627.999 L1841.9 617.183 Z\" fill=\"#ffff00\" fill-rule=\"evenodd\" fill-opacity=\"1\" stroke=\"#000000\" stroke-opacity=\"1\" stroke-width=\"3.2\"/>\n",
       "<path clip-path=\"url(#clip462)\" d=\"M1699.19 295.305 L1695.43 306.121 L1683.97 306.361 L1693.11 313.289 L1689.78 324.249 L1699.19 317.705 L1708.6 324.249 L1705.27 313.289 L1714.4 306.361 L1702.95 306.121 L1699.19 295.305 Z\" fill=\"#ffff00\" fill-rule=\"evenodd\" fill-opacity=\"1\" stroke=\"#000000\" stroke-opacity=\"1\" stroke-width=\"3.2\"/>\n",
       "<path clip-path=\"url(#clip462)\" d=\"M1824.91 565.315 L1821.15 576.131 L1809.69 576.371 L1818.83 583.299 L1815.5 594.259 L1824.91 587.715 L1834.31 594.259 L1830.99 583.299 L1840.12 576.371 L1828.67 576.131 L1824.91 565.315 Z\" fill=\"#ffff00\" fill-rule=\"evenodd\" fill-opacity=\"1\" stroke=\"#000000\" stroke-opacity=\"1\" stroke-width=\"3.2\"/>\n",
       "<path clip-path=\"url(#clip462)\" d=\"M1701.14 452.601 L1697.38 463.417 L1685.92 463.657 L1695.06 470.585 L1691.73 481.545 L1701.14 475.001 L1710.54 481.545 L1707.22 470.585 L1716.35 463.657 L1704.9 463.417 L1701.14 452.601 Z\" fill=\"#ffff00\" fill-rule=\"evenodd\" fill-opacity=\"1\" stroke=\"#000000\" stroke-opacity=\"1\" stroke-width=\"3.2\"/>\n",
       "<path clip-path=\"url(#clip462)\" d=\"M2292.13 658.289 L2288.37 669.105 L2276.92 669.345 L2286.05 676.273 L2282.72 687.233 L2292.13 680.689 L2301.54 687.233 L2298.21 676.273 L2307.35 669.345 L2295.89 669.105 L2292.13 658.289 Z\" fill=\"#ffff00\" fill-rule=\"evenodd\" fill-opacity=\"1\" stroke=\"#000000\" stroke-opacity=\"1\" stroke-width=\"3.2\"/>\n",
       "<path clip-path=\"url(#clip462)\" d=\"M1611 375.602 L1607.24 386.418 L1595.78 386.658 L1604.92 393.586 L1601.59 404.546 L1611 398.002 L1620.41 404.546 L1617.08 393.586 L1626.21 386.658 L1614.76 386.418 L1611 375.602 Z\" fill=\"#ffff00\" fill-rule=\"evenodd\" fill-opacity=\"1\" stroke=\"#000000\" stroke-opacity=\"1\" stroke-width=\"3.2\"/>\n",
       "<path clip-path=\"url(#clip462)\" d=\"M2112.95 717.789 L2109.19 728.605 L2097.74 728.845 L2106.87 735.773 L2103.55 746.733 L2112.95 740.189 L2122.36 746.733 L2119.03 735.773 L2128.17 728.845 L2116.71 728.605 L2112.95 717.789 Z\" fill=\"#ffff00\" fill-rule=\"evenodd\" fill-opacity=\"1\" stroke=\"#000000\" stroke-opacity=\"1\" stroke-width=\"3.2\"/>\n",
       "<path clip-path=\"url(#clip462)\" d=\"M1685.22 532.932 L1681.46 543.748 L1670.01 543.988 L1679.14 550.916 L1675.82 561.876 L1685.22 555.332 L1694.63 561.876 L1691.3 550.916 L1700.44 543.988 L1688.98 543.748 L1685.22 532.932 Z\" fill=\"#ffff00\" fill-rule=\"evenodd\" fill-opacity=\"1\" stroke=\"#000000\" stroke-opacity=\"1\" stroke-width=\"3.2\"/>\n",
       "<path clip-path=\"url(#clip462)\" d=\"M1527.24 705.534 L1523.48 716.35 L1512.03 716.59 L1521.16 723.518 L1517.84 734.478 L1527.24 727.934 L1536.65 734.478 L1533.32 723.518 L1542.46 716.59 L1531 716.35 L1527.24 705.534 Z\" fill=\"#ffff00\" fill-rule=\"evenodd\" fill-opacity=\"1\" stroke=\"#000000\" stroke-opacity=\"1\" stroke-width=\"3.2\"/>\n",
       "<path clip-path=\"url(#clip462)\" d=\"M1297.66 683.882 L1293.9 694.698 L1282.45 694.938 L1291.58 701.866 L1288.26 712.826 L1297.66 706.282 L1307.07 712.826 L1303.74 701.866 L1312.88 694.938 L1301.42 694.698 L1297.66 683.882 Z\" fill=\"#ffff00\" fill-rule=\"evenodd\" fill-opacity=\"1\" stroke=\"#000000\" stroke-opacity=\"1\" stroke-width=\"3.2\"/>\n",
       "<path clip-path=\"url(#clip462)\" d=\"M1547.87 314.683 L1544.11 325.499 L1532.65 325.739 L1541.79 332.667 L1538.46 343.627 L1547.87 337.083 L1557.27 343.627 L1553.95 332.667 L1563.08 325.739 L1551.63 325.499 L1547.87 314.683 Z\" fill=\"#ffff00\" fill-rule=\"evenodd\" fill-opacity=\"1\" stroke=\"#000000\" stroke-opacity=\"1\" stroke-width=\"3.2\"/>\n",
       "<path clip-path=\"url(#clip462)\" d=\"M1973.22 638.751 L1969.46 649.567 L1958 649.807 L1967.14 656.735 L1963.81 667.695 L1973.22 661.151 L1982.63 667.695 L1979.3 656.735 L1988.44 649.807 L1976.98 649.567 L1973.22 638.751 Z\" fill=\"#ffff00\" fill-rule=\"evenodd\" fill-opacity=\"1\" stroke=\"#000000\" stroke-opacity=\"1\" stroke-width=\"3.2\"/>\n",
       "<path clip-path=\"url(#clip462)\" d=\"M1757.76 357.224 L1754 368.04 L1742.55 368.28 L1751.68 375.208 L1748.36 386.168 L1757.76 379.624 L1767.17 386.168 L1763.84 375.208 L1772.98 368.28 L1761.52 368.04 L1757.76 357.224 Z\" fill=\"#ffff00\" fill-rule=\"evenodd\" fill-opacity=\"1\" stroke=\"#000000\" stroke-opacity=\"1\" stroke-width=\"3.2\"/>\n",
       "<path clip-path=\"url(#clip462)\" d=\"M1670.64 371.522 L1666.88 382.338 L1655.42 382.578 L1664.56 389.506 L1661.23 400.466 L1670.64 393.922 L1680.05 400.466 L1676.72 389.506 L1685.85 382.578 L1674.4 382.338 L1670.64 371.522 Z\" fill=\"#ffff00\" fill-rule=\"evenodd\" fill-opacity=\"1\" stroke=\"#000000\" stroke-opacity=\"1\" stroke-width=\"3.2\"/>\n",
       "<path clip-path=\"url(#clip462)\" d=\"M1683.66 720.283 L1679.9 731.099 L1668.44 731.339 L1677.58 738.267 L1674.25 749.227 L1683.66 742.683 L1693.06 749.227 L1689.74 738.267 L1698.87 731.339 L1687.42 731.099 L1683.66 720.283 Z\" fill=\"#ffff00\" fill-rule=\"evenodd\" fill-opacity=\"1\" stroke=\"#000000\" stroke-opacity=\"1\" stroke-width=\"3.2\"/>\n",
       "<path clip-path=\"url(#clip462)\" d=\"M1441.48 775.614 L1437.72 786.43 L1426.27 786.67 L1435.4 793.598 L1432.07 804.558 L1441.48 798.014 L1450.89 804.558 L1447.56 793.598 L1456.7 786.67 L1445.24 786.43 L1441.48 775.614 Z\" fill=\"#ffff00\" fill-rule=\"evenodd\" fill-opacity=\"1\" stroke=\"#000000\" stroke-opacity=\"1\" stroke-width=\"3.2\"/>\n",
       "<circle clip-path=\"url(#clip462)\" cx=\"652.66\" cy=\"1181.71\" r=\"14.4\" fill=\"#90ee90\" fill-rule=\"evenodd\" fill-opacity=\"1\" stroke=\"#000000\" stroke-opacity=\"1\" stroke-width=\"3.2\"/>\n",
       "<circle clip-path=\"url(#clip462)\" cx=\"271.369\" cy=\"896.169\" r=\"14.4\" fill=\"#90ee90\" fill-rule=\"evenodd\" fill-opacity=\"1\" stroke=\"#000000\" stroke-opacity=\"1\" stroke-width=\"3.2\"/>\n",
       "<circle clip-path=\"url(#clip462)\" cx=\"637.612\" cy=\"1296.74\" r=\"14.4\" fill=\"#90ee90\" fill-rule=\"evenodd\" fill-opacity=\"1\" stroke=\"#000000\" stroke-opacity=\"1\" stroke-width=\"3.2\"/>\n",
       "<circle clip-path=\"url(#clip462)\" cx=\"793.72\" cy=\"1013.4\" r=\"14.4\" fill=\"#90ee90\" fill-rule=\"evenodd\" fill-opacity=\"1\" stroke=\"#000000\" stroke-opacity=\"1\" stroke-width=\"3.2\"/>\n",
       "<circle clip-path=\"url(#clip462)\" cx=\"792.267\" cy=\"1126.24\" r=\"14.4\" fill=\"#90ee90\" fill-rule=\"evenodd\" fill-opacity=\"1\" stroke=\"#000000\" stroke-opacity=\"1\" stroke-width=\"3.2\"/>\n",
       "<circle clip-path=\"url(#clip462)\" cx=\"674.71\" cy=\"1126.45\" r=\"14.4\" fill=\"#90ee90\" fill-rule=\"evenodd\" fill-opacity=\"1\" stroke=\"#000000\" stroke-opacity=\"1\" stroke-width=\"3.2\"/>\n",
       "<circle clip-path=\"url(#clip462)\" cx=\"920.533\" cy=\"979.108\" r=\"14.4\" fill=\"#90ee90\" fill-rule=\"evenodd\" fill-opacity=\"1\" stroke=\"#000000\" stroke-opacity=\"1\" stroke-width=\"3.2\"/>\n",
       "<circle clip-path=\"url(#clip462)\" cx=\"774.257\" cy=\"1072.72\" r=\"14.4\" fill=\"#90ee90\" fill-rule=\"evenodd\" fill-opacity=\"1\" stroke=\"#000000\" stroke-opacity=\"1\" stroke-width=\"3.2\"/>\n",
       "<circle clip-path=\"url(#clip462)\" cx=\"1137.83\" cy=\"1123.62\" r=\"14.4\" fill=\"#90ee90\" fill-rule=\"evenodd\" fill-opacity=\"1\" stroke=\"#000000\" stroke-opacity=\"1\" stroke-width=\"3.2\"/>\n",
       "<circle clip-path=\"url(#clip462)\" cx=\"486.357\" cy=\"1239.12\" r=\"14.4\" fill=\"#90ee90\" fill-rule=\"evenodd\" fill-opacity=\"1\" stroke=\"#000000\" stroke-opacity=\"1\" stroke-width=\"3.2\"/>\n",
       "<circle clip-path=\"url(#clip462)\" cx=\"373.673\" cy=\"1093.15\" r=\"14.4\" fill=\"#90ee90\" fill-rule=\"evenodd\" fill-opacity=\"1\" stroke=\"#000000\" stroke-opacity=\"1\" stroke-width=\"3.2\"/>\n",
       "<circle clip-path=\"url(#clip462)\" cx=\"729.395\" cy=\"1251.7\" r=\"14.4\" fill=\"#90ee90\" fill-rule=\"evenodd\" fill-opacity=\"1\" stroke=\"#000000\" stroke-opacity=\"1\" stroke-width=\"3.2\"/>\n",
       "<circle clip-path=\"url(#clip462)\" cx=\"675.28\" cy=\"1233.48\" r=\"14.4\" fill=\"#90ee90\" fill-rule=\"evenodd\" fill-opacity=\"1\" stroke=\"#000000\" stroke-opacity=\"1\" stroke-width=\"3.2\"/>\n",
       "<circle clip-path=\"url(#clip462)\" cx=\"316.481\" cy=\"1124.1\" r=\"14.4\" fill=\"#90ee90\" fill-rule=\"evenodd\" fill-opacity=\"1\" stroke=\"#000000\" stroke-opacity=\"1\" stroke-width=\"3.2\"/>\n",
       "<circle clip-path=\"url(#clip462)\" cx=\"388.627\" cy=\"833.495\" r=\"14.4\" fill=\"#90ee90\" fill-rule=\"evenodd\" fill-opacity=\"1\" stroke=\"#000000\" stroke-opacity=\"1\" stroke-width=\"3.2\"/>\n",
       "<circle clip-path=\"url(#clip462)\" cx=\"1060.85\" cy=\"1060.85\" r=\"14.4\" fill=\"#90ee90\" fill-rule=\"evenodd\" fill-opacity=\"1\" stroke=\"#000000\" stroke-opacity=\"1\" stroke-width=\"3.2\"/>\n",
       "<circle clip-path=\"url(#clip462)\" cx=\"670.146\" cy=\"1386.4\" r=\"14.4\" fill=\"#90ee90\" fill-rule=\"evenodd\" fill-opacity=\"1\" stroke=\"#000000\" stroke-opacity=\"1\" stroke-width=\"3.2\"/>\n",
       "<circle clip-path=\"url(#clip462)\" cx=\"394.882\" cy=\"1148.43\" r=\"14.4\" fill=\"#90ee90\" fill-rule=\"evenodd\" fill-opacity=\"1\" stroke=\"#000000\" stroke-opacity=\"1\" stroke-width=\"3.2\"/>\n",
       "<circle clip-path=\"url(#clip462)\" cx=\"443.792\" cy=\"1235.37\" r=\"14.4\" fill=\"#90ee90\" fill-rule=\"evenodd\" fill-opacity=\"1\" stroke=\"#000000\" stroke-opacity=\"1\" stroke-width=\"3.2\"/>\n",
       "<circle clip-path=\"url(#clip462)\" cx=\"338.735\" cy=\"1110.08\" r=\"14.4\" fill=\"#90ee90\" fill-rule=\"evenodd\" fill-opacity=\"1\" stroke=\"#000000\" stroke-opacity=\"1\" stroke-width=\"3.2\"/>\n",
       "<path clip-path=\"url(#clip462)\" d=\"M1207.27 250.248 L1207.27 282.248 L1239.27 282.248 L1239.27 250.248 L1207.27 250.248 Z\" fill=\"#add8e6\" fill-rule=\"evenodd\" fill-opacity=\"1\" stroke=\"#000000\" stroke-opacity=\"1\" stroke-width=\"3.2\"/>\n",
       "<path clip-path=\"url(#clip462)\" d=\"M975.429 144.256 L975.429 176.256 L1007.43 176.256 L1007.43 144.256 L975.429 144.256 Z\" fill=\"#add8e6\" fill-rule=\"evenodd\" fill-opacity=\"1\" stroke=\"#000000\" stroke-opacity=\"1\" stroke-width=\"3.2\"/>\n",
       "<path clip-path=\"url(#clip462)\" d=\"M1107.68 263.828 L1107.68 295.828 L1139.68 295.828 L1139.68 263.828 L1107.68 263.828 Z\" fill=\"#add8e6\" fill-rule=\"evenodd\" fill-opacity=\"1\" stroke=\"#000000\" stroke-opacity=\"1\" stroke-width=\"3.2\"/>\n",
       "<path clip-path=\"url(#clip462)\" d=\"M939.379 365.795 L939.379 397.795 L971.379 397.795 L971.379 365.795 L939.379 365.795 Z\" fill=\"#add8e6\" fill-rule=\"evenodd\" fill-opacity=\"1\" stroke=\"#000000\" stroke-opacity=\"1\" stroke-width=\"3.2\"/>\n",
       "<path clip-path=\"url(#clip462)\" d=\"M1184.82 264.613 L1184.82 296.613 L1216.82 296.613 L1216.82 264.613 L1184.82 264.613 Z\" fill=\"#add8e6\" fill-rule=\"evenodd\" fill-opacity=\"1\" stroke=\"#000000\" stroke-opacity=\"1\" stroke-width=\"3.2\"/>\n",
       "<path clip-path=\"url(#clip462)\" d=\"M1166.16 347.306 L1166.16 379.306 L1198.16 379.306 L1198.16 347.306 L1166.16 347.306 Z\" fill=\"#add8e6\" fill-rule=\"evenodd\" fill-opacity=\"1\" stroke=\"#000000\" stroke-opacity=\"1\" stroke-width=\"3.2\"/>\n",
       "<path clip-path=\"url(#clip462)\" d=\"M983.84 409.943 L983.84 441.943 L1015.84 441.943 L1015.84 409.943 L983.84 409.943 Z\" fill=\"#add8e6\" fill-rule=\"evenodd\" fill-opacity=\"1\" stroke=\"#000000\" stroke-opacity=\"1\" stroke-width=\"3.2\"/>\n",
       "<path clip-path=\"url(#clip462)\" d=\"M820.092 145.745 L820.092 177.745 L852.092 177.745 L852.092 145.745 L820.092 145.745 Z\" fill=\"#add8e6\" fill-rule=\"evenodd\" fill-opacity=\"1\" stroke=\"#000000\" stroke-opacity=\"1\" stroke-width=\"3.2\"/>\n",
       "<path clip-path=\"url(#clip462)\" d=\"M1096.4 361.153 L1096.4 393.153 L1128.4 393.153 L1128.4 361.153 L1096.4 361.153 Z\" fill=\"#add8e6\" fill-rule=\"evenodd\" fill-opacity=\"1\" stroke=\"#000000\" stroke-opacity=\"1\" stroke-width=\"3.2\"/>\n",
       "<path clip-path=\"url(#clip462)\" d=\"M914.619 242.181 L914.619 274.181 L946.619 274.181 L946.619 242.181 L914.619 242.181 Z\" fill=\"#add8e6\" fill-rule=\"evenodd\" fill-opacity=\"1\" stroke=\"#000000\" stroke-opacity=\"1\" stroke-width=\"3.2\"/>\n",
       "<path clip-path=\"url(#clip462)\" d=\"M877.802 333.671 L877.802 365.671 L909.802 365.671 L909.802 333.671 L877.802 333.671 Z\" fill=\"#add8e6\" fill-rule=\"evenodd\" fill-opacity=\"1\" stroke=\"#000000\" stroke-opacity=\"1\" stroke-width=\"3.2\"/>\n",
       "<path clip-path=\"url(#clip462)\" d=\"M987.669 175.571 L987.669 207.571 L1019.67 207.571 L1019.67 175.571 L987.669 175.571 Z\" fill=\"#add8e6\" fill-rule=\"evenodd\" fill-opacity=\"1\" stroke=\"#000000\" stroke-opacity=\"1\" stroke-width=\"3.2\"/>\n",
       "<path clip-path=\"url(#clip462)\" d=\"M921.93 345.874 L921.93 377.874 L953.93 377.874 L953.93 345.874 L921.93 345.874 Z\" fill=\"#add8e6\" fill-rule=\"evenodd\" fill-opacity=\"1\" stroke=\"#000000\" stroke-opacity=\"1\" stroke-width=\"3.2\"/>\n",
       "<path clip-path=\"url(#clip462)\" d=\"M1143.94 387.862 L1143.94 419.862 L1175.94 419.862 L1175.94 387.862 L1143.94 387.862 Z\" fill=\"#add8e6\" fill-rule=\"evenodd\" fill-opacity=\"1\" stroke=\"#000000\" stroke-opacity=\"1\" stroke-width=\"3.2\"/>\n",
       "<path clip-path=\"url(#clip462)\" d=\"M1057.19 415.108 L1057.19 447.108 L1089.19 447.108 L1089.19 415.108 L1057.19 415.108 Z\" fill=\"#add8e6\" fill-rule=\"evenodd\" fill-opacity=\"1\" stroke=\"#000000\" stroke-opacity=\"1\" stroke-width=\"3.2\"/>\n",
       "<path clip-path=\"url(#clip462)\" d=\"M1188.62 205.865 L1188.62 237.865 L1220.62 237.865 L1220.62 205.865 L1188.62 205.865 Z\" fill=\"#add8e6\" fill-rule=\"evenodd\" fill-opacity=\"1\" stroke=\"#000000\" stroke-opacity=\"1\" stroke-width=\"3.2\"/>\n",
       "<path clip-path=\"url(#clip462)\" d=\"M1086.54 402.968 L1086.54 434.968 L1118.54 434.968 L1118.54 402.968 L1086.54 402.968 Z\" fill=\"#add8e6\" fill-rule=\"evenodd\" fill-opacity=\"1\" stroke=\"#000000\" stroke-opacity=\"1\" stroke-width=\"3.2\"/>\n",
       "<path clip-path=\"url(#clip462)\" d=\"M866.925 181.234 L866.925 213.234 L898.925 213.234 L898.925 181.234 L866.925 181.234 Z\" fill=\"#add8e6\" fill-rule=\"evenodd\" fill-opacity=\"1\" stroke=\"#000000\" stroke-opacity=\"1\" stroke-width=\"3.2\"/>\n",
       "<path clip-path=\"url(#clip462)\" d=\"M967.369 213.073 L967.369 245.073 L999.369 245.073 L999.369 213.073 L967.369 213.073 Z\" fill=\"#add8e6\" fill-rule=\"evenodd\" fill-opacity=\"1\" stroke=\"#000000\" stroke-opacity=\"1\" stroke-width=\"3.2\"/>\n",
       "<path clip-path=\"url(#clip462)\" d=\"M1207.23 410.316 L1207.23 442.316 L1239.23 442.316 L1239.23 410.316 L1207.23 410.316 Z\" fill=\"#add8e6\" fill-rule=\"evenodd\" fill-opacity=\"1\" stroke=\"#000000\" stroke-opacity=\"1\" stroke-width=\"3.2\"/>\n",
       "</svg>\n"
      ],
      "text/html": [
       "<?xml version=\"1.0\" encoding=\"utf-8\"?>\n",
       "<svg xmlns=\"http://www.w3.org/2000/svg\" xmlns:xlink=\"http://www.w3.org/1999/xlink\" width=\"600\" height=\"400\" viewBox=\"0 0 2400 1600\">\n",
       "<defs>\n",
       "  <clipPath id=\"clip510\">\n",
       "    <rect x=\"0\" y=\"0\" width=\"2400\" height=\"1600\"/>\n",
       "  </clipPath>\n",
       "</defs>\n",
       "<path clip-path=\"url(#clip510)\" d=\"M0 1600 L2400 1600 L2400 0 L0 0  Z\" fill=\"#ffffff\" fill-rule=\"evenodd\" fill-opacity=\"1\"/>\n",
       "<defs>\n",
       "  <clipPath id=\"clip511\">\n",
       "    <rect x=\"480\" y=\"0\" width=\"1681\" height=\"1600\"/>\n",
       "  </clipPath>\n",
       "</defs>\n",
       "<path clip-path=\"url(#clip510)\" d=\"M210.746 1423.18 L2352.76 1423.18 L2352.76 123.472 L210.746 123.472  Z\" fill=\"#ffffff\" fill-rule=\"evenodd\" fill-opacity=\"1\"/>\n",
       "<defs>\n",
       "  <clipPath id=\"clip512\">\n",
       "    <rect x=\"210\" y=\"123\" width=\"2143\" height=\"1301\"/>\n",
       "  </clipPath>\n",
       "</defs>\n",
       "<polyline clip-path=\"url(#clip512)\" style=\"stroke:#000000; stroke-linecap:round; stroke-linejoin:round; stroke-width:2; stroke-opacity:0.1; fill:none\" points=\"259.09,1423.18 259.09,123.472 \"/>\n",
       "<polyline clip-path=\"url(#clip512)\" style=\"stroke:#000000; stroke-linecap:round; stroke-linejoin:round; stroke-width:2; stroke-opacity:0.1; fill:none\" points=\"691.793,1423.18 691.793,123.472 \"/>\n",
       "<polyline clip-path=\"url(#clip512)\" style=\"stroke:#000000; stroke-linecap:round; stroke-linejoin:round; stroke-width:2; stroke-opacity:0.1; fill:none\" points=\"1124.5,1423.18 1124.5,123.472 \"/>\n",
       "<polyline clip-path=\"url(#clip512)\" style=\"stroke:#000000; stroke-linecap:round; stroke-linejoin:round; stroke-width:2; stroke-opacity:0.1; fill:none\" points=\"1557.2,1423.18 1557.2,123.472 \"/>\n",
       "<polyline clip-path=\"url(#clip512)\" style=\"stroke:#000000; stroke-linecap:round; stroke-linejoin:round; stroke-width:2; stroke-opacity:0.1; fill:none\" points=\"1989.9,1423.18 1989.9,123.472 \"/>\n",
       "<polyline clip-path=\"url(#clip510)\" style=\"stroke:#000000; stroke-linecap:round; stroke-linejoin:round; stroke-width:4; stroke-opacity:1; fill:none\" points=\"210.746,1423.18 2352.76,1423.18 \"/>\n",
       "<polyline clip-path=\"url(#clip510)\" style=\"stroke:#000000; stroke-linecap:round; stroke-linejoin:round; stroke-width:4; stroke-opacity:1; fill:none\" points=\"259.09,1423.18 259.09,1404.28 \"/>\n",
       "<polyline clip-path=\"url(#clip510)\" style=\"stroke:#000000; stroke-linecap:round; stroke-linejoin:round; stroke-width:4; stroke-opacity:1; fill:none\" points=\"691.793,1423.18 691.793,1404.28 \"/>\n",
       "<polyline clip-path=\"url(#clip510)\" style=\"stroke:#000000; stroke-linecap:round; stroke-linejoin:round; stroke-width:4; stroke-opacity:1; fill:none\" points=\"1124.5,1423.18 1124.5,1404.28 \"/>\n",
       "<polyline clip-path=\"url(#clip510)\" style=\"stroke:#000000; stroke-linecap:round; stroke-linejoin:round; stroke-width:4; stroke-opacity:1; fill:none\" points=\"1557.2,1423.18 1557.2,1404.28 \"/>\n",
       "<polyline clip-path=\"url(#clip510)\" style=\"stroke:#000000; stroke-linecap:round; stroke-linejoin:round; stroke-width:4; stroke-opacity:1; fill:none\" points=\"1989.9,1423.18 1989.9,1404.28 \"/>\n",
       "<path clip-path=\"url(#clip510)\" d=\"M229.032 1468.75 L258.708 1468.75 L258.708 1472.69 L229.032 1472.69 L229.032 1468.75 Z\" fill=\"#000000\" fill-rule=\"nonzero\" fill-opacity=\"1\" /><path clip-path=\"url(#clip510)\" d=\"M272.828 1481.64 L289.147 1481.64 L289.147 1485.58 L267.203 1485.58 L267.203 1481.64 Q269.865 1478.89 274.448 1474.26 Q279.055 1469.61 280.235 1468.27 Q282.481 1465.74 283.36 1464.01 Q284.263 1462.25 284.263 1460.56 Q284.263 1457.8 282.319 1456.07 Q280.397 1454.33 277.296 1454.33 Q275.097 1454.33 272.643 1455.09 Q270.212 1455.86 267.435 1457.41 L267.435 1452.69 Q270.259 1451.55 272.712 1450.97 Q275.166 1450.39 277.203 1450.39 Q282.573 1450.39 285.768 1453.08 Q288.962 1455.77 288.962 1460.26 Q288.962 1462.39 288.152 1464.31 Q287.365 1466.2 285.259 1468.8 Q284.68 1469.47 281.578 1472.69 Q278.476 1475.88 272.828 1481.64 Z\" fill=\"#000000\" fill-rule=\"nonzero\" fill-opacity=\"1\" /><path clip-path=\"url(#clip510)\" d=\"M661.55 1468.75 L691.226 1468.75 L691.226 1472.69 L661.55 1472.69 L661.55 1468.75 Z\" fill=\"#000000\" fill-rule=\"nonzero\" fill-opacity=\"1\" /><path clip-path=\"url(#clip510)\" d=\"M702.129 1481.64 L709.768 1481.64 L709.768 1455.28 L701.457 1456.95 L701.457 1452.69 L709.721 1451.02 L714.397 1451.02 L714.397 1481.64 L722.036 1481.64 L722.036 1485.58 L702.129 1485.58 L702.129 1481.64 Z\" fill=\"#000000\" fill-rule=\"nonzero\" fill-opacity=\"1\" /><path clip-path=\"url(#clip510)\" d=\"M1124.5 1454.1 Q1120.89 1454.1 1119.06 1457.66 Q1117.25 1461.2 1117.25 1468.33 Q1117.25 1475.44 1119.06 1479.01 Q1120.89 1482.55 1124.5 1482.55 Q1128.13 1482.55 1129.94 1479.01 Q1131.77 1475.44 1131.77 1468.33 Q1131.77 1461.2 1129.94 1457.66 Q1128.13 1454.1 1124.5 1454.1 M1124.5 1450.39 Q1130.31 1450.39 1133.36 1455 Q1136.44 1459.58 1136.44 1468.33 Q1136.44 1477.06 1133.36 1481.67 Q1130.31 1486.25 1124.5 1486.25 Q1118.69 1486.25 1115.61 1481.67 Q1112.55 1477.06 1112.55 1468.33 Q1112.55 1459.58 1115.61 1455 Q1118.69 1450.39 1124.5 1450.39 Z\" fill=\"#000000\" fill-rule=\"nonzero\" fill-opacity=\"1\" /><path clip-path=\"url(#clip510)\" d=\"M1547.58 1481.64 L1555.22 1481.64 L1555.22 1455.28 L1546.91 1456.95 L1546.91 1452.69 L1555.17 1451.02 L1559.85 1451.02 L1559.85 1481.64 L1567.49 1481.64 L1567.49 1485.58 L1547.58 1485.58 L1547.58 1481.64 Z\" fill=\"#000000\" fill-rule=\"nonzero\" fill-opacity=\"1\" /><path clip-path=\"url(#clip510)\" d=\"M1984.56 1481.64 L2000.88 1481.64 L2000.88 1485.58 L1978.93 1485.58 L1978.93 1481.64 Q1981.59 1478.89 1986.18 1474.26 Q1990.78 1469.61 1991.96 1468.27 Q1994.21 1465.74 1995.09 1464.01 Q1995.99 1462.25 1995.99 1460.56 Q1995.99 1457.8 1994.05 1456.07 Q1992.13 1454.33 1989.02 1454.33 Q1986.83 1454.33 1984.37 1455.09 Q1981.94 1455.86 1979.16 1457.41 L1979.16 1452.69 Q1981.99 1451.55 1984.44 1450.97 Q1986.89 1450.39 1988.93 1450.39 Q1994.3 1450.39 1997.5 1453.08 Q2000.69 1455.77 2000.69 1460.26 Q2000.69 1462.39 1999.88 1464.31 Q1999.09 1466.2 1996.99 1468.8 Q1996.41 1469.47 1993.31 1472.69 Q1990.2 1475.88 1984.56 1481.64 Z\" fill=\"#000000\" fill-rule=\"nonzero\" fill-opacity=\"1\" /><path clip-path=\"url(#clip510)\" d=\"M1298.37 1532.4 L1285.47 1549.74 L1299.03 1568.04 L1292.13 1568.04 L1281.75 1554.04 L1271.37 1568.04 L1264.47 1568.04 L1278.31 1549.39 L1265.65 1532.4 L1272.55 1532.4 L1282.01 1545.1 L1291.46 1532.4 L1298.37 1532.4 Z\" fill=\"#000000\" fill-rule=\"nonzero\" fill-opacity=\"1\" /><polyline clip-path=\"url(#clip512)\" style=\"stroke:#000000; stroke-linecap:round; stroke-linejoin:round; stroke-width:2; stroke-opacity:0.1; fill:none\" points=\"210.746,1400.92 2352.76,1400.92 \"/>\n",
       "<polyline clip-path=\"url(#clip512)\" style=\"stroke:#000000; stroke-linecap:round; stroke-linejoin:round; stroke-width:2; stroke-opacity:0.1; fill:none\" points=\"210.746,1120.74 2352.76,1120.74 \"/>\n",
       "<polyline clip-path=\"url(#clip512)\" style=\"stroke:#000000; stroke-linecap:round; stroke-linejoin:round; stroke-width:2; stroke-opacity:0.1; fill:none\" points=\"210.746,840.553 2352.76,840.553 \"/>\n",
       "<polyline clip-path=\"url(#clip512)\" style=\"stroke:#000000; stroke-linecap:round; stroke-linejoin:round; stroke-width:2; stroke-opacity:0.1; fill:none\" points=\"210.746,560.371 2352.76,560.371 \"/>\n",
       "<polyline clip-path=\"url(#clip512)\" style=\"stroke:#000000; stroke-linecap:round; stroke-linejoin:round; stroke-width:2; stroke-opacity:0.1; fill:none\" points=\"210.746,280.188 2352.76,280.188 \"/>\n",
       "<polyline clip-path=\"url(#clip510)\" style=\"stroke:#000000; stroke-linecap:round; stroke-linejoin:round; stroke-width:4; stroke-opacity:1; fill:none\" points=\"210.746,1423.18 210.746,123.472 \"/>\n",
       "<polyline clip-path=\"url(#clip510)\" style=\"stroke:#000000; stroke-linecap:round; stroke-linejoin:round; stroke-width:4; stroke-opacity:1; fill:none\" points=\"210.746,1400.92 229.644,1400.92 \"/>\n",
       "<polyline clip-path=\"url(#clip510)\" style=\"stroke:#000000; stroke-linecap:round; stroke-linejoin:round; stroke-width:4; stroke-opacity:1; fill:none\" points=\"210.746,1120.74 229.644,1120.74 \"/>\n",
       "<polyline clip-path=\"url(#clip510)\" style=\"stroke:#000000; stroke-linecap:round; stroke-linejoin:round; stroke-width:4; stroke-opacity:1; fill:none\" points=\"210.746,840.553 229.644,840.553 \"/>\n",
       "<polyline clip-path=\"url(#clip510)\" style=\"stroke:#000000; stroke-linecap:round; stroke-linejoin:round; stroke-width:4; stroke-opacity:1; fill:none\" points=\"210.746,560.371 229.644,560.371 \"/>\n",
       "<polyline clip-path=\"url(#clip510)\" style=\"stroke:#000000; stroke-linecap:round; stroke-linejoin:round; stroke-width:4; stroke-opacity:1; fill:none\" points=\"210.746,280.188 229.644,280.188 \"/>\n",
       "<path clip-path=\"url(#clip510)\" d=\"M114.631 1401.37 L144.306 1401.37 L144.306 1405.3 L114.631 1405.3 L114.631 1401.37 Z\" fill=\"#000000\" fill-rule=\"nonzero\" fill-opacity=\"1\" /><path clip-path=\"url(#clip510)\" d=\"M158.427 1414.26 L174.746 1414.26 L174.746 1418.2 L152.802 1418.2 L152.802 1414.26 Q155.464 1411.51 160.047 1406.88 Q164.653 1402.23 165.834 1400.88 Q168.079 1398.36 168.959 1396.62 Q169.862 1394.87 169.862 1393.18 Q169.862 1390.42 167.917 1388.68 Q165.996 1386.95 162.894 1386.95 Q160.695 1386.95 158.241 1387.71 Q155.811 1388.48 153.033 1390.03 L153.033 1385.3 Q155.857 1384.17 158.311 1383.59 Q160.765 1383.01 162.802 1383.01 Q168.172 1383.01 171.366 1385.7 Q174.561 1388.38 174.561 1392.87 Q174.561 1395 173.751 1396.93 Q172.964 1398.82 170.857 1401.42 Q170.278 1402.09 167.177 1405.3 Q164.075 1408.5 158.427 1414.26 Z\" fill=\"#000000\" fill-rule=\"nonzero\" fill-opacity=\"1\" /><path clip-path=\"url(#clip510)\" d=\"M114.26 1121.19 L143.936 1121.19 L143.936 1125.12 L114.26 1125.12 L114.26 1121.19 Z\" fill=\"#000000\" fill-rule=\"nonzero\" fill-opacity=\"1\" /><path clip-path=\"url(#clip510)\" d=\"M154.839 1134.08 L162.477 1134.08 L162.477 1107.71 L154.167 1109.38 L154.167 1105.12 L162.431 1103.46 L167.107 1103.46 L167.107 1134.08 L174.746 1134.08 L174.746 1138.02 L154.839 1138.02 L154.839 1134.08 Z\" fill=\"#000000\" fill-rule=\"nonzero\" fill-opacity=\"1\" /><path clip-path=\"url(#clip510)\" d=\"M162.802 826.352 Q159.19 826.352 157.362 829.917 Q155.556 833.458 155.556 840.588 Q155.556 847.694 157.362 851.259 Q159.19 854.801 162.802 854.801 Q166.436 854.801 168.241 851.259 Q170.07 847.694 170.07 840.588 Q170.07 833.458 168.241 829.917 Q166.436 826.352 162.802 826.352 M162.802 822.648 Q168.612 822.648 171.667 827.255 Q174.746 831.838 174.746 840.588 Q174.746 849.315 171.667 853.921 Q168.612 858.504 162.802 858.504 Q156.991 858.504 153.913 853.921 Q150.857 849.315 150.857 840.588 Q150.857 831.838 153.913 827.255 Q156.991 822.648 162.802 822.648 Z\" fill=\"#000000\" fill-rule=\"nonzero\" fill-opacity=\"1\" /><path clip-path=\"url(#clip510)\" d=\"M154.839 573.716 L162.477 573.716 L162.477 547.35 L154.167 549.017 L154.167 544.757 L162.431 543.091 L167.107 543.091 L167.107 573.716 L174.746 573.716 L174.746 577.651 L154.839 577.651 L154.839 573.716 Z\" fill=\"#000000\" fill-rule=\"nonzero\" fill-opacity=\"1\" /><path clip-path=\"url(#clip510)\" d=\"M158.427 293.533 L174.746 293.533 L174.746 297.468 L152.802 297.468 L152.802 293.533 Q155.464 290.778 160.047 286.149 Q164.653 281.496 165.834 280.153 Q168.079 277.63 168.959 275.894 Q169.862 274.135 169.862 272.445 Q169.862 269.691 167.917 267.954 Q165.996 266.218 162.894 266.218 Q160.695 266.218 158.241 266.982 Q155.811 267.746 153.033 269.297 L153.033 264.575 Q155.857 263.441 158.311 262.862 Q160.765 262.283 162.802 262.283 Q168.172 262.283 171.366 264.968 Q174.561 267.654 174.561 272.144 Q174.561 274.274 173.751 276.195 Q172.964 278.093 170.857 280.686 Q170.278 281.357 167.177 284.575 Q164.075 287.769 158.427 293.533 Z\" fill=\"#000000\" fill-rule=\"nonzero\" fill-opacity=\"1\" /><path clip-path=\"url(#clip510)\" d=\"M67.3143 771.639 Q73.68 774.122 75.6216 776.477 Q77.5631 778.832 77.5631 782.779 L77.5631 787.458 L72.6615 787.458 L72.6615 784.02 Q72.6615 781.601 71.5157 780.265 Q70.3699 778.928 66.1048 777.305 L63.4312 776.254 L28.3562 790.673 L28.3562 784.466 L56.238 773.326 L28.3562 762.186 L28.3562 755.979 L67.3143 771.639 Z\" fill=\"#000000\" fill-rule=\"nonzero\" fill-opacity=\"1\" /><path clip-path=\"url(#clip510)\" d=\"M974.308 16.7545 L974.308 25.383 Q970.176 21.5346 965.477 19.6307 Q960.818 17.7268 955.552 17.7268 Q945.182 17.7268 939.672 24.0867 Q934.163 30.4061 934.163 42.3968 Q934.163 54.3469 939.672 60.7069 Q945.182 67.0263 955.552 67.0263 Q960.818 67.0263 965.477 65.1223 Q970.176 63.2184 974.308 59.3701 L974.308 67.9175 Q970.014 70.8341 965.193 72.2924 Q960.413 73.7508 955.066 73.7508 Q941.333 73.7508 933.434 65.3654 Q925.535 56.9395 925.535 42.3968 Q925.535 27.8135 933.434 19.4281 Q941.333 11.0023 955.066 11.0023 Q960.494 11.0023 965.274 12.4606 Q970.095 13.8784 974.308 16.7545 Z\" fill=\"#000000\" fill-rule=\"nonzero\" fill-opacity=\"1\" /><path clip-path=\"url(#clip510)\" d=\"M1007.24 49.7694 Q998.208 49.7694 994.724 51.8354 Q991.24 53.9013 991.24 58.8839 Q991.24 62.8538 993.833 65.2034 Q996.466 67.5124 1000.96 67.5124 Q1007.16 67.5124 1010.89 63.1374 Q1014.65 58.7219 1014.65 51.4303 L1014.65 49.7694 L1007.24 49.7694 M1022.11 46.6907 L1022.11 72.576 L1014.65 72.576 L1014.65 65.6895 Q1012.1 69.8214 1008.29 71.8063 Q1004.49 73.7508 998.978 73.7508 Q992.01 73.7508 987.878 69.8619 Q983.787 65.9325 983.787 59.3701 Q983.787 51.7138 988.891 47.825 Q994.035 43.9361 1004.2 43.9361 L1014.65 43.9361 L1014.65 43.2069 Q1014.65 38.0623 1011.25 35.2672 Q1007.89 32.4315 1001.77 32.4315 Q997.884 32.4315 994.197 33.3632 Q990.511 34.295 987.108 36.1584 L987.108 29.2718 Q991.2 27.692 995.048 26.9223 Q998.897 26.1121 1002.54 26.1121 Q1012.39 26.1121 1017.25 31.2163 Q1022.11 36.3204 1022.11 46.6907 Z\" fill=\"#000000\" fill-rule=\"nonzero\" fill-opacity=\"1\" /><path clip-path=\"url(#clip510)\" d=\"M1044.83 14.324 L1044.83 27.2059 L1060.19 27.2059 L1060.19 32.9987 L1044.83 32.9987 L1044.83 57.6282 Q1044.83 63.1779 1046.33 64.7578 Q1047.87 66.3376 1052.53 66.3376 L1060.19 66.3376 L1060.19 72.576 L1052.53 72.576 Q1043.9 72.576 1040.62 69.3758 Q1037.34 66.1351 1037.34 57.6282 L1037.34 32.9987 L1031.87 32.9987 L1031.87 27.2059 L1037.34 27.2059 L1037.34 14.324 L1044.83 14.324 Z\" fill=\"#000000\" fill-rule=\"nonzero\" fill-opacity=\"1\" /><path clip-path=\"url(#clip510)\" d=\"M1108.8 48.0275 L1108.8 51.6733 L1074.53 51.6733 Q1075.01 59.3701 1079.14 63.421 Q1083.32 67.4314 1090.73 67.4314 Q1095.02 67.4314 1099.03 66.3781 Q1103.09 65.3249 1107.06 63.2184 L1107.06 70.267 Q1103.05 71.9684 1098.83 72.8596 Q1094.62 73.7508 1090.28 73.7508 Q1079.43 73.7508 1073.07 67.4314 Q1066.75 61.1119 1066.75 50.3365 Q1066.75 39.1965 1072.74 32.6746 Q1078.78 26.1121 1088.99 26.1121 Q1098.14 26.1121 1103.45 32.0264 Q1108.8 37.9003 1108.8 48.0275 M1101.34 45.84 Q1101.26 39.7232 1097.9 36.0774 Q1094.58 32.4315 1089.07 32.4315 Q1082.83 32.4315 1079.06 35.9558 Q1075.34 39.4801 1074.77 45.8805 L1101.34 45.84 Z\" fill=\"#000000\" fill-rule=\"nonzero\" fill-opacity=\"1\" /><path clip-path=\"url(#clip510)\" d=\"M1150.89 49.3643 Q1150.89 41.2625 1147.52 36.8065 Q1144.2 32.3505 1138.17 32.3505 Q1132.17 32.3505 1128.81 36.8065 Q1125.49 41.2625 1125.49 49.3643 Q1125.49 57.4256 1128.81 61.8816 Q1132.17 66.3376 1138.17 66.3376 Q1144.2 66.3376 1147.52 61.8816 Q1150.89 57.4256 1150.89 49.3643 M1158.34 66.9452 Q1158.34 78.5308 1153.2 84.1616 Q1148.05 89.8329 1137.44 89.8329 Q1133.51 89.8329 1130.02 89.2252 Q1126.54 88.6581 1123.26 87.4428 L1123.26 80.1917 Q1126.54 81.9741 1129.74 82.8248 Q1132.94 83.6755 1136.26 83.6755 Q1143.59 83.6755 1147.24 79.8271 Q1150.89 76.0193 1150.89 68.282 L1150.89 64.5957 Q1148.58 68.6061 1144.97 70.5911 Q1141.37 72.576 1136.34 72.576 Q1128 72.576 1122.89 66.2161 Q1117.79 59.8562 1117.79 49.3643 Q1117.79 38.832 1122.89 32.472 Q1128 26.1121 1136.34 26.1121 Q1141.37 26.1121 1144.97 28.0971 Q1148.58 30.082 1150.89 34.0924 L1150.89 27.2059 L1158.34 27.2059 L1158.34 66.9452 Z\" fill=\"#000000\" fill-rule=\"nonzero\" fill-opacity=\"1\" /><path clip-path=\"url(#clip510)\" d=\"M1191.27 32.4315 Q1185.28 32.4315 1181.79 37.1306 Q1178.31 41.7891 1178.31 49.9314 Q1178.31 58.0738 1181.75 62.7728 Q1185.24 67.4314 1191.27 67.4314 Q1197.23 67.4314 1200.71 62.7323 Q1204.2 58.0333 1204.2 49.9314 Q1204.2 41.8701 1200.71 37.1711 Q1197.23 32.4315 1191.27 32.4315 M1191.27 26.1121 Q1201 26.1121 1206.55 32.4315 Q1212.1 38.7509 1212.1 49.9314 Q1212.1 61.0714 1206.55 67.4314 Q1201 73.7508 1191.27 73.7508 Q1181.51 73.7508 1175.96 67.4314 Q1170.45 61.0714 1170.45 49.9314 Q1170.45 38.7509 1175.96 32.4315 Q1181.51 26.1121 1191.27 26.1121 Z\" fill=\"#000000\" fill-rule=\"nonzero\" fill-opacity=\"1\" /><path clip-path=\"url(#clip510)\" d=\"M1250.74 34.1734 Q1249.49 33.4443 1247.99 33.1202 Q1246.53 32.7556 1244.75 32.7556 Q1238.43 32.7556 1235.02 36.8875 Q1231.66 40.9789 1231.66 48.6757 L1231.66 72.576 L1224.17 72.576 L1224.17 27.2059 L1231.66 27.2059 L1231.66 34.2544 Q1234.01 30.1225 1237.78 28.1376 Q1241.55 26.1121 1246.93 26.1121 Q1247.7 26.1121 1248.63 26.2337 Q1249.57 26.3147 1250.7 26.5172 L1250.74 34.1734 Z\" fill=\"#000000\" fill-rule=\"nonzero\" fill-opacity=\"1\" /><path clip-path=\"url(#clip510)\" d=\"M1258.56 27.2059 L1266.01 27.2059 L1266.01 72.576 L1258.56 72.576 L1258.56 27.2059 M1258.56 9.54393 L1266.01 9.54393 L1266.01 18.9825 L1258.56 18.9825 L1258.56 9.54393 Z\" fill=\"#000000\" fill-rule=\"nonzero\" fill-opacity=\"1\" /><path clip-path=\"url(#clip510)\" d=\"M1278.37 27.2059 L1313.77 27.2059 L1313.77 34.0114 L1285.74 66.6212 L1313.77 66.6212 L1313.77 72.576 L1277.36 72.576 L1277.36 65.7705 L1305.39 33.1607 L1278.37 33.1607 L1278.37 27.2059 Z\" fill=\"#000000\" fill-rule=\"nonzero\" fill-opacity=\"1\" /><path clip-path=\"url(#clip510)\" d=\"M1363.96 48.0275 L1363.96 51.6733 L1329.69 51.6733 Q1330.18 59.3701 1334.31 63.421 Q1338.48 67.4314 1345.9 67.4314 Q1350.19 67.4314 1354.2 66.3781 Q1358.25 65.3249 1362.22 63.2184 L1362.22 70.267 Q1358.21 71.9684 1354 72.8596 Q1349.79 73.7508 1345.45 73.7508 Q1334.59 73.7508 1328.24 67.4314 Q1321.92 61.1119 1321.92 50.3365 Q1321.92 39.1965 1327.91 32.6746 Q1333.95 26.1121 1344.16 26.1121 Q1353.31 26.1121 1358.62 32.0264 Q1363.96 37.9003 1363.96 48.0275 M1356.51 45.84 Q1356.43 39.7232 1353.07 36.0774 Q1349.75 32.4315 1344.24 32.4315 Q1338 32.4315 1334.23 35.9558 Q1330.5 39.4801 1329.94 45.8805 L1356.51 45.84 Z\" fill=\"#000000\" fill-rule=\"nonzero\" fill-opacity=\"1\" /><path clip-path=\"url(#clip510)\" d=\"M1406.05 34.0924 L1406.05 9.54393 L1413.51 9.54393 L1413.51 72.576 L1406.05 72.576 L1406.05 65.7705 Q1403.7 69.8214 1400.1 71.8063 Q1396.53 73.7508 1391.51 73.7508 Q1383.29 73.7508 1378.1 67.1883 Q1372.96 60.6258 1372.96 49.9314 Q1372.96 39.2371 1378.1 32.6746 Q1383.29 26.1121 1391.51 26.1121 Q1396.53 26.1121 1400.1 28.0971 Q1403.7 30.0415 1406.05 34.0924 M1380.65 49.9314 Q1380.65 58.1548 1384.02 62.8538 Q1387.42 67.5124 1393.33 67.5124 Q1399.25 67.5124 1402.65 62.8538 Q1406.05 58.1548 1406.05 49.9314 Q1406.05 41.7081 1402.65 37.0496 Q1399.25 32.3505 1393.33 32.3505 Q1387.42 32.3505 1384.02 37.0496 Q1380.65 41.7081 1380.65 49.9314 Z\" fill=\"#000000\" fill-rule=\"nonzero\" fill-opacity=\"1\" /><path clip-path=\"url(#clip510)\" d=\"M1463.74 18.8205 L1463.74 65.8515 L1473.62 65.8515 Q1486.14 65.8515 1491.93 60.1802 Q1497.77 54.509 1497.77 42.2752 Q1497.77 30.1225 1491.93 24.4918 Q1486.14 18.8205 1473.62 18.8205 L1463.74 18.8205 M1455.55 12.096 L1472.37 12.096 Q1489.95 12.096 1498.17 19.4281 Q1506.39 26.7198 1506.39 42.2752 Q1506.39 57.9117 1498.13 65.2439 Q1489.87 72.576 1472.37 72.576 L1455.55 72.576 L1455.55 12.096 Z\" fill=\"#000000\" fill-rule=\"nonzero\" fill-opacity=\"1\" /><path clip-path=\"url(#clip510)\" d=\"M1539.73 49.7694 Q1530.7 49.7694 1527.22 51.8354 Q1523.73 53.9013 1523.73 58.8839 Q1523.73 62.8538 1526.32 65.2034 Q1528.96 67.5124 1533.45 67.5124 Q1539.65 67.5124 1543.38 63.1374 Q1547.15 58.7219 1547.15 51.4303 L1547.15 49.7694 L1539.73 49.7694 M1554.6 46.6907 L1554.6 72.576 L1547.15 72.576 L1547.15 65.6895 Q1544.59 69.8214 1540.79 71.8063 Q1536.98 73.7508 1531.47 73.7508 Q1524.5 73.7508 1520.37 69.8619 Q1516.28 65.9325 1516.28 59.3701 Q1516.28 51.7138 1521.38 47.825 Q1526.53 43.9361 1536.69 43.9361 L1547.15 43.9361 L1547.15 43.2069 Q1547.15 38.0623 1543.74 35.2672 Q1540.38 32.4315 1534.26 32.4315 Q1530.38 32.4315 1526.69 33.3632 Q1523 34.295 1519.6 36.1584 L1519.6 29.2718 Q1523.69 27.692 1527.54 26.9223 Q1531.39 26.1121 1535.03 26.1121 Q1544.88 26.1121 1549.74 31.2163 Q1554.6 36.3204 1554.6 46.6907 Z\" fill=\"#000000\" fill-rule=\"nonzero\" fill-opacity=\"1\" /><path clip-path=\"url(#clip510)\" d=\"M1577.33 14.324 L1577.33 27.2059 L1592.68 27.2059 L1592.68 32.9987 L1577.33 32.9987 L1577.33 57.6282 Q1577.33 63.1779 1578.82 64.7578 Q1580.36 66.3376 1585.02 66.3376 L1592.68 66.3376 L1592.68 72.576 L1585.02 72.576 Q1576.39 72.576 1573.11 69.3758 Q1569.83 66.1351 1569.83 57.6282 L1569.83 32.9987 L1564.36 32.9987 L1564.36 27.2059 L1569.83 27.2059 L1569.83 14.324 L1577.33 14.324 Z\" fill=\"#000000\" fill-rule=\"nonzero\" fill-opacity=\"1\" /><path clip-path=\"url(#clip510)\" d=\"M1623.1 49.7694 Q1614.07 49.7694 1610.58 51.8354 Q1607.1 53.9013 1607.1 58.8839 Q1607.1 62.8538 1609.69 65.2034 Q1612.32 67.5124 1616.82 67.5124 Q1623.02 67.5124 1626.75 63.1374 Q1630.51 58.7219 1630.51 51.4303 L1630.51 49.7694 L1623.1 49.7694 M1637.97 46.6907 L1637.97 72.576 L1630.51 72.576 L1630.51 65.6895 Q1627.96 69.8214 1624.15 71.8063 Q1620.35 73.7508 1614.84 73.7508 Q1607.87 73.7508 1603.74 69.8619 Q1599.65 65.9325 1599.65 59.3701 Q1599.65 51.7138 1604.75 47.825 Q1609.89 43.9361 1620.06 43.9361 L1630.51 43.9361 L1630.51 43.2069 Q1630.51 38.0623 1627.11 35.2672 Q1623.75 32.4315 1617.63 32.4315 Q1613.74 32.4315 1610.06 33.3632 Q1606.37 34.295 1602.97 36.1584 L1602.97 29.2718 Q1607.06 27.692 1610.91 26.9223 Q1614.76 26.1121 1618.4 26.1121 Q1628.25 26.1121 1633.11 31.2163 Q1637.97 36.3204 1637.97 46.6907 Z\" fill=\"#000000\" fill-rule=\"nonzero\" fill-opacity=\"1\" /><path clip-path=\"url(#clip512)\" d=\"M1714.04 407.687 L1710.28 418.503 L1698.82 418.743 L1707.96 425.671 L1704.63 436.631 L1714.04 430.087 L1723.44 436.631 L1720.12 425.671 L1729.25 418.743 L1717.8 418.503 L1714.04 407.687 Z\" fill=\"#ffff00\" fill-rule=\"evenodd\" fill-opacity=\"1\" stroke=\"#000000\" stroke-opacity=\"1\" stroke-width=\"3.2\"/>\n",
       "<path clip-path=\"url(#clip512)\" d=\"M1485.69 323.132 L1481.93 333.948 L1470.47 334.188 L1479.61 341.116 L1476.28 352.076 L1485.69 345.532 L1495.1 352.076 L1491.77 341.116 L1500.91 334.188 L1489.45 333.948 L1485.69 323.132 Z\" fill=\"#ffff00\" fill-rule=\"evenodd\" fill-opacity=\"1\" stroke=\"#000000\" stroke-opacity=\"1\" stroke-width=\"3.2\"/>\n",
       "<path clip-path=\"url(#clip512)\" d=\"M1889.58 447.934 L1885.82 458.75 L1874.36 458.99 L1883.5 465.918 L1880.17 476.878 L1889.58 470.334 L1898.99 476.878 L1895.66 465.918 L1904.79 458.99 L1893.34 458.75 L1889.58 447.934 Z\" fill=\"#ffff00\" fill-rule=\"evenodd\" fill-opacity=\"1\" stroke=\"#000000\" stroke-opacity=\"1\" stroke-width=\"3.2\"/>\n",
       "<path clip-path=\"url(#clip512)\" d=\"M1179.59 533.38 L1175.83 544.196 L1164.37 544.436 L1173.51 551.364 L1170.18 562.324 L1179.59 555.78 L1188.99 562.324 L1185.67 551.364 L1194.8 544.436 L1183.35 544.196 L1179.59 533.38 Z\" fill=\"#ffff00\" fill-rule=\"evenodd\" fill-opacity=\"1\" stroke=\"#000000\" stroke-opacity=\"1\" stroke-width=\"3.2\"/>\n",
       "<path clip-path=\"url(#clip512)\" d=\"M1841.9 617.183 L1838.14 627.999 L1826.68 628.239 L1835.82 635.167 L1832.49 646.127 L1841.9 639.583 L1851.31 646.127 L1847.98 635.167 L1857.12 628.239 L1845.66 627.999 L1841.9 617.183 Z\" fill=\"#ffff00\" fill-rule=\"evenodd\" fill-opacity=\"1\" stroke=\"#000000\" stroke-opacity=\"1\" stroke-width=\"3.2\"/>\n",
       "<path clip-path=\"url(#clip512)\" d=\"M1699.19 295.305 L1695.43 306.121 L1683.97 306.361 L1693.11 313.289 L1689.78 324.249 L1699.19 317.705 L1708.6 324.249 L1705.27 313.289 L1714.4 306.361 L1702.95 306.121 L1699.19 295.305 Z\" fill=\"#ffff00\" fill-rule=\"evenodd\" fill-opacity=\"1\" stroke=\"#000000\" stroke-opacity=\"1\" stroke-width=\"3.2\"/>\n",
       "<path clip-path=\"url(#clip512)\" d=\"M1824.91 565.315 L1821.15 576.131 L1809.69 576.371 L1818.83 583.299 L1815.5 594.259 L1824.91 587.715 L1834.31 594.259 L1830.99 583.299 L1840.12 576.371 L1828.67 576.131 L1824.91 565.315 Z\" fill=\"#ffff00\" fill-rule=\"evenodd\" fill-opacity=\"1\" stroke=\"#000000\" stroke-opacity=\"1\" stroke-width=\"3.2\"/>\n",
       "<path clip-path=\"url(#clip512)\" d=\"M1701.14 452.601 L1697.38 463.417 L1685.92 463.657 L1695.06 470.585 L1691.73 481.545 L1701.14 475.001 L1710.54 481.545 L1707.22 470.585 L1716.35 463.657 L1704.9 463.417 L1701.14 452.601 Z\" fill=\"#ffff00\" fill-rule=\"evenodd\" fill-opacity=\"1\" stroke=\"#000000\" stroke-opacity=\"1\" stroke-width=\"3.2\"/>\n",
       "<path clip-path=\"url(#clip512)\" d=\"M2292.13 658.289 L2288.37 669.105 L2276.92 669.345 L2286.05 676.273 L2282.72 687.233 L2292.13 680.689 L2301.54 687.233 L2298.21 676.273 L2307.35 669.345 L2295.89 669.105 L2292.13 658.289 Z\" fill=\"#ffff00\" fill-rule=\"evenodd\" fill-opacity=\"1\" stroke=\"#000000\" stroke-opacity=\"1\" stroke-width=\"3.2\"/>\n",
       "<path clip-path=\"url(#clip512)\" d=\"M1611 375.602 L1607.24 386.418 L1595.78 386.658 L1604.92 393.586 L1601.59 404.546 L1611 398.002 L1620.41 404.546 L1617.08 393.586 L1626.21 386.658 L1614.76 386.418 L1611 375.602 Z\" fill=\"#ffff00\" fill-rule=\"evenodd\" fill-opacity=\"1\" stroke=\"#000000\" stroke-opacity=\"1\" stroke-width=\"3.2\"/>\n",
       "<path clip-path=\"url(#clip512)\" d=\"M2112.95 717.789 L2109.19 728.605 L2097.74 728.845 L2106.87 735.773 L2103.55 746.733 L2112.95 740.189 L2122.36 746.733 L2119.03 735.773 L2128.17 728.845 L2116.71 728.605 L2112.95 717.789 Z\" fill=\"#ffff00\" fill-rule=\"evenodd\" fill-opacity=\"1\" stroke=\"#000000\" stroke-opacity=\"1\" stroke-width=\"3.2\"/>\n",
       "<path clip-path=\"url(#clip512)\" d=\"M1685.22 532.932 L1681.46 543.748 L1670.01 543.988 L1679.14 550.916 L1675.82 561.876 L1685.22 555.332 L1694.63 561.876 L1691.3 550.916 L1700.44 543.988 L1688.98 543.748 L1685.22 532.932 Z\" fill=\"#ffff00\" fill-rule=\"evenodd\" fill-opacity=\"1\" stroke=\"#000000\" stroke-opacity=\"1\" stroke-width=\"3.2\"/>\n",
       "<path clip-path=\"url(#clip512)\" d=\"M1527.24 705.534 L1523.48 716.35 L1512.03 716.59 L1521.16 723.518 L1517.84 734.478 L1527.24 727.934 L1536.65 734.478 L1533.32 723.518 L1542.46 716.59 L1531 716.35 L1527.24 705.534 Z\" fill=\"#ffff00\" fill-rule=\"evenodd\" fill-opacity=\"1\" stroke=\"#000000\" stroke-opacity=\"1\" stroke-width=\"3.2\"/>\n",
       "<path clip-path=\"url(#clip512)\" d=\"M1297.66 683.882 L1293.9 694.698 L1282.45 694.938 L1291.58 701.866 L1288.26 712.826 L1297.66 706.282 L1307.07 712.826 L1303.74 701.866 L1312.88 694.938 L1301.42 694.698 L1297.66 683.882 Z\" fill=\"#ffff00\" fill-rule=\"evenodd\" fill-opacity=\"1\" stroke=\"#000000\" stroke-opacity=\"1\" stroke-width=\"3.2\"/>\n",
       "<path clip-path=\"url(#clip512)\" d=\"M1547.87 314.683 L1544.11 325.499 L1532.65 325.739 L1541.79 332.667 L1538.46 343.627 L1547.87 337.083 L1557.27 343.627 L1553.95 332.667 L1563.08 325.739 L1551.63 325.499 L1547.87 314.683 Z\" fill=\"#ffff00\" fill-rule=\"evenodd\" fill-opacity=\"1\" stroke=\"#000000\" stroke-opacity=\"1\" stroke-width=\"3.2\"/>\n",
       "<path clip-path=\"url(#clip512)\" d=\"M1973.22 638.751 L1969.46 649.567 L1958 649.807 L1967.14 656.735 L1963.81 667.695 L1973.22 661.151 L1982.63 667.695 L1979.3 656.735 L1988.44 649.807 L1976.98 649.567 L1973.22 638.751 Z\" fill=\"#ffff00\" fill-rule=\"evenodd\" fill-opacity=\"1\" stroke=\"#000000\" stroke-opacity=\"1\" stroke-width=\"3.2\"/>\n",
       "<path clip-path=\"url(#clip512)\" d=\"M1757.76 357.224 L1754 368.04 L1742.55 368.28 L1751.68 375.208 L1748.36 386.168 L1757.76 379.624 L1767.17 386.168 L1763.84 375.208 L1772.98 368.28 L1761.52 368.04 L1757.76 357.224 Z\" fill=\"#ffff00\" fill-rule=\"evenodd\" fill-opacity=\"1\" stroke=\"#000000\" stroke-opacity=\"1\" stroke-width=\"3.2\"/>\n",
       "<path clip-path=\"url(#clip512)\" d=\"M1670.64 371.522 L1666.88 382.338 L1655.42 382.578 L1664.56 389.506 L1661.23 400.466 L1670.64 393.922 L1680.05 400.466 L1676.72 389.506 L1685.85 382.578 L1674.4 382.338 L1670.64 371.522 Z\" fill=\"#ffff00\" fill-rule=\"evenodd\" fill-opacity=\"1\" stroke=\"#000000\" stroke-opacity=\"1\" stroke-width=\"3.2\"/>\n",
       "<path clip-path=\"url(#clip512)\" d=\"M1683.66 720.283 L1679.9 731.099 L1668.44 731.339 L1677.58 738.267 L1674.25 749.227 L1683.66 742.683 L1693.06 749.227 L1689.74 738.267 L1698.87 731.339 L1687.42 731.099 L1683.66 720.283 Z\" fill=\"#ffff00\" fill-rule=\"evenodd\" fill-opacity=\"1\" stroke=\"#000000\" stroke-opacity=\"1\" stroke-width=\"3.2\"/>\n",
       "<path clip-path=\"url(#clip512)\" d=\"M1441.48 775.614 L1437.72 786.43 L1426.27 786.67 L1435.4 793.598 L1432.07 804.558 L1441.48 798.014 L1450.89 804.558 L1447.56 793.598 L1456.7 786.67 L1445.24 786.43 L1441.48 775.614 Z\" fill=\"#ffff00\" fill-rule=\"evenodd\" fill-opacity=\"1\" stroke=\"#000000\" stroke-opacity=\"1\" stroke-width=\"3.2\"/>\n",
       "<circle clip-path=\"url(#clip512)\" cx=\"652.66\" cy=\"1181.71\" r=\"14.4\" fill=\"#90ee90\" fill-rule=\"evenodd\" fill-opacity=\"1\" stroke=\"#000000\" stroke-opacity=\"1\" stroke-width=\"3.2\"/>\n",
       "<circle clip-path=\"url(#clip512)\" cx=\"271.369\" cy=\"896.169\" r=\"14.4\" fill=\"#90ee90\" fill-rule=\"evenodd\" fill-opacity=\"1\" stroke=\"#000000\" stroke-opacity=\"1\" stroke-width=\"3.2\"/>\n",
       "<circle clip-path=\"url(#clip512)\" cx=\"637.612\" cy=\"1296.74\" r=\"14.4\" fill=\"#90ee90\" fill-rule=\"evenodd\" fill-opacity=\"1\" stroke=\"#000000\" stroke-opacity=\"1\" stroke-width=\"3.2\"/>\n",
       "<circle clip-path=\"url(#clip512)\" cx=\"793.72\" cy=\"1013.4\" r=\"14.4\" fill=\"#90ee90\" fill-rule=\"evenodd\" fill-opacity=\"1\" stroke=\"#000000\" stroke-opacity=\"1\" stroke-width=\"3.2\"/>\n",
       "<circle clip-path=\"url(#clip512)\" cx=\"792.267\" cy=\"1126.24\" r=\"14.4\" fill=\"#90ee90\" fill-rule=\"evenodd\" fill-opacity=\"1\" stroke=\"#000000\" stroke-opacity=\"1\" stroke-width=\"3.2\"/>\n",
       "<circle clip-path=\"url(#clip512)\" cx=\"674.71\" cy=\"1126.45\" r=\"14.4\" fill=\"#90ee90\" fill-rule=\"evenodd\" fill-opacity=\"1\" stroke=\"#000000\" stroke-opacity=\"1\" stroke-width=\"3.2\"/>\n",
       "<circle clip-path=\"url(#clip512)\" cx=\"920.533\" cy=\"979.108\" r=\"14.4\" fill=\"#90ee90\" fill-rule=\"evenodd\" fill-opacity=\"1\" stroke=\"#000000\" stroke-opacity=\"1\" stroke-width=\"3.2\"/>\n",
       "<circle clip-path=\"url(#clip512)\" cx=\"774.257\" cy=\"1072.72\" r=\"14.4\" fill=\"#90ee90\" fill-rule=\"evenodd\" fill-opacity=\"1\" stroke=\"#000000\" stroke-opacity=\"1\" stroke-width=\"3.2\"/>\n",
       "<circle clip-path=\"url(#clip512)\" cx=\"1137.83\" cy=\"1123.62\" r=\"14.4\" fill=\"#90ee90\" fill-rule=\"evenodd\" fill-opacity=\"1\" stroke=\"#000000\" stroke-opacity=\"1\" stroke-width=\"3.2\"/>\n",
       "<circle clip-path=\"url(#clip512)\" cx=\"486.357\" cy=\"1239.12\" r=\"14.4\" fill=\"#90ee90\" fill-rule=\"evenodd\" fill-opacity=\"1\" stroke=\"#000000\" stroke-opacity=\"1\" stroke-width=\"3.2\"/>\n",
       "<circle clip-path=\"url(#clip512)\" cx=\"373.673\" cy=\"1093.15\" r=\"14.4\" fill=\"#90ee90\" fill-rule=\"evenodd\" fill-opacity=\"1\" stroke=\"#000000\" stroke-opacity=\"1\" stroke-width=\"3.2\"/>\n",
       "<circle clip-path=\"url(#clip512)\" cx=\"729.395\" cy=\"1251.7\" r=\"14.4\" fill=\"#90ee90\" fill-rule=\"evenodd\" fill-opacity=\"1\" stroke=\"#000000\" stroke-opacity=\"1\" stroke-width=\"3.2\"/>\n",
       "<circle clip-path=\"url(#clip512)\" cx=\"675.28\" cy=\"1233.48\" r=\"14.4\" fill=\"#90ee90\" fill-rule=\"evenodd\" fill-opacity=\"1\" stroke=\"#000000\" stroke-opacity=\"1\" stroke-width=\"3.2\"/>\n",
       "<circle clip-path=\"url(#clip512)\" cx=\"316.481\" cy=\"1124.1\" r=\"14.4\" fill=\"#90ee90\" fill-rule=\"evenodd\" fill-opacity=\"1\" stroke=\"#000000\" stroke-opacity=\"1\" stroke-width=\"3.2\"/>\n",
       "<circle clip-path=\"url(#clip512)\" cx=\"388.627\" cy=\"833.495\" r=\"14.4\" fill=\"#90ee90\" fill-rule=\"evenodd\" fill-opacity=\"1\" stroke=\"#000000\" stroke-opacity=\"1\" stroke-width=\"3.2\"/>\n",
       "<circle clip-path=\"url(#clip512)\" cx=\"1060.85\" cy=\"1060.85\" r=\"14.4\" fill=\"#90ee90\" fill-rule=\"evenodd\" fill-opacity=\"1\" stroke=\"#000000\" stroke-opacity=\"1\" stroke-width=\"3.2\"/>\n",
       "<circle clip-path=\"url(#clip512)\" cx=\"670.146\" cy=\"1386.4\" r=\"14.4\" fill=\"#90ee90\" fill-rule=\"evenodd\" fill-opacity=\"1\" stroke=\"#000000\" stroke-opacity=\"1\" stroke-width=\"3.2\"/>\n",
       "<circle clip-path=\"url(#clip512)\" cx=\"394.882\" cy=\"1148.43\" r=\"14.4\" fill=\"#90ee90\" fill-rule=\"evenodd\" fill-opacity=\"1\" stroke=\"#000000\" stroke-opacity=\"1\" stroke-width=\"3.2\"/>\n",
       "<circle clip-path=\"url(#clip512)\" cx=\"443.792\" cy=\"1235.37\" r=\"14.4\" fill=\"#90ee90\" fill-rule=\"evenodd\" fill-opacity=\"1\" stroke=\"#000000\" stroke-opacity=\"1\" stroke-width=\"3.2\"/>\n",
       "<circle clip-path=\"url(#clip512)\" cx=\"338.735\" cy=\"1110.08\" r=\"14.4\" fill=\"#90ee90\" fill-rule=\"evenodd\" fill-opacity=\"1\" stroke=\"#000000\" stroke-opacity=\"1\" stroke-width=\"3.2\"/>\n",
       "<path clip-path=\"url(#clip512)\" d=\"M1207.27 250.248 L1207.27 282.248 L1239.27 282.248 L1239.27 250.248 L1207.27 250.248 Z\" fill=\"#add8e6\" fill-rule=\"evenodd\" fill-opacity=\"1\" stroke=\"#000000\" stroke-opacity=\"1\" stroke-width=\"3.2\"/>\n",
       "<path clip-path=\"url(#clip512)\" d=\"M975.429 144.256 L975.429 176.256 L1007.43 176.256 L1007.43 144.256 L975.429 144.256 Z\" fill=\"#add8e6\" fill-rule=\"evenodd\" fill-opacity=\"1\" stroke=\"#000000\" stroke-opacity=\"1\" stroke-width=\"3.2\"/>\n",
       "<path clip-path=\"url(#clip512)\" d=\"M1107.68 263.828 L1107.68 295.828 L1139.68 295.828 L1139.68 263.828 L1107.68 263.828 Z\" fill=\"#add8e6\" fill-rule=\"evenodd\" fill-opacity=\"1\" stroke=\"#000000\" stroke-opacity=\"1\" stroke-width=\"3.2\"/>\n",
       "<path clip-path=\"url(#clip512)\" d=\"M939.379 365.795 L939.379 397.795 L971.379 397.795 L971.379 365.795 L939.379 365.795 Z\" fill=\"#add8e6\" fill-rule=\"evenodd\" fill-opacity=\"1\" stroke=\"#000000\" stroke-opacity=\"1\" stroke-width=\"3.2\"/>\n",
       "<path clip-path=\"url(#clip512)\" d=\"M1184.82 264.613 L1184.82 296.613 L1216.82 296.613 L1216.82 264.613 L1184.82 264.613 Z\" fill=\"#add8e6\" fill-rule=\"evenodd\" fill-opacity=\"1\" stroke=\"#000000\" stroke-opacity=\"1\" stroke-width=\"3.2\"/>\n",
       "<path clip-path=\"url(#clip512)\" d=\"M1166.16 347.306 L1166.16 379.306 L1198.16 379.306 L1198.16 347.306 L1166.16 347.306 Z\" fill=\"#add8e6\" fill-rule=\"evenodd\" fill-opacity=\"1\" stroke=\"#000000\" stroke-opacity=\"1\" stroke-width=\"3.2\"/>\n",
       "<path clip-path=\"url(#clip512)\" d=\"M983.84 409.943 L983.84 441.943 L1015.84 441.943 L1015.84 409.943 L983.84 409.943 Z\" fill=\"#add8e6\" fill-rule=\"evenodd\" fill-opacity=\"1\" stroke=\"#000000\" stroke-opacity=\"1\" stroke-width=\"3.2\"/>\n",
       "<path clip-path=\"url(#clip512)\" d=\"M820.092 145.745 L820.092 177.745 L852.092 177.745 L852.092 145.745 L820.092 145.745 Z\" fill=\"#add8e6\" fill-rule=\"evenodd\" fill-opacity=\"1\" stroke=\"#000000\" stroke-opacity=\"1\" stroke-width=\"3.2\"/>\n",
       "<path clip-path=\"url(#clip512)\" d=\"M1096.4 361.153 L1096.4 393.153 L1128.4 393.153 L1128.4 361.153 L1096.4 361.153 Z\" fill=\"#add8e6\" fill-rule=\"evenodd\" fill-opacity=\"1\" stroke=\"#000000\" stroke-opacity=\"1\" stroke-width=\"3.2\"/>\n",
       "<path clip-path=\"url(#clip512)\" d=\"M914.619 242.181 L914.619 274.181 L946.619 274.181 L946.619 242.181 L914.619 242.181 Z\" fill=\"#add8e6\" fill-rule=\"evenodd\" fill-opacity=\"1\" stroke=\"#000000\" stroke-opacity=\"1\" stroke-width=\"3.2\"/>\n",
       "<path clip-path=\"url(#clip512)\" d=\"M877.802 333.671 L877.802 365.671 L909.802 365.671 L909.802 333.671 L877.802 333.671 Z\" fill=\"#add8e6\" fill-rule=\"evenodd\" fill-opacity=\"1\" stroke=\"#000000\" stroke-opacity=\"1\" stroke-width=\"3.2\"/>\n",
       "<path clip-path=\"url(#clip512)\" d=\"M987.669 175.571 L987.669 207.571 L1019.67 207.571 L1019.67 175.571 L987.669 175.571 Z\" fill=\"#add8e6\" fill-rule=\"evenodd\" fill-opacity=\"1\" stroke=\"#000000\" stroke-opacity=\"1\" stroke-width=\"3.2\"/>\n",
       "<path clip-path=\"url(#clip512)\" d=\"M921.93 345.874 L921.93 377.874 L953.93 377.874 L953.93 345.874 L921.93 345.874 Z\" fill=\"#add8e6\" fill-rule=\"evenodd\" fill-opacity=\"1\" stroke=\"#000000\" stroke-opacity=\"1\" stroke-width=\"3.2\"/>\n",
       "<path clip-path=\"url(#clip512)\" d=\"M1143.94 387.862 L1143.94 419.862 L1175.94 419.862 L1175.94 387.862 L1143.94 387.862 Z\" fill=\"#add8e6\" fill-rule=\"evenodd\" fill-opacity=\"1\" stroke=\"#000000\" stroke-opacity=\"1\" stroke-width=\"3.2\"/>\n",
       "<path clip-path=\"url(#clip512)\" d=\"M1057.19 415.108 L1057.19 447.108 L1089.19 447.108 L1089.19 415.108 L1057.19 415.108 Z\" fill=\"#add8e6\" fill-rule=\"evenodd\" fill-opacity=\"1\" stroke=\"#000000\" stroke-opacity=\"1\" stroke-width=\"3.2\"/>\n",
       "<path clip-path=\"url(#clip512)\" d=\"M1188.62 205.865 L1188.62 237.865 L1220.62 237.865 L1220.62 205.865 L1188.62 205.865 Z\" fill=\"#add8e6\" fill-rule=\"evenodd\" fill-opacity=\"1\" stroke=\"#000000\" stroke-opacity=\"1\" stroke-width=\"3.2\"/>\n",
       "<path clip-path=\"url(#clip512)\" d=\"M1086.54 402.968 L1086.54 434.968 L1118.54 434.968 L1118.54 402.968 L1086.54 402.968 Z\" fill=\"#add8e6\" fill-rule=\"evenodd\" fill-opacity=\"1\" stroke=\"#000000\" stroke-opacity=\"1\" stroke-width=\"3.2\"/>\n",
       "<path clip-path=\"url(#clip512)\" d=\"M866.925 181.234 L866.925 213.234 L898.925 213.234 L898.925 181.234 L866.925 181.234 Z\" fill=\"#add8e6\" fill-rule=\"evenodd\" fill-opacity=\"1\" stroke=\"#000000\" stroke-opacity=\"1\" stroke-width=\"3.2\"/>\n",
       "<path clip-path=\"url(#clip512)\" d=\"M967.369 213.073 L967.369 245.073 L999.369 245.073 L999.369 213.073 L967.369 213.073 Z\" fill=\"#add8e6\" fill-rule=\"evenodd\" fill-opacity=\"1\" stroke=\"#000000\" stroke-opacity=\"1\" stroke-width=\"3.2\"/>\n",
       "<path clip-path=\"url(#clip512)\" d=\"M1207.23 410.316 L1207.23 442.316 L1239.23 442.316 L1239.23 410.316 L1207.23 410.316 Z\" fill=\"#add8e6\" fill-rule=\"evenodd\" fill-opacity=\"1\" stroke=\"#000000\" stroke-opacity=\"1\" stroke-width=\"3.2\"/>\n",
       "</svg>\n"
      ]
     },
     "execution_count": 128,
     "metadata": {},
     "output_type": "execute_result"
    }
   ],
   "source": [
    "Plots.scatter(pa[1,:], pa[2,:], marker=:star, color=:yellow, legend=nothing,\n",
    "xlabel=\"x\", ylabel=\"y\", title = \"Categorized Data\")\n",
    "Plots.scatter!(pb[1,:], pb[2,:], marker = :circle, color=:lightgreen)\n",
    "Plots.scatter!(pc[1,:], pc[2,:], marker = :square, color=:lightblue)"
   ]
  },
  {
   "cell_type": "markdown",
   "id": "d9411d43-fa80-4082-b226-b224dc066ebf",
   "metadata": {},
   "source": [
    "Let's visualize the results after running \n",
    "zero steps of the algorithm.  The algorithm\n",
    "starts by assigning random categories to each data point,\n",
    "so we should see random assignments."
   ]
  },
  {
   "cell_type": "code",
   "execution_count": 109,
   "id": "37696833-a465-4828-a4af-e32dadcc2d55",
   "metadata": {},
   "outputs": [],
   "source": [
    "n_categories = 3\n",
    "n_iters = 0\n",
    "\n",
    "(reps, clusters, j) = k_means( p, n_categories, n_iters);"
   ]
  },
  {
   "cell_type": "code",
   "execution_count": 110,
   "id": "94561800-ce67-4fd5-b785-f428582e9085",
   "metadata": {},
   "outputs": [],
   "source": [
    "# `group_a` is a vector with entries `true` or `false`.\n",
    "# Entry 'j' is `true` if `clusters[j]` is a 1.\n",
    "group_a = clusters .== 1;\n",
    "\n",
    "# Matrix pa_hat contains all the vectors `p` in \n",
    "# category A.  Notice how `group_a` is used to select\n",
    "# the columns we want.\n",
    "pa_hat = p[:,group_a]\n",
    "\n",
    "group_b = clusters .== 2;\n",
    "pb_hat = p[:,group_b]\n",
    "\n",
    "group_c = clusters .== 3;\n",
    "pc_hat = p[:,group_c];"
   ]
  },
  {
   "cell_type": "code",
   "execution_count": 111,
   "id": "1bc64fce-1e73-4139-8e90-3332ec8efbb0",
   "metadata": {},
   "outputs": [
    {
     "data": {
      "image/png": "[encoded data removed]",
      "image/svg+xml": [
       "<?xml version=\"1.0\" encoding=\"utf-8\"?>\n",
       "<svg xmlns=\"http://www.w3.org/2000/svg\" xmlns:xlink=\"http://www.w3.org/1999/xlink\" width=\"600\" height=\"400\" viewBox=\"0 0 2400 1600\">\n",
       "<defs>\n",
       "  <clipPath id=\"clip830\">\n",
       "    <rect x=\"0\" y=\"0\" width=\"2400\" height=\"1600\"/>\n",
       "  </clipPath>\n",
       "</defs>\n",
       "<path clip-path=\"url(#clip830)\" d=\"M0 1600 L2400 1600 L2400 0 L0 0  Z\" fill=\"#ffffff\" fill-rule=\"evenodd\" fill-opacity=\"1\"/>\n",
       "<defs>\n",
       "  <clipPath id=\"clip831\">\n",
       "    <rect x=\"480\" y=\"0\" width=\"1681\" height=\"1600\"/>\n",
       "  </clipPath>\n",
       "</defs>\n",
       "<path clip-path=\"url(#clip830)\" d=\"M147.478 1486.45 L2352.76 1486.45 L2352.76 47.2441 L147.478 47.2441  Z\" fill=\"#ffffff\" fill-rule=\"evenodd\" fill-opacity=\"1\"/>\n",
       "<defs>\n",
       "  <clipPath id=\"clip832\">\n",
       "    <rect x=\"147\" y=\"47\" width=\"2206\" height=\"1440\"/>\n",
       "  </clipPath>\n",
       "</defs>\n",
       "<polyline clip-path=\"url(#clip832)\" style=\"stroke:#000000; stroke-linecap:round; stroke-linejoin:round; stroke-width:2; stroke-opacity:0.1; fill:none\" points=\"197.25,1486.45 197.25,47.2441 \"/>\n",
       "<polyline clip-path=\"url(#clip832)\" style=\"stroke:#000000; stroke-linecap:round; stroke-linejoin:round; stroke-width:2; stroke-opacity:0.1; fill:none\" points=\"642.734,1486.45 642.734,47.2441 \"/>\n",
       "<polyline clip-path=\"url(#clip832)\" style=\"stroke:#000000; stroke-linecap:round; stroke-linejoin:round; stroke-width:2; stroke-opacity:0.1; fill:none\" points=\"1088.22,1486.45 1088.22,47.2441 \"/>\n",
       "<polyline clip-path=\"url(#clip832)\" style=\"stroke:#000000; stroke-linecap:round; stroke-linejoin:round; stroke-width:2; stroke-opacity:0.1; fill:none\" points=\"1533.7,1486.45 1533.7,47.2441 \"/>\n",
       "<polyline clip-path=\"url(#clip832)\" style=\"stroke:#000000; stroke-linecap:round; stroke-linejoin:round; stroke-width:2; stroke-opacity:0.1; fill:none\" points=\"1979.19,1486.45 1979.19,47.2441 \"/>\n",
       "<polyline clip-path=\"url(#clip830)\" style=\"stroke:#000000; stroke-linecap:round; stroke-linejoin:round; stroke-width:4; stroke-opacity:1; fill:none\" points=\"147.478,1486.45 2352.76,1486.45 \"/>\n",
       "<polyline clip-path=\"url(#clip830)\" style=\"stroke:#000000; stroke-linecap:round; stroke-linejoin:round; stroke-width:4; stroke-opacity:1; fill:none\" points=\"197.25,1486.45 197.25,1467.55 \"/>\n",
       "<polyline clip-path=\"url(#clip830)\" style=\"stroke:#000000; stroke-linecap:round; stroke-linejoin:round; stroke-width:4; stroke-opacity:1; fill:none\" points=\"642.734,1486.45 642.734,1467.55 \"/>\n",
       "<polyline clip-path=\"url(#clip830)\" style=\"stroke:#000000; stroke-linecap:round; stroke-linejoin:round; stroke-width:4; stroke-opacity:1; fill:none\" points=\"1088.22,1486.45 1088.22,1467.55 \"/>\n",
       "<polyline clip-path=\"url(#clip830)\" style=\"stroke:#000000; stroke-linecap:round; stroke-linejoin:round; stroke-width:4; stroke-opacity:1; fill:none\" points=\"1533.7,1486.45 1533.7,1467.55 \"/>\n",
       "<polyline clip-path=\"url(#clip830)\" style=\"stroke:#000000; stroke-linecap:round; stroke-linejoin:round; stroke-width:4; stroke-opacity:1; fill:none\" points=\"1979.19,1486.45 1979.19,1467.55 \"/>\n",
       "<path clip-path=\"url(#clip830)\" d=\"M167.192 1532.02 L196.868 1532.02 L196.868 1535.95 L167.192 1535.95 L167.192 1532.02 Z\" fill=\"#000000\" fill-rule=\"nonzero\" fill-opacity=\"1\" /><path clip-path=\"url(#clip830)\" d=\"M210.988 1544.91 L227.307 1544.91 L227.307 1548.85 L205.363 1548.85 L205.363 1544.91 Q208.025 1542.16 212.608 1537.53 Q217.215 1532.88 218.395 1531.53 Q220.641 1529.01 221.52 1527.27 Q222.423 1525.51 222.423 1523.82 Q222.423 1521.07 220.479 1519.33 Q218.557 1517.6 215.455 1517.6 Q213.256 1517.6 210.803 1518.36 Q208.372 1519.13 205.594 1520.68 L205.594 1515.95 Q208.418 1514.82 210.872 1514.24 Q213.326 1513.66 215.363 1513.66 Q220.733 1513.66 223.928 1516.35 Q227.122 1519.03 227.122 1523.52 Q227.122 1525.65 226.312 1527.57 Q225.525 1529.47 223.418 1532.07 Q222.84 1532.74 219.738 1535.95 Q216.636 1539.15 210.988 1544.91 Z\" fill=\"#000000\" fill-rule=\"nonzero\" fill-opacity=\"1\" /><path clip-path=\"url(#clip830)\" d=\"M612.491 1532.02 L642.167 1532.02 L642.167 1535.95 L612.491 1535.95 L612.491 1532.02 Z\" fill=\"#000000\" fill-rule=\"nonzero\" fill-opacity=\"1\" /><path clip-path=\"url(#clip830)\" d=\"M653.069 1544.91 L660.708 1544.91 L660.708 1518.55 L652.398 1520.21 L652.398 1515.95 L660.662 1514.29 L665.338 1514.29 L665.338 1544.91 L672.977 1544.91 L672.977 1548.85 L653.069 1548.85 L653.069 1544.91 Z\" fill=\"#000000\" fill-rule=\"nonzero\" fill-opacity=\"1\" /><path clip-path=\"url(#clip830)\" d=\"M1088.22 1517.37 Q1084.61 1517.37 1082.78 1520.93 Q1080.97 1524.47 1080.97 1531.6 Q1080.97 1538.71 1082.78 1542.27 Q1084.61 1545.82 1088.22 1545.82 Q1091.85 1545.82 1093.66 1542.27 Q1095.49 1538.71 1095.49 1531.6 Q1095.49 1524.47 1093.66 1520.93 Q1091.85 1517.37 1088.22 1517.37 M1088.22 1513.66 Q1094.03 1513.66 1097.08 1518.27 Q1100.16 1522.85 1100.16 1531.6 Q1100.16 1540.33 1097.08 1544.94 Q1094.03 1549.52 1088.22 1549.52 Q1082.41 1549.52 1079.33 1544.94 Q1076.27 1540.33 1076.27 1531.6 Q1076.27 1522.85 1079.33 1518.27 Q1082.41 1513.66 1088.22 1513.66 Z\" fill=\"#000000\" fill-rule=\"nonzero\" fill-opacity=\"1\" /><path clip-path=\"url(#clip830)\" d=\"M1524.08 1544.91 L1531.72 1544.91 L1531.72 1518.55 L1523.41 1520.21 L1523.41 1515.95 L1531.68 1514.29 L1536.35 1514.29 L1536.35 1544.91 L1543.99 1544.91 L1543.99 1548.85 L1524.08 1548.85 L1524.08 1544.91 Z\" fill=\"#000000\" fill-rule=\"nonzero\" fill-opacity=\"1\" /><path clip-path=\"url(#clip830)\" d=\"M1973.84 1544.91 L1990.16 1544.91 L1990.16 1548.85 L1968.21 1548.85 L1968.21 1544.91 Q1970.88 1542.16 1975.46 1537.53 Q1980.07 1532.88 1981.25 1531.53 Q1983.49 1529.01 1984.37 1527.27 Q1985.27 1525.51 1985.27 1523.82 Q1985.27 1521.07 1983.33 1519.33 Q1981.41 1517.6 1978.31 1517.6 Q1976.11 1517.6 1973.65 1518.36 Q1971.22 1519.13 1968.45 1520.68 L1968.45 1515.95 Q1971.27 1514.82 1973.72 1514.24 Q1976.18 1513.66 1978.21 1513.66 Q1983.58 1513.66 1986.78 1516.35 Q1989.97 1519.03 1989.97 1523.52 Q1989.97 1525.65 1989.16 1527.57 Q1988.38 1529.47 1986.27 1532.07 Q1985.69 1532.74 1982.59 1535.95 Q1979.49 1539.15 1973.84 1544.91 Z\" fill=\"#000000\" fill-rule=\"nonzero\" fill-opacity=\"1\" /><polyline clip-path=\"url(#clip832)\" style=\"stroke:#000000; stroke-linecap:round; stroke-linejoin:round; stroke-width:2; stroke-opacity:0.1; fill:none\" points=\"147.478,1461.8 2352.76,1461.8 \"/>\n",
       "<polyline clip-path=\"url(#clip832)\" style=\"stroke:#000000; stroke-linecap:round; stroke-linejoin:round; stroke-width:2; stroke-opacity:0.1; fill:none\" points=\"147.478,1151.54 2352.76,1151.54 \"/>\n",
       "<polyline clip-path=\"url(#clip832)\" style=\"stroke:#000000; stroke-linecap:round; stroke-linejoin:round; stroke-width:2; stroke-opacity:0.1; fill:none\" points=\"147.478,841.289 2352.76,841.289 \"/>\n",
       "<polyline clip-path=\"url(#clip832)\" style=\"stroke:#000000; stroke-linecap:round; stroke-linejoin:round; stroke-width:2; stroke-opacity:0.1; fill:none\" points=\"147.478,531.034 2352.76,531.034 \"/>\n",
       "<polyline clip-path=\"url(#clip832)\" style=\"stroke:#000000; stroke-linecap:round; stroke-linejoin:round; stroke-width:2; stroke-opacity:0.1; fill:none\" points=\"147.478,220.78 2352.76,220.78 \"/>\n",
       "<polyline clip-path=\"url(#clip830)\" style=\"stroke:#000000; stroke-linecap:round; stroke-linejoin:round; stroke-width:4; stroke-opacity:1; fill:none\" points=\"147.478,1486.45 147.478,47.2441 \"/>\n",
       "<polyline clip-path=\"url(#clip830)\" style=\"stroke:#000000; stroke-linecap:round; stroke-linejoin:round; stroke-width:4; stroke-opacity:1; fill:none\" points=\"147.478,1461.8 166.376,1461.8 \"/>\n",
       "<polyline clip-path=\"url(#clip830)\" style=\"stroke:#000000; stroke-linecap:round; stroke-linejoin:round; stroke-width:4; stroke-opacity:1; fill:none\" points=\"147.478,1151.54 166.376,1151.54 \"/>\n",
       "<polyline clip-path=\"url(#clip830)\" style=\"stroke:#000000; stroke-linecap:round; stroke-linejoin:round; stroke-width:4; stroke-opacity:1; fill:none\" points=\"147.478,841.289 166.376,841.289 \"/>\n",
       "<polyline clip-path=\"url(#clip830)\" style=\"stroke:#000000; stroke-linecap:round; stroke-linejoin:round; stroke-width:4; stroke-opacity:1; fill:none\" points=\"147.478,531.034 166.376,531.034 \"/>\n",
       "<polyline clip-path=\"url(#clip830)\" style=\"stroke:#000000; stroke-linecap:round; stroke-linejoin:round; stroke-width:4; stroke-opacity:1; fill:none\" points=\"147.478,220.78 166.376,220.78 \"/>\n",
       "<path clip-path=\"url(#clip830)\" d=\"M51.3625 1462.25 L81.0383 1462.25 L81.0383 1466.18 L51.3625 1466.18 L51.3625 1462.25 Z\" fill=\"#000000\" fill-rule=\"nonzero\" fill-opacity=\"1\" /><path clip-path=\"url(#clip830)\" d=\"M95.1586 1475.14 L111.478 1475.14 L111.478 1479.08 L89.5336 1479.08 L89.5336 1475.14 Q92.1956 1472.39 96.7789 1467.76 Q101.385 1463.1 102.566 1461.76 Q104.811 1459.24 105.691 1457.5 Q106.594 1455.74 106.594 1454.05 Q106.594 1451.3 104.649 1449.56 Q102.728 1447.83 99.6261 1447.83 Q97.4271 1447.83 94.9734 1448.59 Q92.5428 1449.35 89.7651 1450.91 L89.7651 1446.18 Q92.5891 1445.05 95.0428 1444.47 Q97.4965 1443.89 99.5335 1443.89 Q104.904 1443.89 108.098 1446.58 Q111.293 1449.26 111.293 1453.75 Q111.293 1455.88 110.483 1457.8 Q109.696 1459.7 107.589 1462.29 Q107.01 1462.97 103.909 1466.18 Q100.807 1469.38 95.1586 1475.14 Z\" fill=\"#000000\" fill-rule=\"nonzero\" fill-opacity=\"1\" /><path clip-path=\"url(#clip830)\" d=\"M50.9921 1151.99 L80.6679 1151.99 L80.6679 1155.93 L50.9921 1155.93 L50.9921 1151.99 Z\" fill=\"#000000\" fill-rule=\"nonzero\" fill-opacity=\"1\" /><path clip-path=\"url(#clip830)\" d=\"M91.5706 1164.89 L99.2095 1164.89 L99.2095 1138.52 L90.8993 1140.19 L90.8993 1135.93 L99.1632 1134.26 L103.839 1134.26 L103.839 1164.89 L111.478 1164.89 L111.478 1168.82 L91.5706 1168.82 L91.5706 1164.89 Z\" fill=\"#000000\" fill-rule=\"nonzero\" fill-opacity=\"1\" /><path clip-path=\"url(#clip830)\" d=\"M99.5335 827.087 Q95.9224 827.087 94.0937 830.652 Q92.2882 834.194 92.2882 841.323 Q92.2882 848.43 94.0937 851.995 Q95.9224 855.536 99.5335 855.536 Q103.168 855.536 104.973 851.995 Q106.802 848.43 106.802 841.323 Q106.802 834.194 104.973 830.652 Q103.168 827.087 99.5335 827.087 M99.5335 823.384 Q105.344 823.384 108.399 827.99 Q111.478 832.573 111.478 841.323 Q111.478 850.05 108.399 854.657 Q105.344 859.24 99.5335 859.24 Q93.7234 859.24 90.6447 854.657 Q87.5892 850.05 87.5892 841.323 Q87.5892 832.573 90.6447 827.99 Q93.7234 823.384 99.5335 823.384 Z\" fill=\"#000000\" fill-rule=\"nonzero\" fill-opacity=\"1\" /><path clip-path=\"url(#clip830)\" d=\"M91.5706 544.379 L99.2095 544.379 L99.2095 518.014 L90.8993 519.68 L90.8993 515.421 L99.1632 513.754 L103.839 513.754 L103.839 544.379 L111.478 544.379 L111.478 548.314 L91.5706 548.314 L91.5706 544.379 Z\" fill=\"#000000\" fill-rule=\"nonzero\" fill-opacity=\"1\" /><path clip-path=\"url(#clip830)\" d=\"M95.1586 234.125 L111.478 234.125 L111.478 238.06 L89.5336 238.06 L89.5336 234.125 Q92.1956 231.371 96.7789 226.741 Q101.385 222.088 102.566 220.746 Q104.811 218.222 105.691 216.486 Q106.594 214.727 106.594 213.037 Q106.594 210.283 104.649 208.547 Q102.728 206.81 99.6261 206.81 Q97.4271 206.81 94.9734 207.574 Q92.5428 208.338 89.7651 209.889 L89.7651 205.167 Q92.5891 204.033 95.0428 203.454 Q97.4965 202.875 99.5335 202.875 Q104.904 202.875 108.098 205.56 Q111.293 208.246 111.293 212.736 Q111.293 214.866 110.483 216.787 Q109.696 218.685 107.589 221.278 Q107.01 221.949 103.909 225.167 Q100.807 228.361 95.1586 234.125 Z\" fill=\"#000000\" fill-rule=\"nonzero\" fill-opacity=\"1\" /><path clip-path=\"url(#clip832)\" d=\"M1144.94 502.865 L1141.18 513.681 L1129.72 513.921 L1138.86 520.849 L1135.53 531.809 L1144.94 525.265 L1154.34 531.809 L1151.02 520.849 L1160.15 513.921 L1148.7 513.681 L1144.94 502.865 Z\" fill=\"#ffff00\" fill-rule=\"evenodd\" fill-opacity=\"1\" stroke=\"#000000\" stroke-opacity=\"1\" stroke-width=\"3.2\"/>\n",
       "<path clip-path=\"url(#clip832)\" d=\"M1502.86 693.496 L1499.1 704.312 L1487.64 704.552 L1496.78 711.48 L1493.45 722.44 L1502.86 715.896 L1512.27 722.44 L1508.94 711.48 L1518.08 704.552 L1506.62 704.312 L1502.86 693.496 Z\" fill=\"#ffff00\" fill-rule=\"evenodd\" fill-opacity=\"1\" stroke=\"#000000\" stroke-opacity=\"1\" stroke-width=\"3.2\"/>\n",
       "<path clip-path=\"url(#clip832)\" d=\"M1524.09 260.695 L1520.33 271.511 L1508.88 271.751 L1518.01 278.679 L1514.68 289.639 L1524.09 283.095 L1533.5 289.639 L1530.17 278.679 L1539.31 271.751 L1527.85 271.511 L1524.09 260.695 Z\" fill=\"#ffff00\" fill-rule=\"evenodd\" fill-opacity=\"1\" stroke=\"#000000\" stroke-opacity=\"1\" stroke-width=\"3.2\"/>\n",
       "<path clip-path=\"url(#clip832)\" d=\"M1663.89 709.827 L1660.13 720.643 L1648.68 720.883 L1657.81 727.811 L1654.48 738.771 L1663.89 732.227 L1673.3 738.771 L1669.97 727.811 L1679.11 720.883 L1667.65 720.643 L1663.89 709.827 Z\" fill=\"#ffff00\" fill-rule=\"evenodd\" fill-opacity=\"1\" stroke=\"#000000\" stroke-opacity=\"1\" stroke-width=\"3.2\"/>\n",
       "<path clip-path=\"url(#clip832)\" d=\"M747.671 1016.69 L743.911 1027.5 L732.455 1027.74 L741.591 1034.67 L738.263 1045.63 L747.671 1039.09 L757.079 1045.63 L753.751 1034.67 L762.887 1027.74 L751.431 1027.5 L747.671 1016.69 Z\" fill=\"#ffff00\" fill-rule=\"evenodd\" fill-opacity=\"1\" stroke=\"#000000\" stroke-opacity=\"1\" stroke-width=\"3.2\"/>\n",
       "<path clip-path=\"url(#clip832)\" d=\"M681.446 1280.56 L677.686 1291.38 L666.23 1291.62 L675.366 1298.55 L672.038 1309.51 L681.446 1302.96 L690.854 1309.51 L687.526 1298.55 L696.662 1291.62 L685.206 1291.38 L681.446 1280.56 Z\" fill=\"#ffff00\" fill-rule=\"evenodd\" fill-opacity=\"1\" stroke=\"#000000\" stroke-opacity=\"1\" stroke-width=\"3.2\"/>\n",
       "<path clip-path=\"url(#clip832)\" d=\"M330.613 817.472 L326.853 828.288 L315.397 828.528 L324.533 835.456 L321.205 846.416 L330.613 839.872 L340.021 846.416 L336.693 835.456 L345.829 828.528 L334.373 828.288 L330.613 817.472 Z\" fill=\"#ffff00\" fill-rule=\"evenodd\" fill-opacity=\"1\" stroke=\"#000000\" stroke-opacity=\"1\" stroke-width=\"3.2\"/>\n",
       "<path clip-path=\"url(#clip832)\" d=\"M279.247 1123.74 L275.487 1134.56 L264.031 1134.8 L273.167 1141.73 L269.839 1152.69 L279.247 1146.14 L288.655 1152.69 L285.327 1141.73 L294.463 1134.8 L283.007 1134.56 L279.247 1123.74 Z\" fill=\"#ffff00\" fill-rule=\"evenodd\" fill-opacity=\"1\" stroke=\"#000000\" stroke-opacity=\"1\" stroke-width=\"3.2\"/>\n",
       "<path clip-path=\"url(#clip832)\" d=\"M1087.38 204.382 L1083.62 215.198 L1072.16 215.438 L1081.3 222.366 L1077.97 233.326 L1087.38 226.782 L1096.79 233.326 L1093.46 222.366 L1102.6 215.438 L1091.14 215.198 L1087.38 204.382 Z\" fill=\"#ffff00\" fill-rule=\"evenodd\" fill-opacity=\"1\" stroke=\"#000000\" stroke-opacity=\"1\" stroke-width=\"3.2\"/>\n",
       "<path clip-path=\"url(#clip832)\" d=\"M959.88 366.179 L956.12 376.995 L944.664 377.235 L953.8 384.163 L950.472 395.123 L959.88 388.579 L969.288 395.123 L965.96 384.163 L975.096 377.235 L963.64 376.995 L959.88 366.179 Z\" fill=\"#ffff00\" fill-rule=\"evenodd\" fill-opacity=\"1\" stroke=\"#000000\" stroke-opacity=\"1\" stroke-width=\"3.2\"/>\n",
       "<path clip-path=\"url(#clip832)\" d=\"M1170.71 140.197 L1166.95 151.013 L1155.49 151.253 L1164.63 158.181 L1161.3 169.141 L1170.71 162.597 L1180.11 169.141 L1176.79 158.181 L1185.92 151.253 L1174.47 151.013 L1170.71 140.197 Z\" fill=\"#ffff00\" fill-rule=\"evenodd\" fill-opacity=\"1\" stroke=\"#000000\" stroke-opacity=\"1\" stroke-width=\"3.2\"/>\n",
       "<circle clip-path=\"url(#clip832)\" cx=\"1695.17\" cy=\"379.681\" r=\"14.4\" fill=\"#90ee90\" fill-rule=\"evenodd\" fill-opacity=\"1\" stroke=\"#000000\" stroke-opacity=\"1\" stroke-width=\"3.2\"/>\n",
       "<circle clip-path=\"url(#clip832)\" cx=\"1875.9\" cy=\"424.247\" r=\"14.4\" fill=\"#90ee90\" fill-rule=\"evenodd\" fill-opacity=\"1\" stroke=\"#000000\" stroke-opacity=\"1\" stroke-width=\"3.2\"/>\n",
       "<circle clip-path=\"url(#clip832)\" cx=\"1826.81\" cy=\"611.661\" r=\"14.4\" fill=\"#90ee90\" fill-rule=\"evenodd\" fill-opacity=\"1\" stroke=\"#000000\" stroke-opacity=\"1\" stroke-width=\"3.2\"/>\n",
       "<circle clip-path=\"url(#clip832)\" cx=\"1681.89\" cy=\"429.415\" r=\"14.4\" fill=\"#90ee90\" fill-rule=\"evenodd\" fill-opacity=\"1\" stroke=\"#000000\" stroke-opacity=\"1\" stroke-width=\"3.2\"/>\n",
       "<circle clip-path=\"url(#clip832)\" cx=\"1589.09\" cy=\"344.152\" r=\"14.4\" fill=\"#90ee90\" fill-rule=\"evenodd\" fill-opacity=\"1\" stroke=\"#000000\" stroke-opacity=\"1\" stroke-width=\"3.2\"/>\n",
       "<circle clip-path=\"url(#clip832)\" cx=\"1665.51\" cy=\"518.368\" r=\"14.4\" fill=\"#90ee90\" fill-rule=\"evenodd\" fill-opacity=\"1\" stroke=\"#000000\" stroke-opacity=\"1\" stroke-width=\"3.2\"/>\n",
       "<circle clip-path=\"url(#clip832)\" cx=\"1266.5\" cy=\"685.519\" r=\"14.4\" fill=\"#90ee90\" fill-rule=\"evenodd\" fill-opacity=\"1\" stroke=\"#000000\" stroke-opacity=\"1\" stroke-width=\"3.2\"/>\n",
       "<circle clip-path=\"url(#clip832)\" cx=\"1414.57\" cy=\"787.097\" r=\"14.4\" fill=\"#90ee90\" fill-rule=\"evenodd\" fill-opacity=\"1\" stroke=\"#000000\" stroke-opacity=\"1\" stroke-width=\"3.2\"/>\n",
       "<circle clip-path=\"url(#clip832)\" cx=\"209.891\" cy=\"902.873\" r=\"14.4\" fill=\"#90ee90\" fill-rule=\"evenodd\" fill-opacity=\"1\" stroke=\"#000000\" stroke-opacity=\"1\" stroke-width=\"3.2\"/>\n",
       "<circle clip-path=\"url(#clip832)\" cx=\"586.953\" cy=\"1346.43\" r=\"14.4\" fill=\"#90ee90\" fill-rule=\"evenodd\" fill-opacity=\"1\" stroke=\"#000000\" stroke-opacity=\"1\" stroke-width=\"3.2\"/>\n",
       "<circle clip-path=\"url(#clip832)\" cx=\"625.146\" cy=\"1157.87\" r=\"14.4\" fill=\"#90ee90\" fill-rule=\"evenodd\" fill-opacity=\"1\" stroke=\"#000000\" stroke-opacity=\"1\" stroke-width=\"3.2\"/>\n",
       "<circle clip-path=\"url(#clip832)\" cx=\"1101.94\" cy=\"1154.73\" r=\"14.4\" fill=\"#90ee90\" fill-rule=\"evenodd\" fill-opacity=\"1\" stroke=\"#000000\" stroke-opacity=\"1\" stroke-width=\"3.2\"/>\n",
       "<circle clip-path=\"url(#clip832)\" cx=\"431.23\" cy=\"1282.63\" r=\"14.4\" fill=\"#90ee90\" fill-rule=\"evenodd\" fill-opacity=\"1\" stroke=\"#000000\" stroke-opacity=\"1\" stroke-width=\"3.2\"/>\n",
       "<circle clip-path=\"url(#clip832)\" cx=\"1022.69\" cy=\"1085.23\" r=\"14.4\" fill=\"#90ee90\" fill-rule=\"evenodd\" fill-opacity=\"1\" stroke=\"#000000\" stroke-opacity=\"1\" stroke-width=\"3.2\"/>\n",
       "<circle clip-path=\"url(#clip832)\" cx=\"337.053\" cy=\"1182.2\" r=\"14.4\" fill=\"#90ee90\" fill-rule=\"evenodd\" fill-opacity=\"1\" stroke=\"#000000\" stroke-opacity=\"1\" stroke-width=\"3.2\"/>\n",
       "<circle clip-path=\"url(#clip832)\" cx=\"914.105\" cy=\"333.293\" r=\"14.4\" fill=\"#90ee90\" fill-rule=\"evenodd\" fill-opacity=\"1\" stroke=\"#000000\" stroke-opacity=\"1\" stroke-width=\"3.2\"/>\n",
       "<circle clip-path=\"url(#clip832)\" cx=\"1166.8\" cy=\"221.251\" r=\"14.4\" fill=\"#90ee90\" fill-rule=\"evenodd\" fill-opacity=\"1\" stroke=\"#000000\" stroke-opacity=\"1\" stroke-width=\"3.2\"/>\n",
       "<circle clip-path=\"url(#clip832)\" cx=\"1124.71\" cy=\"357.728\" r=\"14.4\" fill=\"#90ee90\" fill-rule=\"evenodd\" fill-opacity=\"1\" stroke=\"#000000\" stroke-opacity=\"1\" stroke-width=\"3.2\"/>\n",
       "<circle clip-path=\"url(#clip832)\" cx=\"1189.86\" cy=\"382.592\" r=\"14.4\" fill=\"#90ee90\" fill-rule=\"evenodd\" fill-opacity=\"1\" stroke=\"#000000\" stroke-opacity=\"1\" stroke-width=\"3.2\"/>\n",
       "<path clip-path=\"url(#clip832)\" d=\"M1444.08 270.05 L1444.08 302.05 L1476.08 302.05 L1476.08 270.05 L1444.08 270.05 Z\" fill=\"#add8e6\" fill-rule=\"evenodd\" fill-opacity=\"1\" stroke=\"#000000\" stroke-opacity=\"1\" stroke-width=\"3.2\"/>\n",
       "<path clip-path=\"url(#clip832)\" d=\"M1663.88 239.236 L1663.88 271.236 L1695.88 271.236 L1695.88 239.236 L1663.88 239.236 Z\" fill=\"#add8e6\" fill-rule=\"evenodd\" fill-opacity=\"1\" stroke=\"#000000\" stroke-opacity=\"1\" stroke-width=\"3.2\"/>\n",
       "<path clip-path=\"url(#clip832)\" d=\"M1793.31 538.227 L1793.31 570.227 L1825.31 570.227 L1825.31 538.227 L1793.31 538.227 Z\" fill=\"#add8e6\" fill-rule=\"evenodd\" fill-opacity=\"1\" stroke=\"#000000\" stroke-opacity=\"1\" stroke-width=\"3.2\"/>\n",
       "<path clip-path=\"url(#clip832)\" d=\"M2274.34 641.179 L2274.34 673.179 L2306.34 673.179 L2306.34 641.179 L2274.34 641.179 Z\" fill=\"#add8e6\" fill-rule=\"evenodd\" fill-opacity=\"1\" stroke=\"#000000\" stroke-opacity=\"1\" stroke-width=\"3.2\"/>\n",
       "<path clip-path=\"url(#clip832)\" d=\"M2089.87 707.066 L2089.87 739.066 L2121.87 739.066 L2121.87 707.066 L2089.87 707.066 Z\" fill=\"#add8e6\" fill-rule=\"evenodd\" fill-opacity=\"1\" stroke=\"#000000\" stroke-opacity=\"1\" stroke-width=\"3.2\"/>\n",
       "<path clip-path=\"url(#clip832)\" d=\"M1946.01 619.544 L1946.01 651.544 L1978.01 651.544 L1978.01 619.544 L1946.01 619.544 Z\" fill=\"#add8e6\" fill-rule=\"evenodd\" fill-opacity=\"1\" stroke=\"#000000\" stroke-opacity=\"1\" stroke-width=\"3.2\"/>\n",
       "<path clip-path=\"url(#clip832)\" d=\"M1724.19 307.802 L1724.19 339.802 L1756.19 339.802 L1756.19 307.802 L1724.19 307.802 Z\" fill=\"#add8e6\" fill-rule=\"evenodd\" fill-opacity=\"1\" stroke=\"#000000\" stroke-opacity=\"1\" stroke-width=\"3.2\"/>\n",
       "<path clip-path=\"url(#clip832)\" d=\"M1634.49 323.634 L1634.49 355.634 L1666.49 355.634 L1666.49 323.634 L1634.49 323.634 Z\" fill=\"#add8e6\" fill-rule=\"evenodd\" fill-opacity=\"1\" stroke=\"#000000\" stroke-opacity=\"1\" stroke-width=\"3.2\"/>\n",
       "<path clip-path=\"url(#clip832)\" d=\"M586.444 1203.06 L586.444 1235.06 L618.444 1235.06 L618.444 1203.06 L586.444 1203.06 Z\" fill=\"#add8e6\" fill-rule=\"evenodd\" fill-opacity=\"1\" stroke=\"#000000\" stroke-opacity=\"1\" stroke-width=\"3.2\"/>\n",
       "<path clip-path=\"url(#clip832)\" d=\"M730.175 1141.64 L730.175 1173.64 L762.175 1173.64 L762.175 1141.64 L730.175 1141.64 Z\" fill=\"#add8e6\" fill-rule=\"evenodd\" fill-opacity=\"1\" stroke=\"#000000\" stroke-opacity=\"1\" stroke-width=\"3.2\"/>\n",
       "<path clip-path=\"url(#clip832)\" d=\"M862.23 978.714 L862.23 1010.71 L894.23 1010.71 L894.23 978.714 L862.23 978.714 Z\" fill=\"#add8e6\" fill-rule=\"evenodd\" fill-opacity=\"1\" stroke=\"#000000\" stroke-opacity=\"1\" stroke-width=\"3.2\"/>\n",
       "<path clip-path=\"url(#clip832)\" d=\"M711.634 1082.37 L711.634 1114.37 L743.634 1114.37 L743.634 1082.37 L711.634 1082.37 Z\" fill=\"#add8e6\" fill-rule=\"evenodd\" fill-opacity=\"1\" stroke=\"#000000\" stroke-opacity=\"1\" stroke-width=\"3.2\"/>\n",
       "<path clip-path=\"url(#clip832)\" d=\"M299.217 1105 L299.217 1137 L331.217 1137 L331.217 1105 L299.217 1105 Z\" fill=\"#add8e6\" fill-rule=\"evenodd\" fill-opacity=\"1\" stroke=\"#000000\" stroke-opacity=\"1\" stroke-width=\"3.2\"/>\n",
       "<path clip-path=\"url(#clip832)\" d=\"M609.733 1260.39 L609.733 1292.39 L641.733 1292.39 L641.733 1260.39 L609.733 1260.39 Z\" fill=\"#add8e6\" fill-rule=\"evenodd\" fill-opacity=\"1\" stroke=\"#000000\" stroke-opacity=\"1\" stroke-width=\"3.2\"/>\n",
       "<path clip-path=\"url(#clip832)\" d=\"M240.336 1139.27 L240.336 1171.27 L272.336 1171.27 L272.336 1139.27 L240.336 1139.27 Z\" fill=\"#add8e6\" fill-rule=\"evenodd\" fill-opacity=\"1\" stroke=\"#000000\" stroke-opacity=\"1\" stroke-width=\"3.2\"/>\n",
       "<path clip-path=\"url(#clip832)\" d=\"M604.448 1429.72 L604.448 1461.72 L636.448 1461.72 L636.448 1429.72 L604.448 1429.72 Z\" fill=\"#add8e6\" fill-rule=\"evenodd\" fill-opacity=\"1\" stroke=\"#000000\" stroke-opacity=\"1\" stroke-width=\"3.2\"/>\n",
       "<path clip-path=\"url(#clip832)\" d=\"M371.407 1262.48 L371.407 1294.48 L403.407 1294.48 L403.407 1262.48 L371.407 1262.48 Z\" fill=\"#add8e6\" fill-rule=\"evenodd\" fill-opacity=\"1\" stroke=\"#000000\" stroke-opacity=\"1\" stroke-width=\"3.2\"/>\n",
       "<path clip-path=\"url(#clip832)\" d=\"M1173.9 189.344 L1173.9 221.344 L1205.9 221.344 L1205.9 189.344 L1173.9 189.344 Z\" fill=\"#add8e6\" fill-rule=\"evenodd\" fill-opacity=\"1\" stroke=\"#000000\" stroke-opacity=\"1\" stroke-width=\"3.2\"/>\n",
       "<path clip-path=\"url(#clip832)\" d=\"M935.22 71.9763 L935.22 103.976 L967.22 103.976 L967.22 71.9763 L935.22 71.9763 Z\" fill=\"#add8e6\" fill-rule=\"evenodd\" fill-opacity=\"1\" stroke=\"#000000\" stroke-opacity=\"1\" stroke-width=\"3.2\"/>\n",
       "<path clip-path=\"url(#clip832)\" d=\"M1131.59 296.819 L1131.59 328.819 L1163.59 328.819 L1163.59 296.819 L1131.59 296.819 Z\" fill=\"#add8e6\" fill-rule=\"evenodd\" fill-opacity=\"1\" stroke=\"#000000\" stroke-opacity=\"1\" stroke-width=\"3.2\"/>\n",
       "<path clip-path=\"url(#clip832)\" d=\"M775.294 73.6242 L775.294 105.624 L807.294 105.624 L807.294 73.6242 L775.294 73.6242 Z\" fill=\"#add8e6\" fill-rule=\"evenodd\" fill-opacity=\"1\" stroke=\"#000000\" stroke-opacity=\"1\" stroke-width=\"3.2\"/>\n",
       "<path clip-path=\"url(#clip832)\" d=\"M1059.76 312.152 L1059.76 344.152 L1091.76 344.152 L1091.76 312.152 L1059.76 312.152 Z\" fill=\"#add8e6\" fill-rule=\"evenodd\" fill-opacity=\"1\" stroke=\"#000000\" stroke-opacity=\"1\" stroke-width=\"3.2\"/>\n",
       "<path clip-path=\"url(#clip832)\" d=\"M872.614 180.411 L872.614 212.411 L904.614 212.411 L904.614 180.411 L872.614 180.411 Z\" fill=\"#add8e6\" fill-rule=\"evenodd\" fill-opacity=\"1\" stroke=\"#000000\" stroke-opacity=\"1\" stroke-width=\"3.2\"/>\n",
       "<path clip-path=\"url(#clip832)\" d=\"M834.709 281.72 L834.709 313.72 L866.709 313.72 L866.709 281.72 L834.709 281.72 Z\" fill=\"#add8e6\" fill-rule=\"evenodd\" fill-opacity=\"1\" stroke=\"#000000\" stroke-opacity=\"1\" stroke-width=\"3.2\"/>\n",
       "<path clip-path=\"url(#clip832)\" d=\"M947.822 106.652 L947.822 138.652 L979.822 138.652 L979.822 106.652 L947.822 106.652 Z\" fill=\"#add8e6\" fill-rule=\"evenodd\" fill-opacity=\"1\" stroke=\"#000000\" stroke-opacity=\"1\" stroke-width=\"3.2\"/>\n",
       "<path clip-path=\"url(#clip832)\" d=\"M880.14 295.233 L880.14 327.233 L912.14 327.233 L912.14 295.233 L880.14 295.233 Z\" fill=\"#add8e6\" fill-rule=\"evenodd\" fill-opacity=\"1\" stroke=\"#000000\" stroke-opacity=\"1\" stroke-width=\"3.2\"/>\n",
       "<path clip-path=\"url(#clip832)\" d=\"M1019.39 371.898 L1019.39 403.898 L1051.39 403.898 L1051.39 371.898 L1019.39 371.898 Z\" fill=\"#add8e6\" fill-rule=\"evenodd\" fill-opacity=\"1\" stroke=\"#000000\" stroke-opacity=\"1\" stroke-width=\"3.2\"/>\n",
       "<path clip-path=\"url(#clip832)\" d=\"M1049.61 358.455 L1049.61 390.455 L1081.61 390.455 L1081.61 358.455 L1049.61 358.455 Z\" fill=\"#add8e6\" fill-rule=\"evenodd\" fill-opacity=\"1\" stroke=\"#000000\" stroke-opacity=\"1\" stroke-width=\"3.2\"/>\n",
       "<path clip-path=\"url(#clip832)\" d=\"M823.511 112.923 L823.511 144.923 L855.511 144.923 L855.511 112.923 L823.511 112.923 Z\" fill=\"#add8e6\" fill-rule=\"evenodd\" fill-opacity=\"1\" stroke=\"#000000\" stroke-opacity=\"1\" stroke-width=\"3.2\"/>\n",
       "<path clip-path=\"url(#clip832)\" d=\"M926.922 148.179 L926.922 180.179 L958.922 180.179 L958.922 148.179 L926.922 148.179 Z\" fill=\"#add8e6\" fill-rule=\"evenodd\" fill-opacity=\"1\" stroke=\"#000000\" stroke-opacity=\"1\" stroke-width=\"3.2\"/>\n",
       "<path clip-path=\"url(#clip830)\" d=\"M2005.71 302.578 L2279.25 302.578 L2279.25 95.2176 L2005.71 95.2176  Z\" fill=\"#ffffff\" fill-rule=\"evenodd\" fill-opacity=\"1\"/>\n",
       "<polyline clip-path=\"url(#clip830)\" style=\"stroke:#000000; stroke-linecap:round; stroke-linejoin:round; stroke-width:4; stroke-opacity:1; fill:none\" points=\"2005.71,302.578 2279.25,302.578 2279.25,95.2176 2005.71,95.2176 2005.71,302.578 \"/>\n",
       "<path clip-path=\"url(#clip830)\" d=\"M2103.72 124.302 L2098.37 139.685 L2082.08 140.026 L2095.08 149.879 L2090.34 165.467 L2103.72 156.16 L2117.1 165.467 L2112.37 149.879 L2125.36 140.026 L2109.07 139.685 L2103.72 124.302 Z\" fill=\"#ffff00\" fill-rule=\"evenodd\" fill-opacity=\"1\" stroke=\"#000000\" stroke-opacity=\"1\" stroke-width=\"4.55111\"/>\n",
       "<path clip-path=\"url(#clip830)\" d=\"M2215.58 166.745 Q2213.77 171.375 2212.06 172.787 Q2210.35 174.199 2207.48 174.199 L2204.07 174.199 L2204.07 170.634 L2206.57 170.634 Q2208.33 170.634 2209.3 169.8 Q2210.28 168.967 2211.46 165.865 L2212.22 163.921 L2201.73 138.412 L2206.25 138.412 L2214.35 158.689 L2222.45 138.412 L2226.97 138.412 L2215.58 166.745 Z\" fill=\"#000000\" fill-rule=\"nonzero\" fill-opacity=\"1\" /><path clip-path=\"url(#clip830)\" d=\"M2234.26 160.402 L2241.9 160.402 L2241.9 134.037 L2233.59 135.703 L2233.59 131.444 L2241.85 129.778 L2246.53 129.778 L2246.53 160.402 L2254.16 160.402 L2254.16 164.338 L2234.26 164.338 L2234.26 160.402 Z\" fill=\"#000000\" fill-rule=\"nonzero\" fill-opacity=\"1\" /><circle clip-path=\"url(#clip830)\" cx=\"2103.72\" cy=\"198.898\" r=\"20.48\" fill=\"#90ee90\" fill-rule=\"evenodd\" fill-opacity=\"1\" stroke=\"#000000\" stroke-opacity=\"1\" stroke-width=\"4.55111\"/>\n",
       "<path clip-path=\"url(#clip830)\" d=\"M2215.58 218.585 Q2213.77 223.215 2212.06 224.627 Q2210.35 226.039 2207.48 226.039 L2204.07 226.039 L2204.07 222.474 L2206.57 222.474 Q2208.33 222.474 2209.3 221.64 Q2210.28 220.807 2211.46 217.705 L2212.22 215.761 L2201.73 190.252 L2206.25 190.252 L2214.35 210.529 L2222.45 190.252 L2226.97 190.252 L2215.58 218.585 Z\" fill=\"#000000\" fill-rule=\"nonzero\" fill-opacity=\"1\" /><path clip-path=\"url(#clip830)\" d=\"M2237.48 212.242 L2253.79 212.242 L2253.79 216.178 L2231.85 216.178 L2231.85 212.242 Q2234.51 209.488 2239.1 204.858 Q2243.7 200.205 2244.88 198.863 Q2247.13 196.34 2248.01 194.604 Q2248.91 192.844 2248.91 191.155 Q2248.91 188.4 2246.97 186.664 Q2245.04 184.928 2241.94 184.928 Q2239.74 184.928 2237.29 185.692 Q2234.86 186.455 2232.08 188.006 L2232.08 183.284 Q2234.91 182.15 2237.36 181.571 Q2239.81 180.993 2241.85 180.993 Q2247.22 180.993 2250.41 183.678 Q2253.61 186.363 2253.61 190.854 Q2253.61 192.983 2252.8 194.905 Q2252.01 196.803 2249.91 199.395 Q2249.33 200.067 2246.23 203.284 Q2243.12 206.479 2237.48 212.242 Z\" fill=\"#000000\" fill-rule=\"nonzero\" fill-opacity=\"1\" /><path clip-path=\"url(#clip830)\" d=\"M2080.97 227.982 L2080.97 273.493 L2126.48 273.493 L2126.48 227.982 L2080.97 227.982 Z\" fill=\"#add8e6\" fill-rule=\"evenodd\" fill-opacity=\"1\" stroke=\"#000000\" stroke-opacity=\"1\" stroke-width=\"4.55111\"/>\n",
       "<path clip-path=\"url(#clip830)\" d=\"M2215.58 270.425 Q2213.77 275.055 2212.06 276.467 Q2210.35 277.879 2207.48 277.879 L2204.07 277.879 L2204.07 274.314 L2206.57 274.314 Q2208.33 274.314 2209.3 273.48 Q2210.28 272.647 2211.46 269.545 L2212.22 267.601 L2201.73 242.092 L2206.25 242.092 L2214.35 262.369 L2222.45 242.092 L2226.97 242.092 L2215.58 270.425 Z\" fill=\"#000000\" fill-rule=\"nonzero\" fill-opacity=\"1\" /><path clip-path=\"url(#clip830)\" d=\"M2247.61 249.383 Q2250.97 250.101 2252.85 252.369 Q2254.74 254.638 2254.74 257.971 Q2254.74 263.087 2251.23 265.888 Q2247.71 268.689 2241.23 268.689 Q2239.05 268.689 2236.73 268.249 Q2234.44 267.832 2231.99 266.976 L2231.99 262.462 Q2233.93 263.596 2236.25 264.175 Q2238.56 264.754 2241.09 264.754 Q2245.48 264.754 2247.78 263.018 Q2250.09 261.281 2250.09 257.971 Q2250.09 254.916 2247.94 253.203 Q2245.81 251.467 2241.99 251.467 L2237.96 251.467 L2237.96 247.624 L2242.17 247.624 Q2245.62 247.624 2247.45 246.258 Q2249.28 244.87 2249.28 242.277 Q2249.28 239.615 2247.38 238.203 Q2245.51 236.768 2241.99 236.768 Q2240.07 236.768 2237.87 237.184 Q2235.67 237.601 2233.03 238.481 L2233.03 234.314 Q2235.69 233.573 2238.01 233.203 Q2240.35 232.833 2242.41 232.833 Q2247.73 232.833 2250.83 235.263 Q2253.93 237.67 2253.93 241.791 Q2253.93 244.661 2252.29 246.652 Q2250.65 248.62 2247.61 249.383 Z\" fill=\"#000000\" fill-rule=\"nonzero\" fill-opacity=\"1\" /></svg>\n"
      ],
      "text/html": [
       "<?xml version=\"1.0\" encoding=\"utf-8\"?>\n",
       "<svg xmlns=\"http://www.w3.org/2000/svg\" xmlns:xlink=\"http://www.w3.org/1999/xlink\" width=\"600\" height=\"400\" viewBox=\"0 0 2400 1600\">\n",
       "<defs>\n",
       "  <clipPath id=\"clip880\">\n",
       "    <rect x=\"0\" y=\"0\" width=\"2400\" height=\"1600\"/>\n",
       "  </clipPath>\n",
       "</defs>\n",
       "<path clip-path=\"url(#clip880)\" d=\"M0 1600 L2400 1600 L2400 0 L0 0  Z\" fill=\"#ffffff\" fill-rule=\"evenodd\" fill-opacity=\"1\"/>\n",
       "<defs>\n",
       "  <clipPath id=\"clip881\">\n",
       "    <rect x=\"480\" y=\"0\" width=\"1681\" height=\"1600\"/>\n",
       "  </clipPath>\n",
       "</defs>\n",
       "<path clip-path=\"url(#clip880)\" d=\"M147.478 1486.45 L2352.76 1486.45 L2352.76 47.2441 L147.478 47.2441  Z\" fill=\"#ffffff\" fill-rule=\"evenodd\" fill-opacity=\"1\"/>\n",
       "<defs>\n",
       "  <clipPath id=\"clip882\">\n",
       "    <rect x=\"147\" y=\"47\" width=\"2206\" height=\"1440\"/>\n",
       "  </clipPath>\n",
       "</defs>\n",
       "<polyline clip-path=\"url(#clip882)\" style=\"stroke:#000000; stroke-linecap:round; stroke-linejoin:round; stroke-width:2; stroke-opacity:0.1; fill:none\" points=\"197.25,1486.45 197.25,47.2441 \"/>\n",
       "<polyline clip-path=\"url(#clip882)\" style=\"stroke:#000000; stroke-linecap:round; stroke-linejoin:round; stroke-width:2; stroke-opacity:0.1; fill:none\" points=\"642.734,1486.45 642.734,47.2441 \"/>\n",
       "<polyline clip-path=\"url(#clip882)\" style=\"stroke:#000000; stroke-linecap:round; stroke-linejoin:round; stroke-width:2; stroke-opacity:0.1; fill:none\" points=\"1088.22,1486.45 1088.22,47.2441 \"/>\n",
       "<polyline clip-path=\"url(#clip882)\" style=\"stroke:#000000; stroke-linecap:round; stroke-linejoin:round; stroke-width:2; stroke-opacity:0.1; fill:none\" points=\"1533.7,1486.45 1533.7,47.2441 \"/>\n",
       "<polyline clip-path=\"url(#clip882)\" style=\"stroke:#000000; stroke-linecap:round; stroke-linejoin:round; stroke-width:2; stroke-opacity:0.1; fill:none\" points=\"1979.19,1486.45 1979.19,47.2441 \"/>\n",
       "<polyline clip-path=\"url(#clip880)\" style=\"stroke:#000000; stroke-linecap:round; stroke-linejoin:round; stroke-width:4; stroke-opacity:1; fill:none\" points=\"147.478,1486.45 2352.76,1486.45 \"/>\n",
       "<polyline clip-path=\"url(#clip880)\" style=\"stroke:#000000; stroke-linecap:round; stroke-linejoin:round; stroke-width:4; stroke-opacity:1; fill:none\" points=\"197.25,1486.45 197.25,1467.55 \"/>\n",
       "<polyline clip-path=\"url(#clip880)\" style=\"stroke:#000000; stroke-linecap:round; stroke-linejoin:round; stroke-width:4; stroke-opacity:1; fill:none\" points=\"642.734,1486.45 642.734,1467.55 \"/>\n",
       "<polyline clip-path=\"url(#clip880)\" style=\"stroke:#000000; stroke-linecap:round; stroke-linejoin:round; stroke-width:4; stroke-opacity:1; fill:none\" points=\"1088.22,1486.45 1088.22,1467.55 \"/>\n",
       "<polyline clip-path=\"url(#clip880)\" style=\"stroke:#000000; stroke-linecap:round; stroke-linejoin:round; stroke-width:4; stroke-opacity:1; fill:none\" points=\"1533.7,1486.45 1533.7,1467.55 \"/>\n",
       "<polyline clip-path=\"url(#clip880)\" style=\"stroke:#000000; stroke-linecap:round; stroke-linejoin:round; stroke-width:4; stroke-opacity:1; fill:none\" points=\"1979.19,1486.45 1979.19,1467.55 \"/>\n",
       "<path clip-path=\"url(#clip880)\" d=\"M167.192 1532.02 L196.868 1532.02 L196.868 1535.95 L167.192 1535.95 L167.192 1532.02 Z\" fill=\"#000000\" fill-rule=\"nonzero\" fill-opacity=\"1\" /><path clip-path=\"url(#clip880)\" d=\"M210.988 1544.91 L227.307 1544.91 L227.307 1548.85 L205.363 1548.85 L205.363 1544.91 Q208.025 1542.16 212.608 1537.53 Q217.215 1532.88 218.395 1531.53 Q220.641 1529.01 221.52 1527.27 Q222.423 1525.51 222.423 1523.82 Q222.423 1521.07 220.479 1519.33 Q218.557 1517.6 215.455 1517.6 Q213.256 1517.6 210.803 1518.36 Q208.372 1519.13 205.594 1520.68 L205.594 1515.95 Q208.418 1514.82 210.872 1514.24 Q213.326 1513.66 215.363 1513.66 Q220.733 1513.66 223.928 1516.35 Q227.122 1519.03 227.122 1523.52 Q227.122 1525.65 226.312 1527.57 Q225.525 1529.47 223.418 1532.07 Q222.84 1532.74 219.738 1535.95 Q216.636 1539.15 210.988 1544.91 Z\" fill=\"#000000\" fill-rule=\"nonzero\" fill-opacity=\"1\" /><path clip-path=\"url(#clip880)\" d=\"M612.491 1532.02 L642.167 1532.02 L642.167 1535.95 L612.491 1535.95 L612.491 1532.02 Z\" fill=\"#000000\" fill-rule=\"nonzero\" fill-opacity=\"1\" /><path clip-path=\"url(#clip880)\" d=\"M653.069 1544.91 L660.708 1544.91 L660.708 1518.55 L652.398 1520.21 L652.398 1515.95 L660.662 1514.29 L665.338 1514.29 L665.338 1544.91 L672.977 1544.91 L672.977 1548.85 L653.069 1548.85 L653.069 1544.91 Z\" fill=\"#000000\" fill-rule=\"nonzero\" fill-opacity=\"1\" /><path clip-path=\"url(#clip880)\" d=\"M1088.22 1517.37 Q1084.61 1517.37 1082.78 1520.93 Q1080.97 1524.47 1080.97 1531.6 Q1080.97 1538.71 1082.78 1542.27 Q1084.61 1545.82 1088.22 1545.82 Q1091.85 1545.82 1093.66 1542.27 Q1095.49 1538.71 1095.49 1531.6 Q1095.49 1524.47 1093.66 1520.93 Q1091.85 1517.37 1088.22 1517.37 M1088.22 1513.66 Q1094.03 1513.66 1097.08 1518.27 Q1100.16 1522.85 1100.16 1531.6 Q1100.16 1540.33 1097.08 1544.94 Q1094.03 1549.52 1088.22 1549.52 Q1082.41 1549.52 1079.33 1544.94 Q1076.27 1540.33 1076.27 1531.6 Q1076.27 1522.85 1079.33 1518.27 Q1082.41 1513.66 1088.22 1513.66 Z\" fill=\"#000000\" fill-rule=\"nonzero\" fill-opacity=\"1\" /><path clip-path=\"url(#clip880)\" d=\"M1524.08 1544.91 L1531.72 1544.91 L1531.72 1518.55 L1523.41 1520.21 L1523.41 1515.95 L1531.68 1514.29 L1536.35 1514.29 L1536.35 1544.91 L1543.99 1544.91 L1543.99 1548.85 L1524.08 1548.85 L1524.08 1544.91 Z\" fill=\"#000000\" fill-rule=\"nonzero\" fill-opacity=\"1\" /><path clip-path=\"url(#clip880)\" d=\"M1973.84 1544.91 L1990.16 1544.91 L1990.16 1548.85 L1968.21 1548.85 L1968.21 1544.91 Q1970.88 1542.16 1975.46 1537.53 Q1980.07 1532.88 1981.25 1531.53 Q1983.49 1529.01 1984.37 1527.27 Q1985.27 1525.51 1985.27 1523.82 Q1985.27 1521.07 1983.33 1519.33 Q1981.41 1517.6 1978.31 1517.6 Q1976.11 1517.6 1973.65 1518.36 Q1971.22 1519.13 1968.45 1520.68 L1968.45 1515.95 Q1971.27 1514.82 1973.72 1514.24 Q1976.18 1513.66 1978.21 1513.66 Q1983.58 1513.66 1986.78 1516.35 Q1989.97 1519.03 1989.97 1523.52 Q1989.97 1525.65 1989.16 1527.57 Q1988.38 1529.47 1986.27 1532.07 Q1985.69 1532.74 1982.59 1535.95 Q1979.49 1539.15 1973.84 1544.91 Z\" fill=\"#000000\" fill-rule=\"nonzero\" fill-opacity=\"1\" /><polyline clip-path=\"url(#clip882)\" style=\"stroke:#000000; stroke-linecap:round; stroke-linejoin:round; stroke-width:2; stroke-opacity:0.1; fill:none\" points=\"147.478,1461.8 2352.76,1461.8 \"/>\n",
       "<polyline clip-path=\"url(#clip882)\" style=\"stroke:#000000; stroke-linecap:round; stroke-linejoin:round; stroke-width:2; stroke-opacity:0.1; fill:none\" points=\"147.478,1151.54 2352.76,1151.54 \"/>\n",
       "<polyline clip-path=\"url(#clip882)\" style=\"stroke:#000000; stroke-linecap:round; stroke-linejoin:round; stroke-width:2; stroke-opacity:0.1; fill:none\" points=\"147.478,841.289 2352.76,841.289 \"/>\n",
       "<polyline clip-path=\"url(#clip882)\" style=\"stroke:#000000; stroke-linecap:round; stroke-linejoin:round; stroke-width:2; stroke-opacity:0.1; fill:none\" points=\"147.478,531.034 2352.76,531.034 \"/>\n",
       "<polyline clip-path=\"url(#clip882)\" style=\"stroke:#000000; stroke-linecap:round; stroke-linejoin:round; stroke-width:2; stroke-opacity:0.1; fill:none\" points=\"147.478,220.78 2352.76,220.78 \"/>\n",
       "<polyline clip-path=\"url(#clip880)\" style=\"stroke:#000000; stroke-linecap:round; stroke-linejoin:round; stroke-width:4; stroke-opacity:1; fill:none\" points=\"147.478,1486.45 147.478,47.2441 \"/>\n",
       "<polyline clip-path=\"url(#clip880)\" style=\"stroke:#000000; stroke-linecap:round; stroke-linejoin:round; stroke-width:4; stroke-opacity:1; fill:none\" points=\"147.478,1461.8 166.376,1461.8 \"/>\n",
       "<polyline clip-path=\"url(#clip880)\" style=\"stroke:#000000; stroke-linecap:round; stroke-linejoin:round; stroke-width:4; stroke-opacity:1; fill:none\" points=\"147.478,1151.54 166.376,1151.54 \"/>\n",
       "<polyline clip-path=\"url(#clip880)\" style=\"stroke:#000000; stroke-linecap:round; stroke-linejoin:round; stroke-width:4; stroke-opacity:1; fill:none\" points=\"147.478,841.289 166.376,841.289 \"/>\n",
       "<polyline clip-path=\"url(#clip880)\" style=\"stroke:#000000; stroke-linecap:round; stroke-linejoin:round; stroke-width:4; stroke-opacity:1; fill:none\" points=\"147.478,531.034 166.376,531.034 \"/>\n",
       "<polyline clip-path=\"url(#clip880)\" style=\"stroke:#000000; stroke-linecap:round; stroke-linejoin:round; stroke-width:4; stroke-opacity:1; fill:none\" points=\"147.478,220.78 166.376,220.78 \"/>\n",
       "<path clip-path=\"url(#clip880)\" d=\"M51.3625 1462.25 L81.0383 1462.25 L81.0383 1466.18 L51.3625 1466.18 L51.3625 1462.25 Z\" fill=\"#000000\" fill-rule=\"nonzero\" fill-opacity=\"1\" /><path clip-path=\"url(#clip880)\" d=\"M95.1586 1475.14 L111.478 1475.14 L111.478 1479.08 L89.5336 1479.08 L89.5336 1475.14 Q92.1956 1472.39 96.7789 1467.76 Q101.385 1463.1 102.566 1461.76 Q104.811 1459.24 105.691 1457.5 Q106.594 1455.74 106.594 1454.05 Q106.594 1451.3 104.649 1449.56 Q102.728 1447.83 99.6261 1447.83 Q97.4271 1447.83 94.9734 1448.59 Q92.5428 1449.35 89.7651 1450.91 L89.7651 1446.18 Q92.5891 1445.05 95.0428 1444.47 Q97.4965 1443.89 99.5335 1443.89 Q104.904 1443.89 108.098 1446.58 Q111.293 1449.26 111.293 1453.75 Q111.293 1455.88 110.483 1457.8 Q109.696 1459.7 107.589 1462.29 Q107.01 1462.97 103.909 1466.18 Q100.807 1469.38 95.1586 1475.14 Z\" fill=\"#000000\" fill-rule=\"nonzero\" fill-opacity=\"1\" /><path clip-path=\"url(#clip880)\" d=\"M50.9921 1151.99 L80.6679 1151.99 L80.6679 1155.93 L50.9921 1155.93 L50.9921 1151.99 Z\" fill=\"#000000\" fill-rule=\"nonzero\" fill-opacity=\"1\" /><path clip-path=\"url(#clip880)\" d=\"M91.5706 1164.89 L99.2095 1164.89 L99.2095 1138.52 L90.8993 1140.19 L90.8993 1135.93 L99.1632 1134.26 L103.839 1134.26 L103.839 1164.89 L111.478 1164.89 L111.478 1168.82 L91.5706 1168.82 L91.5706 1164.89 Z\" fill=\"#000000\" fill-rule=\"nonzero\" fill-opacity=\"1\" /><path clip-path=\"url(#clip880)\" d=\"M99.5335 827.087 Q95.9224 827.087 94.0937 830.652 Q92.2882 834.194 92.2882 841.323 Q92.2882 848.43 94.0937 851.995 Q95.9224 855.536 99.5335 855.536 Q103.168 855.536 104.973 851.995 Q106.802 848.43 106.802 841.323 Q106.802 834.194 104.973 830.652 Q103.168 827.087 99.5335 827.087 M99.5335 823.384 Q105.344 823.384 108.399 827.99 Q111.478 832.573 111.478 841.323 Q111.478 850.05 108.399 854.657 Q105.344 859.24 99.5335 859.24 Q93.7234 859.24 90.6447 854.657 Q87.5892 850.05 87.5892 841.323 Q87.5892 832.573 90.6447 827.99 Q93.7234 823.384 99.5335 823.384 Z\" fill=\"#000000\" fill-rule=\"nonzero\" fill-opacity=\"1\" /><path clip-path=\"url(#clip880)\" d=\"M91.5706 544.379 L99.2095 544.379 L99.2095 518.014 L90.8993 519.68 L90.8993 515.421 L99.1632 513.754 L103.839 513.754 L103.839 544.379 L111.478 544.379 L111.478 548.314 L91.5706 548.314 L91.5706 544.379 Z\" fill=\"#000000\" fill-rule=\"nonzero\" fill-opacity=\"1\" /><path clip-path=\"url(#clip880)\" d=\"M95.1586 234.125 L111.478 234.125 L111.478 238.06 L89.5336 238.06 L89.5336 234.125 Q92.1956 231.371 96.7789 226.741 Q101.385 222.088 102.566 220.746 Q104.811 218.222 105.691 216.486 Q106.594 214.727 106.594 213.037 Q106.594 210.283 104.649 208.547 Q102.728 206.81 99.6261 206.81 Q97.4271 206.81 94.9734 207.574 Q92.5428 208.338 89.7651 209.889 L89.7651 205.167 Q92.5891 204.033 95.0428 203.454 Q97.4965 202.875 99.5335 202.875 Q104.904 202.875 108.098 205.56 Q111.293 208.246 111.293 212.736 Q111.293 214.866 110.483 216.787 Q109.696 218.685 107.589 221.278 Q107.01 221.949 103.909 225.167 Q100.807 228.361 95.1586 234.125 Z\" fill=\"#000000\" fill-rule=\"nonzero\" fill-opacity=\"1\" /><path clip-path=\"url(#clip882)\" d=\"M1144.94 502.865 L1141.18 513.681 L1129.72 513.921 L1138.86 520.849 L1135.53 531.809 L1144.94 525.265 L1154.34 531.809 L1151.02 520.849 L1160.15 513.921 L1148.7 513.681 L1144.94 502.865 Z\" fill=\"#ffff00\" fill-rule=\"evenodd\" fill-opacity=\"1\" stroke=\"#000000\" stroke-opacity=\"1\" stroke-width=\"3.2\"/>\n",
       "<path clip-path=\"url(#clip882)\" d=\"M1502.86 693.496 L1499.1 704.312 L1487.64 704.552 L1496.78 711.48 L1493.45 722.44 L1502.86 715.896 L1512.27 722.44 L1508.94 711.48 L1518.08 704.552 L1506.62 704.312 L1502.86 693.496 Z\" fill=\"#ffff00\" fill-rule=\"evenodd\" fill-opacity=\"1\" stroke=\"#000000\" stroke-opacity=\"1\" stroke-width=\"3.2\"/>\n",
       "<path clip-path=\"url(#clip882)\" d=\"M1524.09 260.695 L1520.33 271.511 L1508.88 271.751 L1518.01 278.679 L1514.68 289.639 L1524.09 283.095 L1533.5 289.639 L1530.17 278.679 L1539.31 271.751 L1527.85 271.511 L1524.09 260.695 Z\" fill=\"#ffff00\" fill-rule=\"evenodd\" fill-opacity=\"1\" stroke=\"#000000\" stroke-opacity=\"1\" stroke-width=\"3.2\"/>\n",
       "<path clip-path=\"url(#clip882)\" d=\"M1663.89 709.827 L1660.13 720.643 L1648.68 720.883 L1657.81 727.811 L1654.48 738.771 L1663.89 732.227 L1673.3 738.771 L1669.97 727.811 L1679.11 720.883 L1667.65 720.643 L1663.89 709.827 Z\" fill=\"#ffff00\" fill-rule=\"evenodd\" fill-opacity=\"1\" stroke=\"#000000\" stroke-opacity=\"1\" stroke-width=\"3.2\"/>\n",
       "<path clip-path=\"url(#clip882)\" d=\"M747.671 1016.69 L743.911 1027.5 L732.455 1027.74 L741.591 1034.67 L738.263 1045.63 L747.671 1039.09 L757.079 1045.63 L753.751 1034.67 L762.887 1027.74 L751.431 1027.5 L747.671 1016.69 Z\" fill=\"#ffff00\" fill-rule=\"evenodd\" fill-opacity=\"1\" stroke=\"#000000\" stroke-opacity=\"1\" stroke-width=\"3.2\"/>\n",
       "<path clip-path=\"url(#clip882)\" d=\"M681.446 1280.56 L677.686 1291.38 L666.23 1291.62 L675.366 1298.55 L672.038 1309.51 L681.446 1302.96 L690.854 1309.51 L687.526 1298.55 L696.662 1291.62 L685.206 1291.38 L681.446 1280.56 Z\" fill=\"#ffff00\" fill-rule=\"evenodd\" fill-opacity=\"1\" stroke=\"#000000\" stroke-opacity=\"1\" stroke-width=\"3.2\"/>\n",
       "<path clip-path=\"url(#clip882)\" d=\"M330.613 817.472 L326.853 828.288 L315.397 828.528 L324.533 835.456 L321.205 846.416 L330.613 839.872 L340.021 846.416 L336.693 835.456 L345.829 828.528 L334.373 828.288 L330.613 817.472 Z\" fill=\"#ffff00\" fill-rule=\"evenodd\" fill-opacity=\"1\" stroke=\"#000000\" stroke-opacity=\"1\" stroke-width=\"3.2\"/>\n",
       "<path clip-path=\"url(#clip882)\" d=\"M279.247 1123.74 L275.487 1134.56 L264.031 1134.8 L273.167 1141.73 L269.839 1152.69 L279.247 1146.14 L288.655 1152.69 L285.327 1141.73 L294.463 1134.8 L283.007 1134.56 L279.247 1123.74 Z\" fill=\"#ffff00\" fill-rule=\"evenodd\" fill-opacity=\"1\" stroke=\"#000000\" stroke-opacity=\"1\" stroke-width=\"3.2\"/>\n",
       "<path clip-path=\"url(#clip882)\" d=\"M1087.38 204.382 L1083.62 215.198 L1072.16 215.438 L1081.3 222.366 L1077.97 233.326 L1087.38 226.782 L1096.79 233.326 L1093.46 222.366 L1102.6 215.438 L1091.14 215.198 L1087.38 204.382 Z\" fill=\"#ffff00\" fill-rule=\"evenodd\" fill-opacity=\"1\" stroke=\"#000000\" stroke-opacity=\"1\" stroke-width=\"3.2\"/>\n",
       "<path clip-path=\"url(#clip882)\" d=\"M959.88 366.179 L956.12 376.995 L944.664 377.235 L953.8 384.163 L950.472 395.123 L959.88 388.579 L969.288 395.123 L965.96 384.163 L975.096 377.235 L963.64 376.995 L959.88 366.179 Z\" fill=\"#ffff00\" fill-rule=\"evenodd\" fill-opacity=\"1\" stroke=\"#000000\" stroke-opacity=\"1\" stroke-width=\"3.2\"/>\n",
       "<path clip-path=\"url(#clip882)\" d=\"M1170.71 140.197 L1166.95 151.013 L1155.49 151.253 L1164.63 158.181 L1161.3 169.141 L1170.71 162.597 L1180.11 169.141 L1176.79 158.181 L1185.92 151.253 L1174.47 151.013 L1170.71 140.197 Z\" fill=\"#ffff00\" fill-rule=\"evenodd\" fill-opacity=\"1\" stroke=\"#000000\" stroke-opacity=\"1\" stroke-width=\"3.2\"/>\n",
       "<circle clip-path=\"url(#clip882)\" cx=\"1695.17\" cy=\"379.681\" r=\"14.4\" fill=\"#90ee90\" fill-rule=\"evenodd\" fill-opacity=\"1\" stroke=\"#000000\" stroke-opacity=\"1\" stroke-width=\"3.2\"/>\n",
       "<circle clip-path=\"url(#clip882)\" cx=\"1875.9\" cy=\"424.247\" r=\"14.4\" fill=\"#90ee90\" fill-rule=\"evenodd\" fill-opacity=\"1\" stroke=\"#000000\" stroke-opacity=\"1\" stroke-width=\"3.2\"/>\n",
       "<circle clip-path=\"url(#clip882)\" cx=\"1826.81\" cy=\"611.661\" r=\"14.4\" fill=\"#90ee90\" fill-rule=\"evenodd\" fill-opacity=\"1\" stroke=\"#000000\" stroke-opacity=\"1\" stroke-width=\"3.2\"/>\n",
       "<circle clip-path=\"url(#clip882)\" cx=\"1681.89\" cy=\"429.415\" r=\"14.4\" fill=\"#90ee90\" fill-rule=\"evenodd\" fill-opacity=\"1\" stroke=\"#000000\" stroke-opacity=\"1\" stroke-width=\"3.2\"/>\n",
       "<circle clip-path=\"url(#clip882)\" cx=\"1589.09\" cy=\"344.152\" r=\"14.4\" fill=\"#90ee90\" fill-rule=\"evenodd\" fill-opacity=\"1\" stroke=\"#000000\" stroke-opacity=\"1\" stroke-width=\"3.2\"/>\n",
       "<circle clip-path=\"url(#clip882)\" cx=\"1665.51\" cy=\"518.368\" r=\"14.4\" fill=\"#90ee90\" fill-rule=\"evenodd\" fill-opacity=\"1\" stroke=\"#000000\" stroke-opacity=\"1\" stroke-width=\"3.2\"/>\n",
       "<circle clip-path=\"url(#clip882)\" cx=\"1266.5\" cy=\"685.519\" r=\"14.4\" fill=\"#90ee90\" fill-rule=\"evenodd\" fill-opacity=\"1\" stroke=\"#000000\" stroke-opacity=\"1\" stroke-width=\"3.2\"/>\n",
       "<circle clip-path=\"url(#clip882)\" cx=\"1414.57\" cy=\"787.097\" r=\"14.4\" fill=\"#90ee90\" fill-rule=\"evenodd\" fill-opacity=\"1\" stroke=\"#000000\" stroke-opacity=\"1\" stroke-width=\"3.2\"/>\n",
       "<circle clip-path=\"url(#clip882)\" cx=\"209.891\" cy=\"902.873\" r=\"14.4\" fill=\"#90ee90\" fill-rule=\"evenodd\" fill-opacity=\"1\" stroke=\"#000000\" stroke-opacity=\"1\" stroke-width=\"3.2\"/>\n",
       "<circle clip-path=\"url(#clip882)\" cx=\"586.953\" cy=\"1346.43\" r=\"14.4\" fill=\"#90ee90\" fill-rule=\"evenodd\" fill-opacity=\"1\" stroke=\"#000000\" stroke-opacity=\"1\" stroke-width=\"3.2\"/>\n",
       "<circle clip-path=\"url(#clip882)\" cx=\"625.146\" cy=\"1157.87\" r=\"14.4\" fill=\"#90ee90\" fill-rule=\"evenodd\" fill-opacity=\"1\" stroke=\"#000000\" stroke-opacity=\"1\" stroke-width=\"3.2\"/>\n",
       "<circle clip-path=\"url(#clip882)\" cx=\"1101.94\" cy=\"1154.73\" r=\"14.4\" fill=\"#90ee90\" fill-rule=\"evenodd\" fill-opacity=\"1\" stroke=\"#000000\" stroke-opacity=\"1\" stroke-width=\"3.2\"/>\n",
       "<circle clip-path=\"url(#clip882)\" cx=\"431.23\" cy=\"1282.63\" r=\"14.4\" fill=\"#90ee90\" fill-rule=\"evenodd\" fill-opacity=\"1\" stroke=\"#000000\" stroke-opacity=\"1\" stroke-width=\"3.2\"/>\n",
       "<circle clip-path=\"url(#clip882)\" cx=\"1022.69\" cy=\"1085.23\" r=\"14.4\" fill=\"#90ee90\" fill-rule=\"evenodd\" fill-opacity=\"1\" stroke=\"#000000\" stroke-opacity=\"1\" stroke-width=\"3.2\"/>\n",
       "<circle clip-path=\"url(#clip882)\" cx=\"337.053\" cy=\"1182.2\" r=\"14.4\" fill=\"#90ee90\" fill-rule=\"evenodd\" fill-opacity=\"1\" stroke=\"#000000\" stroke-opacity=\"1\" stroke-width=\"3.2\"/>\n",
       "<circle clip-path=\"url(#clip882)\" cx=\"914.105\" cy=\"333.293\" r=\"14.4\" fill=\"#90ee90\" fill-rule=\"evenodd\" fill-opacity=\"1\" stroke=\"#000000\" stroke-opacity=\"1\" stroke-width=\"3.2\"/>\n",
       "<circle clip-path=\"url(#clip882)\" cx=\"1166.8\" cy=\"221.251\" r=\"14.4\" fill=\"#90ee90\" fill-rule=\"evenodd\" fill-opacity=\"1\" stroke=\"#000000\" stroke-opacity=\"1\" stroke-width=\"3.2\"/>\n",
       "<circle clip-path=\"url(#clip882)\" cx=\"1124.71\" cy=\"357.728\" r=\"14.4\" fill=\"#90ee90\" fill-rule=\"evenodd\" fill-opacity=\"1\" stroke=\"#000000\" stroke-opacity=\"1\" stroke-width=\"3.2\"/>\n",
       "<circle clip-path=\"url(#clip882)\" cx=\"1189.86\" cy=\"382.592\" r=\"14.4\" fill=\"#90ee90\" fill-rule=\"evenodd\" fill-opacity=\"1\" stroke=\"#000000\" stroke-opacity=\"1\" stroke-width=\"3.2\"/>\n",
       "<path clip-path=\"url(#clip882)\" d=\"M1444.08 270.05 L1444.08 302.05 L1476.08 302.05 L1476.08 270.05 L1444.08 270.05 Z\" fill=\"#add8e6\" fill-rule=\"evenodd\" fill-opacity=\"1\" stroke=\"#000000\" stroke-opacity=\"1\" stroke-width=\"3.2\"/>\n",
       "<path clip-path=\"url(#clip882)\" d=\"M1663.88 239.236 L1663.88 271.236 L1695.88 271.236 L1695.88 239.236 L1663.88 239.236 Z\" fill=\"#add8e6\" fill-rule=\"evenodd\" fill-opacity=\"1\" stroke=\"#000000\" stroke-opacity=\"1\" stroke-width=\"3.2\"/>\n",
       "<path clip-path=\"url(#clip882)\" d=\"M1793.31 538.227 L1793.31 570.227 L1825.31 570.227 L1825.31 538.227 L1793.31 538.227 Z\" fill=\"#add8e6\" fill-rule=\"evenodd\" fill-opacity=\"1\" stroke=\"#000000\" stroke-opacity=\"1\" stroke-width=\"3.2\"/>\n",
       "<path clip-path=\"url(#clip882)\" d=\"M2274.34 641.179 L2274.34 673.179 L2306.34 673.179 L2306.34 641.179 L2274.34 641.179 Z\" fill=\"#add8e6\" fill-rule=\"evenodd\" fill-opacity=\"1\" stroke=\"#000000\" stroke-opacity=\"1\" stroke-width=\"3.2\"/>\n",
       "<path clip-path=\"url(#clip882)\" d=\"M2089.87 707.066 L2089.87 739.066 L2121.87 739.066 L2121.87 707.066 L2089.87 707.066 Z\" fill=\"#add8e6\" fill-rule=\"evenodd\" fill-opacity=\"1\" stroke=\"#000000\" stroke-opacity=\"1\" stroke-width=\"3.2\"/>\n",
       "<path clip-path=\"url(#clip882)\" d=\"M1946.01 619.544 L1946.01 651.544 L1978.01 651.544 L1978.01 619.544 L1946.01 619.544 Z\" fill=\"#add8e6\" fill-rule=\"evenodd\" fill-opacity=\"1\" stroke=\"#000000\" stroke-opacity=\"1\" stroke-width=\"3.2\"/>\n",
       "<path clip-path=\"url(#clip882)\" d=\"M1724.19 307.802 L1724.19 339.802 L1756.19 339.802 L1756.19 307.802 L1724.19 307.802 Z\" fill=\"#add8e6\" fill-rule=\"evenodd\" fill-opacity=\"1\" stroke=\"#000000\" stroke-opacity=\"1\" stroke-width=\"3.2\"/>\n",
       "<path clip-path=\"url(#clip882)\" d=\"M1634.49 323.634 L1634.49 355.634 L1666.49 355.634 L1666.49 323.634 L1634.49 323.634 Z\" fill=\"#add8e6\" fill-rule=\"evenodd\" fill-opacity=\"1\" stroke=\"#000000\" stroke-opacity=\"1\" stroke-width=\"3.2\"/>\n",
       "<path clip-path=\"url(#clip882)\" d=\"M586.444 1203.06 L586.444 1235.06 L618.444 1235.06 L618.444 1203.06 L586.444 1203.06 Z\" fill=\"#add8e6\" fill-rule=\"evenodd\" fill-opacity=\"1\" stroke=\"#000000\" stroke-opacity=\"1\" stroke-width=\"3.2\"/>\n",
       "<path clip-path=\"url(#clip882)\" d=\"M730.175 1141.64 L730.175 1173.64 L762.175 1173.64 L762.175 1141.64 L730.175 1141.64 Z\" fill=\"#add8e6\" fill-rule=\"evenodd\" fill-opacity=\"1\" stroke=\"#000000\" stroke-opacity=\"1\" stroke-width=\"3.2\"/>\n",
       "<path clip-path=\"url(#clip882)\" d=\"M862.23 978.714 L862.23 1010.71 L894.23 1010.71 L894.23 978.714 L862.23 978.714 Z\" fill=\"#add8e6\" fill-rule=\"evenodd\" fill-opacity=\"1\" stroke=\"#000000\" stroke-opacity=\"1\" stroke-width=\"3.2\"/>\n",
       "<path clip-path=\"url(#clip882)\" d=\"M711.634 1082.37 L711.634 1114.37 L743.634 1114.37 L743.634 1082.37 L711.634 1082.37 Z\" fill=\"#add8e6\" fill-rule=\"evenodd\" fill-opacity=\"1\" stroke=\"#000000\" stroke-opacity=\"1\" stroke-width=\"3.2\"/>\n",
       "<path clip-path=\"url(#clip882)\" d=\"M299.217 1105 L299.217 1137 L331.217 1137 L331.217 1105 L299.217 1105 Z\" fill=\"#add8e6\" fill-rule=\"evenodd\" fill-opacity=\"1\" stroke=\"#000000\" stroke-opacity=\"1\" stroke-width=\"3.2\"/>\n",
       "<path clip-path=\"url(#clip882)\" d=\"M609.733 1260.39 L609.733 1292.39 L641.733 1292.39 L641.733 1260.39 L609.733 1260.39 Z\" fill=\"#add8e6\" fill-rule=\"evenodd\" fill-opacity=\"1\" stroke=\"#000000\" stroke-opacity=\"1\" stroke-width=\"3.2\"/>\n",
       "<path clip-path=\"url(#clip882)\" d=\"M240.336 1139.27 L240.336 1171.27 L272.336 1171.27 L272.336 1139.27 L240.336 1139.27 Z\" fill=\"#add8e6\" fill-rule=\"evenodd\" fill-opacity=\"1\" stroke=\"#000000\" stroke-opacity=\"1\" stroke-width=\"3.2\"/>\n",
       "<path clip-path=\"url(#clip882)\" d=\"M604.448 1429.72 L604.448 1461.72 L636.448 1461.72 L636.448 1429.72 L604.448 1429.72 Z\" fill=\"#add8e6\" fill-rule=\"evenodd\" fill-opacity=\"1\" stroke=\"#000000\" stroke-opacity=\"1\" stroke-width=\"3.2\"/>\n",
       "<path clip-path=\"url(#clip882)\" d=\"M371.407 1262.48 L371.407 1294.48 L403.407 1294.48 L403.407 1262.48 L371.407 1262.48 Z\" fill=\"#add8e6\" fill-rule=\"evenodd\" fill-opacity=\"1\" stroke=\"#000000\" stroke-opacity=\"1\" stroke-width=\"3.2\"/>\n",
       "<path clip-path=\"url(#clip882)\" d=\"M1173.9 189.344 L1173.9 221.344 L1205.9 221.344 L1205.9 189.344 L1173.9 189.344 Z\" fill=\"#add8e6\" fill-rule=\"evenodd\" fill-opacity=\"1\" stroke=\"#000000\" stroke-opacity=\"1\" stroke-width=\"3.2\"/>\n",
       "<path clip-path=\"url(#clip882)\" d=\"M935.22 71.9763 L935.22 103.976 L967.22 103.976 L967.22 71.9763 L935.22 71.9763 Z\" fill=\"#add8e6\" fill-rule=\"evenodd\" fill-opacity=\"1\" stroke=\"#000000\" stroke-opacity=\"1\" stroke-width=\"3.2\"/>\n",
       "<path clip-path=\"url(#clip882)\" d=\"M1131.59 296.819 L1131.59 328.819 L1163.59 328.819 L1163.59 296.819 L1131.59 296.819 Z\" fill=\"#add8e6\" fill-rule=\"evenodd\" fill-opacity=\"1\" stroke=\"#000000\" stroke-opacity=\"1\" stroke-width=\"3.2\"/>\n",
       "<path clip-path=\"url(#clip882)\" d=\"M775.294 73.6242 L775.294 105.624 L807.294 105.624 L807.294 73.6242 L775.294 73.6242 Z\" fill=\"#add8e6\" fill-rule=\"evenodd\" fill-opacity=\"1\" stroke=\"#000000\" stroke-opacity=\"1\" stroke-width=\"3.2\"/>\n",
       "<path clip-path=\"url(#clip882)\" d=\"M1059.76 312.152 L1059.76 344.152 L1091.76 344.152 L1091.76 312.152 L1059.76 312.152 Z\" fill=\"#add8e6\" fill-rule=\"evenodd\" fill-opacity=\"1\" stroke=\"#000000\" stroke-opacity=\"1\" stroke-width=\"3.2\"/>\n",
       "<path clip-path=\"url(#clip882)\" d=\"M872.614 180.411 L872.614 212.411 L904.614 212.411 L904.614 180.411 L872.614 180.411 Z\" fill=\"#add8e6\" fill-rule=\"evenodd\" fill-opacity=\"1\" stroke=\"#000000\" stroke-opacity=\"1\" stroke-width=\"3.2\"/>\n",
       "<path clip-path=\"url(#clip882)\" d=\"M834.709 281.72 L834.709 313.72 L866.709 313.72 L866.709 281.72 L834.709 281.72 Z\" fill=\"#add8e6\" fill-rule=\"evenodd\" fill-opacity=\"1\" stroke=\"#000000\" stroke-opacity=\"1\" stroke-width=\"3.2\"/>\n",
       "<path clip-path=\"url(#clip882)\" d=\"M947.822 106.652 L947.822 138.652 L979.822 138.652 L979.822 106.652 L947.822 106.652 Z\" fill=\"#add8e6\" fill-rule=\"evenodd\" fill-opacity=\"1\" stroke=\"#000000\" stroke-opacity=\"1\" stroke-width=\"3.2\"/>\n",
       "<path clip-path=\"url(#clip882)\" d=\"M880.14 295.233 L880.14 327.233 L912.14 327.233 L912.14 295.233 L880.14 295.233 Z\" fill=\"#add8e6\" fill-rule=\"evenodd\" fill-opacity=\"1\" stroke=\"#000000\" stroke-opacity=\"1\" stroke-width=\"3.2\"/>\n",
       "<path clip-path=\"url(#clip882)\" d=\"M1019.39 371.898 L1019.39 403.898 L1051.39 403.898 L1051.39 371.898 L1019.39 371.898 Z\" fill=\"#add8e6\" fill-rule=\"evenodd\" fill-opacity=\"1\" stroke=\"#000000\" stroke-opacity=\"1\" stroke-width=\"3.2\"/>\n",
       "<path clip-path=\"url(#clip882)\" d=\"M1049.61 358.455 L1049.61 390.455 L1081.61 390.455 L1081.61 358.455 L1049.61 358.455 Z\" fill=\"#add8e6\" fill-rule=\"evenodd\" fill-opacity=\"1\" stroke=\"#000000\" stroke-opacity=\"1\" stroke-width=\"3.2\"/>\n",
       "<path clip-path=\"url(#clip882)\" d=\"M823.511 112.923 L823.511 144.923 L855.511 144.923 L855.511 112.923 L823.511 112.923 Z\" fill=\"#add8e6\" fill-rule=\"evenodd\" fill-opacity=\"1\" stroke=\"#000000\" stroke-opacity=\"1\" stroke-width=\"3.2\"/>\n",
       "<path clip-path=\"url(#clip882)\" d=\"M926.922 148.179 L926.922 180.179 L958.922 180.179 L958.922 148.179 L926.922 148.179 Z\" fill=\"#add8e6\" fill-rule=\"evenodd\" fill-opacity=\"1\" stroke=\"#000000\" stroke-opacity=\"1\" stroke-width=\"3.2\"/>\n",
       "<path clip-path=\"url(#clip880)\" d=\"M2005.71 302.578 L2279.25 302.578 L2279.25 95.2176 L2005.71 95.2176  Z\" fill=\"#ffffff\" fill-rule=\"evenodd\" fill-opacity=\"1\"/>\n",
       "<polyline clip-path=\"url(#clip880)\" style=\"stroke:#000000; stroke-linecap:round; stroke-linejoin:round; stroke-width:4; stroke-opacity:1; fill:none\" points=\"2005.71,302.578 2279.25,302.578 2279.25,95.2176 2005.71,95.2176 2005.71,302.578 \"/>\n",
       "<path clip-path=\"url(#clip880)\" d=\"M2103.72 124.302 L2098.37 139.685 L2082.08 140.026 L2095.08 149.879 L2090.34 165.467 L2103.72 156.16 L2117.1 165.467 L2112.37 149.879 L2125.36 140.026 L2109.07 139.685 L2103.72 124.302 Z\" fill=\"#ffff00\" fill-rule=\"evenodd\" fill-opacity=\"1\" stroke=\"#000000\" stroke-opacity=\"1\" stroke-width=\"4.55111\"/>\n",
       "<path clip-path=\"url(#clip880)\" d=\"M2215.58 166.745 Q2213.77 171.375 2212.06 172.787 Q2210.35 174.199 2207.48 174.199 L2204.07 174.199 L2204.07 170.634 L2206.57 170.634 Q2208.33 170.634 2209.3 169.8 Q2210.28 168.967 2211.46 165.865 L2212.22 163.921 L2201.73 138.412 L2206.25 138.412 L2214.35 158.689 L2222.45 138.412 L2226.97 138.412 L2215.58 166.745 Z\" fill=\"#000000\" fill-rule=\"nonzero\" fill-opacity=\"1\" /><path clip-path=\"url(#clip880)\" d=\"M2234.26 160.402 L2241.9 160.402 L2241.9 134.037 L2233.59 135.703 L2233.59 131.444 L2241.85 129.778 L2246.53 129.778 L2246.53 160.402 L2254.16 160.402 L2254.16 164.338 L2234.26 164.338 L2234.26 160.402 Z\" fill=\"#000000\" fill-rule=\"nonzero\" fill-opacity=\"1\" /><circle clip-path=\"url(#clip880)\" cx=\"2103.72\" cy=\"198.898\" r=\"20.48\" fill=\"#90ee90\" fill-rule=\"evenodd\" fill-opacity=\"1\" stroke=\"#000000\" stroke-opacity=\"1\" stroke-width=\"4.55111\"/>\n",
       "<path clip-path=\"url(#clip880)\" d=\"M2215.58 218.585 Q2213.77 223.215 2212.06 224.627 Q2210.35 226.039 2207.48 226.039 L2204.07 226.039 L2204.07 222.474 L2206.57 222.474 Q2208.33 222.474 2209.3 221.64 Q2210.28 220.807 2211.46 217.705 L2212.22 215.761 L2201.73 190.252 L2206.25 190.252 L2214.35 210.529 L2222.45 190.252 L2226.97 190.252 L2215.58 218.585 Z\" fill=\"#000000\" fill-rule=\"nonzero\" fill-opacity=\"1\" /><path clip-path=\"url(#clip880)\" d=\"M2237.48 212.242 L2253.79 212.242 L2253.79 216.178 L2231.85 216.178 L2231.85 212.242 Q2234.51 209.488 2239.1 204.858 Q2243.7 200.205 2244.88 198.863 Q2247.13 196.34 2248.01 194.604 Q2248.91 192.844 2248.91 191.155 Q2248.91 188.4 2246.97 186.664 Q2245.04 184.928 2241.94 184.928 Q2239.74 184.928 2237.29 185.692 Q2234.86 186.455 2232.08 188.006 L2232.08 183.284 Q2234.91 182.15 2237.36 181.571 Q2239.81 180.993 2241.85 180.993 Q2247.22 180.993 2250.41 183.678 Q2253.61 186.363 2253.61 190.854 Q2253.61 192.983 2252.8 194.905 Q2252.01 196.803 2249.91 199.395 Q2249.33 200.067 2246.23 203.284 Q2243.12 206.479 2237.48 212.242 Z\" fill=\"#000000\" fill-rule=\"nonzero\" fill-opacity=\"1\" /><path clip-path=\"url(#clip880)\" d=\"M2080.97 227.982 L2080.97 273.493 L2126.48 273.493 L2126.48 227.982 L2080.97 227.982 Z\" fill=\"#add8e6\" fill-rule=\"evenodd\" fill-opacity=\"1\" stroke=\"#000000\" stroke-opacity=\"1\" stroke-width=\"4.55111\"/>\n",
       "<path clip-path=\"url(#clip880)\" d=\"M2215.58 270.425 Q2213.77 275.055 2212.06 276.467 Q2210.35 277.879 2207.48 277.879 L2204.07 277.879 L2204.07 274.314 L2206.57 274.314 Q2208.33 274.314 2209.3 273.48 Q2210.28 272.647 2211.46 269.545 L2212.22 267.601 L2201.73 242.092 L2206.25 242.092 L2214.35 262.369 L2222.45 242.092 L2226.97 242.092 L2215.58 270.425 Z\" fill=\"#000000\" fill-rule=\"nonzero\" fill-opacity=\"1\" /><path clip-path=\"url(#clip880)\" d=\"M2247.61 249.383 Q2250.97 250.101 2252.85 252.369 Q2254.74 254.638 2254.74 257.971 Q2254.74 263.087 2251.23 265.888 Q2247.71 268.689 2241.23 268.689 Q2239.05 268.689 2236.73 268.249 Q2234.44 267.832 2231.99 266.976 L2231.99 262.462 Q2233.93 263.596 2236.25 264.175 Q2238.56 264.754 2241.09 264.754 Q2245.48 264.754 2247.78 263.018 Q2250.09 261.281 2250.09 257.971 Q2250.09 254.916 2247.94 253.203 Q2245.81 251.467 2241.99 251.467 L2237.96 251.467 L2237.96 247.624 L2242.17 247.624 Q2245.62 247.624 2247.45 246.258 Q2249.28 244.87 2249.28 242.277 Q2249.28 239.615 2247.38 238.203 Q2245.51 236.768 2241.99 236.768 Q2240.07 236.768 2237.87 237.184 Q2235.67 237.601 2233.03 238.481 L2233.03 234.314 Q2235.69 233.573 2238.01 233.203 Q2240.35 232.833 2242.41 232.833 Q2247.73 232.833 2250.83 235.263 Q2253.93 237.67 2253.93 241.791 Q2253.93 244.661 2252.29 246.652 Q2250.65 248.62 2247.61 249.383 Z\" fill=\"#000000\" fill-rule=\"nonzero\" fill-opacity=\"1\" /></svg>\n"
      ]
     },
     "execution_count": 111,
     "metadata": {},
     "output_type": "execute_result"
    }
   ],
   "source": [
    "Plots.scatter(pa_hat[1,:], pa_hat[2,:], marker=:star, color=:yellow)\n",
    "Plots.scatter!(pb_hat[1,:], pb_hat[2,:], marker = :circle, color=:lightgreen)\n",
    "Plots.scatter!(pc_hat[1,:], pc_hat[2,:], marker = :square, color=:lightblue)"
   ]
  },
  {
   "cell_type": "markdown",
   "id": "2336e8d7-c335-48fd-a13c-bf57907295b4",
   "metadata": {},
   "source": [
    "Now your turn.  Generate a similar plot, but after 3 iterations instead."
   ]
  },
  {
   "cell_type": "code",
   "execution_count": 133,
   "id": "66acc04d-9c36-40a7-bc00-f596f4ca8836",
   "metadata": {},
   "outputs": [],
   "source": [
    "# Code to generate plot goes here."
   ]
  },
  {
   "cell_type": "markdown",
   "id": "a350195c-e2b6-4b55-b654-ff8799c22f3d",
   "metadata": {},
   "source": [
    "## Exercise 14"
   ]
  },
  {
   "cell_type": "markdown",
   "id": "289d22c5-5f15-4b66-a6e6-157b74a56f89",
   "metadata": {},
   "source": [
    "Run the $k$-means algorithm on the data for 10 iterations\n",
    "    and generate a graph of the value of $J_{clust}$ over the iterations."
   ]
  },
  {
   "cell_type": "code",
   "execution_count": 132,
   "id": "e60761dc-d539-4871-84cf-8c3d6c56c8e6",
   "metadata": {},
   "outputs": [],
   "source": [
    "# Code to generate graph goes here."
   ]
  },
  {
   "cell_type": "markdown",
   "id": "e4bdcc18-aaa9-4a5a-a25e-13d3b206fd35",
   "metadata": {},
   "source": [
    "At what iteration would it have been reasonable to stop?"
   ]
  },
  {
   "cell_type": "markdown",
   "id": "8156072d-badd-4422-921c-d4cb79aa19a2",
   "metadata": {},
   "source": [
    "**Response goes here**"
   ]
  },
  {
   "cell_type": "markdown",
   "id": "cb7e9425-0bc6-46a2-998e-b1cfb02f194c",
   "metadata": {},
   "source": [
    "## Exercise 15"
   ]
  },
  {
   "cell_type": "markdown",
   "id": "cb722819-54fe-4866-a8c3-e15ecbc2e2e2",
   "metadata": {},
   "source": [
    "Generate a plot of the category assignments (like those in Exercise 13) after 10 iterations."
   ]
  },
  {
   "cell_type": "code",
   "execution_count": 134,
   "id": "c082da79-4a4b-440c-9e39-13478bbf67f8",
   "metadata": {},
   "outputs": [],
   "source": [
    "# Code to generate graph goes here"
   ]
  },
  {
   "cell_type": "markdown",
   "id": "8ef44ba1-b856-46b6-b4bf-f6e41284e8f6",
   "metadata": {},
   "source": [
    "Comment on the quality of the category assignments."
   ]
  },
  {
   "cell_type": "markdown",
   "id": "ba5d22c1-ae19-4f19-bf5b-f31f9612d837",
   "metadata": {},
   "source": [
    "**Response goes here**"
   ]
  },
  {
   "cell_type": "code",
   "execution_count": null,
   "id": "dd768668-f674-45b8-a693-ccd2f6a03998",
   "metadata": {},
   "outputs": [],
   "source": []
  }
 ],
 "metadata": {
  "kernelspec": {
   "display_name": "Julia 1.9.4",
   "language": "julia",
   "name": "julia-1.9"
  },
  "language_info": {
   "file_extension": ".jl",
   "mimetype": "application/julia",
   "name": "julia",
   "version": "1.9.4"
  }
 },
 "nbformat": 4,
 "nbformat_minor": 5
}
