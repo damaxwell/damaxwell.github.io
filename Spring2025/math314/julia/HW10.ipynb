{
 "cells": [
  {
   "cell_type": "markdown",
   "id": "4a2d7b61-ac31-4f07-85ac-a51ca7a92ae3",
   "metadata": {},
   "source": [
    "# Homework 10 (Julia Problems)\n",
    "## Math 314 Spring 2024"
   ]
  },
  {
   "cell_type": "markdown",
   "id": "981bd612-4367-4d7a-8745-ce8b38910d0f",
   "metadata": {},
   "source": [
    "## Supplemental Problem **11.13**"
   ]
  },
  {
   "cell_type": "code",
   "execution_count": null,
   "id": "76ac065e-52a0-4a34-bc3a-2f011d2c296f",
   "metadata": {},
   "outputs": [],
   "source": [
    "# Setup matrix A and rhs b here\n"
   ]
  },
  {
   "cell_type": "code",
   "execution_count": null,
   "id": "b2e6d486-1ce9-42a2-97e4-014d75508fbc",
   "metadata": {},
   "outputs": [],
   "source": [
    "# Solve for the coefficients `c` using backslash here\n"
   ]
  },
  {
   "cell_type": "markdown",
   "id": "58943016-6564-4216-9019-778c440552aa",
   "metadata": {},
   "source": [
    "Now plot the solution.  Be sure to use the keyword argument `aspect_ratio=1` to make it easy to see whether the polynomial has the right slopes at `t=0` and `t=1`."
   ]
  },
  {
   "cell_type": "code",
   "execution_count": null,
   "id": "35fe2ee9-751d-4c54-9791-7addc4d62744",
   "metadata": {},
   "outputs": [],
   "source": [
    "# Commands to make plot go here\n"
   ]
  },
  {
   "cell_type": "markdown",
   "id": "a9880c62-ce8d-4de3-99ac-0f53de45c8f0",
   "metadata": {},
   "source": [
    "# Supplemental Right Inverse Problem\n",
    "\n",
    "Suppose $A$ is a wide matrix and its rows are linearly independent.  We showed in class that its pseudo inverse $A^\\dagger$ is a right inverse, and that we can solve $Ax=b$ using it: one solution is $x = A^\\dagger b$.  Moreover,\n",
    "we can compute $A^\\dagger b$ using QR factorization as follows:\n",
    "\n",
    "Let $QR$ be a factorisation of the transpose $A^T$.  To compute $A^\\dagger b$ we do the following steps:\n",
    "\n",
    "1) Let $z$ be the solution of $R^T z = b$.  This is the same as $z = (R^T)^{-1} b$.  Note that solving for $z$ is just forward substitution.\n",
    "2) Let $x = Q z$.\n",
    "\n",
    "Then $x=A^\\dagger b$.\n",
    "\n",
    "In the problem below, you will implement these steps and then compare the result to Julia's black box solver.\n",
    "\n",
    "Here's $A$ and $b$."
   ]
  },
  {
   "cell_type": "code",
   "execution_count": 18,
   "id": "956bc9ee-a79e-4c10-bb39-29e4b4a29878",
   "metadata": {},
   "outputs": [
    {
     "data": {
      "text/plain": [
       "2-element Vector{Int64}:\n",
       " 1\n",
       " 2"
      ]
     },
     "execution_count": 18,
     "metadata": {},
     "output_type": "execute_result"
    }
   ],
   "source": [
    "A = [ 1 2 3 \n",
    "    4 5 6]\n",
    "\n",
    "b = [1,2]"
   ]
  },
  {
   "cell_type": "markdown",
   "id": "4c2baa4e-71e1-4a45-98d1-189660c55ea0",
   "metadata": {},
   "source": [
    "We first compute the QR factorization of $A^T$. It's critical that we do this for the transpose!  The following code does just this."
   ]
  },
  {
   "cell_type": "code",
   "execution_count": null,
   "id": "45bbc6ad-0479-4df1-b877-4c661d9ae0dc",
   "metadata": {},
   "outputs": [],
   "source": [
    "# Import just `qr` from `LinearAlgebra`\n",
    "import LinearAlgebra: qr\n",
    "# compute the QR factorization\n",
    "Q, R = qr(A')"
   ]
  },
  {
   "cell_type": "markdown",
   "id": "8befc304-9abd-400a-8f74-cd1c3415a783",
   "metadata": {},
   "source": [
    "Your turnl. Compute $z = (R^T)^{-1} b$.  You are welcome to use the backslash operator for this.  Julia will be clever enough to see that $R^T$ is lower triangular and do forward substitution. Note that you are using $R^T$ and not $R$."
   ]
  },
  {
   "cell_type": "code",
   "execution_count": null,
   "id": "7c341acb-0fd3-4a04-9aae-d5718b251126",
   "metadata": {},
   "outputs": [],
   "source": [
    "# Compute z here.\n"
   ]
  },
  {
   "cell_type": "code",
   "execution_count": null,
   "id": "7e2531da-bd73-487a-8622-e84d437377f7",
   "metadata": {},
   "outputs": [],
   "source": [
    "# Now do step two: compute `Q*z$ and store it in a variable `x`.  This is your solution.\n"
   ]
  },
  {
   "cell_type": "markdown",
   "id": "cee3fa41-38d4-4952-8cc9-afb1b2108f2f",
   "metadata": {},
   "source": [
    "Verify that your solution works by computing $Ax$ and verifying that the result is $(1,2)$."
   ]
  },
  {
   "cell_type": "code",
   "execution_count": null,
   "id": "213535a0-4a78-4e04-aed9-1e12a0102f5c",
   "metadata": {},
   "outputs": [],
   "source": [
    "# Compute A*x\n"
   ]
  },
  {
   "cell_type": "markdown",
   "id": "61c317ce-6f1b-40db-8874-d07eabba2146",
   "metadata": {},
   "source": [
    "Now here's the deal:  there are, in fact, lots of solutions of $Ax=b$ for this matrix $A$.  In fact, if $n = (1, -2, 1)$ and if $x$ is one solution, then so is $x+cn$ for any choice of $c$.  Verify that if $x$ is your original solution then $x+5n$ is also a solution.  That is, compute $A(x+5n)$ and verify that the result is $(1,2)$."
   ]
  },
  {
   "cell_type": "code",
   "execution_count": null,
   "id": "8c4fac28-c9ee-4d7f-9dd5-fbec008230e9",
   "metadata": {},
   "outputs": [],
   "source": [
    "# Compute A*(x+5n) here\n"
   ]
  },
  {
   "cell_type": "markdown",
   "id": "8d616ace-7c21-4374-a4b6-d289096411fa",
   "metadata": {},
   "source": [
    "Ok, so what is Julia doing when you ask for a solution of $Ax=b$?  Which solution does it find?  Verify that the solution Julia computes is the same as the one you found using QR factorization as follows.  Let `x_julia = A \\ b`  Then compute the norm of the difference between your `x` and `x_julia`."
   ]
  },
  {
   "cell_type": "code",
   "execution_count": null,
   "id": "b87c55aa-be74-440c-bdd0-7ac5748e2cc6",
   "metadata": {},
   "outputs": [],
   "source": [
    "# Compute `x_julia`\n"
   ]
  },
  {
   "cell_type": "code",
   "execution_count": null,
   "id": "5e52116a-0218-4a57-a729-f3490363cf5b",
   "metadata": {},
   "outputs": [],
   "source": [
    "# Compute the norm of the difference.\n"
   ]
  }
 ],
 "metadata": {
  "kernelspec": {
   "display_name": "Julia 1.9.4",
   "language": "julia",
   "name": "julia-1.9"
  },
  "language_info": {
   "file_extension": ".jl",
   "mimetype": "application/julia",
   "name": "julia",
   "version": "1.9.4"
  }
 },
 "nbformat": 4,
 "nbformat_minor": 5
}
