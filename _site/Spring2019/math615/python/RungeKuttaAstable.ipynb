{
 "cells": [
  {
   "cell_type": "markdown",
   "metadata": {},
   "source": [
    "This notebook shows how to generate a graph of the boundary of the absolute stability region of a Runge Kutta method, using a 2-stage example.\n",
    "\n",
    "\n",
    "The stability polynomial for 2-stage explicit Runge Kutta methods:"
   ]
  },
  {
   "cell_type": "code",
   "execution_count": 11,
   "metadata": {},
   "outputs": [],
   "source": [
    "R = lambda z : 1+z+z*z/2"
   ]
  },
  {
   "cell_type": "markdown",
   "metadata": {},
   "source": [
    "The absolute stability region is $\\{ z\\in\\mathbb{C}: |R(z)|\\le 1\\}$, so its boundary is the curve where $|R(z)|=1$.\n",
    "\n",
    "We can use a combination of `numpy` and `matplotlib` commands\n",
    "to generate a plot of the level set of 1 of $R(z)$. We need to make arrays of the $x$- and $y$-coordinates of a rectangle in the plane, and the key tool is `numpy.meshgrid`.  There is an analogous function in MATLAB.\n",
    "\n",
    "The following makes such a grid for the region $-3\\le x\\le 1$ and $-2\\le y\\le 2$."
   ]
  },
  {
   "cell_type": "code",
   "execution_count": 5,
   "metadata": {},
   "outputs": [],
   "source": [
    "import numpy as np\n",
    "x=np.linspace(-3,1,100)\n",
    "y=np.linspace(-2,2,100)\n",
    "(xx,yy)=np.meshgrid(x,y)"
   ]
  },
  {
   "cell_type": "markdown",
   "metadata": {},
   "source": [
    "Python is aware of complex numbers.  The number $i$ is represented as `1j`. So the following command makes a grid of the complex values $z$ at the grid points."
   ]
  },
  {
   "cell_type": "code",
   "execution_count": 6,
   "metadata": {},
   "outputs": [],
   "source": [
    "zz = xx+1j*yy"
   ]
  },
  {
   "cell_type": "markdown",
   "metadata": {},
   "source": [
    "At this point we can compute $|R(z)|$ at the grid points."
   ]
  },
  {
   "cell_type": "code",
   "execution_count": 12,
   "metadata": {},
   "outputs": [],
   "source": [
    "Rsize = np.abs(R(zz))"
   ]
  },
  {
   "cell_type": "markdown",
   "metadata": {},
   "source": [
    "Finally, generate a contour plot of the level set $|R(z)|=1$."
   ]
  },
  {
   "cell_type": "code",
   "execution_count": 23,
   "metadata": {},
   "outputs": [
    {
     "data": {
      "text/plain": [
       "(-3.0, 1.0, -2.0, 2.0)"
      ]
     },
     "execution_count": 23,
     "metadata": {},
     "output_type": "execute_result"
    },
    {
     "data": {
      "image/png": "[encoded data removed]",
      "text/plain": [
       "<Figure size 432x288 with 1 Axes>"
      ]
     },
     "metadata": {
      "needs_background": "light"
     },
     "output_type": "display_data"
    }
   ],
   "source": [
    "import matplotlib.pyplot as pp\n",
    "\n",
    "# Add the main contour.\n",
    "pp.contour(xx,yy,Rsize,[1.0])\n",
    "\n",
    "# Add axes.\n",
    "pp.plot(x,np.zeros(x.shape),color='black')\n",
    "pp.plot(np.zeros(y.shape),y,color='black')\n",
    "\n",
    "# For comparison, add the absolute stability region \n",
    "# for Euler's method (a unit circle centered at $z=-1$)\n",
    "theta=np.linspace(0,2*np.pi,50)\n",
    "pp.plot(np.cos(theta)-1,np.sin(theta))\n",
    "\n",
    "# Fix the scaling so that circles look like circles.\n",
    "pp.axis(\"equal\")"
   ]
  },
  {
   "cell_type": "code",
   "execution_count": null,
   "metadata": {},
   "outputs": [],
   "source": []
  }
 ],
 "metadata": {
  "kernelspec": {
   "display_name": "Python 3",
   "language": "python",
   "name": "python3"
  },
  "language_info": {
   "codemirror_mode": {
    "name": "ipython",
    "version": 3
   },
   "file_extension": ".py",
   "mimetype": "text/x-python",
   "name": "python",
   "nbconvert_exporter": "python",
   "pygments_lexer": "ipython3",
   "version": "3.7.2"
  }
 },
 "nbformat": 4,
 "nbformat_minor": 2
}
