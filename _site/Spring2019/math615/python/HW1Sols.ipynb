{
 "cells": [
  {
   "cell_type": "markdown",
   "metadata": {},
   "source": [
    "### Problem 1\n",
    "\n",
    "The following `sin_a` and `sin_b` are two approaches to computing the Taylor polynomial.  The first is by-hand, and the second takes advantage of `np.polyval` to peform polynomial evaluation given a vector of coefficients."
   ]
  },
  {
   "cell_type": "code",
   "execution_count": 2,
   "metadata": {},
   "outputs": [],
   "source": [
    "def sin_a(x,k):\n",
    "    \"\"\"Computes the order k Taylor polynomial of sin(x)\n",
    "\n",
    "    Parameters\n",
    "    ----------\n",
    "    \n",
    "    x: Input values.\n",
    "    k: Order of the Taylor polynomial.\n",
    "    \n",
    "    Returns\n",
    "    -------\n",
    "    \n",
    "    s: Approximation of sin(x)\n",
    "\"\"\"\n",
    "\n",
    "    import numpy as np\n",
    "    sign = 1;\n",
    "    \n",
    "    s=np.zeros(np.shape(x))\n",
    "    xj=np.copy(x)\n",
    "    jfact = 1.0;\n",
    "    for j in range(1,k+1):\n",
    "        if j % 2 == 0:\n",
    "            continue\n",
    "        s = s + sign*xj/jfact;\n",
    "        sign = sign * -1\n",
    "        jfact = jfact*(j+1)*(j+2)\n",
    "        xj = xj * x * x\n",
    "    return s"
   ]
  },
  {
   "cell_type": "code",
   "execution_count": 54,
   "metadata": {},
   "outputs": [],
   "source": [
    "def sin_b(x,k):\n",
    "    import numpy as np\n",
    "\n",
    "    # Array of Taylor coefficients\n",
    "    c = np.zeros((k+1,))\n",
    "\n",
    "    j_fact = 1.0\n",
    "    sign = 1;\n",
    "\n",
    "    j=1\n",
    "    while j <= k:\n",
    "        c[k-j] = sign/j_fact\n",
    "        sign *= -1\n",
    "        j_fact = j_fact*(j+1)*(j+2)\n",
    "        j += 2\n",
    " \n",
    "    return np.polyval(c,x)"
   ]
  },
  {
   "cell_type": "markdown",
   "metadata": {},
   "source": [
    "The following is a plot of the difference of the order 14 Taylor polynomial \n",
    "and `numpy`'s computation of sin.  The difference is less than the requested error.\n",
    "\n",
    "Note, however, that this amount of effort is wasteful, due to the symmetry of $\\sin$.  We could instead use an order 9 polynomial on $[0,\\pi/2]$ to achieve the same level of accuracy, and then compute other values of $\\sin$ based off of values in this interval. "
   ]
  },
  {
   "cell_type": "code",
   "execution_count": 56,
   "metadata": {},
   "outputs": [
    {
     "data": {
      "text/plain": [
       "[<matplotlib.lines.Line2D at 0x1163c5128>]"
      ]
     },
     "execution_count": 56,
     "metadata": {},
     "output_type": "execute_result"
    },
    {
     "data": {
      "image/png": "[encoded data removed]",
      "text/plain": [
       "<Figure size 432x288 with 1 Axes>"
      ]
     },
     "metadata": {
      "needs_background": "light"
     },
     "output_type": "display_data"
    }
   ],
   "source": [
    "import matplotlib.pyplot as pp\n",
    "import numpy as np\n",
    "x=np.linspace(0,np.pi,100)\n",
    "y=sin_b(x,14)\n",
    "pp.plot(x,y-np.sin(x))"
   ]
  },
  {
   "cell_type": "markdown",
   "metadata": {},
   "source": [
    "### Problem 3"
   ]
  },
  {
   "cell_type": "code",
   "execution_count": 94,
   "metadata": {},
   "outputs": [],
   "source": [
    "def bisect(f,a,b,epsilon):\n",
    "    \"\"\" Find a root of f(x) on the interval [a,b]\n",
    "    \n",
    "    Parameters\n",
    "    ----------\n",
    "    \n",
    "    f: The function of one variable to find a root of\n",
    "    a, b: The endpoints of the interval [a,b] containing the root\n",
    "    epsilon: The root will be located to within distance epsilon\n",
    "    \n",
    "    Returns\n",
    "    -------\n",
    "    \n",
    "    Approximate root location.\n",
    "    \"\"\"\n",
    "    import numpy as np\n",
    "    if a>b:\n",
    "        c = b\n",
    "        b = a\n",
    "        a = c\n",
    "    h = b-a\n",
    "    \n",
    "    f0 = f(a)\n",
    "    f1 = f(b)\n",
    "    \n",
    "    if np.sign(f0) == np.sign(f1):\n",
    "        raise Exception(\"Interval is not a bracket for root finding.\")\n",
    "\n",
    "    h = b-a\n",
    "    while h > epsilon:\n",
    "        c = (a+b)/2\n",
    "        fmid = f(c)\n",
    "        if np.sign(fmid) == np.sign(f0):\n",
    "            a = c\n",
    "            f0 = fmid            \n",
    "        else:\n",
    "            b = c\n",
    "            f1 = fmid\n",
    "        h *= 0.5\n",
    "    return a"
   ]
  },
  {
   "cell_type": "markdown",
   "metadata": {},
   "source": [
    "Let's test it against finding the square root of 2."
   ]
  },
  {
   "cell_type": "code",
   "execution_count": 72,
   "metadata": {},
   "outputs": [],
   "source": [
    "f = lambda x: x*x -2"
   ]
  },
  {
   "cell_type": "code",
   "execution_count": 77,
   "metadata": {},
   "outputs": [],
   "source": [
    "sqrt2 = bisect(f,1,2,1e-8)"
   ]
  },
  {
   "cell_type": "code",
   "execution_count": 78,
   "metadata": {},
   "outputs": [
    {
     "data": {
      "text/plain": [
       "1.8514925148593875e-09"
      ]
     },
     "execution_count": 78,
     "metadata": {},
     "output_type": "execute_result"
    }
   ],
   "source": [
    "abs(sqrt2-np.sqrt(2))"
   ]
  },
  {
   "cell_type": "markdown",
   "metadata": {},
   "source": [
    "That's just less than the desired tolerance.  Good."
   ]
  },
  {
   "cell_type": "markdown",
   "metadata": {},
   "source": [
    "### Problem 4"
   ]
  },
  {
   "cell_type": "code",
   "execution_count": 105,
   "metadata": {},
   "outputs": [],
   "source": [
    "def newton(f,fp,x0,epsilon):\n",
    "    \n",
    "    x = x0\n",
    "    for n in range(1000):\n",
    "        fx = f(x)\n",
    "        fpx = fp(x)\n",
    "        if fpx == 0:\n",
    "            raise Exception(\"Zero derivative encountered\")\n",
    "        x_next = x - fx/fpx\n",
    "        if abs(x_next-x) < epsilon:\n",
    "            return (x_next,n+1)\n",
    "        x = x_next\n",
    "    raise Exception(\"Root not found\")\n"
   ]
  },
  {
   "cell_type": "markdown",
   "metadata": {},
   "source": [
    "Let's test it to find the square root of 2."
   ]
  },
  {
   "cell_type": "code",
   "execution_count": 98,
   "metadata": {},
   "outputs": [],
   "source": [
    "f = lambda x: x*x-2"
   ]
  },
  {
   "cell_type": "code",
   "execution_count": 106,
   "metadata": {},
   "outputs": [],
   "source": [
    "fp = lambda x: 2*x"
   ]
  },
  {
   "cell_type": "code",
   "execution_count": 107,
   "metadata": {},
   "outputs": [],
   "source": [
    "sqrt2,N = newton(f,fp,2,1e-12)"
   ]
  },
  {
   "cell_type": "markdown",
   "metadata": {},
   "source": [
    "Verify the root is within the desired tolerance."
   ]
  },
  {
   "cell_type": "code",
   "execution_count": 108,
   "metadata": {},
   "outputs": [
    {
     "data": {
      "text/plain": [
       "2.220446049250313e-16"
      ]
     },
     "execution_count": 108,
     "metadata": {},
     "output_type": "execute_result"
    }
   ],
   "source": [
    "abs(sqrt2-np.sqrt(2))"
   ]
  },
  {
   "cell_type": "markdown",
   "metadata": {},
   "source": [
    "How many iterations did that take?"
   ]
  },
  {
   "cell_type": "code",
   "execution_count": 109,
   "metadata": {},
   "outputs": [
    {
     "data": {
      "text/plain": [
       "6"
      ]
     },
     "execution_count": 109,
     "metadata": {},
     "output_type": "execute_result"
    }
   ],
   "source": [
    "N"
   ]
  },
  {
   "cell_type": "markdown",
   "metadata": {},
   "source": [
    "Six iterations.  Cool."
   ]
  }
 ],
 "metadata": {
  "kernelspec": {
   "display_name": "Python 3",
   "language": "python",
   "name": "python3"
  },
  "language_info": {
   "codemirror_mode": {
    "name": "ipython",
    "version": 3
   },
   "file_extension": ".py",
   "mimetype": "text/x-python",
   "name": "python",
   "nbconvert_exporter": "python",
   "pygments_lexer": "ipython3",
   "version": "3.7.2"
  }
 },
 "nbformat": 4,
 "nbformat_minor": 2
}
