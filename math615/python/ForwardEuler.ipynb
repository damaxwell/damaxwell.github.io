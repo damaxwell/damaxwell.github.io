{
 "cells": [
  {
   "cell_type": "code",
   "execution_count": 1,
   "metadata": {},
   "outputs": [],
   "source": [
    "import numpy as np\n",
    "import matplotlib.pyplot as pp;\n",
    "pp.rcParams['figure.figsize'] = [10, 5]"
   ]
  },
  {
   "cell_type": "code",
   "execution_count": 2,
   "metadata": {},
   "outputs": [],
   "source": [
    "def forwardeuler(f,t0,u0,T,M):\n",
    "    \"\"\"\n",
    "    Computes an approximate solution u of a scalar ODE \n",
    "\n",
    "        u' = f(t,u)\n",
    "\n",
    "    with a forward Euler method subject to u(t0) = u0.\n",
    "\n",
    "    Parameters\n",
    "    ----------\n",
    "\n",
    "    f: The right-hand side function of (t,u).\n",
    "    t0: The initial time.\n",
    "    u0: The initial condition at t=t0.\n",
    "    T: Endpoint of solution t-interval [t0,T]\n",
    "    M: The number of equally spaced time steps.\n",
    "\n",
    "    Returns\n",
    "    -------\n",
    "\n",
    "    t: An array of sample times.\n",
    "    u: The approximate solution at the sample times.\n",
    "    \"\"\"\n",
    "\n",
    "    t=np.linspace(t0,T,M+1)\n",
    "    h = (T-t0)/M\n",
    "    \n",
    "    u = np.zeros( (M+1,) )\n",
    "    u[0] = u0\n",
    "\n",
    "    u_curr = u0\n",
    "    for k in range(M):\n",
    "        u_curr = u_curr + h*f(t[k],u_curr)\n",
    "        u[k+1] = u_curr\n",
    "\n",
    "    return (t,u)"
   ]
  },
  {
   "cell_type": "code",
   "execution_count": 3,
   "metadata": {},
   "outputs": [
    {
     "data": {
      "text/plain": [
       "\u001b[0;31mSignature:\u001b[0m \u001b[0mforwardeuler\u001b[0m\u001b[0;34m(\u001b[0m\u001b[0mf\u001b[0m\u001b[0;34m,\u001b[0m \u001b[0mt0\u001b[0m\u001b[0;34m,\u001b[0m \u001b[0mu0\u001b[0m\u001b[0;34m,\u001b[0m \u001b[0mT\u001b[0m\u001b[0;34m,\u001b[0m \u001b[0mM\u001b[0m\u001b[0;34m)\u001b[0m\u001b[0;34m\u001b[0m\u001b[0;34m\u001b[0m\u001b[0m\n",
       "\u001b[0;31mDocstring:\u001b[0m\n",
       "Computes an approximate solution u of a scalar ODE \n",
       "\n",
       "    u' = f(t,u)\n",
       "\n",
       "with a forward Euler method subject to u(t0) = u0.\n",
       "\n",
       "Parameters\n",
       "----------\n",
       "\n",
       "f: The right-hand side function of (t,u).\n",
       "t0: The initial time.\n",
       "u0: The initial condition at t=t0.\n",
       "T: Endpoint of solution t-interval [t0,T]\n",
       "M: The number of equally spaced time steps.\n",
       "\n",
       "Returns\n",
       "-------\n",
       "\n",
       "t: An array of sample times.\n",
       "u: The approximate solution at the sample times.\n",
       "\u001b[0;31mFile:\u001b[0m      ~/Dropbox/Classes/F615/python/<ipython-input-2-bff7260e8cc7>\n",
       "\u001b[0;31mType:\u001b[0m      function\n"
      ]
     },
     "metadata": {},
     "output_type": "display_data"
    }
   ],
   "source": [
    "?forwardeuler"
   ]
  },
  {
   "cell_type": "code",
   "execution_count": 4,
   "metadata": {},
   "outputs": [
    {
     "data": {
      "text/plain": [
       "\u001b[0;31mDocstring:\u001b[0m\n",
       "zeros(shape, dtype=float, order='C')\n",
       "\n",
       "Return a new array of given shape and type, filled with zeros.\n",
       "\n",
       "Parameters\n",
       "----------\n",
       "shape : int or tuple of ints\n",
       "    Shape of the new array, e.g., ``(2, 3)`` or ``2``.\n",
       "dtype : data-type, optional\n",
       "    The desired data-type for the array, e.g., `numpy.int8`.  Default is\n",
       "    `numpy.float64`.\n",
       "order : {'C', 'F'}, optional, default: 'C'\n",
       "    Whether to store multi-dimensional data in row-major\n",
       "    (C-style) or column-major (Fortran-style) order in\n",
       "    memory.\n",
       "\n",
       "Returns\n",
       "-------\n",
       "out : ndarray\n",
       "    Array of zeros with the given shape, dtype, and order.\n",
       "\n",
       "See Also\n",
       "--------\n",
       "zeros_like : Return an array of zeros with shape and type of input.\n",
       "empty : Return a new uninitialized array.\n",
       "ones : Return a new array setting values to one.\n",
       "full : Return a new array of given shape filled with value.\n",
       "\n",
       "Examples\n",
       "--------\n",
       ">>> np.zeros(5)\n",
       "array([ 0.,  0.,  0.,  0.,  0.])\n",
       "\n",
       ">>> np.zeros((5,), dtype=int)\n",
       "array([0, 0, 0, 0, 0])\n",
       "\n",
       ">>> np.zeros((2, 1))\n",
       "array([[ 0.],\n",
       "       [ 0.]])\n",
       "\n",
       ">>> s = (2,2)\n",
       ">>> np.zeros(s)\n",
       "array([[ 0.,  0.],\n",
       "       [ 0.,  0.]])\n",
       "\n",
       ">>> np.zeros((2,), dtype=[('x', 'i4'), ('y', 'i4')]) # custom dtype\n",
       "array([(0, 0), (0, 0)],\n",
       "      dtype=[('x', '<i4'), ('y', '<i4')])\n",
       "\u001b[0;31mType:\u001b[0m      builtin_function_or_method\n"
      ]
     },
     "metadata": {},
     "output_type": "display_data"
    }
   ],
   "source": [
    "?np.zeros"
   ]
  },
  {
   "cell_type": "code",
   "execution_count": 5,
   "metadata": {},
   "outputs": [],
   "source": [
    "f = lambda t, u: 10*u*(1-u)"
   ]
  },
  {
   "cell_type": "code",
   "execution_count": 6,
   "metadata": {},
   "outputs": [],
   "source": [
    "def f(t,u):\n",
    "    return 10*u*(1-u)"
   ]
  },
  {
   "cell_type": "code",
   "execution_count": 7,
   "metadata": {},
   "outputs": [],
   "source": [
    "u_exact = lambda t : 1/(1+99*np.exp(-10*t))"
   ]
  },
  {
   "cell_type": "code",
   "execution_count": 8,
   "metadata": {},
   "outputs": [
    {
     "data": {
      "text/plain": [
       "[<matplotlib.lines.Line2D at 0x114ca42b0>]"
      ]
     },
     "execution_count": 8,
     "metadata": {},
     "output_type": "execute_result"
    },
    {
     "data": {
      "image/png": "[encoded data removed]",
      "text/plain": [
       "<Figure size 720x360 with 1 Axes>"
      ]
     },
     "metadata": {
      "needs_background": "light"
     },
     "output_type": "display_data"
    }
   ],
   "source": [
    "(t,u)=forwardeuler(f,t0=0,u0=0.01,T=1,M=20)\n",
    "pp.plot(t,u,\"o\")"
   ]
  },
  {
   "cell_type": "code",
   "execution_count": 9,
   "metadata": {},
   "outputs": [
    {
     "data": {
      "text/plain": [
       "[<matplotlib.lines.Line2D at 0x112c50b20>,\n",
       " <matplotlib.lines.Line2D at 0x112c64a30>]"
      ]
     },
     "execution_count": 9,
     "metadata": {},
     "output_type": "execute_result"
    },
    {
     "data": {
      "image/png": "[encoded data removed]",
      "text/plain": [
       "<Figure size 720x360 with 1 Axes>"
      ]
     },
     "metadata": {
      "needs_background": "light"
     },
     "output_type": "display_data"
    }
   ],
   "source": [
    "pp.plot(t,u,\"o\",t,u_exact(t))"
   ]
  },
  {
   "cell_type": "code",
   "execution_count": 10,
   "metadata": {},
   "outputs": [
    {
     "data": {
      "text/plain": [
       "[<matplotlib.lines.Line2D at 0x114db6af0>]"
      ]
     },
     "execution_count": 10,
     "metadata": {},
     "output_type": "execute_result"
    },
    {
     "data": {
      "image/png": "[encoded data removed]",
      "text/plain": [
       "<Figure size 720x360 with 1 Axes>"
      ]
     },
     "metadata": {
      "needs_background": "light"
     },
     "output_type": "display_data"
    }
   ],
   "source": [
    "M_list = [10, 50, 100]\n",
    "symbols = [\"o\",\"+\",\"*\"]\n",
    "for (k,M) in enumerate(M_list):\n",
    "    (t,u) = forwardeuler(f,t0=0,u0=0.01,T=1,M=M)\n",
    "    pp.plot(t,u,symbols[k])\n",
    "# Reuse last value of t for exact solution\n",
    "pp.plot(t,u_exact(t))"
   ]
  },
  {
   "cell_type": "code",
   "execution_count": 11,
   "metadata": {},
   "outputs": [
    {
     "data": {
      "image/png": "[encoded data removed]",
      "text/plain": [
       "<Figure size 720x360 with 1 Axes>"
      ]
     },
     "metadata": {
      "needs_background": "light"
     },
     "output_type": "display_data"
    }
   ],
   "source": [
    "M_list = [10, 50, 100, 500, 1000]\n",
    "err = []\n",
    "for M in M_list:\n",
    "    (t,u) = forwardeuler(f,t0=0,u0=0.01,T=1,M=M)\n",
    "    err.append(np.linalg.norm(u_exact(t)-u,np.Inf))\n",
    "err\n",
    "h_list = 1.0/np.array(M_list)\n",
    "pp.loglog(h_list,err,\"-o\")\n",
    "pp.xlabel(\"h\")\n",
    "pp.ylabel(r\"$||e||_{\\infty}$\");"
   ]
  },
  {
   "cell_type": "code",
   "execution_count": 12,
   "metadata": {},
   "outputs": [
    {
     "data": {
      "text/plain": [
       "array([0.96101403, 1.16103305])"
      ]
     },
     "execution_count": 12,
     "metadata": {},
     "output_type": "execute_result"
    }
   ],
   "source": [
    "np.polyfit(np.log(h_list),np.log(err),1)"
   ]
  },
  {
   "cell_type": "markdown",
   "metadata": {},
   "source": [
    "The first entry is the fitted slope, about 1, so error goes like $C h^1$. And if we omit the first biggest step size, it's even closer to 1:"
   ]
  },
  {
   "cell_type": "code",
   "execution_count": 13,
   "metadata": {},
   "outputs": [
    {
     "data": {
      "text/plain": [
       "array([0.99394001, 1.35447687])"
      ]
     },
     "execution_count": 13,
     "metadata": {},
     "output_type": "execute_result"
    }
   ],
   "source": [
    "np.polyfit(np.log(h_list[1:]),np.log(err[1:]),1)"
   ]
  },
  {
   "cell_type": "code",
   "execution_count": null,
   "metadata": {},
   "outputs": [],
   "source": [
    "np.zeros((5,))"
   ]
  },
  {
   "cell_type": "code",
   "execution_count": null,
   "metadata": {},
   "outputs": [],
   "source": []
  }
 ],
 "metadata": {
  "kernelspec": {
   "display_name": "Python 3",
   "language": "python",
   "name": "python3"
  },
  "language_info": {
   "codemirror_mode": {
    "name": "ipython",
    "version": 3
   },
   "file_extension": ".py",
   "mimetype": "text/x-python",
   "name": "python",
   "nbconvert_exporter": "python",
   "pygments_lexer": "ipython3",
   "version": "3.8.1"
  }
 },
 "nbformat": 4,
 "nbformat_minor": 4
}
